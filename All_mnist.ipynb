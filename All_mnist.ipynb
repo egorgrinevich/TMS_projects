{
 "cells": [
  {
   "cell_type": "code",
   "execution_count": 1,
   "id": "82214026",
   "metadata": {},
   "outputs": [
    {
     "name": "stderr",
     "output_type": "stream",
     "text": [
      "2023-09-27 02:58:33.003842: I tensorflow/tsl/cuda/cudart_stub.cc:28] Could not find cuda drivers on your machine, GPU will not be used.\n",
      "2023-09-27 02:58:33.214478: I tensorflow/tsl/cuda/cudart_stub.cc:28] Could not find cuda drivers on your machine, GPU will not be used.\n",
      "2023-09-27 02:58:33.217031: I tensorflow/core/platform/cpu_feature_guard.cc:182] This TensorFlow binary is optimized to use available CPU instructions in performance-critical operations.\n",
      "To enable the following instructions: AVX2 FMA, in other operations, rebuild TensorFlow with the appropriate compiler flags.\n",
      "2023-09-27 02:58:34.608517: W tensorflow/compiler/tf2tensorrt/utils/py_utils.cc:38] TF-TRT Warning: Could not find TensorRT\n",
      "/home/gea/.local/lib/python3.8/site-packages/deeplake/util/check_latest_version.py:32: UserWarning: A newer version of deeplake (3.7.1) is available. It's recommended that you update to the latest version using `pip install -U deeplake`.\n",
      "  warnings.warn(\n",
      "-"
     ]
    },
    {
     "name": "stdout",
     "output_type": "stream",
     "text": [
      "Opening dataset in read-only mode as you don't have write permissions.\n"
     ]
    },
    {
     "name": "stderr",
     "output_type": "stream",
     "text": [
      "/"
     ]
    },
    {
     "name": "stdout",
     "output_type": "stream",
     "text": [
      "This dataset can be visualized in Jupyter Notebook by ds.visualize() or at https://app.activeloop.ai/activeloop/not-mnist-small\n",
      "\n"
     ]
    },
    {
     "name": "stderr",
     "output_type": "stream",
     "text": [
      "\\"
     ]
    },
    {
     "name": "stdout",
     "output_type": "stream",
     "text": [
      "hub://activeloop/not-mnist-small loaded successfully.\n",
      "\n"
     ]
    },
    {
     "name": "stderr",
     "output_type": "stream",
     "text": [
      " "
     ]
    }
   ],
   "source": [
    "import tensorflow as tf\n",
    "from tensorflow.keras.layers import Input, Dense, Flatten, Reshape\n",
    "from tensorflow.keras.models import Model\n",
    "import deeplake\n",
    "import numpy as np\n",
    "from sklearn.model_selection import train_test_split\n",
    "from tensorflow.keras.optimizers import Adam\n",
    "# Загрузка данных\n",
    "ds = deeplake.load('hub://activeloop/not-mnist-small')"
   ]
  },
  {
   "cell_type": "code",
   "execution_count": 7,
   "id": "9fee299d",
   "metadata": {},
   "outputs": [],
   "source": [
    "import tensorflow as tf\n",
    "from tensorflow.keras.layers import Input, Conv2D, MaxPooling2D, UpSampling2D\n",
    "from tensorflow.keras.models import Model\n"
   ]
  },
  {
   "cell_type": "code",
   "execution_count": 4,
   "id": "06b3350a",
   "metadata": {},
   "outputs": [],
   "source": [
    "labels = np.array(ds['labels'])"
   ]
  },
  {
   "cell_type": "code",
   "execution_count": 5,
   "id": "acbfbf61",
   "metadata": {},
   "outputs": [],
   "source": [
    "# Преобразование данных в numpy массивы\n",
    "images = np.array(ds['images'])\n",
    "labels = np.array(ds['labels'])\n",
    "\n",
    "# Разбиение данных на тренировочный и тестовый наборы\n",
    "notmnist_train, notmnist_test, _, _ = train_test_split(images, labels, test_size=0.2, random_state=42)"
   ]
  },
  {
   "cell_type": "code",
   "execution_count": 15,
   "id": "26167c2a",
   "metadata": {},
   "outputs": [
    {
     "data": {
      "text/plain": [
       "((18724, 1), (18724, 28, 28))"
      ]
     },
     "execution_count": 15,
     "metadata": {},
     "output_type": "execute_result"
    }
   ],
   "source": [
    "labels.shape, images.shape"
   ]
  },
  {
   "cell_type": "code",
   "execution_count": 28,
   "id": "749ee4fe",
   "metadata": {},
   "outputs": [
    {
     "name": "stdout",
     "output_type": "stream",
     "text": [
      "Epoch 1/10\n",
      "118/118 [==============================] - 54s 453ms/step - loss: 0.3563 - val_loss: 0.1722\n",
      "Epoch 2/10\n",
      "118/118 [==============================] - 54s 456ms/step - loss: 0.1599 - val_loss: 0.1558\n",
      "Epoch 3/10\n",
      "118/118 [==============================] - 53s 452ms/step - loss: 0.1485 - val_loss: 0.1446\n",
      "Epoch 4/10\n",
      "118/118 [==============================] - 53s 452ms/step - loss: 0.1440 - val_loss: 0.1418\n",
      "Epoch 5/10\n",
      "118/118 [==============================] - 53s 452ms/step - loss: 0.1413 - val_loss: 0.1408\n",
      "Epoch 6/10\n",
      "118/118 [==============================] - 53s 450ms/step - loss: 0.1395 - val_loss: 0.1370\n",
      "Epoch 7/10\n",
      "118/118 [==============================] - 53s 451ms/step - loss: 0.1368 - val_loss: 0.1359\n",
      "Epoch 8/10\n",
      "118/118 [==============================] - 54s 454ms/step - loss: 0.1364 - val_loss: 0.1346\n",
      "Epoch 9/10\n",
      "118/118 [==============================] - 53s 450ms/step - loss: 0.1348 - val_loss: 0.1344\n",
      "Epoch 10/10\n",
      "118/118 [==============================] - 54s 458ms/step - loss: 0.1338 - val_loss: 0.1369\n"
     ]
    },
    {
     "data": {
      "text/plain": [
       "<keras.src.callbacks.History at 0x7f88d0331670>"
      ]
     },
     "execution_count": 28,
     "metadata": {},
     "output_type": "execute_result"
    }
   ],
   "source": [
    "#Обучение энкодера и декодера на Not MNIST\n",
    "\n",
    "\n",
    "notmnist_train, notmnist_test, _, _ = train_test_split(images, labels, test_size=0.2, random_state=42)\n",
    "# Нормализация данных\n",
    "notmnist_train = notmnist_train.astype('float32') / 255.\n",
    "notmnist_test = notmnist_test.astype('float32') / 255.\n",
    "\n",
    "# Архитектура сверточного автоэнкодера\n",
    "input_img = Input(shape=(28, 28, 1)) \n",
    "\n",
    "# Энкодер\n",
    "x = Conv2D(64, (3, 3), activation='relu', padding='same')(input_img)\n",
    "x = MaxPooling2D((2, 2), padding='same')(x)\n",
    "x = Conv2D(128, (3, 3), activation='relu', padding='same')(x)\n",
    "encoded = MaxPooling2D((2, 2), padding='same')(x)\n",
    "\n",
    "# Декодер\n",
    "x = Conv2D(64, (3, 3), activation='relu', padding='same')(encoded)\n",
    "x = UpSampling2D((2, 2))(x)\n",
    "x = Conv2D(128, (3, 3), activation='relu', padding='same')(x)\n",
    "x = UpSampling2D((2, 2))(x)\n",
    "decoded = Conv2D(1, (3, 3), activation='sigmoid', padding='same')(x)\n",
    "\n",
    "optimizer = Adam(learning_rate=0.01)\n",
    "# Сборка автоэнкодера\n",
    "autoencoder = Model(input_img, decoded)\n",
    "autoencoder.compile(optimizer=optimizer, loss='binary_crossentropy')\n",
    "\n",
    "# Предполагается, что fashion_train и fashion_test имеют размерность (num_samples, 28, 28)\n",
    "# Мы просто изменяем размерность данных для соответствия форме (num_samples, 28, 28, 1)\n",
    "notmnist_train = notmnist_train.reshape(-1, 28, 28, 1)\n",
    "notmnist_test = notmnist_test.reshape(-1, 28, 28, 1)\n",
    "\n",
    "autoencoder.fit(notmnist_train, notmnist_train,\n",
    "                epochs=10,\n",
    "                batch_size=128,\n",
    "                validation_data=(notmnist_test, notmnist_test))\n"
   ]
  },
  {
   "cell_type": "code",
   "execution_count": 23,
   "id": "af00d0d1",
   "metadata": {},
   "outputs": [
    {
     "data": {
      "text/plain": [
       "(14979, 28, 28, 1)"
      ]
     },
     "execution_count": 23,
     "metadata": {},
     "output_type": "execute_result"
    }
   ],
   "source": [
    "notmnist_train.shape"
   ]
  },
  {
   "cell_type": "code",
   "execution_count": 29,
   "id": "a9c66127",
   "metadata": {},
   "outputs": [
    {
     "name": "stdout",
     "output_type": "stream",
     "text": [
      "118/118 [==============================] - 2s 20ms/step\n"
     ]
    },
    {
     "data": {
      "image/png": "[encoded data removed]",
      "text/plain": [
       "<Figure size 2000x400 with 20 Axes>"
      ]
     },
     "metadata": {},
     "output_type": "display_data"
    }
   ],
   "source": [
    "import numpy as np\n",
    "import matplotlib.pyplot as plt\n",
    "\n",
    "# Предсказание на тестовом наборе данных\n",
    "decoded_imgs = autoencoder.predict(notmnist_test)\n",
    "\n",
    "n = 10  # количество изображений для отображения\n",
    "plt.figure(figsize=(20, 4))\n",
    "\n",
    "for i in range(n):\n",
    "    # Отображение оригинальных изображений\n",
    "    ax = plt.subplot(2, n, i + 1)\n",
    "    plt.imshow(notmnist_test[i].reshape(28, 28))\n",
    "    plt.gray()\n",
    "    ax.get_xaxis().set_visible(False)\n",
    "    ax.get_yaxis().set_visible(False)\n",
    "\n",
    "    # Отображение восстановленных изображений\n",
    "    ax = plt.subplot(2, n, i + 1 + n)\n",
    "    plt.imshow(decoded_imgs[i].reshape(28, 28))\n",
    "    plt.gray()\n",
    "    ax.get_xaxis().set_visible(False)\n",
    "#     ax.get_y\n"
   ]
  },
  {
   "cell_type": "code",
   "execution_count": 30,
   "id": "2f5d0098",
   "metadata": {},
   "outputs": [
    {
     "name": "stdout",
     "output_type": "stream",
     "text": [
      "Epoch 1/20\n",
      "235/235 [==============================] - 17s 69ms/step - loss: 0.6589 - accuracy: 0.7779 - val_loss: 0.4848 - val_accuracy: 0.8295\n",
      "Epoch 2/20\n",
      "235/235 [==============================] - 16s 69ms/step - loss: 0.4342 - accuracy: 0.8451 - val_loss: 0.4308 - val_accuracy: 0.8437\n",
      "Epoch 3/20\n",
      "235/235 [==============================] - 16s 69ms/step - loss: 0.3905 - accuracy: 0.8612 - val_loss: 0.4001 - val_accuracy: 0.8568\n",
      "Epoch 4/20\n",
      "235/235 [==============================] - 16s 69ms/step - loss: 0.3666 - accuracy: 0.8697 - val_loss: 0.3847 - val_accuracy: 0.8634\n",
      "Epoch 5/20\n",
      "235/235 [==============================] - 16s 68ms/step - loss: 0.3527 - accuracy: 0.8739 - val_loss: 0.3704 - val_accuracy: 0.8694\n",
      "Epoch 6/20\n",
      "235/235 [==============================] - 16s 68ms/step - loss: 0.3398 - accuracy: 0.8787 - val_loss: 0.3633 - val_accuracy: 0.8717\n",
      "Epoch 7/20\n",
      "235/235 [==============================] - 16s 68ms/step - loss: 0.3300 - accuracy: 0.8819 - val_loss: 0.3568 - val_accuracy: 0.8707\n",
      "Epoch 8/20\n",
      "235/235 [==============================] - 16s 66ms/step - loss: 0.3249 - accuracy: 0.8819 - val_loss: 0.3487 - val_accuracy: 0.8745\n",
      "Epoch 9/20\n",
      "235/235 [==============================] - 16s 68ms/step - loss: 0.3149 - accuracy: 0.8857 - val_loss: 0.3444 - val_accuracy: 0.8750\n",
      "Epoch 10/20\n",
      "235/235 [==============================] - 16s 69ms/step - loss: 0.3086 - accuracy: 0.8877 - val_loss: 0.3640 - val_accuracy: 0.8674\n",
      "Epoch 11/20\n",
      "235/235 [==============================] - 16s 70ms/step - loss: 0.3037 - accuracy: 0.8903 - val_loss: 0.3306 - val_accuracy: 0.8781\n",
      "Epoch 12/20\n",
      "235/235 [==============================] - 17s 71ms/step - loss: 0.2974 - accuracy: 0.8918 - val_loss: 0.3446 - val_accuracy: 0.8748\n",
      "Epoch 13/20\n",
      "235/235 [==============================] - 16s 70ms/step - loss: 0.2941 - accuracy: 0.8925 - val_loss: 0.3273 - val_accuracy: 0.8825\n",
      "Epoch 14/20\n",
      "235/235 [==============================] - 16s 69ms/step - loss: 0.2891 - accuracy: 0.8937 - val_loss: 0.3260 - val_accuracy: 0.8807\n",
      "Epoch 15/20\n",
      "235/235 [==============================] - 16s 69ms/step - loss: 0.2866 - accuracy: 0.8953 - val_loss: 0.3151 - val_accuracy: 0.8853\n",
      "Epoch 16/20\n",
      "235/235 [==============================] - 17s 71ms/step - loss: 0.2794 - accuracy: 0.8985 - val_loss: 0.3337 - val_accuracy: 0.8782\n",
      "Epoch 17/20\n",
      "235/235 [==============================] - 16s 69ms/step - loss: 0.2787 - accuracy: 0.8986 - val_loss: 0.3473 - val_accuracy: 0.8721\n",
      "Epoch 18/20\n",
      "235/235 [==============================] - 16s 68ms/step - loss: 0.2727 - accuracy: 0.8997 - val_loss: 0.3174 - val_accuracy: 0.8814\n",
      "Epoch 19/20\n",
      "235/235 [==============================] - 16s 68ms/step - loss: 0.2685 - accuracy: 0.9018 - val_loss: 0.3069 - val_accuracy: 0.8886\n",
      "Epoch 20/20\n",
      "235/235 [==============================] - 16s 69ms/step - loss: 0.2647 - accuracy: 0.9037 - val_loss: 0.3145 - val_accuracy: 0.8853\n",
      "313/313 [==============================] - 3s 9ms/step\n"
     ]
    }
   ],
   "source": [
    "#Тренировка и прогнозирование Fassion MNIST\n",
    "\n",
    "\n",
    "# Загрузка и предобработка данных\n",
    "(fashion_train, fashion_train_labels), (fashion_test, fashion_test_labels) = tf.keras.datasets.fashion_mnist.load_data()\n",
    "\n",
    "# Нормализация данных\n",
    "fashion_train = fashion_train.astype('float32') / 255.\n",
    "fashion_test = fashion_test.astype('float32') / 255.\n",
    "\n",
    "# Создание модели для Fashion MNIST на основе весов кодировщика\n",
    "encoder = Model(input_img, encoded)\n",
    "for layer in encoder.layers:\n",
    "    layer.trainable = False\n",
    "\n",
    "flattened = Flatten()(encoded)\n",
    "x = Dense(128, activation='relu')(flattened)\n",
    "predictions = Dense(10, activation='softmax')(x)\n",
    "\n",
    "fashion_model = Model(input_img, predictions)\n",
    "fashion_model.compile(optimizer='adam', loss='sparse_categorical_crossentropy', metrics=['accuracy'])\n",
    "fashion_model.fit(fashion_train, fashion_train_labels, epochs=20, batch_size=256, validation_data=(fashion_test, fashion_test_labels))\n",
    "\n",
    "# Предсказание\n",
    "predictions = fashion_model.predict(fashion_test)"
   ]
  },
  {
   "cell_type": "code",
   "execution_count": 31,
   "id": "6618c6c9",
   "metadata": {},
   "outputs": [
    {
     "name": "stdout",
     "output_type": "stream",
     "text": [
      "Epoch 1/20\n",
      "235/235 [==============================] - 16s 68ms/step - loss: 0.5609 - accuracy: 0.8601 - val_loss: 0.2689 - val_accuracy: 0.9230\n",
      "Epoch 2/20\n",
      "235/235 [==============================] - 16s 68ms/step - loss: 0.2362 - accuracy: 0.9316 - val_loss: 0.1982 - val_accuracy: 0.9425\n",
      "Epoch 3/20\n",
      "235/235 [==============================] - 16s 70ms/step - loss: 0.1928 - accuracy: 0.9436 - val_loss: 0.1713 - val_accuracy: 0.9488\n",
      "Epoch 4/20\n",
      "235/235 [==============================] - 16s 69ms/step - loss: 0.1657 - accuracy: 0.9510 - val_loss: 0.1561 - val_accuracy: 0.9529\n",
      "Epoch 5/20\n",
      "235/235 [==============================] - 16s 68ms/step - loss: 0.1514 - accuracy: 0.9549 - val_loss: 0.1374 - val_accuracy: 0.9597\n",
      "Epoch 6/20\n",
      "235/235 [==============================] - 16s 68ms/step - loss: 0.1357 - accuracy: 0.9595 - val_loss: 0.1409 - val_accuracy: 0.9564\n",
      "Epoch 7/20\n",
      "235/235 [==============================] - 16s 69ms/step - loss: 0.1265 - accuracy: 0.9624 - val_loss: 0.1212 - val_accuracy: 0.9632\n",
      "Epoch 8/20\n",
      "235/235 [==============================] - 16s 68ms/step - loss: 0.1160 - accuracy: 0.9656 - val_loss: 0.1169 - val_accuracy: 0.9638\n",
      "Epoch 9/20\n",
      "235/235 [==============================] - 16s 68ms/step - loss: 0.1086 - accuracy: 0.9681 - val_loss: 0.1078 - val_accuracy: 0.9667\n",
      "Epoch 10/20\n",
      "235/235 [==============================] - 16s 67ms/step - loss: 0.1011 - accuracy: 0.9699 - val_loss: 0.1015 - val_accuracy: 0.9676\n",
      "Epoch 11/20\n",
      "235/235 [==============================] - 16s 69ms/step - loss: 0.0949 - accuracy: 0.9714 - val_loss: 0.1059 - val_accuracy: 0.9671\n",
      "Epoch 12/20\n",
      "235/235 [==============================] - 16s 69ms/step - loss: 0.0903 - accuracy: 0.9726 - val_loss: 0.0986 - val_accuracy: 0.9694\n",
      "Epoch 13/20\n",
      "235/235 [==============================] - 16s 69ms/step - loss: 0.0849 - accuracy: 0.9746 - val_loss: 0.0919 - val_accuracy: 0.9713\n",
      "Epoch 14/20\n",
      "235/235 [==============================] - 16s 67ms/step - loss: 0.0817 - accuracy: 0.9753 - val_loss: 0.0883 - val_accuracy: 0.9727\n",
      "Epoch 15/20\n",
      "235/235 [==============================] - 16s 68ms/step - loss: 0.0768 - accuracy: 0.9767 - val_loss: 0.0866 - val_accuracy: 0.9741\n",
      "Epoch 16/20\n",
      "235/235 [==============================] - 16s 67ms/step - loss: 0.0723 - accuracy: 0.9779 - val_loss: 0.0823 - val_accuracy: 0.9746\n",
      "Epoch 17/20\n",
      "235/235 [==============================] - 16s 68ms/step - loss: 0.0718 - accuracy: 0.9790 - val_loss: 0.0876 - val_accuracy: 0.9727\n",
      "Epoch 18/20\n",
      "235/235 [==============================] - 16s 67ms/step - loss: 0.0673 - accuracy: 0.9792 - val_loss: 0.0771 - val_accuracy: 0.9761\n",
      "Epoch 19/20\n",
      "235/235 [==============================] - 16s 68ms/step - loss: 0.0640 - accuracy: 0.9802 - val_loss: 0.0779 - val_accuracy: 0.9748\n",
      "Epoch 20/20\n",
      "235/235 [==============================] - 16s 68ms/step - loss: 0.0625 - accuracy: 0.9805 - val_loss: 0.0789 - val_accuracy: 0.9750\n",
      "313/313 [==============================] - 3s 8ms/step\n"
     ]
    }
   ],
   "source": [
    "#Тренировка и прогнозирование MNIST\n",
    "\n",
    "(mnist_train, mnist_train_labels), (mnist_test, mnist_test_labels) = tf.keras.datasets.mnist.load_data()\n",
    "\n",
    "# Нормализация данных\n",
    "mnist_train = mnist_train.astype('float32') / 255.\n",
    "mnist_test = mnist_test.astype('float32') / 255.\n",
    "\n",
    "# Создание модели для Fashion MNIST на основе весов кодировщика\n",
    "encoder = Model(input_img, encoded)\n",
    "for layer in encoder.layers:\n",
    "    layer.trainable = False\n",
    "\n",
    "flattened = Flatten()(encoded)\n",
    "x = Dense(128, activation='relu')(flattened)\n",
    "predictions = Dense(10, activation='softmax')(x)\n",
    "\n",
    "mnist_model = Model(input_img, predictions)\n",
    "mnist_model.compile(optimizer='adam', loss='sparse_categorical_crossentropy', metrics=['accuracy'])\n",
    "mnist_model.fit(mnist_train, mnist_train_labels, epochs=20, batch_size=256, validation_data=(mnist_test, mnist_test_labels))\n",
    "\n",
    "# Предсказание\n",
    "predictions = mnist_model.predict(fashion_test)"
   ]
  },
  {
   "cell_type": "code",
   "execution_count": 5,
   "id": "6ecc2441",
   "metadata": {},
   "outputs": [
    {
     "name": "stdout",
     "output_type": "stream",
     "text": [
      "Epoch 1/20\n",
      "235/235 [==============================] - 264s 1s/step - loss: 0.3430 - val_loss: 0.2920\n",
      "Epoch 2/20\n",
      "235/235 [==============================] - 259s 1s/step - loss: 0.2804 - val_loss: 0.2866\n",
      "Epoch 3/20\n",
      "235/235 [==============================] - 257s 1s/step - loss: 0.2760 - val_loss: 0.2763\n",
      "Epoch 4/20\n",
      "235/235 [==============================] - 259s 1s/step - loss: 0.2729 - val_loss: 0.2762\n",
      "Epoch 5/20\n",
      "235/235 [==============================] - 256s 1s/step - loss: 0.2707 - val_loss: 0.2717\n",
      "Epoch 6/20\n",
      "235/235 [==============================] - 267s 1s/step - loss: 0.2693 - val_loss: 0.2713\n",
      "Epoch 7/20\n",
      "235/235 [==============================] - 254s 1s/step - loss: 0.2682 - val_loss: 0.2696\n",
      "Epoch 8/20\n",
      "235/235 [==============================] - 254s 1s/step - loss: 0.2670 - val_loss: 0.2680\n",
      "Epoch 9/20\n",
      "235/235 [==============================] - 257s 1s/step - loss: 0.2661 - val_loss: 0.2685\n",
      "Epoch 10/20\n",
      "235/235 [==============================] - 264s 1s/step - loss: 0.2654 - val_loss: 0.2675\n",
      "Epoch 11/20\n",
      "235/235 [==============================] - 254s 1s/step - loss: 0.2649 - val_loss: 0.2669\n",
      "Epoch 12/20\n",
      "235/235 [==============================] - 254s 1s/step - loss: 0.2643 - val_loss: 0.2671\n",
      "Epoch 13/20\n",
      "235/235 [==============================] - 250s 1s/step - loss: 0.2642 - val_loss: 0.2652\n",
      "Epoch 14/20\n",
      "235/235 [==============================] - 250s 1s/step - loss: 0.2635 - val_loss: 0.2650\n",
      "Epoch 15/20\n",
      "235/235 [==============================] - 251s 1s/step - loss: 0.2632 - val_loss: 0.2645\n",
      "Epoch 16/20\n",
      "235/235 [==============================] - 242s 1s/step - loss: 0.2627 - val_loss: 0.2646\n",
      "Epoch 17/20\n",
      "235/235 [==============================] - 253s 1s/step - loss: 0.2624 - val_loss: 0.2657\n",
      "Epoch 18/20\n",
      "235/235 [==============================] - 256s 1s/step - loss: 0.2621 - val_loss: 0.2634\n",
      "Epoch 19/20\n",
      "235/235 [==============================] - 252s 1s/step - loss: 0.2618 - val_loss: 0.2641\n",
      "Epoch 20/20\n",
      "235/235 [==============================] - 254s 1s/step - loss: 0.2614 - val_loss: 0.2639\n"
     ]
    },
    {
     "data": {
      "text/plain": [
       "<keras.src.callbacks.History at 0x7f3014974d60>"
      ]
     },
     "execution_count": 5,
     "metadata": {},
     "output_type": "execute_result"
    }
   ],
   "source": [
    "# Загрузка и предобработка данных\n",
    "(fashion_train, fashion_train_labels), (fashion_test, fashion_test_labels) = tf.keras.datasets.fashion_mnist.load_data()\n",
    "\n",
    "# Нормализация данных\n",
    "fashion_train = fashion_train.astype('float32') / 255.\n",
    "fashion_test = fashion_test.astype('float32') / 255.\n",
    "\n",
    "# Архитектура сверточного автоэнкодера\n",
    "input_img = Input(shape=(28, 28, 1))  # Fashion MNIST - черно-белые изображения\n",
    "\n",
    "# Энкодер\n",
    "x = Conv2D(64, (3, 3), activation='relu', padding='same')(input_img)\n",
    "x = MaxPooling2D((2, 2), padding='same')(x)\n",
    "x = Conv2D(128, (3, 3), activation='relu', padding='same')(x)\n",
    "encoded = MaxPooling2D((2, 2), padding='same')(x)\n",
    "\n",
    "# Декодер\n",
    "x = Conv2D(64, (3, 3), activation='relu', padding='same')(encoded)\n",
    "x = UpSampling2D((2, 2))(x)\n",
    "x = Conv2D(128, (3, 3), activation='relu', padding='same')(x)\n",
    "x = UpSampling2D((2, 2))(x)\n",
    "decoded = Conv2D(1, (3, 3), activation='sigmoid', padding='same')(x)\n",
    "\n",
    "optimizer = Adam(learning_rate=0.01)\n",
    "# Сборка автоэнкодера\n",
    "autoencoder = Model(input_img, decoded)\n",
    "autoencoder.compile(optimizer=optimizer, loss='binary_crossentropy')\n",
    "\n",
    "# Предполагается, что fashion_train и fashion_test имеют размерность (num_samples, 28, 28)\n",
    "# Мы просто изменяем размерность данных для соответствия форме (num_samples, 28, 28, 1)\n",
    "fashion_train = fashion_train.reshape(-1, 28, 28, 1)\n",
    "fashion_test = fashion_test.reshape(-1, 28, 28, 1)\n",
    "\n",
    "autoencoder.fit(fashion_train, fashion_train,\n",
    "                epochs=20,\n",
    "                batch_size=256,\n",
    "                validation_data=(fashion_test, fashion_test))\n"
   ]
  },
  {
   "cell_type": "code",
   "execution_count": 6,
   "id": "72da732b",
   "metadata": {
    "scrolled": true
   },
   "outputs": [
    {
     "name": "stdout",
     "output_type": "stream",
     "text": [
      "313/313 [==============================] - 6s 19ms/step\n"
     ]
    },
    {
     "data": {
      "image/png": "[encoded data removed]",
      "text/plain": [
       "<Figure size 2000x400 with 20 Axes>"
      ]
     },
     "metadata": {},
     "output_type": "display_data"
    }
   ],
   "source": [
    "import numpy as np\n",
    "import matplotlib.pyplot as plt\n",
    "\n",
    "# Предсказание на тестовом наборе данных\n",
    "decoded_imgs = autoencoder.predict(fashion_test)\n",
    "\n",
    "n = 10  # количество изображений для отображения\n",
    "plt.figure(figsize=(20, 4))\n",
    "\n",
    "for i in range(n):\n",
    "    # Отображение оригинальных изображений\n",
    "    ax = plt.subplot(2, n, i + 1)\n",
    "    plt.imshow(fashion_test[i].reshape(28, 28))\n",
    "    plt.gray()\n",
    "    ax.get_xaxis().set_visible(False)\n",
    "    ax.get_yaxis().set_visible(False)\n",
    "\n",
    "    # Отображение восстановленных изображений\n",
    "    ax = plt.subplot(2, n, i + 1 + n)\n",
    "    plt.imshow(decoded_imgs[i].reshape(28, 28))\n",
    "    plt.gray()\n",
    "    ax.get_xaxis().set_visible(False)\n",
    "#     ax.get_y\n"
   ]
  },
  {
   "cell_type": "code",
   "execution_count": 7,
   "id": "b99ce1ac",
   "metadata": {},
   "outputs": [
    {
     "data": {
      "text/plain": [
       "((60000, 28, 28, 1), (60000,))"
      ]
     },
     "execution_count": 7,
     "metadata": {},
     "output_type": "execute_result"
    }
   ],
   "source": [
    "fashion_train.shape, fashion_train_labels.shape"
   ]
  },
  {
   "cell_type": "code",
   "execution_count": 8,
   "id": "801817cb",
   "metadata": {
    "scrolled": false
   },
   "outputs": [
    {
     "name": "stdout",
     "output_type": "stream",
     "text": [
      "Epoch 1/20\n",
      "235/235 [==============================] - 16s 63ms/step - loss: 0.7525 - accuracy: 0.7539 - val_loss: 0.5482 - val_accuracy: 0.8006\n",
      "Epoch 2/20\n",
      "235/235 [==============================] - 14s 61ms/step - loss: 0.4843 - accuracy: 0.8278 - val_loss: 0.4790 - val_accuracy: 0.8303\n",
      "Epoch 3/20\n",
      "235/235 [==============================] - 15s 62ms/step - loss: 0.4379 - accuracy: 0.8443 - val_loss: 0.4492 - val_accuracy: 0.8377\n",
      "Epoch 4/20\n",
      "235/235 [==============================] - 15s 63ms/step - loss: 0.4121 - accuracy: 0.8536 - val_loss: 0.4249 - val_accuracy: 0.8491\n",
      "Epoch 5/20\n",
      "235/235 [==============================] - 15s 63ms/step - loss: 0.3950 - accuracy: 0.8598 - val_loss: 0.4133 - val_accuracy: 0.8541\n",
      "Epoch 6/20\n",
      "235/235 [==============================] - 14s 61ms/step - loss: 0.3823 - accuracy: 0.8645 - val_loss: 0.4038 - val_accuracy: 0.8583\n",
      "Epoch 7/20\n",
      "235/235 [==============================] - 15s 63ms/step - loss: 0.3732 - accuracy: 0.8675 - val_loss: 0.3980 - val_accuracy: 0.8589\n",
      "Epoch 8/20\n",
      "235/235 [==============================] - 15s 62ms/step - loss: 0.3643 - accuracy: 0.8709 - val_loss: 0.4031 - val_accuracy: 0.8552\n",
      "Epoch 9/20\n",
      "235/235 [==============================] - 14s 60ms/step - loss: 0.3586 - accuracy: 0.8715 - val_loss: 0.3836 - val_accuracy: 0.8648\n",
      "Epoch 10/20\n",
      "235/235 [==============================] - 14s 60ms/step - loss: 0.3529 - accuracy: 0.8739 - val_loss: 0.3857 - val_accuracy: 0.8616\n",
      "Epoch 11/20\n",
      "235/235 [==============================] - 14s 61ms/step - loss: 0.3456 - accuracy: 0.8772 - val_loss: 0.3733 - val_accuracy: 0.8665\n",
      "Epoch 12/20\n",
      "235/235 [==============================] - 14s 61ms/step - loss: 0.3405 - accuracy: 0.8779 - val_loss: 0.3652 - val_accuracy: 0.8695\n",
      "Epoch 13/20\n",
      "235/235 [==============================] - 14s 61ms/step - loss: 0.3342 - accuracy: 0.8796 - val_loss: 0.3715 - val_accuracy: 0.8657\n",
      "Epoch 14/20\n",
      "235/235 [==============================] - 14s 60ms/step - loss: 0.3311 - accuracy: 0.8817 - val_loss: 0.3885 - val_accuracy: 0.8570\n",
      "Epoch 15/20\n",
      "235/235 [==============================] - 14s 61ms/step - loss: 0.3278 - accuracy: 0.8820 - val_loss: 0.3554 - val_accuracy: 0.8723\n",
      "Epoch 16/20\n",
      "235/235 [==============================] - 14s 61ms/step - loss: 0.3207 - accuracy: 0.8842 - val_loss: 0.3547 - val_accuracy: 0.8725\n",
      "Epoch 17/20\n",
      "235/235 [==============================] - 15s 62ms/step - loss: 0.3192 - accuracy: 0.8852 - val_loss: 0.3664 - val_accuracy: 0.8682\n",
      "Epoch 18/20\n",
      "235/235 [==============================] - 14s 61ms/step - loss: 0.3164 - accuracy: 0.8860 - val_loss: 0.3473 - val_accuracy: 0.8747\n",
      "Epoch 19/20\n",
      "235/235 [==============================] - 15s 62ms/step - loss: 0.3085 - accuracy: 0.8882 - val_loss: 0.3497 - val_accuracy: 0.8745\n",
      "Epoch 20/20\n",
      "235/235 [==============================] - 15s 62ms/step - loss: 0.3083 - accuracy: 0.8879 - val_loss: 0.3437 - val_accuracy: 0.8746\n",
      "313/313 [==============================] - 3s 9ms/step\n"
     ]
    }
   ],
   "source": [
    "# Создание модели для Fashion MNIST на основе весов кодировщика\n",
    "encoder = Model(input_img, encoded)\n",
    "for layer in encoder.layers:\n",
    "    layer.trainable = False\n",
    "\n",
    "flattened = Flatten()(encoded)\n",
    "x = Dense(128, activation='relu')(flattened)\n",
    "predictions = Dense(10, activation='softmax')(x)\n",
    "\n",
    "fashion_model = Model(input_img, predictions)\n",
    "fashion_model.compile(optimizer='adam', loss='sparse_categorical_crossentropy', metrics=['accuracy'])\n",
    "fashion_model.fit(fashion_train, fashion_train_labels, epochs=20, batch_size=256, validation_data=(fashion_test, fashion_test_labels))\n",
    "\n",
    "# Предсказание\n",
    "predictions = fashion_model.predict(fashion_test)\n"
   ]
  },
  {
   "cell_type": "code",
   "execution_count": 9,
   "id": "db24df89",
   "metadata": {},
   "outputs": [
    {
     "data": {
      "image/png": "[encoded data removed]",
      "text/plain": [
       "<Figure size 1000x1000 with 2 Axes>"
      ]
     },
     "metadata": {},
     "output_type": "display_data"
    }
   ],
   "source": [
    "import numpy as np\n",
    "from sklearn.metrics import confusion_matrix, ConfusionMatrixDisplay\n",
    "import matplotlib.pyplot as plt\n",
    "\n",
    "# Получаем предсказанные метки классов из вероятностных предсказаний\n",
    "predicted_labels = np.argmax(predictions, axis=-1)\n",
    "\n",
    "# Вычисляем confusion matrix\n",
    "cm = confusion_matrix(fashion_test_labels, predicted_labels)\n",
    "\n",
    "# Визуализируем confusion matrix\n",
    "fig, ax = plt.subplots(figsize=(10, 10))\n",
    "ConfusionMatrixDisplay(cm, display_labels=[0, 1, 2, 3, 4, 5, 6, 7, 8, 9]).plot(ax=ax)  # Измените метки классов, если у вас другие\n",
    "plt.show()\n"
   ]
  },
  {
   "cell_type": "code",
   "execution_count": null,
   "id": "345b750f",
   "metadata": {},
   "outputs": [],
   "source": [
    "(fashion_train, fashion_train_labels), (fashion_test, fashion_test_labels) = tf.keras.datasets.fashion_mnist.load_data()\n",
    "(mnist_train, mnist_train_labels), (mnist_test, mnist_test_labels) = tf.keras.datasets.mnist.load_data()\n",
    "\n",
    "# Нормализация данных\n",
    "fashion_train = fashion_train.astype('float32') / 255.\n",
    "fashion_test = fashion_test.astype('float32') / 255.\n",
    "\n",
    "mnist_train = mnist_train.astype('float32') / 255.\n",
    "mnist_test = mnist_test.astype('float32') / 255.\n",
    "\n",
    "# Архитектура сверточного автоэнкодера\n",
    "input_img = Input(shape=(28, 28, 1))  # Fashion MNIST - черно-белые изображения\n",
    "\n",
    "# Энкодер\n",
    "x = Conv2D(64, (3, 3), activation='relu', padding='same')(input_img)\n",
    "x = MaxPooling2D((2, 2), padding='same')(x)\n",
    "x = Conv2D(128, (3, 3), activation='relu', padding='same')(x)\n",
    "encoded = MaxPooling2D((2, 2), padding='same')(x)\n",
    "\n",
    "# Декодер\n",
    "x = Conv2D(64, (3, 3), activation='relu', padding='same')(encoded)\n",
    "x = UpSampling2D((2, 2))(x)\n",
    "x = Conv2D(128, (3, 3), activation='relu', padding='same')(x)\n",
    "x = UpSampling2D((2, 2))(x)\n",
    "decoded = Conv2D(1, (3, 3), activation='sigmoid', padding='same')(x)\n",
    "\n",
    "optimizer = Adam(learning_rate=0.01)\n",
    "# Сборка автоэнкодера\n",
    "autoencoder = Model(input_img, decoded)\n",
    "autoencoder.compile(optimizer=optimizer, loss='binary_crossentropy')\n",
    "\n",
    "# Предполагается, что fashion_train и fashion_test имеют размерность (num_samples, 28, 28)\n",
    "# Мы просто изменяем размерность данных для соответствия форме (num_samples, 28, 28, 1)\n",
    "fashion_train = fashion_train.reshape(-1, 28, 28, 1)\n",
    "fashion_test = fashion_test.reshape(-1, 28, 28, 1)\n",
    "\n",
    "autoencoder.fit(fashion_train, fashion_train,\n",
    "                epochs=20,\n",
    "                batch_size=256,\n",
    "                validation_data=(fashion_test, fashion_test))\n"
   ]
  },
  {
   "cell_type": "code",
   "execution_count": 1,
   "id": "ac79a72a",
   "metadata": {},
   "outputs": [
    {
     "ename": "NameError",
     "evalue": "name 'Model' is not defined",
     "output_type": "error",
     "traceback": [
      "\u001b[0;31m---------------------------------------------------------------------------\u001b[0m",
      "\u001b[0;31mNameError\u001b[0m                                 Traceback (most recent call last)",
      "\u001b[1;32m/home/gea/TMS_projects/All_mnist.ipynb Ячейка 13\u001b[0m line \u001b[0;36m1\n\u001b[0;32m----> <a href='vscode-notebook-cell:/home/gea/TMS_projects/All_mnist.ipynb#X23sZmlsZQ%3D%3D?line=0'>1</a>\u001b[0m encoder \u001b[39m=\u001b[39m Model(input_img, encoded)\n\u001b[1;32m      <a href='vscode-notebook-cell:/home/gea/TMS_projects/All_mnist.ipynb#X23sZmlsZQ%3D%3D?line=1'>2</a>\u001b[0m \u001b[39mfor\u001b[39;00m layer \u001b[39min\u001b[39;00m encoder\u001b[39m.\u001b[39mlayers:\n\u001b[1;32m      <a href='vscode-notebook-cell:/home/gea/TMS_projects/All_mnist.ipynb#X23sZmlsZQ%3D%3D?line=2'>3</a>\u001b[0m     layer\u001b[39m.\u001b[39mtrainable \u001b[39m=\u001b[39m \u001b[39mFalse\u001b[39;00m\n",
      "\u001b[0;31mNameError\u001b[0m: name 'Model' is not defined"
     ]
    }
   ],
   "source": [
    "encoder = Model(input_img, encoded)\n",
    "for layer in encoder.layers:\n",
    "    layer.trainable = False\n",
    "\n",
    "flattened = Flatten()(encoded)\n",
    "x = Dense(128, activation='relu')(flattened)\n",
    "predictions = Dense(10, activation='softmax')(x)\n",
    "\n",
    "fashion_model = Model(input_img, predictions)\n",
    "fashion_model.compile(optimizer='adam', loss='sparse_categorical_crossentropy', metrics=['accuracy'])\n",
    "fashion_model.fit(mnist_train, mnist_train_labels, epochs=20, batch_size=256, validation_data=(mnist_test, mnist_test_labels))\n",
    "\n",
    "# Предсказание\n",
    "predictions = fashion_model.predict(fashion_test)"
   ]
  },
  {
   "cell_type": "code",
   "execution_count": 10,
   "id": "7c67fded",
   "metadata": {},
   "outputs": [],
   "source": [
    "import numpy as np\n",
    "import tensorflow as tf\n",
    "from tensorflow.keras.datasets import fashion_mnist\n",
    "from tensorflow.keras.applications import VGG16\n",
    "from tensorflow.keras.models import Model\n",
    "from tensorflow.keras.layers import Dense, GlobalAveragePooling2D"
   ]
  },
  {
   "cell_type": "code",
   "execution_count": 11,
   "id": "afa0bdc5",
   "metadata": {},
   "outputs": [
    {
     "name": "stdout",
     "output_type": "stream",
     "text": [
      "Collecting opencv-python\n",
      "  Downloading opencv_python-4.8.0.76-cp37-abi3-manylinux_2_17_x86_64.manylinux2014_x86_64.whl (61.7 MB)\n",
      "\u001b[K     |████████████████████████████████| 61.7 MB 6.4 MB/s eta 0:00:01\n",
      "\u001b[?25hRequirement already satisfied: numpy>=1.17.0; python_version >= \"3.7\" in /home/gea/.local/lib/python3.8/site-packages (from opencv-python) (1.24.3)\n",
      "Installing collected packages: opencv-python\n",
      "Successfully installed opencv-python-4.8.0.76\n"
     ]
    }
   ],
   "source": [
    "!pip install opencv-python\n"
   ]
  },
  {
   "cell_type": "code",
   "execution_count": 12,
   "id": "d3371f49",
   "metadata": {},
   "outputs": [
    {
     "name": "stdout",
     "output_type": "stream",
     "text": [
      "Downloading data from https://storage.googleapis.com/tensorflow/keras-applications/vgg16/vgg16_weights_tf_dim_ordering_tf_kernels_notop.h5\n",
      "58889256/58889256 [==============================] - 12s 0us/step\n",
      "Model: \"model_5\"\n",
      "_________________________________________________________________\n",
      " Layer (type)                Output Shape              Param #   \n",
      "=================================================================\n",
      " input_4 (InputLayer)        [(None, 28, 28, 3)]       0         \n",
      "                                                                 \n",
      " up_sampling2d_4 (UpSamplin  (None, 224, 224, 3)       0         \n",
      " g2D)                                                            \n",
      "                                                                 \n",
      " block1_conv1 (Conv2D)       (None, 224, 224, 64)      1792      \n",
      "                                                                 \n",
      " block1_conv2 (Conv2D)       (None, 224, 224, 64)      36928     \n",
      "                                                                 \n",
      " block1_pool (MaxPooling2D)  (None, 112, 112, 64)      0         \n",
      "                                                                 \n",
      " block2_conv1 (Conv2D)       (None, 112, 112, 128)     73856     \n",
      "                                                                 \n",
      " block2_conv2 (Conv2D)       (None, 112, 112, 128)     147584    \n",
      "                                                                 \n",
      " block2_pool (MaxPooling2D)  (None, 56, 56, 128)       0         \n",
      "                                                                 \n",
      " block3_conv1 (Conv2D)       (None, 56, 56, 256)       295168    \n",
      "                                                                 \n",
      " block3_conv2 (Conv2D)       (None, 56, 56, 256)       590080    \n",
      "                                                                 \n",
      " block3_conv3 (Conv2D)       (None, 56, 56, 256)       590080    \n",
      "                                                                 \n",
      " block3_pool (MaxPooling2D)  (None, 28, 28, 256)       0         \n",
      "                                                                 \n",
      " block4_conv1 (Conv2D)       (None, 28, 28, 512)       1180160   \n",
      "                                                                 \n",
      " block4_conv2 (Conv2D)       (None, 28, 28, 512)       2359808   \n",
      "                                                                 \n",
      " block4_conv3 (Conv2D)       (None, 28, 28, 512)       2359808   \n",
      "                                                                 \n",
      " block4_pool (MaxPooling2D)  (None, 14, 14, 512)       0         \n",
      "                                                                 \n",
      " block5_conv1 (Conv2D)       (None, 14, 14, 512)       2359808   \n",
      "                                                                 \n",
      " block5_conv2 (Conv2D)       (None, 14, 14, 512)       2359808   \n",
      "                                                                 \n",
      " block5_conv3 (Conv2D)       (None, 14, 14, 512)       2359808   \n",
      "                                                                 \n",
      " block5_pool (MaxPooling2D)  (None, 7, 7, 512)         0         \n",
      "                                                                 \n",
      " global_average_pooling2d (  (None, 512)               0         \n",
      " GlobalAveragePooling2D)                                         \n",
      "                                                                 \n",
      " dense_8 (Dense)             (None, 1024)              525312    \n",
      "                                                                 \n",
      " dense_9 (Dense)             (None, 10)                10250     \n",
      "                                                                 \n",
      "=================================================================\n",
      "Total params: 15250250 (58.18 MB)\n",
      "Trainable params: 535562 (2.04 MB)\n",
      "Non-trainable params: 14714688 (56.13 MB)\n",
      "_________________________________________________________________\n"
     ]
    }
   ],
   "source": [
    "from keras.layers import Input, UpSampling2D\n",
    "from keras.models import Model\n",
    "from keras.applications.vgg16 import VGG16\n",
    "from keras.layers import GlobalAveragePooling2D, Dense\n",
    "from keras.datasets import fashion_mnist\n",
    "import numpy as np\n",
    "\n",
    "(train_images, train_labels), (test_images, test_labels) = fashion_mnist.load_data()\n",
    "\n",
    "# Преобразование изображений в трехканальные\n",
    "train_images = np.stack([train_images]*3, axis=-1)\n",
    "test_images = np.stack([test_images]*3, axis=-1)\n",
    "\n",
    "# Нормализация данных\n",
    "train_images = train_images.astype('float32') / 255.\n",
    "test_images = test_images.astype('float32') / 255.\n",
    "\n",
    "# Установите размер ввода изображения\n",
    "input_tensor = Input(shape=(28, 28, 3))\n",
    "\n",
    "# Используйте UpSampling2D для увеличения размера изображения до 224x224\n",
    "x = UpSampling2D(size=(8, 8))(input_tensor)  # 28*8 = 224\n",
    "\n",
    "# Включите VGG16 в вашу модель\n",
    "base_model = VGG16(weights='imagenet', include_top=False, input_tensor=x)\n",
    "\n",
    "# Добавьте новые верхние слои\n",
    "x = base_model.output\n",
    "x = GlobalAveragePooling2D()(x)\n",
    "x = Dense(1024, activation='relu')(x)\n",
    "predictions = Dense(10, activation='softmax')(x)\n",
    "\n",
    "model = Model(inputs=input_tensor, outputs=predictions)\n",
    "\n",
    "# Заморозьте слои базовой модели VGG16\n",
    "for layer in base_model.layers:\n",
    "    layer.trainable = False\n",
    "\n",
    "model.summary()\n",
    "\n"
   ]
  },
  {
   "cell_type": "code",
   "execution_count": 13,
   "id": "bd0ceb48",
   "metadata": {},
   "outputs": [
    {
     "name": "stdout",
     "output_type": "stream",
     "text": [
      "Epoch 1/5\n",
      "1875/1875 [==============================] - 4924s 3s/step - loss: 0.6354 - accuracy: 0.7755 - val_loss: 0.5323 - val_accuracy: 0.8036\n",
      "Epoch 2/5\n",
      "1875/1875 [==============================] - 4848s 3s/step - loss: 0.4319 - accuracy: 0.8450 - val_loss: 0.4314 - val_accuracy: 0.8452\n",
      "Epoch 3/5\n",
      "1875/1875 [==============================] - 5960s 3s/step - loss: 0.3901 - accuracy: 0.8595 - val_loss: 0.4565 - val_accuracy: 0.8305\n",
      "Epoch 4/5\n",
      "1875/1875 [==============================] - 4535s 2s/step - loss: 0.3656 - accuracy: 0.8672 - val_loss: 0.3573 - val_accuracy: 0.8697\n",
      "Epoch 5/5\n",
      "1875/1875 [==============================] - 5148s 3s/step - loss: 0.3473 - accuracy: 0.8734 - val_loss: 0.3689 - val_accuracy: 0.8672\n"
     ]
    },
    {
     "data": {
      "text/plain": [
       "<keras.src.callbacks.History at 0x7f3080cb40d0>"
      ]
     },
     "execution_count": 13,
     "metadata": {},
     "output_type": "execute_result"
    }
   ],
   "source": [
    "# Обучение модели\n",
    "model.compile(optimizer='adam', loss='sparse_categorical_crossentropy', metrics=['accuracy'])\n",
    "model.fit(train_images, train_labels, batch_size=32, epochs=5, validation_data=(test_images, test_labels))"
   ]
  }
 ],
 "metadata": {
  "kernelspec": {
   "display_name": "Python 3 (ipykernel)",
   "language": "python",
   "name": "python3"
  },
  "language_info": {
   "codemirror_mode": {
    "name": "ipython",
    "version": 3
   },
   "file_extension": ".py",
   "mimetype": "text/x-python",
   "name": "python",
   "nbconvert_exporter": "python",
   "pygments_lexer": "ipython3",
   "version": "3.8.10"
  }
 },
 "nbformat": 4,
 "nbformat_minor": 5
}
