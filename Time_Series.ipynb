{
 "cells": [
  {
   "cell_type": "code",
   "execution_count": 83,
   "metadata": {},
   "outputs": [
    {
     "data": {
      "text/plain": [
       "(1.5894388284780538,\n",
       " 0.9978255428896379,\n",
       " 2,\n",
       " 7,\n",
       " {'1%': -4.9386902332361515,\n",
       "  '5%': -3.477582857142857,\n",
       "  '10%': -2.8438679591836733},\n",
       " 7.68503185107909)"
      ]
     },
     "execution_count": 83,
     "metadata": {},
     "output_type": "execute_result"
    }
   ],
   "source": [
    "from statsmodels.tsa.stattools import adfuller\n",
    "\n",
    "data = [5,6,7,8,10,11,12,14,15,17]\n",
    "adfuller(data)"
   ]
  },
  {
   "cell_type": "code",
   "execution_count": 84,
   "metadata": {},
   "outputs": [],
   "source": [
    "import pandas as pd\n",
    "data = pd.DataFrame({'vect':[5,6,7,8,10,11,12,14,15,17]})\n",
    "data['vect_s1'] = data['vect'].shift(1)\n",
    "data['vect_s2'] = data['vect'].shift(2)\n",
    "data['shift_1'] = data['vect']-data['vect_s2']\n",
    "data['shift_1_shift'] = data['shift_1'].shift(-1)"
   ]
  },
  {
   "cell_type": "code",
   "execution_count": 85,
   "metadata": {},
   "outputs": [
    {
     "data": {
      "text/html": [
       "<div>\n",
       "<style scoped>\n",
       "    .dataframe tbody tr th:only-of-type {\n",
       "        vertical-align: middle;\n",
       "    }\n",
       "\n",
       "    .dataframe tbody tr th {\n",
       "        vertical-align: top;\n",
       "    }\n",
       "\n",
       "    .dataframe thead th {\n",
       "        text-align: right;\n",
       "    }\n",
       "</style>\n",
       "<table border=\"1\" class=\"dataframe\">\n",
       "  <thead>\n",
       "    <tr style=\"text-align: right;\">\n",
       "      <th></th>\n",
       "      <th>shift_1_shift</th>\n",
       "      <th>shift_1</th>\n",
       "    </tr>\n",
       "  </thead>\n",
       "  <tbody>\n",
       "    <tr>\n",
       "      <th>2</th>\n",
       "      <td>2.0</td>\n",
       "      <td>2.0</td>\n",
       "    </tr>\n",
       "    <tr>\n",
       "      <th>3</th>\n",
       "      <td>3.0</td>\n",
       "      <td>2.0</td>\n",
       "    </tr>\n",
       "    <tr>\n",
       "      <th>4</th>\n",
       "      <td>3.0</td>\n",
       "      <td>3.0</td>\n",
       "    </tr>\n",
       "    <tr>\n",
       "      <th>5</th>\n",
       "      <td>2.0</td>\n",
       "      <td>3.0</td>\n",
       "    </tr>\n",
       "    <tr>\n",
       "      <th>6</th>\n",
       "      <td>3.0</td>\n",
       "      <td>2.0</td>\n",
       "    </tr>\n",
       "    <tr>\n",
       "      <th>7</th>\n",
       "      <td>3.0</td>\n",
       "      <td>3.0</td>\n",
       "    </tr>\n",
       "    <tr>\n",
       "      <th>8</th>\n",
       "      <td>3.0</td>\n",
       "      <td>3.0</td>\n",
       "    </tr>\n",
       "  </tbody>\n",
       "</table>\n",
       "</div>"
      ],
      "text/plain": [
       "   shift_1_shift  shift_1\n",
       "2            2.0      2.0\n",
       "3            3.0      2.0\n",
       "4            3.0      3.0\n",
       "5            2.0      3.0\n",
       "6            3.0      2.0\n",
       "7            3.0      3.0\n",
       "8            3.0      3.0"
      ]
     },
     "execution_count": 85,
     "metadata": {},
     "output_type": "execute_result"
    }
   ],
   "source": [
    "data[['shift_1_shift', 'shift_1']][2:-1]"
   ]
  },
  {
   "cell_type": "code",
   "execution_count": 86,
   "metadata": {},
   "outputs": [
    {
     "name": "stdout",
     "output_type": "stream",
     "text": [
      "0.008333333333333193\n",
      "[0.1]\n",
      "2.3000000000000003\n"
     ]
    }
   ],
   "source": [
    "import numpy as np\n",
    "from sklearn.linear_model import LinearRegression\n",
    "x = np.array(data['shift_1_shift'][2:-1]).reshape(-1,1)\n",
    "y = np.array(data['shift_1'][2:-1])\n",
    "reg = LinearRegression().fit(x, y)\n",
    "print(reg.score(x, y))\n",
    "print(reg.coef_)\n",
    "print(reg.intercept_)"
   ]
  },
  {
   "cell_type": "code",
   "execution_count": 182,
   "metadata": {},
   "outputs": [],
   "source": [
    "pd.options.mode.chained_assignment = None"
   ]
  },
  {
   "cell_type": "code",
   "execution_count": 251,
   "metadata": {},
   "outputs": [],
   "source": [
    "data_holt = pd.DataFrame({'data': [100, 105, 108, 107, 110]}, columns = ['data', 'l_step', 'b_step'])\n",
    "data_holt['b_step'].loc[0] = 5\n",
    "data_holt['l_step'].loc[0] = 100\n",
    "alfa = 0.5\n",
    "beta = 0.4\n"
   ]
  },
  {
   "cell_type": "code",
   "execution_count": 252,
   "metadata": {},
   "outputs": [
    {
     "data": {
      "text/html": [
       "<div>\n",
       "<style scoped>\n",
       "    .dataframe tbody tr th:only-of-type {\n",
       "        vertical-align: middle;\n",
       "    }\n",
       "\n",
       "    .dataframe tbody tr th {\n",
       "        vertical-align: top;\n",
       "    }\n",
       "\n",
       "    .dataframe thead th {\n",
       "        text-align: right;\n",
       "    }\n",
       "</style>\n",
       "<table border=\"1\" class=\"dataframe\">\n",
       "  <thead>\n",
       "    <tr style=\"text-align: right;\">\n",
       "      <th></th>\n",
       "      <th>data</th>\n",
       "      <th>l_step</th>\n",
       "      <th>b_step</th>\n",
       "    </tr>\n",
       "  </thead>\n",
       "  <tbody>\n",
       "    <tr>\n",
       "      <th>0</th>\n",
       "      <td>100</td>\n",
       "      <td>100</td>\n",
       "      <td>5</td>\n",
       "    </tr>\n",
       "    <tr>\n",
       "      <th>1</th>\n",
       "      <td>105</td>\n",
       "      <td>105.0</td>\n",
       "      <td>5.0</td>\n",
       "    </tr>\n",
       "    <tr>\n",
       "      <th>2</th>\n",
       "      <td>108</td>\n",
       "      <td>109.0</td>\n",
       "      <td>4.6</td>\n",
       "    </tr>\n",
       "    <tr>\n",
       "      <th>3</th>\n",
       "      <td>107</td>\n",
       "      <td>110.3</td>\n",
       "      <td>3.28</td>\n",
       "    </tr>\n",
       "    <tr>\n",
       "      <th>4</th>\n",
       "      <td>110</td>\n",
       "      <td>111.79</td>\n",
       "      <td>2.564</td>\n",
       "    </tr>\n",
       "  </tbody>\n",
       "</table>\n",
       "</div>"
      ],
      "text/plain": [
       "   data  l_step b_step\n",
       "0   100     100      5\n",
       "1   105   105.0    5.0\n",
       "2   108   109.0    4.6\n",
       "3   107   110.3   3.28\n",
       "4   110  111.79  2.564"
      ]
     },
     "execution_count": 252,
     "metadata": {},
     "output_type": "execute_result"
    }
   ],
   "source": [
    "def HoltPredict():\n",
    "    for i in range(len(data_holt)):\n",
    "        if i > 0: \n",
    "            data_holt['l_step'].loc[i] = alfa * data_holt['data'].loc[i] + (1 - alfa) * (data_holt['l_step'].loc[i-1] + data_holt['b_step'].loc[i-1])\n",
    "            data_holt['b_step'].loc[i] = beta * (data_holt['l_step'].loc[i]-data_holt['l_step'].loc[i-1]) + (1 - beta) * data_holt['b_step'].loc[i-1]\n",
    "    pass\n",
    "HoltPredict()\n",
    "data_holt"
   ]
  },
  {
   "cell_type": "code",
   "execution_count": 253,
   "metadata": {},
   "outputs": [
    {
     "name": "stdout",
     "output_type": "stream",
     "text": [
      "0.9568611629903695\n",
      "[0.90078248 0.64996624]\n",
      "6.76232219804767\n"
     ]
    }
   ],
   "source": [
    "import numpy as np\n",
    "from sklearn.linear_model import LinearRegression\n",
    "x = np.array(data_holt[['l_step', 'b_step']])\n",
    "y = np.array(data_holt['data'])\n",
    "reg = LinearRegression().fit(x, y)\n",
    "print(reg.score(x, y))\n",
    "print(reg.coef_)\n",
    "print(reg.intercept_)"
   ]
  },
  {
   "cell_type": "code",
   "execution_count": 254,
   "metadata": {},
   "outputs": [
    {
     "data": {
      "text/html": [
       "<div>\n",
       "<style scoped>\n",
       "    .dataframe tbody tr th:only-of-type {\n",
       "        vertical-align: middle;\n",
       "    }\n",
       "\n",
       "    .dataframe tbody tr th {\n",
       "        vertical-align: top;\n",
       "    }\n",
       "\n",
       "    .dataframe thead th {\n",
       "        text-align: right;\n",
       "    }\n",
       "</style>\n",
       "<table border=\"1\" class=\"dataframe\">\n",
       "  <thead>\n",
       "    <tr style=\"text-align: right;\">\n",
       "      <th></th>\n",
       "      <th>data</th>\n",
       "      <th>l_step</th>\n",
       "      <th>b_step</th>\n",
       "    </tr>\n",
       "  </thead>\n",
       "  <tbody>\n",
       "    <tr>\n",
       "      <th>0</th>\n",
       "      <td>100</td>\n",
       "      <td>100</td>\n",
       "      <td>5</td>\n",
       "    </tr>\n",
       "    <tr>\n",
       "      <th>1</th>\n",
       "      <td>105</td>\n",
       "      <td>105.0</td>\n",
       "      <td>5.0</td>\n",
       "    </tr>\n",
       "    <tr>\n",
       "      <th>2</th>\n",
       "      <td>108</td>\n",
       "      <td>108.198435</td>\n",
       "      <td>-7.182763</td>\n",
       "    </tr>\n",
       "    <tr>\n",
       "      <th>3</th>\n",
       "      <td>107</td>\n",
       "      <td>106.40625</td>\n",
       "      <td>29.270059</td>\n",
       "    </tr>\n",
       "    <tr>\n",
       "      <th>4</th>\n",
       "      <td>110</td>\n",
       "      <td>112.54754</td>\n",
       "      <td>-127.134132</td>\n",
       "    </tr>\n",
       "  </tbody>\n",
       "</table>\n",
       "</div>"
      ],
      "text/plain": [
       "   data      l_step      b_step\n",
       "0   100         100           5\n",
       "1   105       105.0         5.0\n",
       "2   108  108.198435   -7.182763\n",
       "3   107   106.40625   29.270059\n",
       "4   110   112.54754 -127.134132"
      ]
     },
     "execution_count": 254,
     "metadata": {},
     "output_type": "execute_result"
    }
   ],
   "source": [
    "alfa = 0.90078248\n",
    "beta = 6.76232219804767\n",
    "HoltPredict()\n",
    "data_holt"
   ]
  },
  {
   "cell_type": "code",
   "execution_count": null,
   "metadata": {},
   "outputs": [],
   "source": []
  },
  {
   "cell_type": "code",
   "execution_count": 274,
   "metadata": {},
   "outputs": [],
   "source": [
    "data_hv = pd.DataFrame({'data': [100, 120, 110, 130, 105, 125, 115, 135]}, columns = ['data', 'l_step', 'b_step', 's_step'])\n",
    "data_hv['b_step'].loc[0] = 5\n",
    "data_hv['l_step'].loc[0] = 100\n",
    "for i in range(4):\n",
    "    data_hv['s_step'].loc[i] = 1\n",
    "alfa = 0.5\n",
    "beta = 0.4\n",
    "gamma = 0.6"
   ]
  },
  {
   "cell_type": "code",
   "execution_count": 275,
   "metadata": {},
   "outputs": [
    {
     "data": {
      "text/html": [
       "<div>\n",
       "<style scoped>\n",
       "    .dataframe tbody tr th:only-of-type {\n",
       "        vertical-align: middle;\n",
       "    }\n",
       "\n",
       "    .dataframe tbody tr th {\n",
       "        vertical-align: top;\n",
       "    }\n",
       "\n",
       "    .dataframe thead th {\n",
       "        text-align: right;\n",
       "    }\n",
       "</style>\n",
       "<table border=\"1\" class=\"dataframe\">\n",
       "  <thead>\n",
       "    <tr style=\"text-align: right;\">\n",
       "      <th></th>\n",
       "      <th>data</th>\n",
       "      <th>l_step</th>\n",
       "      <th>b_step</th>\n",
       "      <th>s_step</th>\n",
       "    </tr>\n",
       "  </thead>\n",
       "  <tbody>\n",
       "    <tr>\n",
       "      <th>0</th>\n",
       "      <td>100</td>\n",
       "      <td>100</td>\n",
       "      <td>5</td>\n",
       "      <td>1</td>\n",
       "    </tr>\n",
       "    <tr>\n",
       "      <th>1</th>\n",
       "      <td>120</td>\n",
       "      <td>112.5</td>\n",
       "      <td>8.0</td>\n",
       "      <td>1</td>\n",
       "    </tr>\n",
       "    <tr>\n",
       "      <th>2</th>\n",
       "      <td>110</td>\n",
       "      <td>115.25</td>\n",
       "      <td>5.9</td>\n",
       "      <td>1</td>\n",
       "    </tr>\n",
       "    <tr>\n",
       "      <th>3</th>\n",
       "      <td>130</td>\n",
       "      <td>125.575</td>\n",
       "      <td>7.67</td>\n",
       "      <td>1</td>\n",
       "    </tr>\n",
       "    <tr>\n",
       "      <th>4</th>\n",
       "      <td>105</td>\n",
       "      <td>119.1225</td>\n",
       "      <td>2.021</td>\n",
       "      <td>0.920044</td>\n",
       "    </tr>\n",
       "    <tr>\n",
       "      <th>5</th>\n",
       "      <td>125</td>\n",
       "      <td>123.07175</td>\n",
       "      <td>2.7923</td>\n",
       "      <td>0.995881</td>\n",
       "    </tr>\n",
       "    <tr>\n",
       "      <th>6</th>\n",
       "      <td>115</td>\n",
       "      <td>120.432025</td>\n",
       "      <td>0.61949</td>\n",
       "      <td>0.970005</td>\n",
       "    </tr>\n",
       "    <tr>\n",
       "      <th>7</th>\n",
       "      <td>135</td>\n",
       "      <td>128.025757</td>\n",
       "      <td>3.409187</td>\n",
       "      <td>1.016274</td>\n",
       "    </tr>\n",
       "  </tbody>\n",
       "</table>\n",
       "</div>"
      ],
      "text/plain": [
       "   data      l_step    b_step    s_step\n",
       "0   100         100         5         1\n",
       "1   120       112.5       8.0         1\n",
       "2   110      115.25       5.9         1\n",
       "3   130     125.575      7.67         1\n",
       "4   105    119.1225     2.021  0.920044\n",
       "5   125   123.07175    2.7923  0.995881\n",
       "6   115  120.432025   0.61949  0.970005\n",
       "7   135  128.025757  3.409187  1.016274"
      ]
     },
     "execution_count": 275,
     "metadata": {},
     "output_type": "execute_result"
    }
   ],
   "source": [
    "def HoltVinPredict():\n",
    "    for i in range(len(data_hv)):\n",
    "        if (i > 0) and (i < 4): \n",
    "            data_hv['l_step'].loc[i] = alfa * data_hv['data'].loc[i] / data_hv['s_step'].loc[i] + (1 - alfa) * (data_hv['l_step'].loc[i-1] + data_hv['b_step'].loc[i-1])\n",
    "            data_hv['b_step'].loc[i] = beta * (data_hv['l_step'].loc[i] - data_hv['l_step'].loc[i-1]) + (1 - beta) * data_hv['b_step'].loc[i-1]\n",
    "        if i > 3: \n",
    "            data_hv['l_step'].loc[i] = alfa * data_hv['data'].loc[i] / data_hv['s_step'].loc[i-4] + (1 - alfa) * (data_hv['l_step'].loc[i-1] + data_hv['b_step'].loc[i-1])\n",
    "            data_hv['b_step'].loc[i] = beta * (data_hv['l_step'].loc[i] - data_hv['l_step'].loc[i-1]) + (1 - beta) * data_hv['b_step'].loc[i-1]    \n",
    "            data_hv['s_step'].loc[i] = gamma * data_hv['data'].loc[i] / (data_hv['l_step'].loc[i] + data_hv['b_step'].loc[i]) + (1 - gamma) * data_hv['s_step'].loc[i-4]\n",
    "    pass\n",
    "HoltVinPredict()\n",
    "data_hv"
   ]
  },
  {
   "cell_type": "code",
   "execution_count": 270,
   "metadata": {},
   "outputs": [
    {
     "name": "stdout",
     "output_type": "stream",
     "text": [
      "0.3333342897571564\n",
      "[ 2.16102902e-20 -3.33287733e-17]\n",
      "114.9878345975556\n"
     ]
    }
   ],
   "source": [
    "import numpy as np\n",
    "from sklearn.linear_model import LinearRegression\n",
    "x = np.array(data_hv[['l_step', 'b_step']])\n",
    "y = np.array(data_hv['data'])\n",
    "reg = LinearRegression().fit(x, y)\n",
    "print(reg.score(x, y))\n",
    "print(reg.coef_)\n",
    "print(reg.intercept_)"
   ]
  },
  {
   "cell_type": "code",
   "execution_count": 276,
   "metadata": {},
   "outputs": [
    {
     "data": {
      "text/html": [
       "<div>\n",
       "<style scoped>\n",
       "    .dataframe tbody tr th:only-of-type {\n",
       "        vertical-align: middle;\n",
       "    }\n",
       "\n",
       "    .dataframe tbody tr th {\n",
       "        vertical-align: top;\n",
       "    }\n",
       "\n",
       "    .dataframe thead th {\n",
       "        text-align: right;\n",
       "    }\n",
       "</style>\n",
       "<table border=\"1\" class=\"dataframe\">\n",
       "  <thead>\n",
       "    <tr style=\"text-align: right;\">\n",
       "      <th></th>\n",
       "      <th>data</th>\n",
       "      <th>l_step</th>\n",
       "      <th>b_step</th>\n",
       "      <th>s_step</th>\n",
       "    </tr>\n",
       "  </thead>\n",
       "  <tbody>\n",
       "    <tr>\n",
       "      <th>0</th>\n",
       "      <td>100</td>\n",
       "      <td>100</td>\n",
       "      <td>5</td>\n",
       "      <td>1</td>\n",
       "    </tr>\n",
       "    <tr>\n",
       "      <th>1</th>\n",
       "      <td>120</td>\n",
       "      <td>105.0</td>\n",
       "      <td>5.0</td>\n",
       "      <td>1</td>\n",
       "    </tr>\n",
       "    <tr>\n",
       "      <th>2</th>\n",
       "      <td>110</td>\n",
       "      <td>110.0</td>\n",
       "      <td>5.0</td>\n",
       "      <td>1</td>\n",
       "    </tr>\n",
       "    <tr>\n",
       "      <th>3</th>\n",
       "      <td>130</td>\n",
       "      <td>115.0</td>\n",
       "      <td>5.0</td>\n",
       "      <td>1</td>\n",
       "    </tr>\n",
       "    <tr>\n",
       "      <th>4</th>\n",
       "      <td>105</td>\n",
       "      <td>120.0</td>\n",
       "      <td>5.0</td>\n",
       "      <td>0.904</td>\n",
       "    </tr>\n",
       "    <tr>\n",
       "      <th>5</th>\n",
       "      <td>125</td>\n",
       "      <td>125.0</td>\n",
       "      <td>5.0</td>\n",
       "      <td>0.976923</td>\n",
       "    </tr>\n",
       "    <tr>\n",
       "      <th>6</th>\n",
       "      <td>115</td>\n",
       "      <td>130.0</td>\n",
       "      <td>5.0</td>\n",
       "      <td>0.911111</td>\n",
       "    </tr>\n",
       "    <tr>\n",
       "      <th>7</th>\n",
       "      <td>135</td>\n",
       "      <td>135.0</td>\n",
       "      <td>5.0</td>\n",
       "      <td>0.978571</td>\n",
       "    </tr>\n",
       "  </tbody>\n",
       "</table>\n",
       "</div>"
      ],
      "text/plain": [
       "   data l_step b_step    s_step\n",
       "0   100    100      5         1\n",
       "1   120  105.0    5.0         1\n",
       "2   110  110.0    5.0         1\n",
       "3   130  115.0    5.0         1\n",
       "4   105  120.0    5.0     0.904\n",
       "5   125  125.0    5.0  0.976923\n",
       "6   115  130.0    5.0  0.911111\n",
       "7   135  135.0    5.0  0.978571"
      ]
     },
     "execution_count": 276,
     "metadata": {},
     "output_type": "execute_result"
    }
   ],
   "source": [
    "alfa = 2.16102902e-20\n",
    "beta = 114.9878345975556\n",
    "HoltVinPredict()\n",
    "data_hv"
   ]
  },
  {
   "cell_type": "code",
   "execution_count": null,
   "metadata": {},
   "outputs": [],
   "source": []
  }
 ],
 "metadata": {
  "kernelspec": {
   "display_name": "Python 3 (ipykernel)",
   "language": "python",
   "name": "python3"
  },
  "language_info": {
   "codemirror_mode": {
    "name": "ipython",
    "version": 3
   },
   "file_extension": ".py",
   "mimetype": "text/x-python",
   "name": "python",
   "nbconvert_exporter": "python",
   "pygments_lexer": "ipython3",
   "version": "3.11.5"
  }
 },
 "nbformat": 4,
 "nbformat_minor": 2
}
