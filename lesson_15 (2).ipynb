{
 "cells": [
  {
   "cell_type": "code",
   "execution_count": 29,
   "metadata": {
    "collapsed": true
   },
   "outputs": [],
   "source": [
    "import numpy as np\n",
    "import pandas as pd\n",
    "\n",
    "import matplotlib.pyplot as plt\n",
    "\n",
    "from sklearn.model_selection import train_test_split"
   ]
  },
  {
   "cell_type": "code",
   "execution_count": 25,
   "outputs": [],
   "source": [
    "RANDOM_SEED = 42\n",
    "np.random.seed(RANDOM_SEED)"
   ],
   "metadata": {
    "collapsed": false
   }
  },
  {
   "cell_type": "markdown",
   "source": [
    "## Функция ошибок"
   ],
   "metadata": {
    "collapsed": false
   }
  },
  {
   "cell_type": "code",
   "execution_count": 36,
   "outputs": [],
   "source": [
    "# MSE\n",
    "def mean_squared_error(y_true, y_pred):\n",
    "    n = len(y_true)\n",
    "    mse = sum((y_true[i] - y_pred[i])**2 for i in range(n)) / n\n",
    "    return mse\n",
    "\n",
    "# MAE\n",
    "def mean_absolute_error(y_true, y_pred):\n",
    "    n = len(y_true)\n",
    "    mae = sum(abs(y_true[i] - y_pred[i]) for i in range(n)) / n\n",
    "    return mae\n",
    "\n",
    "# Log-Cosh Loss\n",
    "def log_cosh_loss(y_true, y_pred):\n",
    "    n = len(y_true)\n",
    "    log_cosh = sum(np.log(np.cosh(y_pred[i] - y_true[i])) for i in range(n)) / n\n",
    "    return log_cosh\n",
    "\n",
    "# Binary Cross-Entropy Loss\n",
    "def binary_cross_entropy(y_true, y_pred):\n",
    "    n = len(y_true)\n",
    "    bce = -sum(y_true[i] * np.log(y_pred[i]) + (1 - y_true[i]) * np.log(1 - y_pred[i]) for i in range(n)) / n\n",
    "    return bce\n",
    "\n",
    "# Accuracy\n",
    "def accuracy(y_true, y_pred):\n",
    "    correct = sum(y_true[i] == y_pred[i] for i in range(len(y_true)))\n",
    "    acc = correct / len(y_true)\n",
    "    return acc\n",
    "\n",
    "# F1-score\n",
    "def f1_score(y_true, y_pred):\n",
    "    true_positives = sum(y_true[i] == 1 and y_pred[i] == 1 for i in range(len(y_true)))\n",
    "    false_positives = sum(y_true[i] == 0 and y_pred[i] == 1 for i in range(len(y_true)))\n",
    "    false_negatives = sum(y_true[i] == 1 and y_pred[i] == 0 for i in range(len(y_true)))\n",
    "\n",
    "    precision = true_positives / (true_positives + false_positives)\n",
    "    recall = true_positives / (true_positives + false_negatives)\n",
    "\n",
    "    f1 = 2 * (precision * recall) / (precision + recall)\n",
    "    return f1"
   ],
   "metadata": {
    "collapsed": false
   }
  },
  {
   "cell_type": "code",
   "execution_count": 35,
   "outputs": [
    {
     "name": "stdout",
     "output_type": "stream",
     "text": [
      "mse: 0.85808\n",
      "mae: 0.5439999999999999\n",
      "lcl: 0.29303706256484763\n"
     ]
    }
   ],
   "source": [
    "y_true = np.array([3, 1, 5, 7, 2])\n",
    "y_pred = np.array([3.5, 0.98, 5, 5, 1.8])\n",
    "\n",
    "mse_result = mean_squared_error(y_true, y_pred)\n",
    "mae_result = mean_absolute_error(y_true, y_pred)\n",
    "lcl_result = log_cosh_loss(y_true, y_pred)\n",
    "\n",
    "print(f\"mse: {mse_result}\\nmae: {mae_result}\\nlcl: {lcl_result}\")"
   ],
   "metadata": {
    "collapsed": false
   }
  },
  {
   "cell_type": "code",
   "execution_count": 39,
   "outputs": [
    {
     "name": "stdout",
     "output_type": "stream",
     "text": [
      "accuracy: 0.8333333333333334\n",
      "binary_ce: 0.45396813302046307\n",
      "f1_scoe: 0.8571428571428571\n"
     ]
    }
   ],
   "source": [
    "y_true = np.array([1, 1, 1, 0, 0, 1])\n",
    "y_pred = np.array([1, 1, 0, 0, 0, 1])\n",
    "y_pred_probs = np.array([0.99, 0.98, 0.1, 0.05, 0.2, 0.89])\n",
    "\n",
    "accuracy_result = accuracy(y_true, y_pred)\n",
    "binary_ce_result = binary_cross_entropy(y_true, y_pred_probs)\n",
    "f1_score_result = f1_score(y_true, y_pred)\n",
    "print(f\"accuracy: {accuracy_result}\\nbinary_ce: {binary_ce_result}\\nf1_scoe: {f1_score_result}\")"
   ],
   "metadata": {
    "collapsed": false
   }
  },
  {
   "cell_type": "markdown",
   "source": [
    "## Линейная регрессия"
   ],
   "metadata": {
    "collapsed": false
   }
  },
  {
   "cell_type": "code",
   "execution_count": 40,
   "outputs": [
    {
     "name": "stdout",
     "output_type": "stream",
     "text": [
      "w0 = 0.9772896347719431\n",
      "w1 = 1.0062904070062944\n"
     ]
    }
   ],
   "source": [
    "# линейная регрессия с обучением через градиентный спуск\n",
    "def linear_regression(X, y, learning_rate=0.01, epochs=1000):\n",
    "    n = len(X)\n",
    "    w0 = 0\n",
    "    w1 = 0\n",
    "\n",
    "    for _ in range(epochs):\n",
    "        y_pred = w0 + w1 * X\n",
    "        dw0 = (-2 / n) * sum(y - y_pred)\n",
    "        dw1 = (-2 / n) * sum(X * (y - y_pred))\n",
    "\n",
    "        w0 -= learning_rate * dw0\n",
    "        w1 -= learning_rate * dw1\n",
    "\n",
    "    return w0, w1\n",
    "\n",
    "# Пример использования\n",
    "X = np.array([1, 2, 3, 4, 5])\n",
    "y = np.array([2, 3, 4, 5, 6])\n",
    "\n",
    "w0, w1 = linear_regression(X, y)\n",
    "\n",
    "print(\"w0 =\", w0)\n",
    "print(\"w1 =\", w1)"
   ],
   "metadata": {
    "collapsed": false
   }
  },
  {
   "cell_type": "code",
   "execution_count": 41,
   "outputs": [
    {
     "name": "stdout",
     "output_type": "stream",
     "text": [
      "9.027612890822297\n",
      "0.9772896347719431\n"
     ]
    }
   ],
   "source": [
    "print(w0 + w1 * 8) # ожидаем значение близкое к 9\n",
    "print(w0 + w1 * 0) # ожидаем значение близкое к 1"
   ],
   "metadata": {
    "collapsed": false
   }
  },
  {
   "cell_type": "code",
   "execution_count": null,
   "outputs": [],
   "source": [],
   "metadata": {
    "collapsed": false
   }
  }
 ],
 "metadata": {
  "kernelspec": {
   "display_name": "Python 3",
   "language": "python",
   "name": "python3"
  },
  "language_info": {
   "codemirror_mode": {
    "name": "ipython",
    "version": 2
   },
   "file_extension": ".py",
   "mimetype": "text/x-python",
   "name": "python",
   "nbconvert_exporter": "python",
   "pygments_lexer": "ipython2",
   "version": "2.7.6"
  }
 },
 "nbformat": 4,
 "nbformat_minor": 0
}
