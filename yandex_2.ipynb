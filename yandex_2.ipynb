{
 "cells": [
  {
   "cell_type": "code",
   "execution_count": 74,
   "metadata": {},
   "outputs": [],
   "source": [
    "import numpy as np\n",
    "\n",
    "class LaplaceDistribution:    \n",
    "    @staticmethod\n",
    "    def mean_abs_deviation_from_median(x: np.ndarray):\n",
    "        '''\n",
    "        Args:\n",
    "        - x: A numpy array of shape (n_objects, n_features) containing the data\n",
    "          consisting of num_train samples each of dimension D.\n",
    "        '''\n",
    "        ####\n",
    "        # Do not change the class outside of this block\n",
    "        # Your code here\n",
    "        n_objects = x.shape[0]\n",
    "        n_features = x.shape[1]\n",
    "        mad = np.zeros(n_objects)\n",
    "        for i in range(n_objects):\n",
    "            mad[i] = np.sum(np.abs(x[i,:] - np.median(np.sort(x[i])))) / n_features\n",
    "        ####\n",
    "\n",
    "    def __init__(self, features):\n",
    "        '''\n",
    "        Args:\n",
    "            feature: A numpy array of shape (n_objects, n_features). Every column represents all available values for the selected feature.\n",
    "        '''\n",
    "        ####\n",
    "        # Do not change the class outside of this block\n",
    "        self.loc = np.median(features, axis=0)\n",
    "        self.scale = (np.sum(np.abs(features - loc), axis=0) / len(features))\n",
    "        ####\n",
    "\n",
    "\n",
    "    def logpdf(self, values):\n",
    "        '''\n",
    "        Returns logarithm of probability density at every input value.\n",
    "        Args:\n",
    "            values: A numpy array of shape (n_objects, n_features). Every column represents all available values for the selected feature.\n",
    "        '''\n",
    "        ####\n",
    "        # Do not change the class outside of this block\n",
    "        return np.log(1/(2 * self.scale)) +np.log( np.exp(-(np.abs(values - self.loc) / self.scale)))\n",
    "        ####\n",
    "        \n",
    "    \n",
    "    def pdf(self, values):\n",
    "        '''\n",
    "        Returns probability density at every input value.\n",
    "        Args:\n",
    "            values: A numpy array of shape (n_objects, n_features). Every column represents all available values for the selected feature.\n",
    "        '''\n",
    "        return np.exp(self.logpdf(values))"
   ]
  },
  {
   "cell_type": "code",
   "execution_count": 75,
   "metadata": {},
   "outputs": [
    {
     "name": "stderr",
     "output_type": "stream",
     "text": [
      "/tmp/ipykernel_164441/342855466.py:41: RuntimeWarning: divide by zero encountered in divide\n",
      "  return np.log(1/(2 * self.scale)) +np.log( np.exp(-(np.abs(values - self.loc) / self.scale)))\n",
      "/tmp/ipykernel_164441/342855466.py:41: RuntimeWarning: invalid value encountered in divide\n",
      "  return np.log(1/(2 * self.scale)) +np.log( np.exp(-(np.abs(values - self.loc) / self.scale)))\n"
     ]
    },
    {
     "data": {
      "text/plain": [
       "array([[       nan, 0.01066866,        nan, 0.01867015,        nan,\n",
       "               nan,        nan, 0.01867015, 0.125     , 0.01066866],\n",
       "       [       nan, 0.21428571,        nan, 0.375     ,        nan,\n",
       "               nan,        nan, 0.375     , 0.125     , 0.21428571],\n",
       "       [       nan, 0.21428571,        nan, 0.375     ,        nan,\n",
       "               nan,        nan, 0.375     , 0.00622338, 0.21428571]])"
      ]
     },
     "execution_count": 75,
     "metadata": {},
     "output_type": "execute_result"
    }
   ],
   "source": [
    "lap = LaplaceDistribution(d)\n",
    "lap.pdf(d)"
   ]
  },
  {
   "cell_type": "code",
   "execution_count": 2,
   "metadata": {},
   "outputs": [
    {
     "data": {
      "text/plain": [
       "2.965204437011204"
      ]
     },
     "execution_count": 2,
     "metadata": {},
     "output_type": "execute_result"
    }
   ],
   "source": [
    "import numpy as np\n",
    "from statsmodels import robust\n",
    "\n",
    "#define data\n",
    "data = np.array([1, 2, 2, 3, 5, 7, 7, 7, 7, 9])\n",
    "\n",
    "#calculate MAD\n",
    "robust. mad (data)"
   ]
  },
  {
   "cell_type": "code",
   "execution_count": 16,
   "metadata": {},
   "outputs": [
    {
     "data": {
      "text/plain": [
       "(5.0, 6.0)"
      ]
     },
     "execution_count": 16,
     "metadata": {},
     "output_type": "execute_result"
    }
   ],
   "source": [
    "m = np.median(data)\n",
    "avr = np.mean(data)\n",
    "\n",
    "avr , m"
   ]
  },
  {
   "cell_type": "code",
   "execution_count": 18,
   "metadata": {},
   "outputs": [
    {
     "data": {
      "text/plain": [
       "2.4"
      ]
     },
     "execution_count": 18,
     "metadata": {},
     "output_type": "execute_result"
    }
   ],
   "source": [
    "mad = np.sum(np.abs(data - avr)) / len(data)\n",
    "mad"
   ]
  },
  {
   "cell_type": "code",
   "execution_count": 3,
   "metadata": {},
   "outputs": [
    {
     "data": {
      "text/plain": [
       "(3, 10)"
      ]
     },
     "execution_count": 3,
     "metadata": {},
     "output_type": "execute_result"
    }
   ],
   "source": [
    "d = np.asarray([[1, 9, 2, 7, 5, 7, 7, 3, 7, 2], [1, 2, 2, 3, 5, 7, 7, 7, 7, 9],[1, 2, 2, 3, 5, 7, 7, 7, 19, 9]])\n",
    "x = d\n",
    "x.shape"
   ]
  },
  {
   "cell_type": "code",
   "execution_count": 4,
   "metadata": {},
   "outputs": [
    {
     "data": {
      "text/plain": [
       "array([2.4, 2.4, 3.6])"
      ]
     },
     "execution_count": 4,
     "metadata": {},
     "output_type": "execute_result"
    }
   ],
   "source": [
    "n_objects = x.shape[0]\n",
    "n_features = x.shape[1]\n",
    "mad = np.zeros(n_objects)\n",
    "for i in range(x.shape[0]):\n",
    "    mad[i] = np.sum(np.abs(x[i,:] - np.median(np.sort(x[i])))) / n_features\n",
    "\n",
    "mad"
   ]
  },
  {
   "cell_type": "code",
   "execution_count": 42,
   "metadata": {},
   "outputs": [
    {
     "name": "stdout",
     "output_type": "stream",
     "text": [
      "range(0, 3)\n"
     ]
    }
   ],
   "source": [
    "print(range(d.shape[0]))"
   ]
  },
  {
   "cell_type": "code",
   "execution_count": 5,
   "metadata": {},
   "outputs": [
    {
     "data": {
      "text/plain": [
       "array([2.4, 2.4, 3.6])"
      ]
     },
     "execution_count": 5,
     "metadata": {},
     "output_type": "execute_result"
    }
   ],
   "source": [
    "\n",
    "mad = np.zeros(d.shape[0])\n",
    "for i in range(d.shape[0]):\n",
    "            mad[i] = np.sum(np.abs(d[i,:]- np.median(np.sort(d[i])))) / d.shape[1]\n",
    "mad"
   ]
  },
  {
   "cell_type": "code",
   "execution_count": 6,
   "metadata": {},
   "outputs": [
    {
     "data": {
      "text/plain": [
       "array([6., 6., 6.])"
      ]
     },
     "execution_count": 6,
     "metadata": {},
     "output_type": "execute_result"
    }
   ],
   "source": [
    "np.sum(np.abs(d[i,:] - np.median(np.sort(d[i,:])))) / len(d[i])\n",
    "\n",
    "\n",
    "loc = np.median(np.sort(d[:, np.arange(0,d.shape[1])]), axis=1)\n",
    "loc"
   ]
  },
  {
   "cell_type": "code",
   "execution_count": 27,
   "metadata": {},
   "outputs": [
    {
     "data": {
      "text/plain": [
       "(3, 10)"
      ]
     },
     "execution_count": 27,
     "metadata": {},
     "output_type": "execute_result"
    }
   ],
   "source": [
    "d.shape"
   ]
  },
  {
   "cell_type": "code",
   "execution_count": 28,
   "metadata": {},
   "outputs": [
    {
     "data": {
      "text/plain": [
       "(5.181818181818182, 7.0)"
      ]
     },
     "execution_count": 28,
     "metadata": {},
     "output_type": "execute_result"
    }
   ],
   "source": [
    "m = np.median(d)\n",
    "avr = np.mean(d)\n",
    "\n",
    "avr , m"
   ]
  },
  {
   "cell_type": "code",
   "execution_count": 18,
   "metadata": {},
   "outputs": [
    {
     "name": "stdout",
     "output_type": "stream",
     "text": [
      "[1 2 2 3 5 7 7 7 7 8 9]\n"
     ]
    }
   ],
   "source": [
    "d = np.sort(np.asarray([1, 9, 2, 7, 5, 7, 7, 3, 7, 2, 8]))\n",
    "print(d)"
   ]
  },
  {
   "cell_type": "code",
   "execution_count": 10,
   "metadata": {},
   "outputs": [],
   "source": [
    "d = np.asarray([1, 2, 2, 3, 5, 7, 7, 7, 7, 8, 9])"
   ]
  },
  {
   "cell_type": "code",
   "execution_count": 19,
   "metadata": {},
   "outputs": [
    {
     "data": {
      "text/plain": [
       "2.4297520661157024"
      ]
     },
     "execution_count": 19,
     "metadata": {},
     "output_type": "execute_result"
    }
   ],
   "source": [
    "mad = np.sum(np.abs(d - np.mean(d))) / len(d)\n",
    "mad"
   ]
  },
  {
   "cell_type": "code",
   "execution_count": 24,
   "metadata": {},
   "outputs": [
    {
     "data": {
      "text/plain": [
       "2.965204437011204"
      ]
     },
     "execution_count": 24,
     "metadata": {},
     "output_type": "execute_result"
    }
   ],
   "source": [
    "robust. mad (d)"
   ]
  },
  {
   "cell_type": "code",
   "execution_count": 25,
   "metadata": {},
   "outputs": [
    {
     "data": {
      "text/plain": [
       "array([[6.],\n",
       "       [6.],\n",
       "       [6.]])"
      ]
     },
     "execution_count": 25,
     "metadata": {},
     "output_type": "execute_result"
    }
   ],
   "source": [
    "loc.reshape(3,1)"
   ]
  },
  {
   "cell_type": "code",
   "execution_count": 28,
   "metadata": {},
   "outputs": [
    {
     "data": {
      "text/plain": [
       "array([[1],\n",
       "       [1],\n",
       "       [1]])"
      ]
     },
     "execution_count": 28,
     "metadata": {},
     "output_type": "execute_result"
    }
   ],
   "source": [
    "np.asarray([[1], [1], [1]])"
   ]
  },
  {
   "cell_type": "code",
   "execution_count": null,
   "metadata": {},
   "outputs": [],
   "source": [
    "loc"
   ]
  },
  {
   "cell_type": "code",
   "execution_count": 35,
   "metadata": {},
   "outputs": [
    {
     "data": {
      "text/plain": [
       "array([2.4, 2.4, 3.6])"
      ]
     },
     "execution_count": 35,
     "metadata": {},
     "output_type": "execute_result"
    }
   ],
   "source": [
    "d - loc.reshape(3,1)\n",
    "mad"
   ]
  },
  {
   "cell_type": "code",
   "execution_count": 34,
   "metadata": {},
   "outputs": [
    {
     "data": {
      "text/plain": [
       "array([2.4, 2.4, 3.6])"
      ]
     },
     "execution_count": 34,
     "metadata": {},
     "output_type": "execute_result"
    }
   ],
   "source": [
    "scale = 1 / d.shape[1] * np.sum(np.abs(d - loc.reshape(3,1)), axis=1)\n",
    "scale"
   ]
  },
  {
   "cell_type": "code",
   "execution_count": 47,
   "metadata": {},
   "outputs": [
    {
     "data": {
      "text/plain": [
       "array([[0.02270167, 0.052236  , 0.03443609, 0.12019378, 0.12019378,\n",
       "        0.12019378, 0.12019378, 0.052236  , 0.12019378, 0.03443609],\n",
       "       [0.02270167, 0.03443609, 0.03443609, 0.052236  , 0.12019378,\n",
       "        0.12019378, 0.12019378, 0.12019378, 0.12019378, 0.052236  ],\n",
       "       [0.1465659 , 0.19349525, 0.19349525, 0.25545103, 0.4452279 ,\n",
       "        0.4452279 , 0.4452279 , 0.4452279 , 0.01588306, 0.25545103]])"
      ]
     },
     "execution_count": 47,
     "metadata": {},
     "output_type": "execute_result"
    }
   ],
   "source": [
    "np.log(1/2 * scale.reshape(3,1)) * np.exp(-(np.abs(d - loc.reshape(3,1)) / scale.reshape(3,1)))"
   ]
  },
  {
   "cell_type": "code",
   "execution_count": 61,
   "metadata": {},
   "outputs": [
    {
     "data": {
      "text/plain": [
       "array([[6.73794700e-03, 4.97870684e-02, 1.83156389e-02, 3.67879441e-01,\n",
       "        3.67879441e-01, 3.67879441e-01, 3.67879441e-01, 4.97870684e-02,\n",
       "        3.67879441e-01, 1.83156389e-02],\n",
       "       [6.73794700e-03, 1.83156389e-02, 1.83156389e-02, 4.97870684e-02,\n",
       "        3.67879441e-01, 3.67879441e-01, 3.67879441e-01, 3.67879441e-01,\n",
       "        3.67879441e-01, 4.97870684e-02],\n",
       "       [6.73794700e-03, 1.83156389e-02, 1.83156389e-02, 4.97870684e-02,\n",
       "        3.67879441e-01, 3.67879441e-01, 3.67879441e-01, 3.67879441e-01,\n",
       "        2.26032941e-06, 4.97870684e-02]])"
      ]
     },
     "execution_count": 61,
     "metadata": {},
     "output_type": "execute_result"
    }
   ],
   "source": [
    "(np.exp(-(np.abs(d - loc.reshape(3,1))))/ scale.reshape(3,1))*scale.reshape(3,1)"
   ]
  },
  {
   "cell_type": "code",
   "execution_count": 21,
   "metadata": {},
   "outputs": [
    {
     "data": {
      "text/plain": [
       "array([[6.],\n",
       "       [6.],\n",
       "       [6.]])"
      ]
     },
     "execution_count": 21,
     "metadata": {},
     "output_type": "execute_result"
    }
   ],
   "source": [
    "m = np.median(d, axis=1).reshape(d.shape[0],1)\n",
    "m"
   ]
  },
  {
   "cell_type": "code",
   "execution_count": 22,
   "metadata": {},
   "outputs": [
    {
     "data": {
      "text/plain": [
       "array([[-5.,  3., -4.,  1., -1.,  1.,  1., -3.,  1., -4.],\n",
       "       [-5., -4., -4., -3., -1.,  1.,  1.,  1.,  1.,  3.],\n",
       "       [-5., -4., -4., -3., -1.,  1.,  1.,  1., 13.,  3.]])"
      ]
     },
     "execution_count": 22,
     "metadata": {},
     "output_type": "execute_result"
    }
   ],
   "source": [
    "d- m"
   ]
  },
  {
   "cell_type": "code",
   "execution_count": 29,
   "metadata": {},
   "outputs": [
    {
     "data": {
      "text/plain": [
       "array([2.4, 2.4, 3.6])"
      ]
     },
     "execution_count": 29,
     "metadata": {},
     "output_type": "execute_result"
    }
   ],
   "source": [
    "\n",
    "loc = np.median(d, axis=1).reshape(d.shape[0],1)\n",
    "\n",
    "scale = np.sum(np.abs(d - loc), axis=1) / d.shape[1]\n",
    "scale"
   ]
  },
  {
   "cell_type": "code",
   "execution_count": 64,
   "metadata": {},
   "outputs": [
    {
     "data": {
      "text/plain": [
       "array([[0.        , 2.33333333, 0.        , 1.33333333, 0.        ,\n",
       "        0.        , 0.        , 1.33333333, 4.        , 2.33333333]])"
      ]
     },
     "execution_count": 64,
     "metadata": {},
     "output_type": "execute_result"
    }
   ],
   "source": [
    "loc = np.median(d, axis=0).reshape(1,d.shape[1])\n",
    "scale = (np.sum(np.abs(d - loc) / len(d), axis=0)).reshape(1,d.shape[1])\n",
    "scale\n"
   ]
  },
  {
   "cell_type": "code",
   "execution_count": 61,
   "metadata": {},
   "outputs": [
    {
     "data": {
      "text/plain": [
       "11.333333333333334"
      ]
     },
     "execution_count": 61,
     "metadata": {},
     "output_type": "execute_result"
    }
   ],
   "source": [
    "(np.sum(np.abs(d - loc)) / len(d))"
   ]
  },
  {
   "cell_type": "code",
   "execution_count": 71,
   "metadata": {},
   "outputs": [
    {
     "data": {
      "text/plain": [
       "array([1., 2., 2., 3., 5., 7., 7., 7., 7., 9.])"
      ]
     },
     "execution_count": 71,
     "metadata": {},
     "output_type": "execute_result"
    }
   ],
   "source": [
    "loc = np.median(d, axis=0)#.reshape(1,d.shape[1])\n",
    "loc"
   ]
  },
  {
   "cell_type": "code",
   "execution_count": null,
   "metadata": {},
   "outputs": [],
   "source": []
  }
 ],
 "metadata": {
  "kernelspec": {
   "display_name": "base",
   "language": "python",
   "name": "python3"
  },
  "language_info": {
   "codemirror_mode": {
    "name": "ipython",
    "version": 3
   },
   "file_extension": ".py",
   "mimetype": "text/x-python",
   "name": "python",
   "nbconvert_exporter": "python",
   "pygments_lexer": "ipython3",
   "version": "3.11.5"
  }
 },
 "nbformat": 4,
 "nbformat_minor": 2
}
