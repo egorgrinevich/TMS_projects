{
 "cells": [
  {
   "cell_type": "code",
   "execution_count": null,
   "metadata": {},
   "outputs": [],
   "source": [
    "import numpy as np\n",
    "\n",
    "class LaplaceDistribution:    \n",
    "    @staticmethod\n",
    "    def mean_abs_deviation_from_median(x: np.ndarray):\n",
    "        '''\n",
    "        Args:\n",
    "        - x: A numpy array of shape (n_objects, n_features) containing the data\n",
    "          consisting of num_train samples each of dimension D.\n",
    "        '''\n",
    "        ####\n",
    "        # Do not change the class outside of this block\n",
    "        # Your code here\n",
    "        n_objects = x.shape[0]\n",
    "        n_features = x.shape[1]\n",
    "        mad = np.zeros(n_features)\n",
    "        for i in range(n_features)\n",
    "            mad[i] = np.sum(np.abs(x - np.median(x))) / len(x)\n",
    "        ####\n",
    "\n",
    "    def __init__(self, features):\n",
    "        '''\n",
    "        Args:\n",
    "            feature: A numpy array of shape (n_objects, n_features). Every column represents all available values for the selected feature.\n",
    "        '''\n",
    "        ####\n",
    "        # Do not change the class outside of this block\n",
    "        self.loc = # YOUR CODE HERE\n",
    "        self.scale = # YOUR CODE HERE\n",
    "        ####\n",
    "\n",
    "\n",
    "    def logpdf(self, values):\n",
    "        '''\n",
    "        Returns logarithm of probability density at every input value.\n",
    "        Args:\n",
    "            values: A numpy array of shape (n_objects, n_features). Every column represents all available values for the selected feature.\n",
    "        '''\n",
    "        ####\n",
    "        # Do not change the class outside of this block\n",
    "        return \n",
    "        ####\n",
    "        \n",
    "    \n",
    "    def pdf(self, values):\n",
    "        '''\n",
    "        Returns probability density at every input value.\n",
    "        Args:\n",
    "            values: A numpy array of shape (n_objects, n_features). Every column represents all available values for the selected feature.\n",
    "        '''\n",
    "        return np.exp(self.logpdf(value))"
   ]
  },
  {
   "cell_type": "code",
   "execution_count": 8,
   "metadata": {},
   "outputs": [
    {
     "data": {
      "text/plain": [
       "2.965204437011204"
      ]
     },
     "execution_count": 8,
     "metadata": {},
     "output_type": "execute_result"
    }
   ],
   "source": [
    "import numpy as np\n",
    "from statsmodels import robust\n",
    "\n",
    "#define data\n",
    "data = np.array([1, 2, 2, 3, 5, 7, 7, 7, 7, 9])\n",
    "\n",
    "#calculate MAD\n",
    "robust. mad (data)"
   ]
  },
  {
   "cell_type": "code",
   "execution_count": 16,
   "metadata": {},
   "outputs": [
    {
     "data": {
      "text/plain": [
       "(5.0, 6.0)"
      ]
     },
     "execution_count": 16,
     "metadata": {},
     "output_type": "execute_result"
    }
   ],
   "source": [
    "m = np.median(data)\n",
    "avr = np.mean(data)\n",
    "\n",
    "avr , m"
   ]
  },
  {
   "cell_type": "code",
   "execution_count": 18,
   "metadata": {},
   "outputs": [
    {
     "data": {
      "text/plain": [
       "2.4"
      ]
     },
     "execution_count": 18,
     "metadata": {},
     "output_type": "execute_result"
    }
   ],
   "source": [
    "mad = np.sum(np.abs(data - avr)) / len(data)\n",
    "mad"
   ]
  },
  {
   "cell_type": "code",
   "execution_count": 34,
   "metadata": {},
   "outputs": [
    {
     "data": {
      "text/plain": [
       "[1, 2, 2, 3, 5, 7, 7, 7, 7, 9]"
      ]
     },
     "execution_count": 34,
     "metadata": {},
     "output_type": "execute_result"
    }
   ],
   "source": [
    "d = [1, 2, 2, 3, 5, 7, 7, 7, 7, 9]\n",
    "d"
   ]
  },
  {
   "cell_type": "code",
   "execution_count": 28,
   "metadata": {},
   "outputs": [
    {
     "data": {
      "text/plain": [
       "(5.181818181818182, 7.0)"
      ]
     },
     "execution_count": 28,
     "metadata": {},
     "output_type": "execute_result"
    }
   ],
   "source": [
    "m = np.median(d)\n",
    "avr = np.mean(d)\n",
    "\n",
    "avr , m"
   ]
  },
  {
   "cell_type": "code",
   "execution_count": 36,
   "metadata": {},
   "outputs": [
    {
     "data": {
      "text/plain": [
       "2.4"
      ]
     },
     "execution_count": 36,
     "metadata": {},
     "output_type": "execute_result"
    }
   ],
   "source": [
    "mad = np.sum(np.abs(d - np.mean(d))) / len(d)\n",
    "mad"
   ]
  },
  {
   "cell_type": "code",
   "execution_count": 24,
   "metadata": {},
   "outputs": [
    {
     "data": {
      "text/plain": [
       "2.965204437011204"
      ]
     },
     "execution_count": 24,
     "metadata": {},
     "output_type": "execute_result"
    }
   ],
   "source": [
    "robust. mad (d)"
   ]
  },
  {
   "cell_type": "code",
   "execution_count": null,
   "metadata": {},
   "outputs": [],
   "source": []
  }
 ],
 "metadata": {
  "kernelspec": {
   "display_name": "base",
   "language": "python",
   "name": "python3"
  },
  "language_info": {
   "codemirror_mode": {
    "name": "ipython",
    "version": 3
   },
   "file_extension": ".py",
   "mimetype": "text/x-python",
   "name": "python",
   "nbconvert_exporter": "python",
   "pygments_lexer": "ipython3",
   "version": "3.11.5"
  }
 },
 "nbformat": 4,
 "nbformat_minor": 2
}
