{
 "cells": [
  {
   "cell_type": "code",
   "execution_count": 2,
   "metadata": {},
   "outputs": [
    {
     "name": "stderr",
     "output_type": "stream",
     "text": [
      "2023-09-03 22:24:40.247060: I tensorflow/tsl/cuda/cudart_stub.cc:28] Could not find cuda drivers on your machine, GPU will not be used.\n",
      "2023-09-03 22:24:40.438090: I tensorflow/tsl/cuda/cudart_stub.cc:28] Could not find cuda drivers on your machine, GPU will not be used.\n",
      "2023-09-03 22:24:40.440037: I tensorflow/core/platform/cpu_feature_guard.cc:182] This TensorFlow binary is optimized to use available CPU instructions in performance-critical operations.\n",
      "To enable the following instructions: AVX2 FMA, in other operations, rebuild TensorFlow with the appropriate compiler flags.\n",
      "2023-09-03 22:24:41.521498: W tensorflow/compiler/tf2tensorrt/utils/py_utils.cc:38] TF-TRT Warning: Could not find TensorRT\n"
     ]
    }
   ],
   "source": [
    "import hyperopt\n",
    "from hyperopt import fmin, tpe, hp\n",
    "import tensorflow as tf\n",
    "from tensorflow.keras.datasets import mnist\n",
    "from tensorflow.keras.layers import Dense, Flatten\n",
    "from tensorflow.keras.models import Sequential"
   ]
  },
  {
   "cell_type": "code",
   "execution_count": 17,
   "metadata": {},
   "outputs": [],
   "source": [
    "# Загрузка и предобработка данных\n",
    "(x_train, y_train), (x_test, y_test) = mnist.load_data()\n",
    "x_train, x_test = x_train / 255.0, x_test / 255.0"
   ]
  },
  {
   "cell_type": "code",
   "execution_count": 4,
   "metadata": {},
   "outputs": [],
   "source": [
    "def objective(params):\n",
    "    model = Sequential([\n",
    "        Flatten(input_shape=(28, 28, 1)),\n",
    "        Dense(params['units'], activation='relu'),\n",
    "        Dense(10, activation='softmax')\n",
    "    ])\n",
    "    \n",
    "    model.compile(optimizer=tf.keras.optimizers.Adam(learning_rate=params['learning_rate']),\n",
    "                  loss='sparse_categorical_crossentropy',\n",
    "                  metrics=['accuracy'])\n",
    "    \n",
    "    history = model.fit(x_train, y_train, epochs=10, validation_data=(x_test, y_test), verbose=0)\n",
    "    val_accuracy = history.history['val_accuracy'][-1]\n",
    "    \n",
    "    return -val_accuracy  # Минимизация, так как Hyperopt ищет минимум функции"
   ]
  },
  {
   "cell_type": "code",
   "execution_count": 5,
   "metadata": {},
   "outputs": [],
   "source": [
    "space = {\n",
    "    'units': hp.choice('units', [32, 64, 128]),  # Количество нейронов в слое\n",
    "    'learning_rate': hp.loguniform('learning_rate', -5, -1)  # Логарифмический выбор скорости обучения\n",
    "}"
   ]
  },
  {
   "cell_type": "code",
   "execution_count": 6,
   "metadata": {},
   "outputs": [
    {
     "name": "stdout",
     "output_type": "stream",
     "text": [
      "  0%|          | 0/10 [00:00<?, ?trial/s, best loss=?]"
     ]
    },
    {
     "name": "stderr",
     "output_type": "stream",
     "text": [
      "2023-09-03 22:25:41.665922: W tensorflow/tsl/framework/cpu_allocator_impl.cc:83] Allocation of 188160000 exceeds 10% of free system memory.\n",
      "2023-09-03 22:25:47.308040: W tensorflow/tsl/framework/cpu_allocator_impl.cc:83] Allocation of 31360000 exceeds 10% of free system memory.\n"
     ]
    },
    {
     "name": "stdout",
     "output_type": "stream",
     "text": [
      " 10%|█         | 1/10 [00:54<08:08, 54.23s/trial, best loss: -0.751800000667572]"
     ]
    },
    {
     "name": "stderr",
     "output_type": "stream",
     "text": [
      "2023-09-03 22:26:35.533873: W tensorflow/tsl/framework/cpu_allocator_impl.cc:83] Allocation of 188160000 exceeds 10% of free system memory.\n",
      "2023-09-03 22:26:39.947151: W tensorflow/tsl/framework/cpu_allocator_impl.cc:83] Allocation of 31360000 exceeds 10% of free system memory.\n"
     ]
    },
    {
     "name": "stdout",
     "output_type": "stream",
     "text": [
      " 20%|██        | 2/10 [01:40<06:38, 49.80s/trial, best loss: -0.9587000012397766]"
     ]
    },
    {
     "name": "stderr",
     "output_type": "stream",
     "text": [
      "2023-09-03 22:27:21.959521: W tensorflow/tsl/framework/cpu_allocator_impl.cc:83] Allocation of 188160000 exceeds 10% of free system memory.\n"
     ]
    },
    {
     "name": "stdout",
     "output_type": "stream",
     "text": [
      "100%|██████████| 10/10 [07:56<00:00, 47.61s/trial, best loss: -0.9587000012397766]\n"
     ]
    }
   ],
   "source": [
    "best = fmin(fn=objective,\n",
    "            space=space,\n",
    "            algo=tpe.suggest,\n",
    "            max_evals=10)  # Количество экспериментов\n",
    "# на 7 эпохе достигла минимума и не менялась"
   ]
  },
  {
   "cell_type": "code",
   "execution_count": 22,
   "metadata": {},
   "outputs": [
    {
     "name": "stdout",
     "output_type": "stream",
     "text": [
      "1875/1875 [==============================] - 13s 7ms/step - loss: 0.1915\n",
      "1875/1875 [==============================] - 5s 3ms/step\n"
     ]
    }
   ],
   "source": [
    "import numpy as np\n",
    "from sklearn.datasets import make_classification\n",
    "from tensorflow import keras\n",
    "\n",
    "from scikeras.wrappers import KerasClassifier\n",
    "\n",
    "\n",
    "#X, y = make_classification(1000, 20, n_informative=10, random_state=0)\n",
    "x_train = x_train.astype(np.float32)\n",
    "x_train = np.reshape(x_train, [60000,784])\n",
    "x_test = x_test.astype(np.float32)\n",
    "x_test = np.reshape(x_test, [10000,784])\n",
    "y_train = y_train.astype(np.int64)\n",
    "y_train = y_train.astype(np.int64)\n",
    "\n",
    "\n",
    "def get_model(hidden_layer_dim, meta):\n",
    "    # note that meta is a special argument that will be\n",
    "    # handed a dict containing input metadata\n",
    "    n_features_in_ = meta[\"n_features_in_\"]\n",
    "    X_shape_ = meta[\"X_shape_\"]\n",
    "    n_classes_ = meta[\"n_classes_\"]\n",
    "\n",
    "    model = keras.models.Sequential()\n",
    "    model.add(keras.layers.Dense(n_features_in_, input_shape=X_shape_[1:]))\n",
    "    model.add(keras.layers.Activation(\"relu\"))\n",
    "    model.add(keras.layers.Dense(hidden_layer_dim))\n",
    "    model.add(keras.layers.Activation(\"relu\"))\n",
    "    model.add(keras.layers.Dense(n_classes_))\n",
    "    model.add(keras.layers.Activation(\"softmax\"))\n",
    "    return model\n",
    "\n",
    "clf = KerasClassifier(\n",
    "    get_model,\n",
    "    loss=\"sparse_categorical_crossentropy\",\n",
    "    hidden_layer_dim=100,\n",
    ")\n",
    "\n",
    "clf.fit(x_train, y_train)\n",
    "y_proba = clf.predict_proba(x_train)\n"
   ]
  },
  {
   "cell_type": "code",
   "execution_count": 24,
   "metadata": {},
   "outputs": [
    {
     "name": "stdout",
     "output_type": "stream",
     "text": [
      "1875/1875 [==============================] - 13s 7ms/step - loss: 0.2188\n",
      "313/313 [==============================] - 1s 3ms/step\n"
     ]
    }
   ],
   "source": [
    "from sklearn.pipeline import Pipeline\n",
    "from sklearn.preprocessing import StandardScaler\n",
    "\n",
    "\n",
    "pipe = Pipeline([\n",
    "    ('scale', StandardScaler()),\n",
    "    ('clf', clf),\n",
    "])\n",
    "\n",
    "pipe.fit(x_train, y_train)\n",
    "y_proba = pipe.predict_proba(x_test)"
   ]
  },
  {
   "cell_type": "code",
   "execution_count": 25,
   "metadata": {},
   "outputs": [
    {
     "name": "stdout",
     "output_type": "stream",
     "text": [
      "1250/1250 [==============================] - 10s 8ms/step - loss: 0.4453\n",
      "625/625 [==============================] - 2s 3ms/step\n",
      "1250/1250 [==============================] - 10s 8ms/step - loss: 0.4737\n",
      "625/625 [==============================] - 2s 3ms/step\n",
      "1250/1250 [==============================] - 10s 8ms/step - loss: 0.4637\n",
      "625/625 [==============================] - 2s 3ms/step\n",
      "1250/1250 [==============================] - 10s 8ms/step - loss: 0.2258\n",
      "625/625 [==============================] - 2s 3ms/step\n",
      "1250/1250 [==============================] - 11s 8ms/step - loss: 0.2275\n",
      "625/625 [==============================] - 2s 3ms/step\n",
      "1250/1250 [==============================] - 10s 8ms/step - loss: 0.2254\n",
      "625/625 [==============================] - 2s 3ms/step\n",
      "1250/1250 [==============================] - 10s 8ms/step - loss: 3.0542\n",
      "625/625 [==============================] - 2s 3ms/step\n",
      "1250/1250 [==============================] - 10s 8ms/step - loss: 2.7241\n",
      "625/625 [==============================] - 2s 3ms/step\n",
      "1250/1250 [==============================] - 10s 8ms/step - loss: 2.6343\n",
      "625/625 [==============================] - 2s 3ms/step\n",
      "1250/1250 [==============================] - 5s 4ms/step - loss: 2.2402\n",
      "625/625 [==============================] - 2s 3ms/step\n",
      "1250/1250 [==============================] - 5s 4ms/step - loss: 2.2675\n",
      "625/625 [==============================] - 2s 3ms/step\n",
      "1250/1250 [==============================] - 5s 4ms/step - loss: 2.3039\n",
      "625/625 [==============================] - 2s 3ms/step\n",
      "1250/1250 [==============================] - 5s 4ms/step - loss: 1.8703\n",
      "625/625 [==============================] - 2s 3ms/step\n",
      "1250/1250 [==============================] - 5s 4ms/step - loss: 1.8850\n",
      "625/625 [==============================] - 2s 3ms/step\n",
      "1250/1250 [==============================] - 5s 4ms/step - loss: 1.8857\n",
      "625/625 [==============================] - 2s 3ms/step\n",
      "1250/1250 [==============================] - 5s 4ms/step - loss: 0.2923\n",
      "625/625 [==============================] - 2s 3ms/step\n",
      "1250/1250 [==============================] - 5s 4ms/step - loss: 0.2956\n",
      "625/625 [==============================] - 2s 3ms/step\n",
      "1250/1250 [==============================] - 5s 4ms/step - loss: 0.2968\n",
      "625/625 [==============================] - 2s 3ms/step\n",
      "1250/1250 [==============================] - 10s 8ms/step - loss: 0.4241\n",
      "625/625 [==============================] - 2s 3ms/step\n",
      "1250/1250 [==============================] - 11s 8ms/step - loss: 0.4375\n",
      "625/625 [==============================] - 2s 3ms/step\n",
      "1250/1250 [==============================] - 10s 8ms/step - loss: 0.4253\n",
      "625/625 [==============================] - 2s 3ms/step\n",
      "1250/1250 [==============================] - 10s 8ms/step - loss: 0.2193\n",
      "625/625 [==============================] - 2s 3ms/step\n",
      "1250/1250 [==============================] - 10s 8ms/step - loss: 0.2157\n",
      "625/625 [==============================] - 2s 3ms/step\n",
      "1250/1250 [==============================] - 10s 8ms/step - loss: 0.2196\n",
      "625/625 [==============================] - 2s 3ms/step\n",
      "1250/1250 [==============================] - 10s 8ms/step - loss: 2.6614\n",
      "625/625 [==============================] - 2s 3ms/step\n",
      "1250/1250 [==============================] - 10s 8ms/step - loss: 2.8832\n",
      "625/625 [==============================] - 2s 3ms/step\n",
      "1250/1250 [==============================] - 10s 8ms/step - loss: 2.6688\n",
      "625/625 [==============================] - 2s 4ms/step\n",
      "1250/1250 [==============================] - 5s 4ms/step - loss: 2.2911\n",
      "625/625 [==============================] - 2s 3ms/step\n",
      "1250/1250 [==============================] - 5s 4ms/step - loss: 2.2654\n",
      "625/625 [==============================] - 2s 3ms/step\n",
      "1250/1250 [==============================] - 6s 4ms/step - loss: 2.2661\n",
      "625/625 [==============================] - 2s 3ms/step\n",
      "1250/1250 [==============================] - 6s 4ms/step - loss: 1.7811\n",
      "625/625 [==============================] - 2s 3ms/step\n",
      "1250/1250 [==============================] - 5s 4ms/step - loss: 1.8085\n",
      "625/625 [==============================] - 2s 3ms/step\n",
      "1250/1250 [==============================] - 6s 4ms/step - loss: 1.8463\n",
      "625/625 [==============================] - 2s 3ms/step\n",
      "1250/1250 [==============================] - 6s 4ms/step - loss: 0.2870\n",
      "625/625 [==============================] - 2s 3ms/step\n",
      "1250/1250 [==============================] - 6s 4ms/step - loss: 0.2898\n",
      "625/625 [==============================] - 2s 3ms/step\n",
      "1250/1250 [==============================] - 6s 5ms/step - loss: 0.2925\n",
      "625/625 [==============================] - 2s 3ms/step\n",
      "1250/1250 [==============================] - 11s 9ms/step - loss: 0.4043\n",
      "625/625 [==============================] - 2s 3ms/step\n",
      "1250/1250 [==============================] - 12s 9ms/step - loss: 0.4053\n",
      "625/625 [==============================] - 2s 3ms/step\n",
      "1250/1250 [==============================] - 12s 9ms/step - loss: 0.4065\n",
      "625/625 [==============================] - 2s 3ms/step\n",
      "1250/1250 [==============================] - 12s 9ms/step - loss: 0.2196\n",
      "625/625 [==============================] - 2s 3ms/step\n",
      "1250/1250 [==============================] - 12s 9ms/step - loss: 0.2140\n",
      "625/625 [==============================] - 2s 3ms/step\n",
      "1250/1250 [==============================] - 12s 9ms/step - loss: 0.2138\n",
      "625/625 [==============================] - 2s 3ms/step\n",
      "1250/1250 [==============================] - 11s 9ms/step - loss: 2.9465\n",
      "625/625 [==============================] - 2s 3ms/step\n",
      "1250/1250 [==============================] - 12s 9ms/step - loss: 3.2074\n",
      "625/625 [==============================] - 2s 3ms/step\n",
      "1250/1250 [==============================] - 12s 9ms/step - loss: 3.1305\n",
      "625/625 [==============================] - 2s 3ms/step\n",
      "1250/1250 [==============================] - 6s 5ms/step - loss: 2.2867\n",
      "625/625 [==============================] - 2s 3ms/step\n",
      "1250/1250 [==============================] - 6s 5ms/step - loss: 2.2561\n",
      "625/625 [==============================] - 2s 3ms/step\n",
      "1250/1250 [==============================] - 6s 5ms/step - loss: 2.2696\n",
      "625/625 [==============================] - 2s 3ms/step\n",
      "1250/1250 [==============================] - 6s 5ms/step - loss: 1.7839\n",
      "625/625 [==============================] - 2s 3ms/step\n",
      "1250/1250 [==============================] - 6s 5ms/step - loss: 1.7669\n",
      "625/625 [==============================] - 2s 3ms/step\n",
      "1250/1250 [==============================] - 6s 5ms/step - loss: 1.7816\n",
      "625/625 [==============================] - 2s 3ms/step\n",
      "1250/1250 [==============================] - 6s 5ms/step - loss: 0.2909\n",
      "625/625 [==============================] - 2s 3ms/step\n",
      "1250/1250 [==============================] - 6s 5ms/step - loss: 0.2837\n",
      "625/625 [==============================] - 2s 3ms/step\n",
      "1250/1250 [==============================] - 6s 5ms/step - loss: 0.2873\n",
      "625/625 [==============================] - 2s 3ms/step\n",
      "0.9620000000000001 {'hidden_layer_dim': 50, 'loss': 'sparse_categorical_crossentropy', 'optimizer': 'adam', 'optimizer__learning_rate': 0.001}\n"
     ]
    }
   ],
   "source": [
    "from sklearn.model_selection import GridSearchCV\n",
    "\n",
    "\n",
    "params = {\n",
    "    \"hidden_layer_dim\": [50, 100, 200],\n",
    "    \"loss\": [\"sparse_categorical_crossentropy\"],\n",
    "    \"optimizer\": [\"adam\", \"sgd\"],\n",
    "    \"optimizer__learning_rate\": [0.0001, 0.001, 0.1],\n",
    "}\n",
    "gs = GridSearchCV(clf, params, refit=False, cv=3, scoring='accuracy')\n",
    "\n",
    "gs.fit(x_train, y_train)\n",
    "print(gs.best_score_, gs.best_params_)"
   ]
  },
  {
   "cell_type": "code",
   "execution_count": 34,
   "metadata": {},
   "outputs": [
    {
     "name": "stdout",
     "output_type": "stream",
     "text": [
      "Epoch 1/10\n",
      "1875/1875 [==============================] - 6s 3ms/step - loss: 0.2988 - accuracy: 0.9145\n",
      "Epoch 2/10\n",
      "1875/1875 [==============================] - 5s 3ms/step - loss: 0.1377 - accuracy: 0.9589\n",
      "Epoch 3/10\n",
      "1875/1875 [==============================] - 5s 3ms/step - loss: 0.1035 - accuracy: 0.9688\n",
      "Epoch 4/10\n",
      "1875/1875 [==============================] - 5s 3ms/step - loss: 0.0840 - accuracy: 0.9747\n",
      "Epoch 5/10\n",
      "1875/1875 [==============================] - 5s 3ms/step - loss: 0.0715 - accuracy: 0.9783\n",
      "Epoch 6/10\n",
      "1875/1875 [==============================] - 5s 3ms/step - loss: 0.0601 - accuracy: 0.9811\n",
      "Epoch 7/10\n",
      "1875/1875 [==============================] - 5s 3ms/step - loss: 0.0523 - accuracy: 0.9829\n",
      "Epoch 8/10\n",
      "1875/1875 [==============================] - 5s 3ms/step - loss: 0.0465 - accuracy: 0.9847\n",
      "Epoch 9/10\n",
      "1875/1875 [==============================] - 5s 3ms/step - loss: 0.0407 - accuracy: 0.9864\n",
      "Epoch 10/10\n",
      "1875/1875 [==============================] - 5s 3ms/step - loss: 0.0363 - accuracy: 0.9880\n"
     ]
    },
    {
     "data": {
      "text/plain": [
       "<keras.src.callbacks.History at 0x7f8b63322640>"
      ]
     },
     "execution_count": 34,
     "metadata": {},
     "output_type": "execute_result"
    }
   ],
   "source": [
    "from tensorflow.keras import layers, models, optimizers, losses\n",
    "model_optimum = keras.models.Sequential()\n",
    "model_optimum.add(keras.layers.Dense(50, input_shape=x_train.shape[1:]))\n",
    "model_optimum.add(keras.layers.Activation(\"relu\"))\n",
    "model_optimum.add(keras.layers.Dense(50))\n",
    "model_optimum.add(keras.layers.Activation(\"relu\"))\n",
    "model_optimum.add(keras.layers.Dense(10))\n",
    "model_optimum.add(keras.layers.Activation(\"softmax\"))\n",
    "\n",
    "model_optimum.compile(optimizer=optimizers.Adam(learning_rate=0.001),\n",
    "              loss=losses.SparseCategoricalCrossentropy(),\n",
    "              metrics=['accuracy'])\n",
    "model_optimum.fit(x_train, y_train, epochs=10, batch_size=32)"
   ]
  },
  {
   "cell_type": "code",
   "execution_count": 36,
   "metadata": {},
   "outputs": [
    {
     "name": "stdout",
     "output_type": "stream",
     "text": [
      "313/313 [==============================] - 1s 2ms/step - loss: 0.0976 - accuracy: 0.9733\n",
      "Accuracy on the test set: 97.33%\n"
     ]
    }
   ],
   "source": [
    "test_loss, test_acc = model_optimum.evaluate(x_test, y_test)\n",
    "print(f\"Accuracy on the test set: {test_acc * 100:.2f}%\")"
   ]
  },
  {
   "cell_type": "code",
   "execution_count": 37,
   "metadata": {},
   "outputs": [
    {
     "name": "stdout",
     "output_type": "stream",
     "text": [
      "209/209 [==============================] - 2s 10ms/step - loss: 0.9040\n",
      "105/105 [==============================] - 0s 3ms/step\n",
      "209/209 [==============================] - 2s 9ms/step - loss: 0.9461\n",
      "105/105 [==============================] - 0s 3ms/step\n",
      "209/209 [==============================] - 2s 9ms/step - loss: 0.9764\n",
      "105/105 [==============================] - 0s 3ms/step\n",
      "209/209 [==============================] - 2s 8ms/step - loss: 1.0114\n",
      "105/105 [==============================] - 0s 3ms/step\n",
      "209/209 [==============================] - 2s 8ms/step - loss: 1.0734\n",
      "105/105 [==============================] - 0s 3ms/step\n",
      "209/209 [==============================] - 2s 8ms/step - loss: 1.1759\n",
      "105/105 [==============================] - 0s 3ms/step\n",
      "209/209 [==============================] - 2s 8ms/step - loss: 0.4003\n",
      "105/105 [==============================] - 0s 3ms/step\n",
      "209/209 [==============================] - 2s 8ms/step - loss: 0.4835\n",
      "105/105 [==============================] - 0s 3ms/step\n",
      "209/209 [==============================] - 2s 8ms/step - loss: 0.4929\n",
      "105/105 [==============================] - 0s 3ms/step\n",
      "209/209 [==============================] - 2s 9ms/step - loss: 6.5865\n",
      "105/105 [==============================] - 0s 3ms/step\n",
      "209/209 [==============================] - 2s 7ms/step - loss: 7.5749\n",
      "105/105 [==============================] - 0s 3ms/step\n",
      "209/209 [==============================] - 2s 7ms/step - loss: 6.3242\n",
      "105/105 [==============================] - 0s 2ms/step\n",
      "209/209 [==============================] - 1s 4ms/step - loss: 2.2891\n",
      "105/105 [==============================] - 0s 3ms/step\n",
      "209/209 [==============================] - 1s 4ms/step - loss: 2.2276\n",
      "105/105 [==============================] - 0s 3ms/step\n",
      "209/209 [==============================] - 1s 4ms/step - loss: 2.2361\n",
      "105/105 [==============================] - 0s 2ms/step\n",
      "209/209 [==============================] - 1s 4ms/step - loss: 0.5335\n",
      "105/105 [==============================] - 0s 3ms/step\n",
      "209/209 [==============================] - 1s 4ms/step - loss: 0.5854\n",
      "105/105 [==============================] - 0s 3ms/step\n",
      "209/209 [==============================] - 1s 4ms/step - loss: 0.6386\n",
      "105/105 [==============================] - 0s 2ms/step\n",
      "209/209 [==============================] - 1s 4ms/step - loss: 0.5511\n",
      "105/105 [==============================] - 0s 2ms/step\n",
      "209/209 [==============================] - 1s 4ms/step - loss: 0.5926\n",
      "105/105 [==============================] - 0s 2ms/step\n",
      "209/209 [==============================] - 1s 4ms/step - loss: 0.6366\n",
      "105/105 [==============================] - 0s 2ms/step\n",
      "209/209 [==============================] - 2s 8ms/step - loss: 0.4077\n",
      "105/105 [==============================] - 0s 2ms/step\n",
      "209/209 [==============================] - 2s 8ms/step - loss: 0.4534\n",
      "105/105 [==============================] - 0s 3ms/step\n",
      "209/209 [==============================] - 2s 8ms/step - loss: 0.4847\n",
      "105/105 [==============================] - 0s 2ms/step\n",
      "209/209 [==============================] - 1s 5ms/step - loss: 0.5355\n",
      "105/105 [==============================] - 0s 3ms/step\n",
      "209/209 [==============================] - 1s 5ms/step - loss: 0.5761\n",
      "105/105 [==============================] - 0s 3ms/step\n",
      "209/209 [==============================] - 1s 5ms/step - loss: 0.6152\n",
      "105/105 [==============================] - 0s 3ms/step\n",
      "209/209 [==============================] - 1s 4ms/step - loss: 2.3025\n",
      "105/105 [==============================] - 0s 3ms/step\n",
      "209/209 [==============================] - 1s 4ms/step - loss: 2.3520\n",
      "105/105 [==============================] - 0s 3ms/step\n",
      "209/209 [==============================] - 1s 4ms/step - loss: 2.3179\n",
      "105/105 [==============================] - 0s 3ms/step\n",
      "0.9094014080472235 {'optimizer__learning_rate': 0.001, 'optimizer': 'adam', 'loss': 'sparse_categorical_crossentropy', 'hidden_layer_dim': 100}\n"
     ]
    }
   ],
   "source": [
    "from sklearn.model_selection import RandomizedSearchCV\n",
    "\n",
    "params = {\n",
    "    \"hidden_layer_dim\": [50, 100, 200],\n",
    "    \"loss\": [\"sparse_categorical_crossentropy\"],\n",
    "    \"optimizer\": [\"adam\", \"sgd\"],\n",
    "    \"optimizer__learning_rate\": [0.0001, 0.001, 0.1],\n",
    "}\n",
    "gs = RandomizedSearchCV(clf, params, refit=False, cv=3, scoring='accuracy')\n",
    "\n",
    "gs.fit(x_test, y_test)\n",
    "print(gs.best_score_, gs.best_params_)"
   ]
  },
  {
   "cell_type": "code",
   "execution_count": 38,
   "metadata": {},
   "outputs": [
    {
     "name": "stdout",
     "output_type": "stream",
     "text": [
      "Epoch 1/10\n",
      "1875/1875 [==============================] - 7s 3ms/step - loss: 0.2933 - accuracy: 0.9152\n",
      "Epoch 2/10\n",
      "1875/1875 [==============================] - 6s 3ms/step - loss: 0.1181 - accuracy: 0.9648\n",
      "Epoch 3/10\n",
      "1875/1875 [==============================] - 6s 3ms/step - loss: 0.0827 - accuracy: 0.9741\n",
      "Epoch 4/10\n",
      "1875/1875 [==============================] - 6s 3ms/step - loss: 0.0617 - accuracy: 0.9810\n",
      "Epoch 5/10\n",
      "1875/1875 [==============================] - 6s 3ms/step - loss: 0.0488 - accuracy: 0.9843\n",
      "Epoch 6/10\n",
      "1875/1875 [==============================] - 6s 3ms/step - loss: 0.0378 - accuracy: 0.9879\n",
      "Epoch 7/10\n",
      "1875/1875 [==============================] - 6s 3ms/step - loss: 0.0343 - accuracy: 0.9882\n",
      "Epoch 8/10\n",
      "1875/1875 [==============================] - 6s 3ms/step - loss: 0.0279 - accuracy: 0.9913\n",
      "Epoch 9/10\n",
      "1875/1875 [==============================] - 6s 3ms/step - loss: 0.0238 - accuracy: 0.9922\n",
      "Epoch 10/10\n",
      "1875/1875 [==============================] - 6s 3ms/step - loss: 0.0217 - accuracy: 0.9931\n",
      "313/313 [==============================] - 1s 2ms/step - loss: 0.1017 - accuracy: 0.9770\n",
      "Accuracy on the test set: 97.70%\n"
     ]
    }
   ],
   "source": [
    "from tensorflow.keras import layers, models, optimizers, losses\n",
    "model_optimum = keras.models.Sequential()\n",
    "model_optimum.add(keras.layers.Dense(100, input_shape=x_train.shape[1:]))\n",
    "model_optimum.add(keras.layers.Activation(\"relu\"))\n",
    "model_optimum.add(keras.layers.Dense(100))\n",
    "model_optimum.add(keras.layers.Activation(\"relu\"))\n",
    "model_optimum.add(keras.layers.Dense(100))\n",
    "model_optimum.add(keras.layers.Activation(\"softmax\"))\n",
    "\n",
    "model_optimum.compile(optimizer=optimizers.Adam(learning_rate=0.001),\n",
    "              loss=losses.SparseCategoricalCrossentropy(),\n",
    "              metrics=['accuracy'])\n",
    "model_optimum.fit(x_train, y_train, epochs=10, batch_size=32)\n",
    "test_loss, test_acc = model_optimum.evaluate(x_test, y_test)\n",
    "print(f\"Accuracy on the test set: {test_acc * 100:.2f}%\")"
   ]
  },
  {
   "cell_type": "code",
   "execution_count": 1,
   "metadata": {},
   "outputs": [
    {
     "name": "stderr",
     "output_type": "stream",
     "text": [
      "2023-09-03 23:50:42.797748: I tensorflow/tsl/cuda/cudart_stub.cc:28] Could not find cuda drivers on your machine, GPU will not be used.\n",
      "2023-09-03 23:50:42.848201: I tensorflow/tsl/cuda/cudart_stub.cc:28] Could not find cuda drivers on your machine, GPU will not be used.\n",
      "2023-09-03 23:50:42.848993: I tensorflow/core/platform/cpu_feature_guard.cc:182] This TensorFlow binary is optimized to use available CPU instructions in performance-critical operations.\n",
      "To enable the following instructions: AVX2 FMA, in other operations, rebuild TensorFlow with the appropriate compiler flags.\n",
      "2023-09-03 23:50:43.807704: W tensorflow/compiler/tf2tensorrt/utils/py_utils.cc:38] TF-TRT Warning: Could not find TensorRT\n"
     ]
    },
    {
     "ename": "ModuleNotFoundError",
     "evalue": "No module named 'bayes_opt'",
     "output_type": "error",
     "traceback": [
      "\u001b[0;31m---------------------------------------------------------------------------\u001b[0m",
      "\u001b[0;31mModuleNotFoundError\u001b[0m                       Traceback (most recent call last)",
      "Cell \u001b[0;32mIn[1], line 5\u001b[0m\n\u001b[1;32m      3\u001b[0m \u001b[39mfrom\u001b[39;00m \u001b[39mtensorflow\u001b[39;00m\u001b[39m.\u001b[39;00m\u001b[39mkeras\u001b[39;00m\u001b[39m.\u001b[39;00m\u001b[39mdatasets\u001b[39;00m \u001b[39mimport\u001b[39;00m cifar10\n\u001b[1;32m      4\u001b[0m \u001b[39mfrom\u001b[39;00m \u001b[39mtensorflow\u001b[39;00m\u001b[39m.\u001b[39;00m\u001b[39mkeras\u001b[39;00m\u001b[39m.\u001b[39;00m\u001b[39mlayers\u001b[39;00m \u001b[39mimport\u001b[39;00m Conv2D, MaxPooling2D, Flatten, Dense\n\u001b[0;32m----> 5\u001b[0m \u001b[39mfrom\u001b[39;00m \u001b[39mbayes_opt\u001b[39;00m \u001b[39mimport\u001b[39;00m BayesianOptimization\n\u001b[1;32m      7\u001b[0m \u001b[39m# Определение функции для оптимизации\u001b[39;00m\n\u001b[1;32m      8\u001b[0m \u001b[39mdef\u001b[39;00m \u001b[39mkeras_cnn\u001b[39m(learning_rate, conv_1_filter, conv_1_kernel,\n\u001b[1;32m      9\u001b[0m               num_conv_layers, dense_units):\n",
      "\u001b[0;31mModuleNotFoundError\u001b[0m: No module named 'bayes_opt'"
     ]
    }
   ],
   "source": [
    "import numpy as np\n",
    "import tensorflow as tf\n",
    "from tensorflow.keras.datasets import cifar10\n",
    "from tensorflow.keras.layers import Conv2D, MaxPooling2D, Flatten, Dense\n",
    "from bayes_opt import BayesianOptimization\n",
    "\n",
    "# Определение функции для оптимизации\n",
    "def keras_cnn(learning_rate, conv_1_filter, conv_1_kernel,\n",
    "              num_conv_layers, dense_units):\n",
    "    model = tf.keras.Sequential()\n",
    "    model.add(Conv2D(filters=int(conv_1_filter), kernel_size=int(conv_1_kernel),\n",
    "                     activation='relu', input_shape=(32, 32, 3)))\n",
    "    model.add(MaxPooling2D(pool_size=(2, 2)))\n",
    "    for i in range(int(num_conv_layers)):\n",
    "        model.add(Conv2D(filters=32, kernel_size=3, activation='relu'))\n",
    "        model.add(MaxPooling2D(pool_size=(2, 2)))\n",
    "    model.add(Flatten())\n",
    "    model.add(Dense(units=int(dense_units), activation='relu'))\n",
    "    model.add(Dense(10, activation='softmax'))\n",
    "\n",
    "    model.compile(optimizer=tf.keras.optimizers.Adam(learning_rate),\n",
    "                  loss='sparse_categorical_crossentropy',\n",
    "                  metrics=['accuracy'])\n",
    "\n",
    "    history = model.fit(x_train, y_train, epochs=5, validation_split=0.1, verbose=0)\n",
    "    val_accuracy = history.history['val_accuracy'][-1]\n",
    "    return val_accuracy\n",
    "\n",
    "# Определение диапазонов гиперпараметров для оптимизации\n",
    "pbounds = {'learning_rate': (1e-4, 1e-2),\n",
    "           'conv_1_filter': (32, 128),\n",
    "           'conv_1_kernel': (3, 5),\n",
    "           'num_conv_layers': (1, 3),\n",
    "           'dense_units': (32, 512)}\n",
    "\n",
    "# Создание объекта BayesianOptimization\n",
    "optimizer = BayesianOptimization(f=keras_cnn, pbounds=pbounds, verbose=2, random_state=1)\n",
    "\n",
    "# Запуск оптимизации\n",
    "optimizer.maximize(init_points=5, n_iter=10)\n",
    "\n",
    "# Вывод результатов оптимизации\n",
    "print(\"Best parameters:\", optimizer.max['params'])\n",
    "print(\"Best validation accuracy:\", optimizer.max['target'])"
   ]
  },
  {
   "cell_type": "code",
   "execution_count": 19,
   "metadata": {},
   "outputs": [
    {
     "data": {
      "text/plain": [
       "(60000, 784)"
      ]
     },
     "execution_count": 19,
     "metadata": {},
     "output_type": "execute_result"
    }
   ],
   "source": [
    "x_train.shape"
   ]
  },
  {
   "cell_type": "code",
   "execution_count": null,
   "metadata": {},
   "outputs": [],
   "source": []
  }
 ],
 "metadata": {
  "kernelspec": {
   "display_name": "Python 3",
   "language": "python",
   "name": "python3"
  },
  "language_info": {
   "codemirror_mode": {
    "name": "ipython",
    "version": 3
   },
   "file_extension": ".py",
   "mimetype": "text/x-python",
   "name": "python",
   "nbconvert_exporter": "python",
   "pygments_lexer": "ipython3",
   "version": "3.8.10"
  },
  "orig_nbformat": 4
 },
 "nbformat": 4,
 "nbformat_minor": 2
}
