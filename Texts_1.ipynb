{
 "cells": [
  {
   "cell_type": "code",
   "execution_count": 2,
   "id": "d4a3d25b-834b-4655-be2e-a0c649a5db90",
   "metadata": {},
   "outputs": [
    {
     "name": "stdout",
     "output_type": "stream",
     "text": [
      "Requirement already satisfied: gensim in /home/gea/anaconda3/lib/python3.11/site-packages (4.3.0)\n",
      "Requirement already satisfied: nltk in /home/gea/anaconda3/lib/python3.11/site-packages (3.8.1)\n",
      "Requirement already satisfied: spacy in /home/gea/anaconda3/lib/python3.11/site-packages (3.7.2)\n",
      "Requirement already satisfied: numpy>=1.18.5 in /home/gea/anaconda3/lib/python3.11/site-packages (from gensim) (1.24.3)\n",
      "Requirement already satisfied: scipy>=1.7.0 in /home/gea/anaconda3/lib/python3.11/site-packages (from gensim) (1.11.1)\n",
      "Requirement already satisfied: smart-open>=1.8.1 in /home/gea/anaconda3/lib/python3.11/site-packages (from gensim) (5.2.1)\n",
      "Requirement already satisfied: FuzzyTM>=0.4.0 in /home/gea/anaconda3/lib/python3.11/site-packages (from gensim) (2.0.5)\n",
      "Requirement already satisfied: click in /home/gea/anaconda3/lib/python3.11/site-packages (from nltk) (8.0.4)\n",
      "Requirement already satisfied: joblib in /home/gea/anaconda3/lib/python3.11/site-packages (from nltk) (1.2.0)\n",
      "Requirement already satisfied: regex>=2021.8.3 in /home/gea/anaconda3/lib/python3.11/site-packages (from nltk) (2022.7.9)\n",
      "Requirement already satisfied: tqdm in /home/gea/anaconda3/lib/python3.11/site-packages (from nltk) (4.65.0)\n",
      "Requirement already satisfied: spacy-legacy<3.1.0,>=3.0.11 in /home/gea/anaconda3/lib/python3.11/site-packages (from spacy) (3.0.12)\n",
      "Requirement already satisfied: spacy-loggers<2.0.0,>=1.0.0 in /home/gea/anaconda3/lib/python3.11/site-packages (from spacy) (1.0.5)\n",
      "Requirement already satisfied: murmurhash<1.1.0,>=0.28.0 in /home/gea/anaconda3/lib/python3.11/site-packages (from spacy) (1.0.10)\n",
      "Requirement already satisfied: cymem<2.1.0,>=2.0.2 in /home/gea/anaconda3/lib/python3.11/site-packages (from spacy) (2.0.8)\n",
      "Requirement already satisfied: preshed<3.1.0,>=3.0.2 in /home/gea/anaconda3/lib/python3.11/site-packages (from spacy) (3.0.9)\n",
      "Requirement already satisfied: thinc<8.3.0,>=8.1.8 in /home/gea/anaconda3/lib/python3.11/site-packages (from spacy) (8.2.1)\n",
      "Requirement already satisfied: wasabi<1.2.0,>=0.9.1 in /home/gea/anaconda3/lib/python3.11/site-packages (from spacy) (1.1.2)\n",
      "Requirement already satisfied: srsly<3.0.0,>=2.4.3 in /home/gea/anaconda3/lib/python3.11/site-packages (from spacy) (2.4.8)\n",
      "Requirement already satisfied: catalogue<2.1.0,>=2.0.6 in /home/gea/anaconda3/lib/python3.11/site-packages (from spacy) (2.0.10)\n",
      "Requirement already satisfied: weasel<0.4.0,>=0.1.0 in /home/gea/anaconda3/lib/python3.11/site-packages (from spacy) (0.3.4)\n",
      "Requirement already satisfied: typer<0.10.0,>=0.3.0 in /home/gea/anaconda3/lib/python3.11/site-packages (from spacy) (0.9.0)\n",
      "Requirement already satisfied: requests<3.0.0,>=2.13.0 in /home/gea/anaconda3/lib/python3.11/site-packages (from spacy) (2.31.0)\n",
      "Requirement already satisfied: pydantic!=1.8,!=1.8.1,<3.0.0,>=1.7.4 in /home/gea/anaconda3/lib/python3.11/site-packages (from spacy) (1.10.8)\n",
      "Requirement already satisfied: jinja2 in /home/gea/anaconda3/lib/python3.11/site-packages (from spacy) (3.1.2)\n",
      "Requirement already satisfied: setuptools in /home/gea/anaconda3/lib/python3.11/site-packages (from spacy) (68.0.0)\n",
      "Requirement already satisfied: packaging>=20.0 in /home/gea/anaconda3/lib/python3.11/site-packages (from spacy) (23.1)\n",
      "Requirement already satisfied: langcodes<4.0.0,>=3.2.0 in /home/gea/anaconda3/lib/python3.11/site-packages (from spacy) (3.3.0)\n",
      "Requirement already satisfied: pandas in /home/gea/anaconda3/lib/python3.11/site-packages (from FuzzyTM>=0.4.0->gensim) (2.0.3)\n",
      "Requirement already satisfied: pyfume in /home/gea/anaconda3/lib/python3.11/site-packages (from FuzzyTM>=0.4.0->gensim) (0.2.25)\n",
      "Requirement already satisfied: typing-extensions>=4.2.0 in /home/gea/anaconda3/lib/python3.11/site-packages (from pydantic!=1.8,!=1.8.1,<3.0.0,>=1.7.4->spacy) (4.7.1)\n",
      "Requirement already satisfied: charset-normalizer<4,>=2 in /home/gea/anaconda3/lib/python3.11/site-packages (from requests<3.0.0,>=2.13.0->spacy) (2.0.4)\n",
      "Requirement already satisfied: idna<4,>=2.5 in /home/gea/anaconda3/lib/python3.11/site-packages (from requests<3.0.0,>=2.13.0->spacy) (3.4)\n",
      "Requirement already satisfied: urllib3<3,>=1.21.1 in /home/gea/anaconda3/lib/python3.11/site-packages (from requests<3.0.0,>=2.13.0->spacy) (1.26.16)\n",
      "Requirement already satisfied: certifi>=2017.4.17 in /home/gea/anaconda3/lib/python3.11/site-packages (from requests<3.0.0,>=2.13.0->spacy) (2023.7.22)\n",
      "Requirement already satisfied: blis<0.8.0,>=0.7.8 in /home/gea/anaconda3/lib/python3.11/site-packages (from thinc<8.3.0,>=8.1.8->spacy) (0.7.11)\n",
      "Requirement already satisfied: confection<1.0.0,>=0.0.1 in /home/gea/anaconda3/lib/python3.11/site-packages (from thinc<8.3.0,>=8.1.8->spacy) (0.1.3)\n",
      "Requirement already satisfied: cloudpathlib<0.17.0,>=0.7.0 in /home/gea/anaconda3/lib/python3.11/site-packages (from weasel<0.4.0,>=0.1.0->spacy) (0.16.0)\n",
      "Requirement already satisfied: MarkupSafe>=2.0 in /home/gea/anaconda3/lib/python3.11/site-packages (from jinja2->spacy) (2.1.1)\n",
      "Requirement already satisfied: python-dateutil>=2.8.2 in /home/gea/anaconda3/lib/python3.11/site-packages (from pandas->FuzzyTM>=0.4.0->gensim) (2.8.2)\n",
      "Requirement already satisfied: pytz>=2020.1 in /home/gea/anaconda3/lib/python3.11/site-packages (from pandas->FuzzyTM>=0.4.0->gensim) (2023.3.post1)\n",
      "Requirement already satisfied: tzdata>=2022.1 in /home/gea/anaconda3/lib/python3.11/site-packages (from pandas->FuzzyTM>=0.4.0->gensim) (2023.3)\n",
      "Requirement already satisfied: simpful in /home/gea/anaconda3/lib/python3.11/site-packages (from pyfume->FuzzyTM>=0.4.0->gensim) (2.11.0)\n",
      "Requirement already satisfied: fst-pso in /home/gea/anaconda3/lib/python3.11/site-packages (from pyfume->FuzzyTM>=0.4.0->gensim) (1.8.1)\n",
      "Requirement already satisfied: six>=1.5 in /home/gea/anaconda3/lib/python3.11/site-packages (from python-dateutil>=2.8.2->pandas->FuzzyTM>=0.4.0->gensim) (1.16.0)\n",
      "Requirement already satisfied: miniful in /home/gea/anaconda3/lib/python3.11/site-packages (from fst-pso->pyfume->FuzzyTM>=0.4.0->gensim) (0.0.6)\n",
      "Collecting en-core-web-md==3.7.0\n",
      "  Using cached https://github.com/explosion/spacy-models/releases/download/en_core_web_md-3.7.0/en_core_web_md-3.7.0-py3-none-any.whl (42.8 MB)\n",
      "Requirement already satisfied: spacy<3.8.0,>=3.7.0 in /home/gea/anaconda3/lib/python3.11/site-packages (from en-core-web-md==3.7.0) (3.7.2)\n",
      "Requirement already satisfied: spacy-legacy<3.1.0,>=3.0.11 in /home/gea/anaconda3/lib/python3.11/site-packages (from spacy<3.8.0,>=3.7.0->en-core-web-md==3.7.0) (3.0.12)\n",
      "Requirement already satisfied: spacy-loggers<2.0.0,>=1.0.0 in /home/gea/anaconda3/lib/python3.11/site-packages (from spacy<3.8.0,>=3.7.0->en-core-web-md==3.7.0) (1.0.5)\n",
      "Requirement already satisfied: murmurhash<1.1.0,>=0.28.0 in /home/gea/anaconda3/lib/python3.11/site-packages (from spacy<3.8.0,>=3.7.0->en-core-web-md==3.7.0) (1.0.10)\n",
      "Requirement already satisfied: cymem<2.1.0,>=2.0.2 in /home/gea/anaconda3/lib/python3.11/site-packages (from spacy<3.8.0,>=3.7.0->en-core-web-md==3.7.0) (2.0.8)\n",
      "Requirement already satisfied: preshed<3.1.0,>=3.0.2 in /home/gea/anaconda3/lib/python3.11/site-packages (from spacy<3.8.0,>=3.7.0->en-core-web-md==3.7.0) (3.0.9)\n",
      "Requirement already satisfied: thinc<8.3.0,>=8.1.8 in /home/gea/anaconda3/lib/python3.11/site-packages (from spacy<3.8.0,>=3.7.0->en-core-web-md==3.7.0) (8.2.1)\n",
      "Requirement already satisfied: wasabi<1.2.0,>=0.9.1 in /home/gea/anaconda3/lib/python3.11/site-packages (from spacy<3.8.0,>=3.7.0->en-core-web-md==3.7.0) (1.1.2)\n",
      "Requirement already satisfied: srsly<3.0.0,>=2.4.3 in /home/gea/anaconda3/lib/python3.11/site-packages (from spacy<3.8.0,>=3.7.0->en-core-web-md==3.7.0) (2.4.8)\n",
      "Requirement already satisfied: catalogue<2.1.0,>=2.0.6 in /home/gea/anaconda3/lib/python3.11/site-packages (from spacy<3.8.0,>=3.7.0->en-core-web-md==3.7.0) (2.0.10)\n",
      "Requirement already satisfied: weasel<0.4.0,>=0.1.0 in /home/gea/anaconda3/lib/python3.11/site-packages (from spacy<3.8.0,>=3.7.0->en-core-web-md==3.7.0) (0.3.4)\n",
      "Requirement already satisfied: typer<0.10.0,>=0.3.0 in /home/gea/anaconda3/lib/python3.11/site-packages (from spacy<3.8.0,>=3.7.0->en-core-web-md==3.7.0) (0.9.0)\n",
      "Requirement already satisfied: smart-open<7.0.0,>=5.2.1 in /home/gea/anaconda3/lib/python3.11/site-packages (from spacy<3.8.0,>=3.7.0->en-core-web-md==3.7.0) (5.2.1)\n",
      "Requirement already satisfied: tqdm<5.0.0,>=4.38.0 in /home/gea/anaconda3/lib/python3.11/site-packages (from spacy<3.8.0,>=3.7.0->en-core-web-md==3.7.0) (4.65.0)\n",
      "Requirement already satisfied: requests<3.0.0,>=2.13.0 in /home/gea/anaconda3/lib/python3.11/site-packages (from spacy<3.8.0,>=3.7.0->en-core-web-md==3.7.0) (2.31.0)\n",
      "Requirement already satisfied: pydantic!=1.8,!=1.8.1,<3.0.0,>=1.7.4 in /home/gea/anaconda3/lib/python3.11/site-packages (from spacy<3.8.0,>=3.7.0->en-core-web-md==3.7.0) (1.10.8)\n",
      "Requirement already satisfied: jinja2 in /home/gea/anaconda3/lib/python3.11/site-packages (from spacy<3.8.0,>=3.7.0->en-core-web-md==3.7.0) (3.1.2)\n",
      "Requirement already satisfied: setuptools in /home/gea/anaconda3/lib/python3.11/site-packages (from spacy<3.8.0,>=3.7.0->en-core-web-md==3.7.0) (68.0.0)\n",
      "Requirement already satisfied: packaging>=20.0 in /home/gea/anaconda3/lib/python3.11/site-packages (from spacy<3.8.0,>=3.7.0->en-core-web-md==3.7.0) (23.1)\n",
      "Requirement already satisfied: langcodes<4.0.0,>=3.2.0 in /home/gea/anaconda3/lib/python3.11/site-packages (from spacy<3.8.0,>=3.7.0->en-core-web-md==3.7.0) (3.3.0)\n",
      "Requirement already satisfied: numpy>=1.19.0 in /home/gea/anaconda3/lib/python3.11/site-packages (from spacy<3.8.0,>=3.7.0->en-core-web-md==3.7.0) (1.24.3)\n",
      "Requirement already satisfied: typing-extensions>=4.2.0 in /home/gea/anaconda3/lib/python3.11/site-packages (from pydantic!=1.8,!=1.8.1,<3.0.0,>=1.7.4->spacy<3.8.0,>=3.7.0->en-core-web-md==3.7.0) (4.7.1)\n",
      "Requirement already satisfied: charset-normalizer<4,>=2 in /home/gea/anaconda3/lib/python3.11/site-packages (from requests<3.0.0,>=2.13.0->spacy<3.8.0,>=3.7.0->en-core-web-md==3.7.0) (2.0.4)\n",
      "Requirement already satisfied: idna<4,>=2.5 in /home/gea/anaconda3/lib/python3.11/site-packages (from requests<3.0.0,>=2.13.0->spacy<3.8.0,>=3.7.0->en-core-web-md==3.7.0) (3.4)\n",
      "Requirement already satisfied: urllib3<3,>=1.21.1 in /home/gea/anaconda3/lib/python3.11/site-packages (from requests<3.0.0,>=2.13.0->spacy<3.8.0,>=3.7.0->en-core-web-md==3.7.0) (1.26.16)\n",
      "Requirement already satisfied: certifi>=2017.4.17 in /home/gea/anaconda3/lib/python3.11/site-packages (from requests<3.0.0,>=2.13.0->spacy<3.8.0,>=3.7.0->en-core-web-md==3.7.0) (2023.7.22)\n",
      "Requirement already satisfied: blis<0.8.0,>=0.7.8 in /home/gea/anaconda3/lib/python3.11/site-packages (from thinc<8.3.0,>=8.1.8->spacy<3.8.0,>=3.7.0->en-core-web-md==3.7.0) (0.7.11)\n",
      "Requirement already satisfied: confection<1.0.0,>=0.0.1 in /home/gea/anaconda3/lib/python3.11/site-packages (from thinc<8.3.0,>=8.1.8->spacy<3.8.0,>=3.7.0->en-core-web-md==3.7.0) (0.1.3)\n",
      "Requirement already satisfied: click<9.0.0,>=7.1.1 in /home/gea/anaconda3/lib/python3.11/site-packages (from typer<0.10.0,>=0.3.0->spacy<3.8.0,>=3.7.0->en-core-web-md==3.7.0) (8.0.4)\n",
      "Requirement already satisfied: cloudpathlib<0.17.0,>=0.7.0 in /home/gea/anaconda3/lib/python3.11/site-packages (from weasel<0.4.0,>=0.1.0->spacy<3.8.0,>=3.7.0->en-core-web-md==3.7.0) (0.16.0)\n",
      "Requirement already satisfied: MarkupSafe>=2.0 in /home/gea/anaconda3/lib/python3.11/site-packages (from jinja2->spacy<3.8.0,>=3.7.0->en-core-web-md==3.7.0) (2.1.1)\n",
      "\u001b[38;5;2m✔ Download and installation successful\u001b[0m\n",
      "You can now load the package via spacy.load('en_core_web_md')\n"
     ]
    }
   ],
   "source": [
    "!pip install gensim nltk spacy\n",
    "!python -m spacy download en_core_web_md"
   ]
  },
  {
   "cell_type": "code",
   "execution_count": 11,
   "id": "f122552f-d5f9-4801-a4f4-5ff2c11582bb",
   "metadata": {},
   "outputs": [],
   "source": [
    "import nltk\n",
    "from nltk.corpus import stopwords\n",
    "from nltk.tokenize import word_tokenize\n",
    "from nltk.stem import WordNetLemmatizer\n",
    "import pandas as pd\n"
   ]
  },
  {
   "cell_type": "code",
   "execution_count": 12,
   "metadata": {},
   "outputs": [
    {
     "data": {
      "text/plain": [
       "'1. Enlightenment is man\\'s emergence from his self-imposed immaturity.[2] Immaturity is the inability to use one\\'s understanding without guidance from another. This immaturity is self-imposed when its cause lies not in lack of understanding, but in lack of resolve and courage to use it without guidance from another. Sapere Aude![3] \"Have courage to use your own understanding!\"--that is the motto of enlightenment.\\n2. Laziness and cowardice are the reasons why so great a proportion of men, long after nature has released them from alien guidance (natura-liter maiorennes),[4] nonetheless gladly remain in lifelong immaturity, and why it is so easy for others to establish themselves as their guardians. It is so easy to be immature. If I have a book to serve as my understanding, a pastor to serve as my conscience, a physician to determine my diet for me, and so on, I need not exert myself at all. I need not think, if only I can pay: others will readily undertake the irksome work for me. The guardians who have so benevolently taken over the supervision of men have carefully seen to it that the far greatest part of them (including the entire fair sex) regard taking the step to maturity as very dangerous, not to mention difficult. Having first made their domestic livestock dumb, and having carefully made sure that these docile creatures will not take a single step without the go-cart to which they are harnessed, these guardians then show them the danger that threatens them, should they attempt to walk alone. Now this danger is not actually so great, for after falling a few times they would in the end certainly learn to walk; but an example of this kind makes men timid and usually frightens them out of all further attempts.\\n3. Thus, it is difficult for any individual man to work himself out of the immaturity that has all but become his nature. He has even become fond of this state and for the time being is actually incapable of using his own understanding, for no one has ever allowed him to attempt it. Rules and formulas, those mechanical aids to the rational use, or rather misuse, of his natural gifts, are the shackles of a permanent immaturity. Whoever threw them off would still make only an uncertain leap over the smallest ditch, since he is unaccustomed to this kind of free movement. Consequently, only a few have succeeded, by cultivating their own minds, in freeing themselves from immaturity and pursuing a secure course.\\n4. But that the public should enlighten itself is more likely; indeed, if it is only allowed freedom, enlightenment is almost inevitable. For even among the entrenched guardians of the great masses a few will always think for themselves, a few who, after having themselves thrown off the yoke of immaturity, will spread the spirit of a rational appreciation for both their own worth and for each person\\'s calling to think for himself. But it should be particularly noted that if a public that was first placed in this yoke by the guardians is suitably aroused by some of those who are altogether incapable of enlightenment, it may force the guardians themselves to remain under the yoke-so pernicious is it to instill prejudices, for they finally take revenge upon their originators, or on their descendants. Thus a public can only attain enlightenment slowly. Perhaps a revolution can overthrow autocratic despotism and profiteering or power-grabbing oppression, but it can never truly reform a manner of thinking;[5] instead, new prejudices, just like the old ones they replace, will serve as a leash for the great unthinking mass.\\n5. Nothing is required for this enlightenment, however, except freedom; and the freedom in question is the least harmful of all, namely, the freedom to use reason publicly in all matters. But on all sides I hear: \"Do not argue!\" The officer says, \"Do not argue, drill!\" The tax man says, \"Do not argue, pay!\" The pastor says, \"Do not argue, believe!\" (Only one ruler in the world[6] says, \"Argue as much as you want and about what you want, but obey!\") In this we have [examples of] pervasive restrictions on freedom. But which restriction hinders enlightenment and which does not, but instead actually advances it? I reply: The public use of one\\'s reason must always be free, and it alone can bring about enlightenment among mankind; the private use of reason may, however, often be very narrowly restricted, without otherwise hindering the progress of enlightenment. By the public use of one\\'s own reason I understand the use that anyone as a scholar makes of reason before the entire literate world. I call the private use of reason that which a person may make in a civic post or office that has been entrusted to him.[7] Now in many affairs conducted in the interests of a community, a certain mechanism is required by means of which some of its members must conduct themselves in an entirely passive manner so that through an artificial unanimity the government may guide them toward public ends, or at least prevent them from destroying such ends. Here one certainly must not argue, instead one must obey. However, insofar as this part of the machine also regards himself as a member of the community as a whole, or even of the world community, and as a consequence addresses the public in the role of a scholar, in the proper sense of that term, he can most certainly argue, without thereby harming the affairs for which as a passive member he is partly responsible. Thus it would be disastrous if an officer on duty who was given a command by his superior were to question the appropriateness or utility of the order. He must obey. But as a scholar he cannot be justly constrained from making comments about errors in military service, or from placing them before the public for its judgment. The citizen cannot refuse to pay the taxes imposed on him; indeed, impertinent criticism of such levies, when they should be paid by him, can be punished as a scandal (since it can lead to widespread insubordination). But the same person does not act contrary to civic duty when, as a scholar, he publicly expresses his thoughts regarding the impropriety or even injustice of such taxes. Likewise a pastor is bound to instruct his catecumens and congregation in accordance with the symbol of the church he serves, for he was appointed on that condition. But as a scholar he has complete freedom, indeed even the calling, to impart to the public all of his carefully considered and well-intentioned thoughts concerning mistaken aspects of that symbol,[8] as well as his suggestions for the better arrangement of religious and church matters. Nothing in this can weigh on his conscience. What he teaches in consequence of his office as a servant of the church he sets out as something with regard to which he has no discretion to teach in accord with his own lights; rather, he offers it under the direction and in the name of another. He will say, \"Our church teaches this or that and these are the demonstrations it uses.\" He thereby extracts for his congregation all practical uses from precepts to which he would not himself subscribe with complete conviction, but whose presentation he can nonetheless undertake, since it is not entirely impossible that truth lies hidden in them, and, in any case, nothing contrary to the very nature of religion is to be found in them. If he believed he could find anything of the latter sort in them, he could not in good conscience serve in his position; he would have to resign. Thus an appointed teacher\\'s use of his reason for the sake of his congregation is merely private, because, however large the congregation is, this use is always only domestic; in this regard, as a priest, he is not free and cannot be such because he is acting under instructions from someone else. By contrast, the cleric--as a scholar who speaks through his writings to the public as such, i.e., the world--enjoys in this public use of reason an unrestricted freedom to use his own rational capacities and to speak his own mind. For that the (spiritual) guardians of a people should themselves be immature is an absurdity that would insure the perpetuation of absurdities.\\n6. But would a society of pastors, perhaps a church assembly or venerable presbytery (as those among the Dutch call themselves), not be justified in binding itself by oath to a certain unalterable symbol in order to secure a constant guardianship over each of its members and through them over the people, and this for all time: I say that this is wholly impossible. Such a contract, whose intention is to preclude forever all further enlightenment of the human race, is absolutely null and void, even if it should be ratified by the supreme power, by parliaments, and by the most solemn peace treaties. One age cannot bind itself, and thus conspire, to place a succeeding one in a condition whereby it would be impossible for the later age to expand its knowledge (particularly where it is so very important), to rid itself of errors, and generally to increase its enlightenment. That would be a crime against human nature, whose essential destiny lies precisely in such progress; subsequent generations are thus completely justified in dismissing such agreements as unauthorized and criminal. The criterion of everything that can be agreed upon as a law by a people lies in this question: Can a people impose such a law on itself?[9] Now it might be possible, in anticipation of a better state of affairs, to introduce a provisional order for a specific, short time, all the while giving all citizens, especially clergy, in their role as scholars, the freedom to comment publicly, i.e., in writing, on the present institution\\'s shortcomings. The provisional order might last until insight into the nature of these matters had become so widespread and obvious that the combined (if not unanimous) voices of the populace could propose to the crown that it take under its protection those congregations that, in accord with their newly gained insight, had organized themselves under altered religious institutions, but without interfering with those wishing to allow matters to remain as before. However, it is absolutely forbidden that they unite into a religious organization that nobody may for the duration of a man\\'s lifetime publicly question, for so doing would deny, render fruitless, and make detrimental to succeeding generations an era in man\\'s progress toward improvement. A man may put off enlightenment with regard to what he ought to know, though only for a short time and for his own person; but to renounce it for himself, or, even more, for subsequent generations, is to violate and trample man\\'s divine rights underfoot. And what a people may not decree for itself may still less be imposed on it by a monarch, for his lawgiving authority rests on his unification of the people\\'s collective will in his own. If he only sees to it that all genuine or purported improvement is consonant with civil order, he can allow his subjects to do what they find necessary to their spiritual well-being, which is not his affair. However, he must prevent anyone from forcibly interfering with another\\'s working as best he can to determine and promote his well-being. It detracts from his own majesty when he interferes in these matters, since the writings in which his subjects attempt to clarify their insights lend value to his conception of governance. This holds whether he acts from his own highest insight--whereby he calls upon himself the reproach, \"Caesar non eat supra grammaticos\"[10]-as well as, indeed even more, when he despoils his highest authority by supporting the spiritual despotism of some tyrants in his state over his other subjects.\\n7. If it is now asked, \"Do we presently live in an enlightened age?\" the answer is, \"No, but we do live in an age of enlightenment.\" As matters now stand, a great deal is still lacking in order for men as a whole to be, or even to put themselves into a position to be able without external guidance to apply understanding confidently to religious issues. But we do have clear indications that the way is now being opened for men to proceed freely in this direction and that the obstacles to general enlightenment--to their release from their self-imposed immaturity-are gradually diminishing. In this regard, this age is the age of enlightenment, the century of Frederick.[11]\\n8. A prince who does not find it beneath him to say that he takes it to be his duty to-prescribe nothing, but rather to allow men complete freedom in religious matters-who thereby renounces the arrogant title of tolerance-is himself enlightened and deserves to be praised by a grateful present and by posterity as the first, at least where the government is concerned, to release the human race from immaturity and to leave everyone free to use his own reason in all matters of conscience. Under his rule, venerable pastors, in their role as scholars and without prejudice to their official duties, may freely and openly set out for the world\\'s scrutiny their judgments and views, even where these occasionally differ from the accepted symbol. Still greater freedom is afforded to those who are not restricted by an official post. This spirit of freedom is expanding even where it must struggle against the external obstacles of governments that misunderstand their own function. Such governments are illuminated by the example that the existence of freedom need not give cause for the least concern regarding public order and harmony in the commonwealth. If only they refrain from inventing artifices to keep themselves in it, men will gradually raise themselves from barbarism.\\n9. I have focused on religious matters in setting out my main point concerning enlightenment, i.e., man\\'s emergence from self-imposed immaturity, first because our rulers have no interest in assuming the role of their subjects\\' guardians with respect to the arts and sciences, and secondly because that form of immaturity is both the most pernicious and disgraceful of all. But the manner of thinking of a head of state who favors religious enlightenment goes even further, for he realizes that there is no danger to his legislation in allowing his subjects to use reason publicly and to set before the world their thoughts concerning better formulations of his laws, even if this involves frank criticism of legislation currently in effect. We have before us a shining example, with respect to which no monarch surpasses the one whom we honor.\\n10. But only a ruler who is himself enlightened and has no dread of shadows, yet who likewise has a well-disciplined, numerous army to guarantee public peace, can say what no republic[12] may dare, namely: \"Argue as much as you want and about what you want, but obey!\" Here as elsewhere, when things are considered in broad perspective, a strange, unexpected pattern in human affairs reveals itself, one in which almost everything is paradoxical. A greater degree of civil freedom seems advantageous to a people\\'s spiritual freedom; yet the former established impassable boundaries for the latter; conversely, a lesser degree of civil freedom provides enough room for all fully to expand their abilities. Thus, once nature has removed the hard shell from this kernel for which she has most fondly cared, namely, the inclination to and vocation for free thinking, the kernel gradually reacts on a people\\'s mentality (whereby they become increasingly able to act freely), and it finally even influences the principles of government, which finds that it can profit by treating men, who are now more than machines, in accord with their dignity.*\\n'"
      ]
     },
     "execution_count": 12,
     "metadata": {},
     "output_type": "execute_result"
    }
   ],
   "source": [
    "f = open(\"prosvet.txt\", \"r\", encoding=\"utf-8\")\n",
    "text = f.read()\n",
    "f.close()\n",
    "text"
   ]
  },
  {
   "cell_type": "code",
   "execution_count": 15,
   "id": "a8ac0190-414d-4048-b43c-7717206916c5",
   "metadata": {},
   "outputs": [
    {
     "name": "stdout",
     "output_type": "stream",
     "text": [
      "Исходный текст:\n",
      "1. Enlightenment is man's emergence from his self-imposed immaturity.[2] Immaturity is the inability to use one's understanding without guidance from another. This immaturity is self-imposed when its cause lies not in lack of understanding, but in lack of resolve and courage to use it without guidance from another. Sapere Aude![3] \"Have courage to use your own understanding!\"--that is the motto of enlightenment.\n",
      "2. Laziness and cowardice are the reasons why so great a proportion of men, long after nature has released them from alien guidance (natura-liter maiorennes),[4] nonetheless gladly remain in lifelong immaturity, and why it is so easy for others to establish themselves as their guardians. It is so easy to be immature. If I have a book to serve as my understanding, a pastor to serve as my conscience, a physician to determine my diet for me, and so on, I need not exert myself at all. I need not think, if only I can pay: others will readily undertake the irksome work for me. The guardians who have so benevolently taken over the supervision of men have carefully seen to it that the far greatest part of them (including the entire fair sex) regard taking the step to maturity as very dangerous, not to mention difficult. Having first made their domestic livestock dumb, and having carefully made sure that these docile creatures will not take a single step without the go-cart to which they are harnessed, these guardians then show them the danger that threatens them, should they attempt to walk alone. Now this danger is not actually so great, for after falling a few times they would in the end certainly learn to walk; but an example of this kind makes men timid and usually frightens them out of all further attempts.\n",
      "3. Thus, it is difficult for any individual man to work himself out of the immaturity that has all but become his nature. He has even become fond of this state and for the time being is actually incapable of using his own understanding, for no one has ever allowed him to attempt it. Rules and formulas, those mechanical aids to the rational use, or rather misuse, of his natural gifts, are the shackles of a permanent immaturity. Whoever threw them off would still make only an uncertain leap over the smallest ditch, since he is unaccustomed to this kind of free movement. Consequently, only a few have succeeded, by cultivating their own minds, in freeing themselves from immaturity and pursuing a secure course.\n",
      "4. But that the public should enlighten itself is more likely; indeed, if it is only allowed freedom, enlightenment is almost inevitable. For even among the entrenched guardians of the great masses a few will always think for themselves, a few who, after having themselves thrown off the yoke of immaturity, will spread the spirit of a rational appreciation for both their own worth and for each person's calling to think for himself. But it should be particularly noted that if a public that was first placed in this yoke by the guardians is suitably aroused by some of those who are altogether incapable of enlightenment, it may force the guardians themselves to remain under the yoke-so pernicious is it to instill prejudices, for they finally take revenge upon their originators, or on their descendants. Thus a public can only attain enlightenment slowly. Perhaps a revolution can overthrow autocratic despotism and profiteering or power-grabbing oppression, but it can never truly reform a manner of thinking;[5] instead, new prejudices, just like the old ones they replace, will serve as a leash for the great unthinking mass.\n",
      "5. Nothing is required for this enlightenment, however, except freedom; and the freedom in question is the least harmful of all, namely, the freedom to use reason publicly in all matters. But on all sides I hear: \"Do not argue!\" The officer says, \"Do not argue, drill!\" The tax man says, \"Do not argue, pay!\" The pastor says, \"Do not argue, believe!\" (Only one ruler in the world[6] says, \"Argue as much as you want and about what you want, but obey!\") In this we have [examples of] pervasive restrictions on freedom. But which restriction hinders enlightenment and which does not, but instead actually advances it? I reply: The public use of one's reason must always be free, and it alone can bring about enlightenment among mankind; the private use of reason may, however, often be very narrowly restricted, without otherwise hindering the progress of enlightenment. By the public use of one's own reason I understand the use that anyone as a scholar makes of reason before the entire literate world. I call the private use of reason that which a person may make in a civic post or office that has been entrusted to him.[7] Now in many affairs conducted in the interests of a community, a certain mechanism is required by means of which some of its members must conduct themselves in an entirely passive manner so that through an artificial unanimity the government may guide them toward public ends, or at least prevent them from destroying such ends. Here one certainly must not argue, instead one must obey. However, insofar as this part of the machine also regards himself as a member of the community as a whole, or even of the world community, and as a consequence addresses the public in the role of a scholar, in the proper sense of that term, he can most certainly argue, without thereby harming the affairs for which as a passive member he is partly responsible. Thus it would be disastrous if an officer on duty who was given a command by his superior were to question the appropriateness or utility of the order. He must obey. But as a scholar he cannot be justly constrained from making comments about errors in military service, or from placing them before the public for its judgment. The citizen cannot refuse to pay the taxes imposed on him; indeed, impertinent criticism of such levies, when they should be paid by him, can be punished as a scandal (since it can lead to widespread insubordination). But the same person does not act contrary to civic duty when, as a scholar, he publicly expresses his thoughts regarding the impropriety or even injustice of such taxes. Likewise a pastor is bound to instruct his catecumens and congregation in accordance with the symbol of the church he serves, for he was appointed on that condition. But as a scholar he has complete freedom, indeed even the calling, to impart to the public all of his carefully considered and well-intentioned thoughts concerning mistaken aspects of that symbol,[8] as well as his suggestions for the better arrangement of religious and church matters. Nothing in this can weigh on his conscience. What he teaches in consequence of his office as a servant of the church he sets out as something with regard to which he has no discretion to teach in accord with his own lights; rather, he offers it under the direction and in the name of another. He will say, \"Our church teaches this or that and these are the demonstrations it uses.\" He thereby extracts for his congregation all practical uses from precepts to which he would not himself subscribe with complete conviction, but whose presentation he can nonetheless undertake, since it is not entirely impossible that truth lies hidden in them, and, in any case, nothing contrary to the very nature of religion is to be found in them. If he believed he could find anything of the latter sort in them, he could not in good conscience serve in his position; he would have to resign. Thus an appointed teacher's use of his reason for the sake of his congregation is merely private, because, however large the congregation is, this use is always only domestic; in this regard, as a priest, he is not free and cannot be such because he is acting under instructions from someone else. By contrast, the cleric--as a scholar who speaks through his writings to the public as such, i.e., the world--enjoys in this public use of reason an unrestricted freedom to use his own rational capacities and to speak his own mind. For that the (spiritual) guardians of a people should themselves be immature is an absurdity that would insure the perpetuation of absurdities.\n",
      "6. But would a society of pastors, perhaps a church assembly or venerable presbytery (as those among the Dutch call themselves), not be justified in binding itself by oath to a certain unalterable symbol in order to secure a constant guardianship over each of its members and through them over the people, and this for all time: I say that this is wholly impossible. Such a contract, whose intention is to preclude forever all further enlightenment of the human race, is absolutely null and void, even if it should be ratified by the supreme power, by parliaments, and by the most solemn peace treaties. One age cannot bind itself, and thus conspire, to place a succeeding one in a condition whereby it would be impossible for the later age to expand its knowledge (particularly where it is so very important), to rid itself of errors, and generally to increase its enlightenment. That would be a crime against human nature, whose essential destiny lies precisely in such progress; subsequent generations are thus completely justified in dismissing such agreements as unauthorized and criminal. The criterion of everything that can be agreed upon as a law by a people lies in this question: Can a people impose such a law on itself?[9] Now it might be possible, in anticipation of a better state of affairs, to introduce a provisional order for a specific, short time, all the while giving all citizens, especially clergy, in their role as scholars, the freedom to comment publicly, i.e., in writing, on the present institution's shortcomings. The provisional order might last until insight into the nature of these matters had become so widespread and obvious that the combined (if not unanimous) voices of the populace could propose to the crown that it take under its protection those congregations that, in accord with their newly gained insight, had organized themselves under altered religious institutions, but without interfering with those wishing to allow matters to remain as before. However, it is absolutely forbidden that they unite into a religious organization that nobody may for the duration of a man's lifetime publicly question, for so doing would deny, render fruitless, and make detrimental to succeeding generations an era in man's progress toward improvement. A man may put off enlightenment with regard to what he ought to know, though only for a short time and for his own person; but to renounce it for himself, or, even more, for subsequent generations, is to violate and trample man's divine rights underfoot. And what a people may not decree for itself may still less be imposed on it by a monarch, for his lawgiving authority rests on his unification of the people's collective will in his own. If he only sees to it that all genuine or purported improvement is consonant with civil order, he can allow his subjects to do what they find necessary to their spiritual well-being, which is not his affair. However, he must prevent anyone from forcibly interfering with another's working as best he can to determine and promote his well-being. It detracts from his own majesty when he interferes in these matters, since the writings in which his subjects attempt to clarify their insights lend value to his conception of governance. This holds whether he acts from his own highest insight--whereby he calls upon himself the reproach, \"Caesar non eat supra grammaticos\"[10]-as well as, indeed even more, when he despoils his highest authority by supporting the spiritual despotism of some tyrants in his state over his other subjects.\n",
      "7. If it is now asked, \"Do we presently live in an enlightened age?\" the answer is, \"No, but we do live in an age of enlightenment.\" As matters now stand, a great deal is still lacking in order for men as a whole to be, or even to put themselves into a position to be able without external guidance to apply understanding confidently to religious issues. But we do have clear indications that the way is now being opened for men to proceed freely in this direction and that the obstacles to general enlightenment--to their release from their self-imposed immaturity-are gradually diminishing. In this regard, this age is the age of enlightenment, the century of Frederick.[11]\n",
      "8. A prince who does not find it beneath him to say that he takes it to be his duty to-prescribe nothing, but rather to allow men complete freedom in religious matters-who thereby renounces the arrogant title of tolerance-is himself enlightened and deserves to be praised by a grateful present and by posterity as the first, at least where the government is concerned, to release the human race from immaturity and to leave everyone free to use his own reason in all matters of conscience. Under his rule, venerable pastors, in their role as scholars and without prejudice to their official duties, may freely and openly set out for the world's scrutiny their judgments and views, even where these occasionally differ from the accepted symbol. Still greater freedom is afforded to those who are not restricted by an official post. This spirit of freedom is expanding even where it must struggle against the external obstacles of governments that misunderstand their own function. Such governments are illuminated by the example that the existence of freedom need not give cause for the least concern regarding public order and harmony in the commonwealth. If only they refrain from inventing artifices to keep themselves in it, men will gradually raise themselves from barbarism.\n",
      "9. I have focused on religious matters in setting out my main point concerning enlightenment, i.e., man's emergence from self-imposed immaturity, first because our rulers have no interest in assuming the role of their subjects' guardians with respect to the arts and sciences, and secondly because that form of immaturity is both the most pernicious and disgraceful of all. But the manner of thinking of a head of state who favors religious enlightenment goes even further, for he realizes that there is no danger to his legislation in allowing his subjects to use reason publicly and to set before the world their thoughts concerning better formulations of his laws, even if this involves frank criticism of legislation currently in effect. We have before us a shining example, with respect to which no monarch surpasses the one whom we honor.\n",
      "10. But only a ruler who is himself enlightened and has no dread of shadows, yet who likewise has a well-disciplined, numerous army to guarantee public peace, can say what no republic[12] may dare, namely: \"Argue as much as you want and about what you want, but obey!\" Here as elsewhere, when things are considered in broad perspective, a strange, unexpected pattern in human affairs reveals itself, one in which almost everything is paradoxical. A greater degree of civil freedom seems advantageous to a people's spiritual freedom; yet the former established impassable boundaries for the latter; conversely, a lesser degree of civil freedom provides enough room for all fully to expand their abilities. Thus, once nature has removed the hard shell from this kernel for which she has most fondly cared, namely, the inclination to and vocation for free thinking, the kernel gradually reacts on a people's mentality (whereby they become increasingly able to act freely), and it finally even influences the principles of government, which finds that it can profit by treating men, who are now more than machines, in accord with their dignity.*\n",
      "\n",
      "\n",
      "Токенизированный текст:\n",
      "['1', '.', 'Enlightenment', 'is', 'man', \"'s\", 'emergence', 'from', 'his', 'self-imposed', 'immaturity', '.', '[', '2', ']', 'Immaturity', 'is', 'the', 'inability', 'to', 'use', 'one', \"'s\", 'understanding', 'without', 'guidance', 'from', 'another', '.', 'This', 'immaturity', 'is', 'self-imposed', 'when', 'its', 'cause', 'lies', 'not', 'in', 'lack', 'of', 'understanding', ',', 'but', 'in', 'lack', 'of', 'resolve', 'and', 'courage', 'to', 'use', 'it', 'without', 'guidance', 'from', 'another', '.', 'Sapere', 'Aude', '!', '[', '3', ']', '``', 'Have', 'courage', 'to', 'use', 'your', 'own', 'understanding', '!', \"''\", '--', 'that', 'is', 'the', 'motto', 'of', 'enlightenment', '.', '2', '.', 'Laziness', 'and', 'cowardice', 'are', 'the', 'reasons', 'why', 'so', 'great', 'a', 'proportion', 'of', 'men', ',', 'long', 'after', 'nature', 'has', 'released', 'them', 'from', 'alien', 'guidance', '(', 'natura-liter', 'maiorennes', ')', ',', '[', '4', ']', 'nonetheless', 'gladly', 'remain', 'in', 'lifelong', 'immaturity', ',', 'and', 'why', 'it', 'is', 'so', 'easy', 'for', 'others', 'to', 'establish', 'themselves', 'as', 'their', 'guardians', '.', 'It', 'is', 'so', 'easy', 'to', 'be', 'immature', '.', 'If', 'I', 'have', 'a', 'book', 'to', 'serve', 'as', 'my', 'understanding', ',', 'a', 'pastor', 'to', 'serve', 'as', 'my', 'conscience', ',', 'a', 'physician', 'to', 'determine', 'my', 'diet', 'for', 'me', ',', 'and', 'so', 'on', ',', 'I', 'need', 'not', 'exert', 'myself', 'at', 'all', '.', 'I', 'need', 'not', 'think', ',', 'if', 'only', 'I', 'can', 'pay', ':', 'others', 'will', 'readily', 'undertake', 'the', 'irksome', 'work', 'for', 'me', '.', 'The', 'guardians', 'who', 'have', 'so', 'benevolently', 'taken', 'over', 'the', 'supervision', 'of', 'men', 'have', 'carefully', 'seen', 'to', 'it', 'that', 'the', 'far', 'greatest', 'part', 'of', 'them', '(', 'including', 'the', 'entire', 'fair', 'sex', ')', 'regard', 'taking', 'the', 'step', 'to', 'maturity', 'as', 'very', 'dangerous', ',', 'not', 'to', 'mention', 'difficult', '.', 'Having', 'first', 'made', 'their', 'domestic', 'livestock', 'dumb', ',', 'and', 'having', 'carefully', 'made', 'sure', 'that', 'these', 'docile', 'creatures', 'will', 'not', 'take', 'a', 'single', 'step', 'without', 'the', 'go-cart', 'to', 'which', 'they', 'are', 'harnessed', ',', 'these', 'guardians', 'then', 'show', 'them', 'the', 'danger', 'that', 'threatens', 'them', ',', 'should', 'they', 'attempt', 'to', 'walk', 'alone', '.', 'Now', 'this', 'danger', 'is', 'not', 'actually', 'so', 'great', ',', 'for', 'after', 'falling', 'a', 'few', 'times', 'they', 'would', 'in', 'the', 'end', 'certainly', 'learn', 'to', 'walk', ';', 'but', 'an', 'example', 'of', 'this', 'kind', 'makes', 'men', 'timid', 'and', 'usually', 'frightens', 'them', 'out', 'of', 'all', 'further', 'attempts', '.', '3', '.', 'Thus', ',', 'it', 'is', 'difficult', 'for', 'any', 'individual', 'man', 'to', 'work', 'himself', 'out', 'of', 'the', 'immaturity', 'that', 'has', 'all', 'but', 'become', 'his', 'nature', '.', 'He', 'has', 'even', 'become', 'fond', 'of', 'this', 'state', 'and', 'for', 'the', 'time', 'being', 'is', 'actually', 'incapable', 'of', 'using', 'his', 'own', 'understanding', ',', 'for', 'no', 'one', 'has', 'ever', 'allowed', 'him', 'to', 'attempt', 'it', '.', 'Rules', 'and', 'formulas', ',', 'those', 'mechanical', 'aids', 'to', 'the', 'rational', 'use', ',', 'or', 'rather', 'misuse', ',', 'of', 'his', 'natural', 'gifts', ',', 'are', 'the', 'shackles', 'of', 'a', 'permanent', 'immaturity', '.', 'Whoever', 'threw', 'them', 'off', 'would', 'still', 'make', 'only', 'an', 'uncertain', 'leap', 'over', 'the', 'smallest', 'ditch', ',', 'since', 'he', 'is', 'unaccustomed', 'to', 'this', 'kind', 'of', 'free', 'movement', '.', 'Consequently', ',', 'only', 'a', 'few', 'have', 'succeeded', ',', 'by', 'cultivating', 'their', 'own', 'minds', ',', 'in', 'freeing', 'themselves', 'from', 'immaturity', 'and', 'pursuing', 'a', 'secure', 'course', '.', '4', '.', 'But', 'that', 'the', 'public', 'should', 'enlighten', 'itself', 'is', 'more', 'likely', ';', 'indeed', ',', 'if', 'it', 'is', 'only', 'allowed', 'freedom', ',', 'enlightenment', 'is', 'almost', 'inevitable', '.', 'For', 'even', 'among', 'the', 'entrenched', 'guardians', 'of', 'the', 'great', 'masses', 'a', 'few', 'will', 'always', 'think', 'for', 'themselves', ',', 'a', 'few', 'who', ',', 'after', 'having', 'themselves', 'thrown', 'off', 'the', 'yoke', 'of', 'immaturity', ',', 'will', 'spread', 'the', 'spirit', 'of', 'a', 'rational', 'appreciation', 'for', 'both', 'their', 'own', 'worth', 'and', 'for', 'each', 'person', \"'s\", 'calling', 'to', 'think', 'for', 'himself', '.', 'But', 'it', 'should', 'be', 'particularly', 'noted', 'that', 'if', 'a', 'public', 'that', 'was', 'first', 'placed', 'in', 'this', 'yoke', 'by', 'the', 'guardians', 'is', 'suitably', 'aroused', 'by', 'some', 'of', 'those', 'who', 'are', 'altogether', 'incapable', 'of', 'enlightenment', ',', 'it', 'may', 'force', 'the', 'guardians', 'themselves', 'to', 'remain', 'under', 'the', 'yoke-so', 'pernicious', 'is', 'it', 'to', 'instill', 'prejudices', ',', 'for', 'they', 'finally', 'take', 'revenge', 'upon', 'their', 'originators', ',', 'or', 'on', 'their', 'descendants', '.', 'Thus', 'a', 'public', 'can', 'only', 'attain', 'enlightenment', 'slowly', '.', 'Perhaps', 'a', 'revolution', 'can', 'overthrow', 'autocratic', 'despotism', 'and', 'profiteering', 'or', 'power-grabbing', 'oppression', ',', 'but', 'it', 'can', 'never', 'truly', 'reform', 'a', 'manner', 'of', 'thinking', ';', '[', '5', ']', 'instead', ',', 'new', 'prejudices', ',', 'just', 'like', 'the', 'old', 'ones', 'they', 'replace', ',', 'will', 'serve', 'as', 'a', 'leash', 'for', 'the', 'great', 'unthinking', 'mass', '.', '5', '.', 'Nothing', 'is', 'required', 'for', 'this', 'enlightenment', ',', 'however', ',', 'except', 'freedom', ';', 'and', 'the', 'freedom', 'in', 'question', 'is', 'the', 'least', 'harmful', 'of', 'all', ',', 'namely', ',', 'the', 'freedom', 'to', 'use', 'reason', 'publicly', 'in', 'all', 'matters', '.', 'But', 'on', 'all', 'sides', 'I', 'hear', ':', '``', 'Do', 'not', 'argue', '!', \"''\", 'The', 'officer', 'says', ',', '``', 'Do', 'not', 'argue', ',', 'drill', '!', \"''\", 'The', 'tax', 'man', 'says', ',', '``', 'Do', 'not', 'argue', ',', 'pay', '!', \"''\", 'The', 'pastor', 'says', ',', '``', 'Do', 'not', 'argue', ',', 'believe', '!', \"''\", '(', 'Only', 'one', 'ruler', 'in', 'the', 'world', '[', '6', ']', 'says', ',', '``', 'Argue', 'as', 'much', 'as', 'you', 'want', 'and', 'about', 'what', 'you', 'want', ',', 'but', 'obey', '!', \"''\", ')', 'In', 'this', 'we', 'have', '[', 'examples', 'of', ']', 'pervasive', 'restrictions', 'on', 'freedom', '.', 'But', 'which', 'restriction', 'hinders', 'enlightenment', 'and', 'which', 'does', 'not', ',', 'but', 'instead', 'actually', 'advances', 'it', '?', 'I', 'reply', ':', 'The', 'public', 'use', 'of', 'one', \"'s\", 'reason', 'must', 'always', 'be', 'free', ',', 'and', 'it', 'alone', 'can', 'bring', 'about', 'enlightenment', 'among', 'mankind', ';', 'the', 'private', 'use', 'of', 'reason', 'may', ',', 'however', ',', 'often', 'be', 'very', 'narrowly', 'restricted', ',', 'without', 'otherwise', 'hindering', 'the', 'progress', 'of', 'enlightenment', '.', 'By', 'the', 'public', 'use', 'of', 'one', \"'s\", 'own', 'reason', 'I', 'understand', 'the', 'use', 'that', 'anyone', 'as', 'a', 'scholar', 'makes', 'of', 'reason', 'before', 'the', 'entire', 'literate', 'world', '.', 'I', 'call', 'the', 'private', 'use', 'of', 'reason', 'that', 'which', 'a', 'person', 'may', 'make', 'in', 'a', 'civic', 'post', 'or', 'office', 'that', 'has', 'been', 'entrusted', 'to', 'him', '.', '[', '7', ']', 'Now', 'in', 'many', 'affairs', 'conducted', 'in', 'the', 'interests', 'of', 'a', 'community', ',', 'a', 'certain', 'mechanism', 'is', 'required', 'by', 'means', 'of', 'which', 'some', 'of', 'its', 'members', 'must', 'conduct', 'themselves', 'in', 'an', 'entirely', 'passive', 'manner', 'so', 'that', 'through', 'an', 'artificial', 'unanimity', 'the', 'government', 'may', 'guide', 'them', 'toward', 'public', 'ends', ',', 'or', 'at', 'least', 'prevent', 'them', 'from', 'destroying', 'such', 'ends', '.', 'Here', 'one', 'certainly', 'must', 'not', 'argue', ',', 'instead', 'one', 'must', 'obey', '.', 'However', ',', 'insofar', 'as', 'this', 'part', 'of', 'the', 'machine', 'also', 'regards', 'himself', 'as', 'a', 'member', 'of', 'the', 'community', 'as', 'a', 'whole', ',', 'or', 'even', 'of', 'the', 'world', 'community', ',', 'and', 'as', 'a', 'consequence', 'addresses', 'the', 'public', 'in', 'the', 'role', 'of', 'a', 'scholar', ',', 'in', 'the', 'proper', 'sense', 'of', 'that', 'term', ',', 'he', 'can', 'most', 'certainly', 'argue', ',', 'without', 'thereby', 'harming', 'the', 'affairs', 'for', 'which', 'as', 'a', 'passive', 'member', 'he', 'is', 'partly', 'responsible', '.', 'Thus', 'it', 'would', 'be', 'disastrous', 'if', 'an', 'officer', 'on', 'duty', 'who', 'was', 'given', 'a', 'command', 'by', 'his', 'superior', 'were', 'to', 'question', 'the', 'appropriateness', 'or', 'utility', 'of', 'the', 'order', '.', 'He', 'must', 'obey', '.', 'But', 'as', 'a', 'scholar', 'he', 'can', 'not', 'be', 'justly', 'constrained', 'from', 'making', 'comments', 'about', 'errors', 'in', 'military', 'service', ',', 'or', 'from', 'placing', 'them', 'before', 'the', 'public', 'for', 'its', 'judgment', '.', 'The', 'citizen', 'can', 'not', 'refuse', 'to', 'pay', 'the', 'taxes', 'imposed', 'on', 'him', ';', 'indeed', ',', 'impertinent', 'criticism', 'of', 'such', 'levies', ',', 'when', 'they', 'should', 'be', 'paid', 'by', 'him', ',', 'can', 'be', 'punished', 'as', 'a', 'scandal', '(', 'since', 'it', 'can', 'lead', 'to', 'widespread', 'insubordination', ')', '.', 'But', 'the', 'same', 'person', 'does', 'not', 'act', 'contrary', 'to', 'civic', 'duty', 'when', ',', 'as', 'a', 'scholar', ',', 'he', 'publicly', 'expresses', 'his', 'thoughts', 'regarding', 'the', 'impropriety', 'or', 'even', 'injustice', 'of', 'such', 'taxes', '.', 'Likewise', 'a', 'pastor', 'is', 'bound', 'to', 'instruct', 'his', 'catecumens', 'and', 'congregation', 'in', 'accordance', 'with', 'the', 'symbol', 'of', 'the', 'church', 'he', 'serves', ',', 'for', 'he', 'was', 'appointed', 'on', 'that', 'condition', '.', 'But', 'as', 'a', 'scholar', 'he', 'has', 'complete', 'freedom', ',', 'indeed', 'even', 'the', 'calling', ',', 'to', 'impart', 'to', 'the', 'public', 'all', 'of', 'his', 'carefully', 'considered', 'and', 'well-intentioned', 'thoughts', 'concerning', 'mistaken', 'aspects', 'of', 'that', 'symbol', ',', '[', '8', ']', 'as', 'well', 'as', 'his', 'suggestions', 'for', 'the', 'better', 'arrangement', 'of', 'religious', 'and', 'church', 'matters', '.', 'Nothing', 'in', 'this', 'can', 'weigh', 'on', 'his', 'conscience', '.', 'What', 'he', 'teaches', 'in', 'consequence', 'of', 'his', 'office', 'as', 'a', 'servant', 'of', 'the', 'church', 'he', 'sets', 'out', 'as', 'something', 'with', 'regard', 'to', 'which', 'he', 'has', 'no', 'discretion', 'to', 'teach', 'in', 'accord', 'with', 'his', 'own', 'lights', ';', 'rather', ',', 'he', 'offers', 'it', 'under', 'the', 'direction', 'and', 'in', 'the', 'name', 'of', 'another', '.', 'He', 'will', 'say', ',', '``', 'Our', 'church', 'teaches', 'this', 'or', 'that', 'and', 'these', 'are', 'the', 'demonstrations', 'it', 'uses', '.', \"''\", 'He', 'thereby', 'extracts', 'for', 'his', 'congregation', 'all', 'practical', 'uses', 'from', 'precepts', 'to', 'which', 'he', 'would', 'not', 'himself', 'subscribe', 'with', 'complete', 'conviction', ',', 'but', 'whose', 'presentation', 'he', 'can', 'nonetheless', 'undertake', ',', 'since', 'it', 'is', 'not', 'entirely', 'impossible', 'that', 'truth', 'lies', 'hidden', 'in', 'them', ',', 'and', ',', 'in', 'any', 'case', ',', 'nothing', 'contrary', 'to', 'the', 'very', 'nature', 'of', 'religion', 'is', 'to', 'be', 'found', 'in', 'them', '.', 'If', 'he', 'believed', 'he', 'could', 'find', 'anything', 'of', 'the', 'latter', 'sort', 'in', 'them', ',', 'he', 'could', 'not', 'in', 'good', 'conscience', 'serve', 'in', 'his', 'position', ';', 'he', 'would', 'have', 'to', 'resign', '.', 'Thus', 'an', 'appointed', 'teacher', \"'s\", 'use', 'of', 'his', 'reason', 'for', 'the', 'sake', 'of', 'his', 'congregation', 'is', 'merely', 'private', ',', 'because', ',', 'however', 'large', 'the', 'congregation', 'is', ',', 'this', 'use', 'is', 'always', 'only', 'domestic', ';', 'in', 'this', 'regard', ',', 'as', 'a', 'priest', ',', 'he', 'is', 'not', 'free', 'and', 'can', 'not', 'be', 'such', 'because', 'he', 'is', 'acting', 'under', 'instructions', 'from', 'someone', 'else', '.', 'By', 'contrast', ',', 'the', 'cleric', '--', 'as', 'a', 'scholar', 'who', 'speaks', 'through', 'his', 'writings', 'to', 'the', 'public', 'as', 'such', ',', 'i.e.', ',', 'the', 'world', '--', 'enjoys', 'in', 'this', 'public', 'use', 'of', 'reason', 'an', 'unrestricted', 'freedom', 'to', 'use', 'his', 'own', 'rational', 'capacities', 'and', 'to', 'speak', 'his', 'own', 'mind', '.', 'For', 'that', 'the', '(', 'spiritual', ')', 'guardians', 'of', 'a', 'people', 'should', 'themselves', 'be', 'immature', 'is', 'an', 'absurdity', 'that', 'would', 'insure', 'the', 'perpetuation', 'of', 'absurdities', '.', '6', '.', 'But', 'would', 'a', 'society', 'of', 'pastors', ',', 'perhaps', 'a', 'church', 'assembly', 'or', 'venerable', 'presbytery', '(', 'as', 'those', 'among', 'the', 'Dutch', 'call', 'themselves', ')', ',', 'not', 'be', 'justified', 'in', 'binding', 'itself', 'by', 'oath', 'to', 'a', 'certain', 'unalterable', 'symbol', 'in', 'order', 'to', 'secure', 'a', 'constant', 'guardianship', 'over', 'each', 'of', 'its', 'members', 'and', 'through', 'them', 'over', 'the', 'people', ',', 'and', 'this', 'for', 'all', 'time', ':', 'I', 'say', 'that', 'this', 'is', 'wholly', 'impossible', '.', 'Such', 'a', 'contract', ',', 'whose', 'intention', 'is', 'to', 'preclude', 'forever', 'all', 'further', 'enlightenment', 'of', 'the', 'human', 'race', ',', 'is', 'absolutely', 'null', 'and', 'void', ',', 'even', 'if', 'it', 'should', 'be', 'ratified', 'by', 'the', 'supreme', 'power', ',', 'by', 'parliaments', ',', 'and', 'by', 'the', 'most', 'solemn', 'peace', 'treaties', '.', 'One', 'age', 'can', 'not', 'bind', 'itself', ',', 'and', 'thus', 'conspire', ',', 'to', 'place', 'a', 'succeeding', 'one', 'in', 'a', 'condition', 'whereby', 'it', 'would', 'be', 'impossible', 'for', 'the', 'later', 'age', 'to', 'expand', 'its', 'knowledge', '(', 'particularly', 'where', 'it', 'is', 'so', 'very', 'important', ')', ',', 'to', 'rid', 'itself', 'of', 'errors', ',', 'and', 'generally', 'to', 'increase', 'its', 'enlightenment', '.', 'That', 'would', 'be', 'a', 'crime', 'against', 'human', 'nature', ',', 'whose', 'essential', 'destiny', 'lies', 'precisely', 'in', 'such', 'progress', ';', 'subsequent', 'generations', 'are', 'thus', 'completely', 'justified', 'in', 'dismissing', 'such', 'agreements', 'as', 'unauthorized', 'and', 'criminal', '.', 'The', 'criterion', 'of', 'everything', 'that', 'can', 'be', 'agreed', 'upon', 'as', 'a', 'law', 'by', 'a', 'people', 'lies', 'in', 'this', 'question', ':', 'Can', 'a', 'people', 'impose', 'such', 'a', 'law', 'on', 'itself', '?', '[', '9', ']', 'Now', 'it', 'might', 'be', 'possible', ',', 'in', 'anticipation', 'of', 'a', 'better', 'state', 'of', 'affairs', ',', 'to', 'introduce', 'a', 'provisional', 'order', 'for', 'a', 'specific', ',', 'short', 'time', ',', 'all', 'the', 'while', 'giving', 'all', 'citizens', ',', 'especially', 'clergy', ',', 'in', 'their', 'role', 'as', 'scholars', ',', 'the', 'freedom', 'to', 'comment', 'publicly', ',', 'i.e.', ',', 'in', 'writing', ',', 'on', 'the', 'present', 'institution', \"'s\", 'shortcomings', '.', 'The', 'provisional', 'order', 'might', 'last', 'until', 'insight', 'into', 'the', 'nature', 'of', 'these', 'matters', 'had', 'become', 'so', 'widespread', 'and', 'obvious', 'that', 'the', 'combined', '(', 'if', 'not', 'unanimous', ')', 'voices', 'of', 'the', 'populace', 'could', 'propose', 'to', 'the', 'crown', 'that', 'it', 'take', 'under', 'its', 'protection', 'those', 'congregations', 'that', ',', 'in', 'accord', 'with', 'their', 'newly', 'gained', 'insight', ',', 'had', 'organized', 'themselves', 'under', 'altered', 'religious', 'institutions', ',', 'but', 'without', 'interfering', 'with', 'those', 'wishing', 'to', 'allow', 'matters', 'to', 'remain', 'as', 'before', '.', 'However', ',', 'it', 'is', 'absolutely', 'forbidden', 'that', 'they', 'unite', 'into', 'a', 'religious', 'organization', 'that', 'nobody', 'may', 'for', 'the', 'duration', 'of', 'a', 'man', \"'s\", 'lifetime', 'publicly', 'question', ',', 'for', 'so', 'doing', 'would', 'deny', ',', 'render', 'fruitless', ',', 'and', 'make', 'detrimental', 'to', 'succeeding', 'generations', 'an', 'era', 'in', 'man', \"'s\", 'progress', 'toward', 'improvement', '.', 'A', 'man', 'may', 'put', 'off', 'enlightenment', 'with', 'regard', 'to', 'what', 'he', 'ought', 'to', 'know', ',', 'though', 'only', 'for', 'a', 'short', 'time', 'and', 'for', 'his', 'own', 'person', ';', 'but', 'to', 'renounce', 'it', 'for', 'himself', ',', 'or', ',', 'even', 'more', ',', 'for', 'subsequent', 'generations', ',', 'is', 'to', 'violate', 'and', 'trample', 'man', \"'s\", 'divine', 'rights', 'underfoot', '.', 'And', 'what', 'a', 'people', 'may', 'not', 'decree', 'for', 'itself', 'may', 'still', 'less', 'be', 'imposed', 'on', 'it', 'by', 'a', 'monarch', ',', 'for', 'his', 'lawgiving', 'authority', 'rests', 'on', 'his', 'unification', 'of', 'the', 'people', \"'s\", 'collective', 'will', 'in', 'his', 'own', '.', 'If', 'he', 'only', 'sees', 'to', 'it', 'that', 'all', 'genuine', 'or', 'purported', 'improvement', 'is', 'consonant', 'with', 'civil', 'order', ',', 'he', 'can', 'allow', 'his', 'subjects', 'to', 'do', 'what', 'they', 'find', 'necessary', 'to', 'their', 'spiritual', 'well-being', ',', 'which', 'is', 'not', 'his', 'affair', '.', 'However', ',', 'he', 'must', 'prevent', 'anyone', 'from', 'forcibly', 'interfering', 'with', 'another', \"'s\", 'working', 'as', 'best', 'he', 'can', 'to', 'determine', 'and', 'promote', 'his', 'well-being', '.', 'It', 'detracts', 'from', 'his', 'own', 'majesty', 'when', 'he', 'interferes', 'in', 'these', 'matters', ',', 'since', 'the', 'writings', 'in', 'which', 'his', 'subjects', 'attempt', 'to', 'clarify', 'their', 'insights', 'lend', 'value', 'to', 'his', 'conception', 'of', 'governance', '.', 'This', 'holds', 'whether', 'he', 'acts', 'from', 'his', 'own', 'highest', 'insight', '--', 'whereby', 'he', 'calls', 'upon', 'himself', 'the', 'reproach', ',', '``', 'Caesar', 'non', 'eat', 'supra', 'grammaticos', \"''\", '[', '10', ']', '-as', 'well', 'as', ',', 'indeed', 'even', 'more', ',', 'when', 'he', 'despoils', 'his', 'highest', 'authority', 'by', 'supporting', 'the', 'spiritual', 'despotism', 'of', 'some', 'tyrants', 'in', 'his', 'state', 'over', 'his', 'other', 'subjects', '.', '7', '.', 'If', 'it', 'is', 'now', 'asked', ',', '``', 'Do', 'we', 'presently', 'live', 'in', 'an', 'enlightened', 'age', '?', \"''\", 'the', 'answer', 'is', ',', '``', 'No', ',', 'but', 'we', 'do', 'live', 'in', 'an', 'age', 'of', 'enlightenment', '.', \"''\", 'As', 'matters', 'now', 'stand', ',', 'a', 'great', 'deal', 'is', 'still', 'lacking', 'in', 'order', 'for', 'men', 'as', 'a', 'whole', 'to', 'be', ',', 'or', 'even', 'to', 'put', 'themselves', 'into', 'a', 'position', 'to', 'be', 'able', 'without', 'external', 'guidance', 'to', 'apply', 'understanding', 'confidently', 'to', 'religious', 'issues', '.', 'But', 'we', 'do', 'have', 'clear', 'indications', 'that', 'the', 'way', 'is', 'now', 'being', 'opened', 'for', 'men', 'to', 'proceed', 'freely', 'in', 'this', 'direction', 'and', 'that', 'the', 'obstacles', 'to', 'general', 'enlightenment', '--', 'to', 'their', 'release', 'from', 'their', 'self-imposed', 'immaturity-are', 'gradually', 'diminishing', '.', 'In', 'this', 'regard', ',', 'this', 'age', 'is', 'the', 'age', 'of', 'enlightenment', ',', 'the', 'century', 'of', 'Frederick', '.', '[', '11', ']', '8', '.', 'A', 'prince', 'who', 'does', 'not', 'find', 'it', 'beneath', 'him', 'to', 'say', 'that', 'he', 'takes', 'it', 'to', 'be', 'his', 'duty', 'to-prescribe', 'nothing', ',', 'but', 'rather', 'to', 'allow', 'men', 'complete', 'freedom', 'in', 'religious', 'matters-who', 'thereby', 'renounces', 'the', 'arrogant', 'title', 'of', 'tolerance-is', 'himself', 'enlightened', 'and', 'deserves', 'to', 'be', 'praised', 'by', 'a', 'grateful', 'present', 'and', 'by', 'posterity', 'as', 'the', 'first', ',', 'at', 'least', 'where', 'the', 'government', 'is', 'concerned', ',', 'to', 'release', 'the', 'human', 'race', 'from', 'immaturity', 'and', 'to', 'leave', 'everyone', 'free', 'to', 'use', 'his', 'own', 'reason', 'in', 'all', 'matters', 'of', 'conscience', '.', 'Under', 'his', 'rule', ',', 'venerable', 'pastors', ',', 'in', 'their', 'role', 'as', 'scholars', 'and', 'without', 'prejudice', 'to', 'their', 'official', 'duties', ',', 'may', 'freely', 'and', 'openly', 'set', 'out', 'for', 'the', 'world', \"'s\", 'scrutiny', 'their', 'judgments', 'and', 'views', ',', 'even', 'where', 'these', 'occasionally', 'differ', 'from', 'the', 'accepted', 'symbol', '.', 'Still', 'greater', 'freedom', 'is', 'afforded', 'to', 'those', 'who', 'are', 'not', 'restricted', 'by', 'an', 'official', 'post', '.', 'This', 'spirit', 'of', 'freedom', 'is', 'expanding', 'even', 'where', 'it', 'must', 'struggle', 'against', 'the', 'external', 'obstacles', 'of', 'governments', 'that', 'misunderstand', 'their', 'own', 'function', '.', 'Such', 'governments', 'are', 'illuminated', 'by', 'the', 'example', 'that', 'the', 'existence', 'of', 'freedom', 'need', 'not', 'give', 'cause', 'for', 'the', 'least', 'concern', 'regarding', 'public', 'order', 'and', 'harmony', 'in', 'the', 'commonwealth', '.', 'If', 'only', 'they', 'refrain', 'from', 'inventing', 'artifices', 'to', 'keep', 'themselves', 'in', 'it', ',', 'men', 'will', 'gradually', 'raise', 'themselves', 'from', 'barbarism', '.', '9', '.', 'I', 'have', 'focused', 'on', 'religious', 'matters', 'in', 'setting', 'out', 'my', 'main', 'point', 'concerning', 'enlightenment', ',', 'i.e.', ',', 'man', \"'s\", 'emergence', 'from', 'self-imposed', 'immaturity', ',', 'first', 'because', 'our', 'rulers', 'have', 'no', 'interest', 'in', 'assuming', 'the', 'role', 'of', 'their', 'subjects', \"'\", 'guardians', 'with', 'respect', 'to', 'the', 'arts', 'and', 'sciences', ',', 'and', 'secondly', 'because', 'that', 'form', 'of', 'immaturity', 'is', 'both', 'the', 'most', 'pernicious', 'and', 'disgraceful', 'of', 'all', '.', 'But', 'the', 'manner', 'of', 'thinking', 'of', 'a', 'head', 'of', 'state', 'who', 'favors', 'religious', 'enlightenment', 'goes', 'even', 'further', ',', 'for', 'he', 'realizes', 'that', 'there', 'is', 'no', 'danger', 'to', 'his', 'legislation', 'in', 'allowing', 'his', 'subjects', 'to', 'use', 'reason', 'publicly', 'and', 'to', 'set', 'before', 'the', 'world', 'their', 'thoughts', 'concerning', 'better', 'formulations', 'of', 'his', 'laws', ',', 'even', 'if', 'this', 'involves', 'frank', 'criticism', 'of', 'legislation', 'currently', 'in', 'effect', '.', 'We', 'have', 'before', 'us', 'a', 'shining', 'example', ',', 'with', 'respect', 'to', 'which', 'no', 'monarch', 'surpasses', 'the', 'one', 'whom', 'we', 'honor', '.', '10', '.', 'But', 'only', 'a', 'ruler', 'who', 'is', 'himself', 'enlightened', 'and', 'has', 'no', 'dread', 'of', 'shadows', ',', 'yet', 'who', 'likewise', 'has', 'a', 'well-disciplined', ',', 'numerous', 'army', 'to', 'guarantee', 'public', 'peace', ',', 'can', 'say', 'what', 'no', 'republic', '[', '12', ']', 'may', 'dare', ',', 'namely', ':', '``', 'Argue', 'as', 'much', 'as', 'you', 'want', 'and', 'about', 'what', 'you', 'want', ',', 'but', 'obey', '!', \"''\", 'Here', 'as', 'elsewhere', ',', 'when', 'things', 'are', 'considered', 'in', 'broad', 'perspective', ',', 'a', 'strange', ',', 'unexpected', 'pattern', 'in', 'human', 'affairs', 'reveals', 'itself', ',', 'one', 'in', 'which', 'almost', 'everything', 'is', 'paradoxical', '.', 'A', 'greater', 'degree', 'of', 'civil', 'freedom', 'seems', 'advantageous', 'to', 'a', 'people', \"'s\", 'spiritual', 'freedom', ';', 'yet', 'the', 'former', 'established', 'impassable', 'boundaries', 'for', 'the', 'latter', ';', 'conversely', ',', 'a', 'lesser', 'degree', 'of', 'civil', 'freedom', 'provides', 'enough', 'room', 'for', 'all', 'fully', 'to', 'expand', 'their', 'abilities', '.', 'Thus', ',', 'once', 'nature', 'has', 'removed', 'the', 'hard', 'shell', 'from', 'this', 'kernel', 'for', 'which', 'she', 'has', 'most', 'fondly', 'cared', ',', 'namely', ',', 'the', 'inclination', 'to', 'and', 'vocation', 'for', 'free', 'thinking', ',', 'the', 'kernel', 'gradually', 'reacts', 'on', 'a', 'people', \"'s\", 'mentality', '(', 'whereby', 'they', 'become', 'increasingly', 'able', 'to', 'act', 'freely', ')', ',', 'and', 'it', 'finally', 'even', 'influences', 'the', 'principles', 'of', 'government', ',', 'which', 'finds', 'that', 'it', 'can', 'profit', 'by', 'treating', 'men', ',', 'who', 'are', 'now', 'more', 'than', 'machines', ',', 'in', 'accord', 'with', 'their', 'dignity', '.', '*']\n",
      "\n",
      "Текст без стоп-слов:\n",
      "['1', '.', 'Enlightenment', 'man', \"'s\", 'emergence', 'self-imposed', 'immaturity', '.', '[', '2', ']', 'Immaturity', 'inability', 'use', 'one', \"'s\", 'understanding', 'without', 'guidance', 'another', '.', 'immaturity', 'self-imposed', 'cause', 'lies', 'lack', 'understanding', ',', 'lack', 'resolve', 'courage', 'use', 'without', 'guidance', 'another', '.', 'Sapere', 'Aude', '!', '[', '3', ']', '``', 'courage', 'use', 'understanding', '!', \"''\", '--', 'motto', 'enlightenment', '.', '2', '.', 'Laziness', 'cowardice', 'reasons', 'great', 'proportion', 'men', ',', 'long', 'nature', 'released', 'alien', 'guidance', '(', 'natura-liter', 'maiorennes', ')', ',', '[', '4', ']', 'nonetheless', 'gladly', 'remain', 'lifelong', 'immaturity', ',', 'easy', 'others', 'establish', 'guardians', '.', 'easy', 'immature', '.', 'book', 'serve', 'understanding', ',', 'pastor', 'serve', 'conscience', ',', 'physician', 'determine', 'diet', ',', ',', 'need', 'exert', '.', 'need', 'think', ',', 'pay', ':', 'others', 'readily', 'undertake', 'irksome', 'work', '.', 'guardians', 'benevolently', 'taken', 'supervision', 'men', 'carefully', 'seen', 'far', 'greatest', 'part', '(', 'including', 'entire', 'fair', 'sex', ')', 'regard', 'taking', 'step', 'maturity', 'dangerous', ',', 'mention', 'difficult', '.', 'first', 'made', 'domestic', 'livestock', 'dumb', ',', 'carefully', 'made', 'sure', 'docile', 'creatures', 'take', 'single', 'step', 'without', 'go-cart', 'harnessed', ',', 'guardians', 'show', 'danger', 'threatens', ',', 'attempt', 'walk', 'alone', '.', 'danger', 'actually', 'great', ',', 'falling', 'times', 'would', 'end', 'certainly', 'learn', 'walk', ';', 'example', 'kind', 'makes', 'men', 'timid', 'usually', 'frightens', 'attempts', '.', '3', '.', 'Thus', ',', 'difficult', 'individual', 'man', 'work', 'immaturity', 'become', 'nature', '.', 'even', 'become', 'fond', 'state', 'time', 'actually', 'incapable', 'using', 'understanding', ',', 'one', 'ever', 'allowed', 'attempt', '.', 'Rules', 'formulas', ',', 'mechanical', 'aids', 'rational', 'use', ',', 'rather', 'misuse', ',', 'natural', 'gifts', ',', 'shackles', 'permanent', 'immaturity', '.', 'Whoever', 'threw', 'would', 'still', 'make', 'uncertain', 'leap', 'smallest', 'ditch', ',', 'since', 'unaccustomed', 'kind', 'free', 'movement', '.', 'Consequently', ',', 'succeeded', ',', 'cultivating', 'minds', ',', 'freeing', 'immaturity', 'pursuing', 'secure', 'course', '.', '4', '.', 'public', 'enlighten', 'likely', ';', 'indeed', ',', 'allowed', 'freedom', ',', 'enlightenment', 'almost', 'inevitable', '.', 'even', 'among', 'entrenched', 'guardians', 'great', 'masses', 'always', 'think', ',', ',', 'thrown', 'yoke', 'immaturity', ',', 'spread', 'spirit', 'rational', 'appreciation', 'worth', 'person', \"'s\", 'calling', 'think', '.', 'particularly', 'noted', 'public', 'first', 'placed', 'yoke', 'guardians', 'suitably', 'aroused', 'altogether', 'incapable', 'enlightenment', ',', 'may', 'force', 'guardians', 'remain', 'yoke-so', 'pernicious', 'instill', 'prejudices', ',', 'finally', 'take', 'revenge', 'upon', 'originators', ',', 'descendants', '.', 'Thus', 'public', 'attain', 'enlightenment', 'slowly', '.', 'Perhaps', 'revolution', 'overthrow', 'autocratic', 'despotism', 'profiteering', 'power-grabbing', 'oppression', ',', 'never', 'truly', 'reform', 'manner', 'thinking', ';', '[', '5', ']', 'instead', ',', 'new', 'prejudices', ',', 'like', 'old', 'ones', 'replace', ',', 'serve', 'leash', 'great', 'unthinking', 'mass', '.', '5', '.', 'Nothing', 'required', 'enlightenment', ',', 'however', ',', 'except', 'freedom', ';', 'freedom', 'question', 'least', 'harmful', ',', 'namely', ',', 'freedom', 'use', 'reason', 'publicly', 'matters', '.', 'sides', 'hear', ':', '``', 'argue', '!', \"''\", 'officer', 'says', ',', '``', 'argue', ',', 'drill', '!', \"''\", 'tax', 'man', 'says', ',', '``', 'argue', ',', 'pay', '!', \"''\", 'pastor', 'says', ',', '``', 'argue', ',', 'believe', '!', \"''\", '(', 'one', 'ruler', 'world', '[', '6', ']', 'says', ',', '``', 'Argue', 'much', 'want', 'want', ',', 'obey', '!', \"''\", ')', '[', 'examples', ']', 'pervasive', 'restrictions', 'freedom', '.', 'restriction', 'hinders', 'enlightenment', ',', 'instead', 'actually', 'advances', '?', 'reply', ':', 'public', 'use', 'one', \"'s\", 'reason', 'must', 'always', 'free', ',', 'alone', 'bring', 'enlightenment', 'among', 'mankind', ';', 'private', 'use', 'reason', 'may', ',', 'however', ',', 'often', 'narrowly', 'restricted', ',', 'without', 'otherwise', 'hindering', 'progress', 'enlightenment', '.', 'public', 'use', 'one', \"'s\", 'reason', 'understand', 'use', 'anyone', 'scholar', 'makes', 'reason', 'entire', 'literate', 'world', '.', 'call', 'private', 'use', 'reason', 'person', 'may', 'make', 'civic', 'post', 'office', 'entrusted', '.', '[', '7', ']', 'many', 'affairs', 'conducted', 'interests', 'community', ',', 'certain', 'mechanism', 'required', 'means', 'members', 'must', 'conduct', 'entirely', 'passive', 'manner', 'artificial', 'unanimity', 'government', 'may', 'guide', 'toward', 'public', 'ends', ',', 'least', 'prevent', 'destroying', 'ends', '.', 'one', 'certainly', 'must', 'argue', ',', 'instead', 'one', 'must', 'obey', '.', 'However', ',', 'insofar', 'part', 'machine', 'also', 'regards', 'member', 'community', 'whole', ',', 'even', 'world', 'community', ',', 'consequence', 'addresses', 'public', 'role', 'scholar', ',', 'proper', 'sense', 'term', ',', 'certainly', 'argue', ',', 'without', 'thereby', 'harming', 'affairs', 'passive', 'member', 'partly', 'responsible', '.', 'Thus', 'would', 'disastrous', 'officer', 'duty', 'given', 'command', 'superior', 'question', 'appropriateness', 'utility', 'order', '.', 'must', 'obey', '.', 'scholar', 'justly', 'constrained', 'making', 'comments', 'errors', 'military', 'service', ',', 'placing', 'public', 'judgment', '.', 'citizen', 'refuse', 'pay', 'taxes', 'imposed', ';', 'indeed', ',', 'impertinent', 'criticism', 'levies', ',', 'paid', ',', 'punished', 'scandal', '(', 'since', 'lead', 'widespread', 'insubordination', ')', '.', 'person', 'act', 'contrary', 'civic', 'duty', ',', 'scholar', ',', 'publicly', 'expresses', 'thoughts', 'regarding', 'impropriety', 'even', 'injustice', 'taxes', '.', 'Likewise', 'pastor', 'bound', 'instruct', 'catecumens', 'congregation', 'accordance', 'symbol', 'church', 'serves', ',', 'appointed', 'condition', '.', 'scholar', 'complete', 'freedom', ',', 'indeed', 'even', 'calling', ',', 'impart', 'public', 'carefully', 'considered', 'well-intentioned', 'thoughts', 'concerning', 'mistaken', 'aspects', 'symbol', ',', '[', '8', ']', 'well', 'suggestions', 'better', 'arrangement', 'religious', 'church', 'matters', '.', 'Nothing', 'weigh', 'conscience', '.', 'teaches', 'consequence', 'office', 'servant', 'church', 'sets', 'something', 'regard', 'discretion', 'teach', 'accord', 'lights', ';', 'rather', ',', 'offers', 'direction', 'name', 'another', '.', 'say', ',', '``', 'church', 'teaches', 'demonstrations', 'uses', '.', \"''\", 'thereby', 'extracts', 'congregation', 'practical', 'uses', 'precepts', 'would', 'subscribe', 'complete', 'conviction', ',', 'whose', 'presentation', 'nonetheless', 'undertake', ',', 'since', 'entirely', 'impossible', 'truth', 'lies', 'hidden', ',', ',', 'case', ',', 'nothing', 'contrary', 'nature', 'religion', 'found', '.', 'believed', 'could', 'find', 'anything', 'latter', 'sort', ',', 'could', 'good', 'conscience', 'serve', 'position', ';', 'would', 'resign', '.', 'Thus', 'appointed', 'teacher', \"'s\", 'use', 'reason', 'sake', 'congregation', 'merely', 'private', ',', ',', 'however', 'large', 'congregation', ',', 'use', 'always', 'domestic', ';', 'regard', ',', 'priest', ',', 'free', 'acting', 'instructions', 'someone', 'else', '.', 'contrast', ',', 'cleric', '--', 'scholar', 'speaks', 'writings', 'public', ',', 'i.e.', ',', 'world', '--', 'enjoys', 'public', 'use', 'reason', 'unrestricted', 'freedom', 'use', 'rational', 'capacities', 'speak', 'mind', '.', '(', 'spiritual', ')', 'guardians', 'people', 'immature', 'absurdity', 'would', 'insure', 'perpetuation', 'absurdities', '.', '6', '.', 'would', 'society', 'pastors', ',', 'perhaps', 'church', 'assembly', 'venerable', 'presbytery', '(', 'among', 'Dutch', 'call', ')', ',', 'justified', 'binding', 'oath', 'certain', 'unalterable', 'symbol', 'order', 'secure', 'constant', 'guardianship', 'members', 'people', ',', 'time', ':', 'say', 'wholly', 'impossible', '.', 'contract', ',', 'whose', 'intention', 'preclude', 'forever', 'enlightenment', 'human', 'race', ',', 'absolutely', 'null', 'void', ',', 'even', 'ratified', 'supreme', 'power', ',', 'parliaments', ',', 'solemn', 'peace', 'treaties', '.', 'One', 'age', 'bind', ',', 'thus', 'conspire', ',', 'place', 'succeeding', 'one', 'condition', 'whereby', 'would', 'impossible', 'later', 'age', 'expand', 'knowledge', '(', 'particularly', 'important', ')', ',', 'rid', 'errors', ',', 'generally', 'increase', 'enlightenment', '.', 'would', 'crime', 'human', 'nature', ',', 'whose', 'essential', 'destiny', 'lies', 'precisely', 'progress', ';', 'subsequent', 'generations', 'thus', 'completely', 'justified', 'dismissing', 'agreements', 'unauthorized', 'criminal', '.', 'criterion', 'everything', 'agreed', 'upon', 'law', 'people', 'lies', 'question', ':', 'people', 'impose', 'law', '?', '[', '9', ']', 'might', 'possible', ',', 'anticipation', 'better', 'state', 'affairs', ',', 'introduce', 'provisional', 'order', 'specific', ',', 'short', 'time', ',', 'giving', 'citizens', ',', 'especially', 'clergy', ',', 'role', 'scholars', ',', 'freedom', 'comment', 'publicly', ',', 'i.e.', ',', 'writing', ',', 'present', 'institution', \"'s\", 'shortcomings', '.', 'provisional', 'order', 'might', 'last', 'insight', 'nature', 'matters', 'become', 'widespread', 'obvious', 'combined', '(', 'unanimous', ')', 'voices', 'populace', 'could', 'propose', 'crown', 'take', 'protection', 'congregations', ',', 'accord', 'newly', 'gained', 'insight', ',', 'organized', 'altered', 'religious', 'institutions', ',', 'without', 'interfering', 'wishing', 'allow', 'matters', 'remain', '.', 'However', ',', 'absolutely', 'forbidden', 'unite', 'religious', 'organization', 'nobody', 'may', 'duration', 'man', \"'s\", 'lifetime', 'publicly', 'question', ',', 'would', 'deny', ',', 'render', 'fruitless', ',', 'make', 'detrimental', 'succeeding', 'generations', 'era', 'man', \"'s\", 'progress', 'toward', 'improvement', '.', 'man', 'may', 'put', 'enlightenment', 'regard', 'ought', 'know', ',', 'though', 'short', 'time', 'person', ';', 'renounce', ',', ',', 'even', ',', 'subsequent', 'generations', ',', 'violate', 'trample', 'man', \"'s\", 'divine', 'rights', 'underfoot', '.', 'people', 'may', 'decree', 'may', 'still', 'less', 'imposed', 'monarch', ',', 'lawgiving', 'authority', 'rests', 'unification', 'people', \"'s\", 'collective', '.', 'sees', 'genuine', 'purported', 'improvement', 'consonant', 'civil', 'order', ',', 'allow', 'subjects', 'find', 'necessary', 'spiritual', 'well-being', ',', 'affair', '.', 'However', ',', 'must', 'prevent', 'anyone', 'forcibly', 'interfering', 'another', \"'s\", 'working', 'best', 'determine', 'promote', 'well-being', '.', 'detracts', 'majesty', 'interferes', 'matters', ',', 'since', 'writings', 'subjects', 'attempt', 'clarify', 'insights', 'lend', 'value', 'conception', 'governance', '.', 'holds', 'whether', 'acts', 'highest', 'insight', '--', 'whereby', 'calls', 'upon', 'reproach', ',', '``', 'Caesar', 'non', 'eat', 'supra', 'grammaticos', \"''\", '[', '10', ']', '-as', 'well', ',', 'indeed', 'even', ',', 'despoils', 'highest', 'authority', 'supporting', 'spiritual', 'despotism', 'tyrants', 'state', 'subjects', '.', '7', '.', 'asked', ',', '``', 'presently', 'live', 'enlightened', 'age', '?', \"''\", 'answer', ',', '``', ',', 'live', 'age', 'enlightenment', '.', \"''\", 'matters', 'stand', ',', 'great', 'deal', 'still', 'lacking', 'order', 'men', 'whole', ',', 'even', 'put', 'position', 'able', 'without', 'external', 'guidance', 'apply', 'understanding', 'confidently', 'religious', 'issues', '.', 'clear', 'indications', 'way', 'opened', 'men', 'proceed', 'freely', 'direction', 'obstacles', 'general', 'enlightenment', '--', 'release', 'self-imposed', 'immaturity-are', 'gradually', 'diminishing', '.', 'regard', ',', 'age', 'age', 'enlightenment', ',', 'century', 'Frederick', '.', '[', '11', ']', '8', '.', 'prince', 'find', 'beneath', 'say', 'takes', 'duty', 'to-prescribe', 'nothing', ',', 'rather', 'allow', 'men', 'complete', 'freedom', 'religious', 'matters-who', 'thereby', 'renounces', 'arrogant', 'title', 'tolerance-is', 'enlightened', 'deserves', 'praised', 'grateful', 'present', 'posterity', 'first', ',', 'least', 'government', 'concerned', ',', 'release', 'human', 'race', 'immaturity', 'leave', 'everyone', 'free', 'use', 'reason', 'matters', 'conscience', '.', 'rule', ',', 'venerable', 'pastors', ',', 'role', 'scholars', 'without', 'prejudice', 'official', 'duties', ',', 'may', 'freely', 'openly', 'set', 'world', \"'s\", 'scrutiny', 'judgments', 'views', ',', 'even', 'occasionally', 'differ', 'accepted', 'symbol', '.', 'Still', 'greater', 'freedom', 'afforded', 'restricted', 'official', 'post', '.', 'spirit', 'freedom', 'expanding', 'even', 'must', 'struggle', 'external', 'obstacles', 'governments', 'misunderstand', 'function', '.', 'governments', 'illuminated', 'example', 'existence', 'freedom', 'need', 'give', 'cause', 'least', 'concern', 'regarding', 'public', 'order', 'harmony', 'commonwealth', '.', 'refrain', 'inventing', 'artifices', 'keep', ',', 'men', 'gradually', 'raise', 'barbarism', '.', '9', '.', 'focused', 'religious', 'matters', 'setting', 'main', 'point', 'concerning', 'enlightenment', ',', 'i.e.', ',', 'man', \"'s\", 'emergence', 'self-imposed', 'immaturity', ',', 'first', 'rulers', 'interest', 'assuming', 'role', 'subjects', \"'\", 'guardians', 'respect', 'arts', 'sciences', ',', 'secondly', 'form', 'immaturity', 'pernicious', 'disgraceful', '.', 'manner', 'thinking', 'head', 'state', 'favors', 'religious', 'enlightenment', 'goes', 'even', ',', 'realizes', 'danger', 'legislation', 'allowing', 'subjects', 'use', 'reason', 'publicly', 'set', 'world', 'thoughts', 'concerning', 'better', 'formulations', 'laws', ',', 'even', 'involves', 'frank', 'criticism', 'legislation', 'currently', 'effect', '.', 'us', 'shining', 'example', ',', 'respect', 'monarch', 'surpasses', 'one', 'honor', '.', '10', '.', 'ruler', 'enlightened', 'dread', 'shadows', ',', 'yet', 'likewise', 'well-disciplined', ',', 'numerous', 'army', 'guarantee', 'public', 'peace', ',', 'say', 'republic', '[', '12', ']', 'may', 'dare', ',', 'namely', ':', '``', 'Argue', 'much', 'want', 'want', ',', 'obey', '!', \"''\", 'elsewhere', ',', 'things', 'considered', 'broad', 'perspective', ',', 'strange', ',', 'unexpected', 'pattern', 'human', 'affairs', 'reveals', ',', 'one', 'almost', 'everything', 'paradoxical', '.', 'greater', 'degree', 'civil', 'freedom', 'seems', 'advantageous', 'people', \"'s\", 'spiritual', 'freedom', ';', 'yet', 'former', 'established', 'impassable', 'boundaries', 'latter', ';', 'conversely', ',', 'lesser', 'degree', 'civil', 'freedom', 'provides', 'enough', 'room', 'fully', 'expand', 'abilities', '.', 'Thus', ',', 'nature', 'removed', 'hard', 'shell', 'kernel', 'fondly', 'cared', ',', 'namely', ',', 'inclination', 'vocation', 'free', 'thinking', ',', 'kernel', 'gradually', 'reacts', 'people', \"'s\", 'mentality', '(', 'whereby', 'become', 'increasingly', 'able', 'act', 'freely', ')', ',', 'finally', 'even', 'influences', 'principles', 'government', ',', 'finds', 'profit', 'treating', 'men', ',', 'machines', ',', 'accord', 'dignity', '.', '*']\n",
      "\n",
      "Лемматизированный текст:\n",
      "['1', '.', 'Enlightenment', 'man', \"'s\", 'emergence', 'self-imposed', 'immaturity', '.', '[', '2', ']', 'Immaturity', 'inability', 'use', 'one', \"'s\", 'understanding', 'without', 'guidance', 'another', '.', 'immaturity', 'self-imposed', 'cause', 'lie', 'lack', 'understanding', ',', 'lack', 'resolve', 'courage', 'use', 'without', 'guidance', 'another', '.', 'Sapere', 'Aude', '!', '[', '3', ']', '``', 'courage', 'use', 'understanding', '!', \"''\", '--', 'motto', 'enlightenment', '.', '2', '.', 'Laziness', 'cowardice', 'reason', 'great', 'proportion', 'men', ',', 'long', 'nature', 'released', 'alien', 'guidance', '(', 'natura-liter', 'maiorennes', ')', ',', '[', '4', ']', 'nonetheless', 'gladly', 'remain', 'lifelong', 'immaturity', ',', 'easy', 'others', 'establish', 'guardian', '.', 'easy', 'immature', '.', 'book', 'serve', 'understanding', ',', 'pastor', 'serve', 'conscience', ',', 'physician', 'determine', 'diet', ',', ',', 'need', 'exert', '.', 'need', 'think', ',', 'pay', ':', 'others', 'readily', 'undertake', 'irksome', 'work', '.', 'guardian', 'benevolently', 'taken', 'supervision', 'men', 'carefully', 'seen', 'far', 'greatest', 'part', '(', 'including', 'entire', 'fair', 'sex', ')', 'regard', 'taking', 'step', 'maturity', 'dangerous', ',', 'mention', 'difficult', '.', 'first', 'made', 'domestic', 'livestock', 'dumb', ',', 'carefully', 'made', 'sure', 'docile', 'creature', 'take', 'single', 'step', 'without', 'go-cart', 'harnessed', ',', 'guardian', 'show', 'danger', 'threatens', ',', 'attempt', 'walk', 'alone', '.', 'danger', 'actually', 'great', ',', 'falling', 'time', 'would', 'end', 'certainly', 'learn', 'walk', ';', 'example', 'kind', 'make', 'men', 'timid', 'usually', 'frightens', 'attempt', '.', '3', '.', 'Thus', ',', 'difficult', 'individual', 'man', 'work', 'immaturity', 'become', 'nature', '.', 'even', 'become', 'fond', 'state', 'time', 'actually', 'incapable', 'using', 'understanding', ',', 'one', 'ever', 'allowed', 'attempt', '.', 'Rules', 'formula', ',', 'mechanical', 'aid', 'rational', 'use', ',', 'rather', 'misuse', ',', 'natural', 'gift', ',', 'shackle', 'permanent', 'immaturity', '.', 'Whoever', 'threw', 'would', 'still', 'make', 'uncertain', 'leap', 'smallest', 'ditch', ',', 'since', 'unaccustomed', 'kind', 'free', 'movement', '.', 'Consequently', ',', 'succeeded', ',', 'cultivating', 'mind', ',', 'freeing', 'immaturity', 'pursuing', 'secure', 'course', '.', '4', '.', 'public', 'enlighten', 'likely', ';', 'indeed', ',', 'allowed', 'freedom', ',', 'enlightenment', 'almost', 'inevitable', '.', 'even', 'among', 'entrenched', 'guardian', 'great', 'mass', 'always', 'think', ',', ',', 'thrown', 'yoke', 'immaturity', ',', 'spread', 'spirit', 'rational', 'appreciation', 'worth', 'person', \"'s\", 'calling', 'think', '.', 'particularly', 'noted', 'public', 'first', 'placed', 'yoke', 'guardian', 'suitably', 'aroused', 'altogether', 'incapable', 'enlightenment', ',', 'may', 'force', 'guardian', 'remain', 'yoke-so', 'pernicious', 'instill', 'prejudice', ',', 'finally', 'take', 'revenge', 'upon', 'originator', ',', 'descendant', '.', 'Thus', 'public', 'attain', 'enlightenment', 'slowly', '.', 'Perhaps', 'revolution', 'overthrow', 'autocratic', 'despotism', 'profiteering', 'power-grabbing', 'oppression', ',', 'never', 'truly', 'reform', 'manner', 'thinking', ';', '[', '5', ']', 'instead', ',', 'new', 'prejudice', ',', 'like', 'old', 'one', 'replace', ',', 'serve', 'leash', 'great', 'unthinking', 'mass', '.', '5', '.', 'Nothing', 'required', 'enlightenment', ',', 'however', ',', 'except', 'freedom', ';', 'freedom', 'question', 'least', 'harmful', ',', 'namely', ',', 'freedom', 'use', 'reason', 'publicly', 'matter', '.', 'side', 'hear', ':', '``', 'argue', '!', \"''\", 'officer', 'say', ',', '``', 'argue', ',', 'drill', '!', \"''\", 'tax', 'man', 'say', ',', '``', 'argue', ',', 'pay', '!', \"''\", 'pastor', 'say', ',', '``', 'argue', ',', 'believe', '!', \"''\", '(', 'one', 'ruler', 'world', '[', '6', ']', 'say', ',', '``', 'Argue', 'much', 'want', 'want', ',', 'obey', '!', \"''\", ')', '[', 'example', ']', 'pervasive', 'restriction', 'freedom', '.', 'restriction', 'hinders', 'enlightenment', ',', 'instead', 'actually', 'advance', '?', 'reply', ':', 'public', 'use', 'one', \"'s\", 'reason', 'must', 'always', 'free', ',', 'alone', 'bring', 'enlightenment', 'among', 'mankind', ';', 'private', 'use', 'reason', 'may', ',', 'however', ',', 'often', 'narrowly', 'restricted', ',', 'without', 'otherwise', 'hindering', 'progress', 'enlightenment', '.', 'public', 'use', 'one', \"'s\", 'reason', 'understand', 'use', 'anyone', 'scholar', 'make', 'reason', 'entire', 'literate', 'world', '.', 'call', 'private', 'use', 'reason', 'person', 'may', 'make', 'civic', 'post', 'office', 'entrusted', '.', '[', '7', ']', 'many', 'affair', 'conducted', 'interest', 'community', ',', 'certain', 'mechanism', 'required', 'mean', 'member', 'must', 'conduct', 'entirely', 'passive', 'manner', 'artificial', 'unanimity', 'government', 'may', 'guide', 'toward', 'public', 'end', ',', 'least', 'prevent', 'destroying', 'end', '.', 'one', 'certainly', 'must', 'argue', ',', 'instead', 'one', 'must', 'obey', '.', 'However', ',', 'insofar', 'part', 'machine', 'also', 'regard', 'member', 'community', 'whole', ',', 'even', 'world', 'community', ',', 'consequence', 'address', 'public', 'role', 'scholar', ',', 'proper', 'sense', 'term', ',', 'certainly', 'argue', ',', 'without', 'thereby', 'harming', 'affair', 'passive', 'member', 'partly', 'responsible', '.', 'Thus', 'would', 'disastrous', 'officer', 'duty', 'given', 'command', 'superior', 'question', 'appropriateness', 'utility', 'order', '.', 'must', 'obey', '.', 'scholar', 'justly', 'constrained', 'making', 'comment', 'error', 'military', 'service', ',', 'placing', 'public', 'judgment', '.', 'citizen', 'refuse', 'pay', 'tax', 'imposed', ';', 'indeed', ',', 'impertinent', 'criticism', 'levy', ',', 'paid', ',', 'punished', 'scandal', '(', 'since', 'lead', 'widespread', 'insubordination', ')', '.', 'person', 'act', 'contrary', 'civic', 'duty', ',', 'scholar', ',', 'publicly', 'express', 'thought', 'regarding', 'impropriety', 'even', 'injustice', 'tax', '.', 'Likewise', 'pastor', 'bound', 'instruct', 'catecumens', 'congregation', 'accordance', 'symbol', 'church', 'serf', ',', 'appointed', 'condition', '.', 'scholar', 'complete', 'freedom', ',', 'indeed', 'even', 'calling', ',', 'impart', 'public', 'carefully', 'considered', 'well-intentioned', 'thought', 'concerning', 'mistaken', 'aspect', 'symbol', ',', '[', '8', ']', 'well', 'suggestion', 'better', 'arrangement', 'religious', 'church', 'matter', '.', 'Nothing', 'weigh', 'conscience', '.', 'teach', 'consequence', 'office', 'servant', 'church', 'set', 'something', 'regard', 'discretion', 'teach', 'accord', 'light', ';', 'rather', ',', 'offer', 'direction', 'name', 'another', '.', 'say', ',', '``', 'church', 'teach', 'demonstration', 'us', '.', \"''\", 'thereby', 'extract', 'congregation', 'practical', 'us', 'precept', 'would', 'subscribe', 'complete', 'conviction', ',', 'whose', 'presentation', 'nonetheless', 'undertake', ',', 'since', 'entirely', 'impossible', 'truth', 'lie', 'hidden', ',', ',', 'case', ',', 'nothing', 'contrary', 'nature', 'religion', 'found', '.', 'believed', 'could', 'find', 'anything', 'latter', 'sort', ',', 'could', 'good', 'conscience', 'serve', 'position', ';', 'would', 'resign', '.', 'Thus', 'appointed', 'teacher', \"'s\", 'use', 'reason', 'sake', 'congregation', 'merely', 'private', ',', ',', 'however', 'large', 'congregation', ',', 'use', 'always', 'domestic', ';', 'regard', ',', 'priest', ',', 'free', 'acting', 'instruction', 'someone', 'else', '.', 'contrast', ',', 'cleric', '--', 'scholar', 'speaks', 'writing', 'public', ',', 'i.e.', ',', 'world', '--', 'enjoys', 'public', 'use', 'reason', 'unrestricted', 'freedom', 'use', 'rational', 'capacity', 'speak', 'mind', '.', '(', 'spiritual', ')', 'guardian', 'people', 'immature', 'absurdity', 'would', 'insure', 'perpetuation', 'absurdity', '.', '6', '.', 'would', 'society', 'pastor', ',', 'perhaps', 'church', 'assembly', 'venerable', 'presbytery', '(', 'among', 'Dutch', 'call', ')', ',', 'justified', 'binding', 'oath', 'certain', 'unalterable', 'symbol', 'order', 'secure', 'constant', 'guardianship', 'member', 'people', ',', 'time', ':', 'say', 'wholly', 'impossible', '.', 'contract', ',', 'whose', 'intention', 'preclude', 'forever', 'enlightenment', 'human', 'race', ',', 'absolutely', 'null', 'void', ',', 'even', 'ratified', 'supreme', 'power', ',', 'parliament', ',', 'solemn', 'peace', 'treaty', '.', 'One', 'age', 'bind', ',', 'thus', 'conspire', ',', 'place', 'succeeding', 'one', 'condition', 'whereby', 'would', 'impossible', 'later', 'age', 'expand', 'knowledge', '(', 'particularly', 'important', ')', ',', 'rid', 'error', ',', 'generally', 'increase', 'enlightenment', '.', 'would', 'crime', 'human', 'nature', ',', 'whose', 'essential', 'destiny', 'lie', 'precisely', 'progress', ';', 'subsequent', 'generation', 'thus', 'completely', 'justified', 'dismissing', 'agreement', 'unauthorized', 'criminal', '.', 'criterion', 'everything', 'agreed', 'upon', 'law', 'people', 'lie', 'question', ':', 'people', 'impose', 'law', '?', '[', '9', ']', 'might', 'possible', ',', 'anticipation', 'better', 'state', 'affair', ',', 'introduce', 'provisional', 'order', 'specific', ',', 'short', 'time', ',', 'giving', 'citizen', ',', 'especially', 'clergy', ',', 'role', 'scholar', ',', 'freedom', 'comment', 'publicly', ',', 'i.e.', ',', 'writing', ',', 'present', 'institution', \"'s\", 'shortcoming', '.', 'provisional', 'order', 'might', 'last', 'insight', 'nature', 'matter', 'become', 'widespread', 'obvious', 'combined', '(', 'unanimous', ')', 'voice', 'populace', 'could', 'propose', 'crown', 'take', 'protection', 'congregation', ',', 'accord', 'newly', 'gained', 'insight', ',', 'organized', 'altered', 'religious', 'institution', ',', 'without', 'interfering', 'wishing', 'allow', 'matter', 'remain', '.', 'However', ',', 'absolutely', 'forbidden', 'unite', 'religious', 'organization', 'nobody', 'may', 'duration', 'man', \"'s\", 'lifetime', 'publicly', 'question', ',', 'would', 'deny', ',', 'render', 'fruitless', ',', 'make', 'detrimental', 'succeeding', 'generation', 'era', 'man', \"'s\", 'progress', 'toward', 'improvement', '.', 'man', 'may', 'put', 'enlightenment', 'regard', 'ought', 'know', ',', 'though', 'short', 'time', 'person', ';', 'renounce', ',', ',', 'even', ',', 'subsequent', 'generation', ',', 'violate', 'trample', 'man', \"'s\", 'divine', 'right', 'underfoot', '.', 'people', 'may', 'decree', 'may', 'still', 'le', 'imposed', 'monarch', ',', 'lawgiving', 'authority', 'rest', 'unification', 'people', \"'s\", 'collective', '.', 'see', 'genuine', 'purported', 'improvement', 'consonant', 'civil', 'order', ',', 'allow', 'subject', 'find', 'necessary', 'spiritual', 'well-being', ',', 'affair', '.', 'However', ',', 'must', 'prevent', 'anyone', 'forcibly', 'interfering', 'another', \"'s\", 'working', 'best', 'determine', 'promote', 'well-being', '.', 'detracts', 'majesty', 'interferes', 'matter', ',', 'since', 'writing', 'subject', 'attempt', 'clarify', 'insight', 'lend', 'value', 'conception', 'governance', '.', 'hold', 'whether', 'act', 'highest', 'insight', '--', 'whereby', 'call', 'upon', 'reproach', ',', '``', 'Caesar', 'non', 'eat', 'supra', 'grammaticos', \"''\", '[', '10', ']', '-as', 'well', ',', 'indeed', 'even', ',', 'despoils', 'highest', 'authority', 'supporting', 'spiritual', 'despotism', 'tyrant', 'state', 'subject', '.', '7', '.', 'asked', ',', '``', 'presently', 'live', 'enlightened', 'age', '?', \"''\", 'answer', ',', '``', ',', 'live', 'age', 'enlightenment', '.', \"''\", 'matter', 'stand', ',', 'great', 'deal', 'still', 'lacking', 'order', 'men', 'whole', ',', 'even', 'put', 'position', 'able', 'without', 'external', 'guidance', 'apply', 'understanding', 'confidently', 'religious', 'issue', '.', 'clear', 'indication', 'way', 'opened', 'men', 'proceed', 'freely', 'direction', 'obstacle', 'general', 'enlightenment', '--', 'release', 'self-imposed', 'immaturity-are', 'gradually', 'diminishing', '.', 'regard', ',', 'age', 'age', 'enlightenment', ',', 'century', 'Frederick', '.', '[', '11', ']', '8', '.', 'prince', 'find', 'beneath', 'say', 'take', 'duty', 'to-prescribe', 'nothing', ',', 'rather', 'allow', 'men', 'complete', 'freedom', 'religious', 'matters-who', 'thereby', 'renounces', 'arrogant', 'title', 'tolerance-is', 'enlightened', 'deserves', 'praised', 'grateful', 'present', 'posterity', 'first', ',', 'least', 'government', 'concerned', ',', 'release', 'human', 'race', 'immaturity', 'leave', 'everyone', 'free', 'use', 'reason', 'matter', 'conscience', '.', 'rule', ',', 'venerable', 'pastor', ',', 'role', 'scholar', 'without', 'prejudice', 'official', 'duty', ',', 'may', 'freely', 'openly', 'set', 'world', \"'s\", 'scrutiny', 'judgment', 'view', ',', 'even', 'occasionally', 'differ', 'accepted', 'symbol', '.', 'Still', 'greater', 'freedom', 'afforded', 'restricted', 'official', 'post', '.', 'spirit', 'freedom', 'expanding', 'even', 'must', 'struggle', 'external', 'obstacle', 'government', 'misunderstand', 'function', '.', 'government', 'illuminated', 'example', 'existence', 'freedom', 'need', 'give', 'cause', 'least', 'concern', 'regarding', 'public', 'order', 'harmony', 'commonwealth', '.', 'refrain', 'inventing', 'artifice', 'keep', ',', 'men', 'gradually', 'raise', 'barbarism', '.', '9', '.', 'focused', 'religious', 'matter', 'setting', 'main', 'point', 'concerning', 'enlightenment', ',', 'i.e.', ',', 'man', \"'s\", 'emergence', 'self-imposed', 'immaturity', ',', 'first', 'ruler', 'interest', 'assuming', 'role', 'subject', \"'\", 'guardian', 'respect', 'art', 'science', ',', 'secondly', 'form', 'immaturity', 'pernicious', 'disgraceful', '.', 'manner', 'thinking', 'head', 'state', 'favor', 'religious', 'enlightenment', 'go', 'even', ',', 'realizes', 'danger', 'legislation', 'allowing', 'subject', 'use', 'reason', 'publicly', 'set', 'world', 'thought', 'concerning', 'better', 'formulation', 'law', ',', 'even', 'involves', 'frank', 'criticism', 'legislation', 'currently', 'effect', '.', 'u', 'shining', 'example', ',', 'respect', 'monarch', 'surpasses', 'one', 'honor', '.', '10', '.', 'ruler', 'enlightened', 'dread', 'shadow', ',', 'yet', 'likewise', 'well-disciplined', ',', 'numerous', 'army', 'guarantee', 'public', 'peace', ',', 'say', 'republic', '[', '12', ']', 'may', 'dare', ',', 'namely', ':', '``', 'Argue', 'much', 'want', 'want', ',', 'obey', '!', \"''\", 'elsewhere', ',', 'thing', 'considered', 'broad', 'perspective', ',', 'strange', ',', 'unexpected', 'pattern', 'human', 'affair', 'reveals', ',', 'one', 'almost', 'everything', 'paradoxical', '.', 'greater', 'degree', 'civil', 'freedom', 'seems', 'advantageous', 'people', \"'s\", 'spiritual', 'freedom', ';', 'yet', 'former', 'established', 'impassable', 'boundary', 'latter', ';', 'conversely', ',', 'lesser', 'degree', 'civil', 'freedom', 'provides', 'enough', 'room', 'fully', 'expand', 'ability', '.', 'Thus', ',', 'nature', 'removed', 'hard', 'shell', 'kernel', 'fondly', 'cared', ',', 'namely', ',', 'inclination', 'vocation', 'free', 'thinking', ',', 'kernel', 'gradually', 'reacts', 'people', \"'s\", 'mentality', '(', 'whereby', 'become', 'increasingly', 'able', 'act', 'freely', ')', ',', 'finally', 'even', 'influence', 'principle', 'government', ',', 'find', 'profit', 'treating', 'men', ',', 'machine', ',', 'accord', 'dignity', '.', '*']\n",
      "CPU times: user 11.7 ms, sys: 767 µs, total: 12.5 ms\n",
      "Wall time: 12.3 ms\n"
     ]
    },
    {
     "name": "stderr",
     "output_type": "stream",
     "text": [
      "[nltk_data] Downloading package punkt to /home/gea/nltk_data...\n",
      "[nltk_data]   Package punkt is already up-to-date!\n",
      "[nltk_data] Downloading package stopwords to /home/gea/nltk_data...\n",
      "[nltk_data]   Package stopwords is already up-to-date!\n",
      "[nltk_data] Downloading package wordnet to /home/gea/nltk_data...\n",
      "[nltk_data]   Package wordnet is already up-to-date!\n"
     ]
    }
   ],
   "source": [
    "%%time\n",
    "# Предварительная загрузка ресурсов NLTK (если не установлено)\n",
    "nltk.download('punkt')\n",
    "nltk.download('stopwords')\n",
    "nltk.download('wordnet')\n",
    "\n",
    "# Токенизация: разделение текста на слова\n",
    "tokens = word_tokenize(text)\n",
    "\n",
    "# Удаление стоп-слов: слова, которые часто встречаются и не несут смысла (предлоги, союзы и др.)\n",
    "stop_words = set(stopwords.words('english'))\n",
    "filtered_tokens = [word for word in tokens if word.lower() not in stop_words]\n",
    "\n",
    "# Лемматизация: приведение слов к их базовой форме (лемме)\n",
    "lemmatizer = WordNetLemmatizer()\n",
    "lemmatized_tokens = [lemmatizer.lemmatize(word) for word in filtered_tokens]\n",
    "\n",
    "# Результаты\n",
    "print(\"Исходный текст:\")\n",
    "print(text)\n",
    "\n",
    "print(\"\\nТокенизированный текст:\")\n",
    "print(tokens)\n",
    "\n",
    "print(\"\\nТекст без стоп-слов:\")\n",
    "print(filtered_tokens)\n",
    "\n",
    "print(\"\\nЛемматизированный текст:\")\n",
    "print(lemmatized_tokens)\n"
   ]
  },
  {
   "cell_type": "code",
   "execution_count": 16,
   "id": "4dc0230c-93cc-4d30-8e53-16d5e5cd19e9",
   "metadata": {},
   "outputs": [],
   "source": [
    "from gensim.models import Word2Vec\n",
    "from nltk.tokenize import word_tokenize\n",
    "import nltk"
   ]
  },
  {
   "cell_type": "code",
   "execution_count": 29,
   "id": "32488162-601a-4728-8e52-87f238403a8e",
   "metadata": {},
   "outputs": [
    {
     "name": "stderr",
     "output_type": "stream",
     "text": [
      "[nltk_data] Downloading package punkt to /home/gea/nltk_data...\n",
      "[nltk_data]   Package punkt is already up-to-date!\n"
     ]
    },
    {
     "ename": "KeyError",
     "evalue": "\"Key 'man' not present\"",
     "output_type": "error",
     "traceback": [
      "\u001b[0;31m---------------------------------------------------------------------------\u001b[0m",
      "\u001b[0;31mKeyError\u001b[0m                                  Traceback (most recent call last)",
      "\u001b[1;32m/home/gea/TMS_projects/Texts_1.ipynb Cell 6\u001b[0m line \u001b[0;36m1\n\u001b[1;32m     <a href='vscode-notebook-cell:/home/gea/TMS_projects/Texts_1.ipynb#W4sZmlsZQ%3D%3D?line=9'>10</a>\u001b[0m model \u001b[39m=\u001b[39m Word2Vec(tokenized_corpus, vector_size\u001b[39m=\u001b[39m\u001b[39m10000\u001b[39m, window\u001b[39m=\u001b[39m\u001b[39m5\u001b[39m, min_count\u001b[39m=\u001b[39m\u001b[39m1\u001b[39m, sg\u001b[39m=\u001b[39m\u001b[39m0\u001b[39m)\n\u001b[1;32m     <a href='vscode-notebook-cell:/home/gea/TMS_projects/Texts_1.ipynb#W4sZmlsZQ%3D%3D?line=11'>12</a>\u001b[0m \u001b[39m# Получение векторного представления слова\u001b[39;00m\n\u001b[0;32m---> <a href='vscode-notebook-cell:/home/gea/TMS_projects/Texts_1.ipynb#W4sZmlsZQ%3D%3D?line=12'>13</a>\u001b[0m vector \u001b[39m=\u001b[39m model\u001b[39m.\u001b[39mwv[\u001b[39m'\u001b[39m\u001b[39mman\u001b[39m\u001b[39m'\u001b[39m]\n\u001b[1;32m     <a href='vscode-notebook-cell:/home/gea/TMS_projects/Texts_1.ipynb#W4sZmlsZQ%3D%3D?line=13'>14</a>\u001b[0m \u001b[39mprint\u001b[39m(\u001b[39m\"\u001b[39m\u001b[39mВекторное представление слова \u001b[39m\u001b[39m'\u001b[39m\u001b[39mman\u001b[39m\u001b[39m'\u001b[39m\u001b[39m:\u001b[39m\u001b[39m\"\u001b[39m)\n\u001b[1;32m     <a href='vscode-notebook-cell:/home/gea/TMS_projects/Texts_1.ipynb#W4sZmlsZQ%3D%3D?line=14'>15</a>\u001b[0m \u001b[39mprint\u001b[39m(vector)\n",
      "File \u001b[0;32m~/anaconda3/lib/python3.11/site-packages/gensim/models/keyedvectors.py:403\u001b[0m, in \u001b[0;36mKeyedVectors.__getitem__\u001b[0;34m(self, key_or_keys)\u001b[0m\n\u001b[1;32m    389\u001b[0m \u001b[39m\u001b[39m\u001b[39m\"\"\"Get vector representation of `key_or_keys`.\u001b[39;00m\n\u001b[1;32m    390\u001b[0m \n\u001b[1;32m    391\u001b[0m \u001b[39mParameters\u001b[39;00m\n\u001b[0;32m   (...)\u001b[0m\n\u001b[1;32m    400\u001b[0m \n\u001b[1;32m    401\u001b[0m \u001b[39m\"\"\"\u001b[39;00m\n\u001b[1;32m    402\u001b[0m \u001b[39mif\u001b[39;00m \u001b[39misinstance\u001b[39m(key_or_keys, _KEY_TYPES):\n\u001b[0;32m--> 403\u001b[0m     \u001b[39mreturn\u001b[39;00m \u001b[39mself\u001b[39m\u001b[39m.\u001b[39mget_vector(key_or_keys)\n\u001b[1;32m    405\u001b[0m \u001b[39mreturn\u001b[39;00m vstack([\u001b[39mself\u001b[39m\u001b[39m.\u001b[39mget_vector(key) \u001b[39mfor\u001b[39;00m key \u001b[39min\u001b[39;00m key_or_keys])\n",
      "File \u001b[0;32m~/anaconda3/lib/python3.11/site-packages/gensim/models/keyedvectors.py:446\u001b[0m, in \u001b[0;36mKeyedVectors.get_vector\u001b[0;34m(self, key, norm)\u001b[0m\n\u001b[1;32m    422\u001b[0m \u001b[39mdef\u001b[39;00m \u001b[39mget_vector\u001b[39m(\u001b[39mself\u001b[39m, key, norm\u001b[39m=\u001b[39m\u001b[39mFalse\u001b[39;00m):\n\u001b[1;32m    423\u001b[0m \u001b[39m    \u001b[39m\u001b[39m\"\"\"Get the key's vector, as a 1D numpy array.\u001b[39;00m\n\u001b[1;32m    424\u001b[0m \n\u001b[1;32m    425\u001b[0m \u001b[39m    Parameters\u001b[39;00m\n\u001b[0;32m   (...)\u001b[0m\n\u001b[1;32m    444\u001b[0m \n\u001b[1;32m    445\u001b[0m \u001b[39m    \"\"\"\u001b[39;00m\n\u001b[0;32m--> 446\u001b[0m     index \u001b[39m=\u001b[39m \u001b[39mself\u001b[39m\u001b[39m.\u001b[39mget_index(key)\n\u001b[1;32m    447\u001b[0m     \u001b[39mif\u001b[39;00m norm:\n\u001b[1;32m    448\u001b[0m         \u001b[39mself\u001b[39m\u001b[39m.\u001b[39mfill_norms()\n",
      "File \u001b[0;32m~/anaconda3/lib/python3.11/site-packages/gensim/models/keyedvectors.py:420\u001b[0m, in \u001b[0;36mKeyedVectors.get_index\u001b[0;34m(self, key, default)\u001b[0m\n\u001b[1;32m    418\u001b[0m     \u001b[39mreturn\u001b[39;00m default\n\u001b[1;32m    419\u001b[0m \u001b[39melse\u001b[39;00m:\n\u001b[0;32m--> 420\u001b[0m     \u001b[39mraise\u001b[39;00m \u001b[39mKeyError\u001b[39;00m(\u001b[39mf\u001b[39m\u001b[39m\"\u001b[39m\u001b[39mKey \u001b[39m\u001b[39m'\u001b[39m\u001b[39m{\u001b[39;00mkey\u001b[39m}\u001b[39;00m\u001b[39m'\u001b[39m\u001b[39m not present\u001b[39m\u001b[39m\"\u001b[39m)\n",
      "\u001b[0;31mKeyError\u001b[0m: \"Key 'man' not present\""
     ]
    }
   ],
   "source": [
    "nltk.download('punkt')\n",
    "\n",
    "# Пример текстового корпуса для обучения модели Word2Vec\n",
    "corpus = \"\"\"Enlightenment is man's emergence from his self-imposed immaturity.[2] Immaturity is the inability to use one's understanding without guidance from another. This immaturity is self-imposed when its cause lies not in lack of understanding, but in lack of resolve and courage to use it without guidance from another. Sapere Aude![3] \"Have courage to use your own understanding!\"--that is the motto of enlightenment.\"\"\"\n",
    "\n",
    "# Токенизация текста\n",
    "tokenized_corpus = [word_tokenize(sentence.lower()) for sentence in corpus]\n",
    "\n",
    "# Обучение модели Word2Vec\n",
    "model = Word2Vec(tokenized_corpus, vector_size=10000, window=5, min_count=1, sg=0)\n",
    "\n",
    "# Получение векторного представления слова\n",
    "vector = model.wv['man']\n",
    "print(\"Векторное представление слова 'man':\")\n",
    "print(vector)\n",
    "corpus\n"
   ]
  },
  {
   "cell_type": "code",
   "execution_count": 32,
   "id": "3974a865-4eec-4872-b4e4-69869835d6aa",
   "metadata": {},
   "outputs": [
    {
     "name": "stdout",
     "output_type": "stream",
     "text": [
      "Векторное представление слова 'man':\n",
      "[-1.4934   -0.44032   1.5805   -0.48831   3.7497   -0.29825   4.1223\n",
      "  4.004    -3.271    -2.0202    7.9833    0.87872  -4.1247   -0.13747\n",
      "  1.5414    4.0245    2.7148    3.1425   -3.2576    0.32409   0.057836\n",
      "  1.9679   -3.8305    2.6766   -2.7435   -2.2817   -3.8952   -0.15592\n",
      " -2.5024    2.6545    1.9328    1.8228    0.69149  -2.9409   -4.0077\n",
      " -2.2755    2.8408    0.59337  -0.66897  -1.3631   -1.3069   -2.4144\n",
      " -2.7463    1.0189   -3.4891    2.056     2.2409   -0.66431   1.308\n",
      " -1.5553   -2.6961    3.0136   -1.6751   -3.0872   -2.2302   -0.16861\n",
      " -0.22195   1.2526    1.274    -2.5261    2.1151   -1.5272   -2.3978\n",
      " -1.6692    2.7577    2.7064   -2.3293   -7.2021    2.2296    1.9931\n",
      " -1.7286    2.12     -3.3019    0.75984  -4.1834    2.6382   -3.5655\n",
      "  1.066    -2.3191    0.67348  -2.3976    1.8697    0.87584   0.32804\n",
      "  2.7143    0.49941  -5.2189   -4.2316    1.349    -0.32338   1.7024\n",
      "  2.0453    5.9599   -5.8201   -0.26612   0.16548   0.48328  -0.43912\n",
      "  2.2063    0.41786   2.9051    2.4368    4.2062    3.6643    0.81758\n",
      "  5.7982    2.5768   -3.386     1.0778   -3.28      1.5052    1.2756\n",
      " -3.4954    1.4293    0.90368   2.2885   -4.2937   -0.57137  -1.7581\n",
      " -2.8429   -2.9573   -5.3471    0.16437   0.80341  -2.2349   -2.7394\n",
      "  0.86787  -5.9628    3.2007   -4.6029   -6.632     1.1398    4.7052\n",
      "  0.29264  -1.4783    0.48102  -0.5031   -0.073794  0.74784  -1.1702\n",
      "  0.74206  -0.64836  -0.068152  0.79387   4.4364   -0.44058  -6.8874\n",
      " -1.9211    1.0261    6.086     2.5841    2.173    -0.60259   0.11213\n",
      " -0.7979    3.6837    2.3931    0.25457   0.096234 -5.2802    0.65169\n",
      " -1.4959    1.4643    1.6186   -1.4129   -3.559    -4.8782   -0.75628\n",
      "  1.7334   -2.3427   -0.81058  -1.4286    2.5244    0.84027   3.8338\n",
      "  2.3829    0.19918   2.0499   -4.5573   -1.2167   -1.401     1.1825\n",
      "  3.4428   -0.28514  -1.4761    0.7228   -2.3402   -1.5611    1.7795\n",
      "  1.5834   -2.4145   -2.3292    3.5355   -0.28046   2.7152   -1.8738\n",
      " -4.8715    1.1285    1.1101    1.2665    0.54577  -2.2169   -2.4187\n",
      " -2.4086    3.3002   -0.30671  -4.0322    0.26906  -1.0094   -3.2515\n",
      "  0.18032  -0.3077   -2.3084    4.78      0.18665   2.8527    1.862\n",
      " -2.8662    2.6073   -0.056525 -3.7603    1.6896   -1.1865   -0.084361\n",
      " -1.6129    1.9088    1.0438    5.336     5.0198   -0.33027   3.7739\n",
      " -4.3149    0.43611   1.3403    2.0947    2.1218    0.17754   2.3779\n",
      "  1.4461    1.4289   -0.98789  -0.68233   0.77551   2.9131    1.359\n",
      " -1.9941   -3.1302    1.8834   -1.7625    1.8162    1.3943   -3.9983\n",
      " -5.326    -2.2723    0.41974  -2.1497    1.2746    1.0629   -0.085963\n",
      " -1.0928   -0.81972   3.6309    5.6646    4.32      1.6193    1.4119\n",
      " -0.80984   3.7533   -1.8444   -0.64258   0.12228   0.34408   0.33684\n",
      " -1.4067    2.7577    0.047042  2.0394   -2.4819   -2.2828    1.8359\n",
      "  3.7555   -0.16459   2.1168    0.32612   4.1339    0.39153   0.66839\n",
      "  0.98883   0.5768   -0.17211   4.5102   -0.73263   0.058612 -1.3388\n",
      "  0.06273  -0.36923   3.0314   -2.6002   -2.764     2.329   ]\n"
     ]
    }
   ],
   "source": [
    "import spacy\n",
    "\n",
    "# Загрузка модели GloVe (предварительно обученной модели GloVe)\n",
    "nlp = spacy.load(\"en_core_web_md\")\n",
    "\n",
    "# Анализ текста с использованием модели GloVe\n",
    "doc = nlp(corpus)\n",
    "\n",
    "# Получение векторного представления слова\n",
    "vector = doc[0].vector  # \"Language\"\n",
    "print(\"Векторное представление слова 'man':\")\n",
    "print(vector)\n"
   ]
  },
  {
   "cell_type": "markdown",
   "id": "715661c7-2f76-4984-a8ce-2cb47208d544",
   "metadata": {},
   "source": [
    "Преобразование TF-IDF (Term Frequency-Inverse Document Frequency) используется для оценки важности слов в текстовых документах. Этот метод выделяет слова, которые встречаются часто в конкретном документе, но редко в других документах, считая их более информативными. Вот пример TF-IDF преобразования на Python с использованием библиотеки scikit-learn:"
   ]
  },
  {
   "cell_type": "code",
   "execution_count": 33,
   "id": "a2f024b2-ba4e-4bb9-a990-f70205ec236e",
   "metadata": {},
   "outputs": [
    {
     "name": "stdout",
     "output_type": "stream",
     "text": [
      "TF-IDF матрица:\n",
      "[[0.         0.         0.         ... 0.         0.         0.11957595]\n",
      " [0.04275595 0.08551191 0.         ... 0.04275595 0.         0.        ]\n",
      " [0.07325809 0.         0.0929186  ... 0.07325809 0.         0.        ]\n",
      " [0.         0.05179104 0.         ... 0.         0.19707111 0.        ]]\n",
      "\n",
      "Список слов (терминов):\n",
      "['actually' 'after' 'aids' 'alien' 'all' 'allowed' 'almost' 'alone'\n",
      " 'altogether' 'always' 'among' 'an' 'and' 'another' 'any' 'appreciation'\n",
      " 'are' 'aroused' 'as' 'at' 'attain' 'attempt' 'attempts' 'aude'\n",
      " 'autocratic' 'be' 'become' 'being' 'benevolently' 'book' 'both' 'but'\n",
      " 'by' 'calling' 'can' 'carefully' 'cart' 'cause' 'certainly' 'conscience'\n",
      " 'consequently' 'courage' 'course' 'cowardice' 'creatures' 'cultivating'\n",
      " 'danger' 'dangerous' 'descendants' 'despotism' 'determine' 'diet'\n",
      " 'difficult' 'ditch' 'docile' 'domestic' 'dumb' 'each' 'easy' 'emergence'\n",
      " 'end' 'enlighten' 'enlightenment' 'entire' 'entrenched' 'establish'\n",
      " 'even' 'ever' 'example' 'exert' 'fair' 'falling' 'far' 'few' 'finally'\n",
      " 'first' 'fond' 'for' 'force' 'formulas' 'free' 'freedom' 'freeing'\n",
      " 'frightens' 'from' 'further' 'gifts' 'gladly' 'go' 'grabbing' 'great'\n",
      " 'greatest' 'guardians' 'guidance' 'harnessed' 'has' 'have' 'having' 'he'\n",
      " 'him' 'himself' 'his' 'if' 'immature' 'immaturity' 'imposed' 'in'\n",
      " 'inability' 'incapable' 'including' 'indeed' 'individual' 'inevitable'\n",
      " 'instead' 'instill' 'irksome' 'is' 'it' 'its' 'itself' 'just' 'kind'\n",
      " 'lack' 'laziness' 'leap' 'learn' 'leash' 'lies' 'lifelong' 'like'\n",
      " 'likely' 'liter' 'livestock' 'long' 'made' 'maiorennes' 'make' 'makes'\n",
      " 'man' 'manner' 'mass' 'masses' 'maturity' 'may' 'me' 'mechanical' 'men'\n",
      " 'mention' 'minds' 'misuse' 'more' 'motto' 'movement' 'my' 'myself'\n",
      " 'natura' 'natural' 'nature' 'need' 'never' 'new' 'no' 'nonetheless' 'not'\n",
      " 'noted' 'now' 'of' 'off' 'old' 'on' 'one' 'ones' 'only' 'oppression' 'or'\n",
      " 'originators' 'others' 'out' 'over' 'overthrow' 'own' 'part'\n",
      " 'particularly' 'pastor' 'pay' 'perhaps' 'permanent' 'pernicious' 'person'\n",
      " 'physician' 'placed' 'power' 'prejudices' 'profiteering' 'proportion'\n",
      " 'public' 'pursuing' 'rather' 'rational' 'readily' 'reasons' 'reform'\n",
      " 'regard' 'released' 'remain' 'replace' 'resolve' 'revenge' 'revolution'\n",
      " 'rules' 'sapere' 'secure' 'seen' 'self' 'serve' 'sex' 'shackles' 'should'\n",
      " 'show' 'since' 'single' 'slowly' 'smallest' 'so' 'some' 'spirit' 'spread'\n",
      " 'state' 'step' 'still' 'succeeded' 'suitably' 'supervision' 'sure' 'take'\n",
      " 'taken' 'taking' 'that' 'the' 'their' 'them' 'themselves' 'then' 'these'\n",
      " 'they' 'think' 'thinking' 'this' 'those' 'threatens' 'threw' 'thrown'\n",
      " 'thus' 'time' 'times' 'timid' 'to' 'truly' 'unaccustomed' 'uncertain'\n",
      " 'under' 'understanding' 'undertake' 'unthinking' 'upon' 'use' 'using'\n",
      " 'usually' 'very' 'walk' 'was' 'when' 'which' 'who' 'whoever' 'why' 'will'\n",
      " 'without' 'work' 'worth' 'would' 'yoke' 'your']\n"
     ]
    }
   ],
   "source": [
    "from sklearn.feature_extraction.text import TfidfVectorizer\n",
    "\n",
    "# Пример текстовых документов\n",
    "documents = [\n",
    "    \"\"\"Enlightenment is man's emergence from his self-imposed immaturity.[2] Immaturity is the inability to use one's understanding without guidance from another. This immaturity is self-imposed when its cause lies not in lack of understanding, but in lack of resolve and courage to use it without guidance from another. Sapere Aude![3] \"Have courage to use your own understanding!\"--that is the motto of enlightenment.\"\"\",\n",
    "    \"\"\"Laziness and cowardice are the reasons why so great a proportion of men, long after nature has released them from alien guidance (natura-liter maiorennes),[4] nonetheless gladly remain in lifelong immaturity, and why it is so easy for others to establish themselves as their guardians. It is so easy to be immature. If I have a book to serve as my understanding, a pastor to serve as my conscience, a physician to determine my diet for me, and so on, I need not exert myself at all. I need not think, if only I can pay: others will readily undertake the irksome work for me. The guardians who have so benevolently taken over the supervision of men have carefully seen to it that the far greatest part of them (including the entire fair sex) regard taking the step to maturity as very dangerous, not to mention difficult. Having first made their domestic livestock dumb, and having carefully made sure that these docile creatures will not take a single step without the go-cart to which they are harnessed, these guardians then show them the danger that threatens them, should they attempt to walk alone. Now this danger is not actually so great, for after falling a few times they would in the end certainly learn to walk; but an example of this kind makes men timid and usually frightens them out of all further attempts.\"\"\",\n",
    "    \"\"\"Thus, it is difficult for any individual man to work himself out of the immaturity that has all but become his nature. He has even become fond of this state and for the time being is actually incapable of using his own understanding, for no one has ever allowed him to attempt it. Rules and formulas, those mechanical aids to the rational use, or rather misuse, of his natural gifts, are the shackles of a permanent immaturity. Whoever threw them off would still make only an uncertain leap over the smallest ditch, since he is unaccustomed to this kind of free movement. Consequently, only a few have succeeded, by cultivating their own minds, in freeing themselves from immaturity and pursuing a secure course.\"\"\",\n",
    "    \"\"\"But that the public should enlighten itself is more likely; indeed, if it is only allowed freedom, enlightenment is almost inevitable. For even among the entrenched guardians of the great masses a few will always think for themselves, a few who, after having themselves thrown off the yoke of immaturity, will spread the spirit of a rational appreciation for both their own worth and for each person's calling to think for himself. But it should be particularly noted that if a public that was first placed in this yoke by the guardians is suitably aroused by some of those who are altogether incapable of enlightenment, it may force the guardians themselves to remain under the yoke-so pernicious is it to instill prejudices, for they finally take revenge upon their originators, or on their descendants. Thus a public can only attain enlightenment slowly. Perhaps a revolution can overthrow autocratic despotism and profiteering or power-grabbing oppression, but it can never truly reform a manner of thinking;[5] instead, new prejudices, just like the old ones they replace, will serve as a leash for the great unthinking mass.\"\"\",\n",
    "]\n",
    "\n",
    "# Создание объекта TF-IDF векторизатора\n",
    "tfidf_vectorizer = TfidfVectorizer()\n",
    "\n",
    "# Преобразование текстовых документов в TF-IDF векторы\n",
    "tfidf_matrix = tfidf_vectorizer.fit_transform(documents)\n",
    "\n",
    "# Получение списка слов (терминов) в порядке их индексов\n",
    "terms = tfidf_vectorizer.get_feature_names_out()\n",
    "\n",
    "# Преобразование TF-IDF матрицы в массив NumPy и вывод результата\n",
    "tfidf_matrix_array = tfidf_matrix.toarray()\n",
    "print(\"TF-IDF матрица:\")\n",
    "print(tfidf_matrix_array)\n",
    "\n",
    "# Вывод списка слов\n",
    "print(\"\\nСписок слов (терминов):\")\n",
    "print(terms)\n"
   ]
  },
  {
   "cell_type": "code",
   "execution_count": 33,
   "id": "74f13fb5-41cb-4c25-923e-f9d1218ec32e",
   "metadata": {},
   "outputs": [
    {
     "data": {
      "text/html": [
       "<div>\n",
       "<style scoped>\n",
       "    .dataframe tbody tr th:only-of-type {\n",
       "        vertical-align: middle;\n",
       "    }\n",
       "\n",
       "    .dataframe tbody tr th {\n",
       "        vertical-align: top;\n",
       "    }\n",
       "\n",
       "    .dataframe thead th {\n",
       "        text-align: right;\n",
       "    }\n",
       "</style>\n",
       "<table border=\"1\" class=\"dataframe\">\n",
       "  <thead>\n",
       "    <tr style=\"text-align: right;\">\n",
       "      <th></th>\n",
       "      <th>review</th>\n",
       "      <th>sentiment</th>\n",
       "    </tr>\n",
       "  </thead>\n",
       "  <tbody>\n",
       "    <tr>\n",
       "      <th>0</th>\n",
       "      <td>One of the other reviewers has mentioned that ...</td>\n",
       "      <td>positive</td>\n",
       "    </tr>\n",
       "    <tr>\n",
       "      <th>1</th>\n",
       "      <td>A wonderful little production. &lt;br /&gt;&lt;br /&gt;The...</td>\n",
       "      <td>positive</td>\n",
       "    </tr>\n",
       "    <tr>\n",
       "      <th>2</th>\n",
       "      <td>I thought this was a wonderful way to spend ti...</td>\n",
       "      <td>positive</td>\n",
       "    </tr>\n",
       "    <tr>\n",
       "      <th>3</th>\n",
       "      <td>Basically there's a family where a little boy ...</td>\n",
       "      <td>negative</td>\n",
       "    </tr>\n",
       "    <tr>\n",
       "      <th>4</th>\n",
       "      <td>Petter Mattei's \"Love in the Time of Money\" is...</td>\n",
       "      <td>positive</td>\n",
       "    </tr>\n",
       "    <tr>\n",
       "      <th>...</th>\n",
       "      <td>...</td>\n",
       "      <td>...</td>\n",
       "    </tr>\n",
       "    <tr>\n",
       "      <th>49995</th>\n",
       "      <td>I thought this movie did a down right good job...</td>\n",
       "      <td>positive</td>\n",
       "    </tr>\n",
       "    <tr>\n",
       "      <th>49996</th>\n",
       "      <td>Bad plot, bad dialogue, bad acting, idiotic di...</td>\n",
       "      <td>negative</td>\n",
       "    </tr>\n",
       "    <tr>\n",
       "      <th>49997</th>\n",
       "      <td>I am a Catholic taught in parochial elementary...</td>\n",
       "      <td>negative</td>\n",
       "    </tr>\n",
       "    <tr>\n",
       "      <th>49998</th>\n",
       "      <td>I'm going to have to disagree with the previou...</td>\n",
       "      <td>negative</td>\n",
       "    </tr>\n",
       "    <tr>\n",
       "      <th>49999</th>\n",
       "      <td>No one expects the Star Trek movies to be high...</td>\n",
       "      <td>negative</td>\n",
       "    </tr>\n",
       "  </tbody>\n",
       "</table>\n",
       "<p>50000 rows × 2 columns</p>\n",
       "</div>"
      ],
      "text/plain": [
       "                                                  review sentiment\n",
       "0      One of the other reviewers has mentioned that ...  positive\n",
       "1      A wonderful little production. <br /><br />The...  positive\n",
       "2      I thought this was a wonderful way to spend ti...  positive\n",
       "3      Basically there's a family where a little boy ...  negative\n",
       "4      Petter Mattei's \"Love in the Time of Money\" is...  positive\n",
       "...                                                  ...       ...\n",
       "49995  I thought this movie did a down right good job...  positive\n",
       "49996  Bad plot, bad dialogue, bad acting, idiotic di...  negative\n",
       "49997  I am a Catholic taught in parochial elementary...  negative\n",
       "49998  I'm going to have to disagree with the previou...  negative\n",
       "49999  No one expects the Star Trek movies to be high...  negative\n",
       "\n",
       "[50000 rows x 2 columns]"
      ]
     },
     "execution_count": 33,
     "metadata": {},
     "output_type": "execute_result"
    }
   ],
   "source": [
    "import pandas as pd\n",
    "from sklearn.model_selection import train_test_split\n",
    "from sklearn.feature_extraction.text import CountVectorizer, TfidfTransformer\n",
    "from sklearn.linear_model import LogisticRegression\n",
    "from sklearn.metrics import accuracy_score, classification_report, confusion_matrix\n",
    "from sklearn.tree import DecisionTreeClassifier\n",
    "from sklearn.ensemble import RandomForestClassifier\n",
    "from sklearn.neighbors import KNeighborsClassifier  \n",
    "from sklearn.naive_bayes import GaussianNB  \n",
    "from sklearn.tree import DecisionTreeClassifier  \n",
    "from sklearn.svm import SVC\n",
    "\n",
    "# Загрузка данных из CSV-файла\n",
    "data = pd.read_csv(\"IMDB Dataset.csv\")\n",
    "#data = data.iloc[:10000,:]\n",
    "data\n"
   ]
  },
  {
   "cell_type": "code",
   "execution_count": 34,
   "id": "b27bb2c4-ad47-440b-a900-ad205185dc7d",
   "metadata": {},
   "outputs": [
    {
     "data": {
      "text/plain": [
       "39087    negative\n",
       "30893    negative\n",
       "45278    positive\n",
       "16398    negative\n",
       "13653    negative\n",
       "           ...   \n",
       "11284    positive\n",
       "44732    positive\n",
       "38158    negative\n",
       "860      positive\n",
       "15795    positive\n",
       "Name: sentiment, Length: 40000, dtype: object"
      ]
     },
     "execution_count": 34,
     "metadata": {},
     "output_type": "execute_result"
    }
   ],
   "source": [
    "# Разделение данных на обучающий и тестовый наборы\n",
    "X_train, X_test, y_train, y_test = train_test_split(data['review'], data['sentiment'], test_size=0.2, random_state=42)\n",
    "\n",
    "\n",
    "y_train"
   ]
  },
  {
   "cell_type": "code",
   "execution_count": 36,
   "metadata": {},
   "outputs": [],
   "source": [
    "# Преобразование текстовых данных в векторы TF-IDF\n",
    "vectorizer = CountVectorizer()\n",
    "X_train_counts = vectorizer.fit_transform(X_train)\n",
    "\n",
    "tfidf_transformer = TfidfTransformer()\n",
    "X_train_tfidf = tfidf_transformer.fit_transform(X_train_counts)\n",
    "\n",
    "# Преобразование тестовых данных в векторы TF-IDF\n",
    "X_test_counts = vectorizer.transform(X_test)\n",
    "X_test_tfidf = tfidf_transformer.transform(X_test_counts)"
   ]
  },
  {
   "cell_type": "code",
   "execution_count": 9,
   "id": "27548b06-bb06-4d25-a7cf-b300ea8e4056",
   "metadata": {},
   "outputs": [
    {
     "name": "stdout",
     "output_type": "stream",
     "text": [
      "Accuracy: 0.84\n",
      "              precision    recall  f1-score   support\n",
      "\n",
      "    negative       0.84      0.82      0.83       996\n",
      "    positive       0.83      0.85      0.84      1004\n",
      "\n",
      "    accuracy                           0.84      2000\n",
      "   macro avg       0.84      0.84      0.84      2000\n",
      "weighted avg       0.84      0.84      0.84      2000\n",
      "\n",
      "[[820 176]\n",
      " [153 851]]\n"
     ]
    }
   ],
   "source": [
    "\n",
    "\n",
    "# Обучение модели логистической регрессии\n",
    "clf = RandomForestClassifier()\n",
    "clf.fit(X_train_tfidf, y_train)\n",
    "\n",
    "\n",
    "\n",
    "# Предсказание меток для тестовых данных\n",
    "y_pred = clf.predict(X_test_tfidf)\n",
    "\n",
    "# Оценка точности модели\n",
    "accuracy = accuracy_score(y_test, y_pred)\n",
    "print(f\"Accuracy: {accuracy:.2f}\")\n",
    "\n",
    "# Вывод отчета о классификации и матрицы ошибок\n",
    "print(classification_report(y_test, y_pred))\n",
    "print(confusion_matrix(y_test, y_pred))"
   ]
  },
  {
   "cell_type": "code",
   "execution_count": 29,
   "metadata": {},
   "outputs": [
    {
     "name": "stdout",
     "output_type": "stream",
     "text": [
      "Accuracy: 0.87\n",
      "              precision    recall  f1-score   support\n",
      "\n",
      "    negative       0.89      0.84      0.86       996\n",
      "    positive       0.85      0.90      0.87      1004\n",
      "\n",
      "    accuracy                           0.87      2000\n",
      "   macro avg       0.87      0.87      0.87      2000\n",
      "weighted avg       0.87      0.87      0.87      2000\n",
      "\n",
      "[[832 164]\n",
      " [ 98 906]]\n"
     ]
    }
   ],
   "source": [
    "clf = LogisticRegression()\n",
    "clf.fit(X_train_tfidf, y_train)\n",
    "\n",
    "# Предсказание меток для тестовых данных\n",
    "y_pred = clf.predict(X_test_tfidf)\n",
    "\n",
    "# Оценка точности модели\n",
    "accuracy = accuracy_score(y_test, y_pred)\n",
    "print(f\"Accuracy: {accuracy:.2f}\")\n",
    "\n",
    "# Вывод отчета о классификации и матрицы ошибок\n",
    "print(classification_report(y_test, y_pred))\n",
    "print(confusion_matrix(y_test, y_pred))"
   ]
  },
  {
   "cell_type": "code",
   "execution_count": 11,
   "metadata": {},
   "outputs": [
    {
     "name": "stderr",
     "output_type": "stream",
     "text": [
      "Exception ignored on calling ctypes callback function: <function _ThreadpoolInfo._find_modules_with_dl_iterate_phdr.<locals>.match_module_callback at 0x7f2191517920>\n",
      "Traceback (most recent call last):\n",
      "  File \"/home/gea/anaconda3/lib/python3.11/site-packages/threadpoolctl.py\", line 400, in match_module_callback\n",
      "    self._make_module_from_path(filepath)\n",
      "  File \"/home/gea/anaconda3/lib/python3.11/site-packages/threadpoolctl.py\", line 515, in _make_module_from_path\n",
      "    module = module_class(filepath, prefix, user_api, internal_api)\n",
      "             ^^^^^^^^^^^^^^^^^^^^^^^^^^^^^^^^^^^^^^^^^^^^^^^^^^^^^^\n",
      "  File \"/home/gea/anaconda3/lib/python3.11/site-packages/threadpoolctl.py\", line 606, in __init__\n",
      "    self.version = self.get_version()\n",
      "                   ^^^^^^^^^^^^^^^^^^\n",
      "  File \"/home/gea/anaconda3/lib/python3.11/site-packages/threadpoolctl.py\", line 646, in get_version\n",
      "    config = get_config().split()\n",
      "             ^^^^^^^^^^^^^^^^^^\n",
      "AttributeError: 'NoneType' object has no attribute 'split'\n"
     ]
    },
    {
     "name": "stdout",
     "output_type": "stream",
     "text": [
      "Accuracy: 0.69\n",
      "              precision    recall  f1-score   support\n",
      "\n",
      "    negative       0.66      0.78      0.72       996\n",
      "    positive       0.74      0.60      0.66      1004\n",
      "\n",
      "    accuracy                           0.69      2000\n",
      "   macro avg       0.70      0.69      0.69      2000\n",
      "weighted avg       0.70      0.69      0.69      2000\n",
      "\n",
      "[[781 215]\n",
      " [400 604]]\n"
     ]
    }
   ],
   "source": [
    "clf = KNeighborsClassifier()\n",
    "clf.fit(X_train_tfidf, y_train)\n",
    "\n",
    "# Предсказание меток для тестовых данных\n",
    "y_pred = clf.predict(X_test_tfidf)\n",
    "\n",
    "# Оценка точности модели\n",
    "accuracy = accuracy_score(y_test, y_pred)\n",
    "print(f\"Accuracy: {accuracy:.2f}\")\n",
    "\n",
    "# Вывод отчета о классификации и матрицы ошибок\n",
    "print(classification_report(y_test, y_pred))\n",
    "print(confusion_matrix(y_test, y_pred))"
   ]
  },
  {
   "cell_type": "code",
   "execution_count": 17,
   "id": "b4914ed8-00a6-4d33-8efd-02f798a02519",
   "metadata": {},
   "outputs": [
    {
     "name": "stdout",
     "output_type": "stream",
     "text": [
      "Accuracy: 0.62\n",
      "              precision    recall  f1-score   support\n",
      "\n",
      "    negative       0.61      0.64      0.63       996\n",
      "    positive       0.63      0.60      0.61      1004\n",
      "\n",
      "    accuracy                           0.62      2000\n",
      "   macro avg       0.62      0.62      0.62      2000\n",
      "weighted avg       0.62      0.62      0.62      2000\n",
      "\n",
      "[[642 354]\n",
      " [405 599]]\n"
     ]
    }
   ],
   "source": [
    "clf = GaussianNB()\n",
    "clf.fit(X_train_tfidf.toarray(), y_train)\n",
    "\n",
    "# Предсказание меток для тестовых данных\n",
    "y_pred = clf.predict(X_test_tfidf.toarray())\n",
    "\n",
    "# Оценка точности модели\n",
    "accuracy = accuracy_score(y_test, y_pred)\n",
    "print(f\"Accuracy: {accuracy:.2f}\")\n",
    "\n",
    "# Вывод отчета о классификации и матрицы ошибок\n",
    "print(classification_report(y_test, y_pred))\n",
    "print(confusion_matrix(y_test, y_pred))"
   ]
  },
  {
   "cell_type": "code",
   "execution_count": 13,
   "id": "95b49399-5971-474c-850f-1dbcb66db923",
   "metadata": {},
   "outputs": [
    {
     "name": "stdout",
     "output_type": "stream",
     "text": [
      "Accuracy: 0.71\n",
      "              precision    recall  f1-score   support\n",
      "\n",
      "    negative       0.71      0.70      0.70       996\n",
      "    positive       0.71      0.72      0.71      1004\n",
      "\n",
      "    accuracy                           0.71      2000\n",
      "   macro avg       0.71      0.71      0.71      2000\n",
      "weighted avg       0.71      0.71      0.71      2000\n",
      "\n",
      "[[695 301]\n",
      " [281 723]]\n"
     ]
    }
   ],
   "source": [
    "clf = DecisionTreeClassifier()\n",
    "clf.fit(X_train_tfidf, y_train)\n",
    "\n",
    "# Предсказание меток для тестовых данных\n",
    "y_pred = clf.predict(X_test_tfidf)\n",
    "\n",
    "# Оценка точности модели\n",
    "accuracy = accuracy_score(y_test, y_pred)\n",
    "print(f\"Accuracy: {accuracy:.2f}\")\n",
    "\n",
    "# Вывод отчета о классификации и матрицы ошибок\n",
    "print(classification_report(y_test, y_pred))\n",
    "print(confusion_matrix(y_test, y_pred))"
   ]
  },
  {
   "cell_type": "code",
   "execution_count": 37,
   "metadata": {},
   "outputs": [
    {
     "name": "stdout",
     "output_type": "stream",
     "text": [
      "Accuracy: 0.91\n",
      "              precision    recall  f1-score   support\n",
      "\n",
      "    negative       0.92      0.90      0.91      4961\n",
      "    positive       0.90      0.92      0.91      5039\n",
      "\n",
      "    accuracy                           0.91     10000\n",
      "   macro avg       0.91      0.91      0.91     10000\n",
      "weighted avg       0.91      0.91      0.91     10000\n",
      "\n",
      "[[4449  512]\n",
      " [ 393 4646]]\n"
     ]
    }
   ],
   "source": [
    "clf = SVC()\n",
    "clf.fit(X_train_tfidf, y_train)\n",
    "\n",
    "# Предсказание меток для тестовых данных\n",
    "y_pred = clf.predict(X_test_tfidf)\n",
    "\n",
    "# Оценка точности модели\n",
    "accuracy = accuracy_score(y_test, y_pred)\n",
    "print(f\"Accuracy: {accuracy:.2f}\")\n",
    "\n",
    "# Вывод отчета о классификации и матрицы ошибок\n",
    "print(classification_report(y_test, y_pred))\n",
    "print(confusion_matrix(y_test, y_pred))"
   ]
  },
  {
   "cell_type": "code",
   "execution_count": 31,
   "metadata": {},
   "outputs": [
    {
     "data": {
      "text/plain": [
       "(40000,)"
      ]
     },
     "execution_count": 31,
     "metadata": {},
     "output_type": "execute_result"
    }
   ],
   "source": [
    "X_train.shape"
   ]
  },
  {
   "cell_type": "code",
   "execution_count": 26,
   "metadata": {},
   "outputs": [
    {
     "data": {
      "text/html": [
       "<div>\n",
       "<style scoped>\n",
       "    .dataframe tbody tr th:only-of-type {\n",
       "        vertical-align: middle;\n",
       "    }\n",
       "\n",
       "    .dataframe tbody tr th {\n",
       "        vertical-align: top;\n",
       "    }\n",
       "\n",
       "    .dataframe thead th {\n",
       "        text-align: right;\n",
       "    }\n",
       "</style>\n",
       "<table border=\"1\" class=\"dataframe\">\n",
       "  <thead>\n",
       "    <tr style=\"text-align: right;\">\n",
       "      <th></th>\n",
       "      <th>review</th>\n",
       "      <th>sentiment</th>\n",
       "    </tr>\n",
       "  </thead>\n",
       "  <tbody>\n",
       "    <tr>\n",
       "      <th>0</th>\n",
       "      <td>One of the other reviewers has mentioned that ...</td>\n",
       "      <td>positive</td>\n",
       "    </tr>\n",
       "    <tr>\n",
       "      <th>1</th>\n",
       "      <td>A wonderful little production. &lt;br /&gt;&lt;br /&gt;The...</td>\n",
       "      <td>positive</td>\n",
       "    </tr>\n",
       "    <tr>\n",
       "      <th>2</th>\n",
       "      <td>I thought this was a wonderful way to spend ti...</td>\n",
       "      <td>positive</td>\n",
       "    </tr>\n",
       "    <tr>\n",
       "      <th>3</th>\n",
       "      <td>Basically there's a family where a little boy ...</td>\n",
       "      <td>negative</td>\n",
       "    </tr>\n",
       "    <tr>\n",
       "      <th>4</th>\n",
       "      <td>Petter Mattei's \"Love in the Time of Money\" is...</td>\n",
       "      <td>positive</td>\n",
       "    </tr>\n",
       "    <tr>\n",
       "      <th>...</th>\n",
       "      <td>...</td>\n",
       "      <td>...</td>\n",
       "    </tr>\n",
       "    <tr>\n",
       "      <th>49995</th>\n",
       "      <td>I thought this movie did a down right good job...</td>\n",
       "      <td>positive</td>\n",
       "    </tr>\n",
       "    <tr>\n",
       "      <th>49996</th>\n",
       "      <td>Bad plot, bad dialogue, bad acting, idiotic di...</td>\n",
       "      <td>negative</td>\n",
       "    </tr>\n",
       "    <tr>\n",
       "      <th>49997</th>\n",
       "      <td>I am a Catholic taught in parochial elementary...</td>\n",
       "      <td>negative</td>\n",
       "    </tr>\n",
       "    <tr>\n",
       "      <th>49998</th>\n",
       "      <td>I'm going to have to disagree with the previou...</td>\n",
       "      <td>negative</td>\n",
       "    </tr>\n",
       "    <tr>\n",
       "      <th>49999</th>\n",
       "      <td>No one expects the Star Trek movies to be high...</td>\n",
       "      <td>negative</td>\n",
       "    </tr>\n",
       "  </tbody>\n",
       "</table>\n",
       "<p>50000 rows × 2 columns</p>\n",
       "</div>"
      ],
      "text/plain": [
       "                                                  review sentiment\n",
       "0      One of the other reviewers has mentioned that ...  positive\n",
       "1      A wonderful little production. <br /><br />The...  positive\n",
       "2      I thought this was a wonderful way to spend ti...  positive\n",
       "3      Basically there's a family where a little boy ...  negative\n",
       "4      Petter Mattei's \"Love in the Time of Money\" is...  positive\n",
       "...                                                  ...       ...\n",
       "49995  I thought this movie did a down right good job...  positive\n",
       "49996  Bad plot, bad dialogue, bad acting, idiotic di...  negative\n",
       "49997  I am a Catholic taught in parochial elementary...  negative\n",
       "49998  I'm going to have to disagree with the previou...  negative\n",
       "49999  No one expects the Star Trek movies to be high...  negative\n",
       "\n",
       "[50000 rows x 2 columns]"
      ]
     },
     "execution_count": 26,
     "metadata": {},
     "output_type": "execute_result"
    }
   ],
   "source": [
    "data"
   ]
  },
  {
   "cell_type": "code",
   "execution_count": null,
   "metadata": {},
   "outputs": [],
   "source": []
  }
 ],
 "metadata": {
  "kernelspec": {
   "display_name": "Python 3 (ipykernel)",
   "language": "python",
   "name": "python3"
  },
  "language_info": {
   "codemirror_mode": {
    "name": "ipython",
    "version": 3
   },
   "file_extension": ".py",
   "mimetype": "text/x-python",
   "name": "python",
   "nbconvert_exporter": "python",
   "pygments_lexer": "ipython3",
   "version": "3.11.5"
  }
 },
 "nbformat": 4,
 "nbformat_minor": 5
}
