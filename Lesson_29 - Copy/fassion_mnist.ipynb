{
 "cells": [
  {
   "cell_type": "code",
   "execution_count": 30,
   "metadata": {},
   "outputs": [],
   "source": [
    "# Python ≥3.5 is required\n",
    "import sys\n",
    "assert sys.version_info >= (3, 5)\n",
    "\n",
    "# Scikit-Learn ≥0.20 is required\n",
    "import sklearn\n",
    "assert sklearn.__version__ >= \"0.20\"\n",
    "\n",
    "try:\n",
    "    # %tensorflow_version only exists in Colab.\n",
    "    %tensorflow_version 2.x\n",
    "except Exception:\n",
    "    pass\n",
    "\n",
    "# TensorFlow ≥2.0 is required\n",
    "import tensorflow as tf\n",
    "from tensorflow import keras\n",
    "assert tf.__version__ >= \"2.0\"\n",
    "import numpy as np\n",
    "import os\n",
    "import matplotlib as mpl\n",
    "import matplotlib.pyplot as plt"
   ]
  },
  {
   "cell_type": "code",
   "execution_count": 31,
   "metadata": {},
   "outputs": [],
   "source": [
    "(X_train_full, y_train_full), (X_test, y_test) = keras.datasets.fashion_mnist.load_data()\n",
    "X_train_full = X_train_full / 255.0\n",
    "X_test = X_test / 255.0\n",
    "X_valid, X_train = X_train_full[:5000], X_train_full[5000:]\n",
    "y_valid, y_train = y_train_full[:5000], y_train_full[5000:]"
   ]
  },
  {
   "cell_type": "code",
   "execution_count": 32,
   "metadata": {},
   "outputs": [],
   "source": [
    "tf.random.set_seed(42)\n",
    "np.random.seed(42)\n",
    "alpha = 0.02\n",
    "model = keras.models.Sequential([\n",
    "    keras.layers.Flatten(input_shape=[28, 28]),\n",
    "    keras.layers.Dense(300, kernel_initializer=\"lecun_normal\"),\n",
    "    keras.layers.LeakyReLU(alpha = alpha),\n",
    "    keras.layers.Dense(100, kernel_initializer=\"lecun_normal\"),\n",
    "    keras.layers.LeakyReLU(alpha = alpha),\n",
    "    keras.layers.Dense(10, activation=\"softmax\")\n",
    "])"
   ]
  },
  {
   "cell_type": "code",
   "execution_count": 33,
   "metadata": {},
   "outputs": [],
   "source": [
    "model.compile(loss=\"sparse_categorical_crossentropy\",\n",
    "              optimizer=keras.optimizers.SGD(learning_rate=1e-3),\n",
    "              metrics=[\"accuracy\"])"
   ]
  },
  {
   "cell_type": "code",
   "execution_count": 36,
   "metadata": {},
   "outputs": [
    {
     "name": "stdout",
     "output_type": "stream",
     "text": [
      "Epoch 1/10\n",
      "1719/1719 [==============================] - 9s 5ms/step - loss: 0.3772 - accuracy: 0.8578 - val_loss: 0.3197 - val_accuracy: 0.8798\n",
      "Epoch 2/10\n",
      "1719/1719 [==============================] - 9s 5ms/step - loss: 0.3571 - accuracy: 0.8646 - val_loss: 0.3117 - val_accuracy: 0.8782\n",
      "Epoch 3/10\n",
      "1719/1719 [==============================] - 9s 5ms/step - loss: 0.3473 - accuracy: 0.8697 - val_loss: 0.3270 - val_accuracy: 0.8790\n",
      "Epoch 4/10\n",
      "1719/1719 [==============================] - 9s 5ms/step - loss: 0.3413 - accuracy: 0.8713 - val_loss: 0.3078 - val_accuracy: 0.8844\n",
      "Epoch 5/10\n",
      "1719/1719 [==============================] - 9s 5ms/step - loss: 0.3330 - accuracy: 0.8743 - val_loss: 0.2971 - val_accuracy: 0.8922\n",
      "Epoch 6/10\n",
      "1719/1719 [==============================] - 9s 5ms/step - loss: 0.3277 - accuracy: 0.8779 - val_loss: 0.3044 - val_accuracy: 0.8950\n",
      "Epoch 7/10\n",
      "1719/1719 [==============================] - 9s 6ms/step - loss: 0.3272 - accuracy: 0.8762 - val_loss: 0.2953 - val_accuracy: 0.8904\n",
      "Epoch 8/10\n",
      "1719/1719 [==============================] - 10s 6ms/step - loss: 0.3234 - accuracy: 0.8791 - val_loss: 0.2990 - val_accuracy: 0.8930\n",
      "Epoch 9/10\n",
      "1719/1719 [==============================] - 10s 6ms/step - loss: 0.3181 - accuracy: 0.8780 - val_loss: 0.2917 - val_accuracy: 0.8962\n",
      "Epoch 10/10\n",
      "1719/1719 [==============================] - 10s 6ms/step - loss: 0.3129 - accuracy: 0.8825 - val_loss: 0.2907 - val_accuracy: 0.8926\n"
     ]
    }
   ],
   "source": [
    "history = model.fit(X_train, y_train, epochs=10,\n",
    "                    validation_data=(X_valid, y_valid))"
   ]
  },
  {
   "cell_type": "code",
   "execution_count": null,
   "metadata": {},
   "outputs": [
    {
     "name": "stdout",
     "output_type": "stream",
     "text": [
      "Epoch 1/10\n"
     ]
    },
    {
     "name": "stderr",
     "output_type": "stream",
     "text": [
      "2023-09-11 15:07:05.418699: W tensorflow/tsl/framework/cpu_allocator_impl.cc:83] Allocation of 172480000 exceeds 10% of free system memory.\n"
     ]
    },
    {
     "name": "stdout",
     "output_type": "stream",
     "text": [
      "1719/1719 [==============================] - 6s 4ms/step - loss: 1.3096 - accuracy: 0.6036 - val_loss: 0.8852 - val_accuracy: 0.7166\n",
      "Epoch 2/10\n",
      "1719/1719 [==============================] - 6s 4ms/step - loss: 0.7990 - accuracy: 0.7393 - val_loss: 0.7060 - val_accuracy: 0.7726\n",
      "Epoch 3/10\n",
      "1719/1719 [==============================] - 6s 3ms/step - loss: 0.6810 - accuracy: 0.7779 - val_loss: 0.6355 - val_accuracy: 0.7948\n",
      "Epoch 4/10\n",
      "1719/1719 [==============================] - 6s 3ms/step - loss: 0.6188 - accuracy: 0.7977 - val_loss: 0.5788 - val_accuracy: 0.8116\n",
      "Epoch 5/10\n",
      "1719/1719 [==============================] - 6s 3ms/step - loss: 0.5791 - accuracy: 0.8098 - val_loss: 0.5456 - val_accuracy: 0.8254\n",
      "Epoch 6/10\n",
      "1719/1719 [==============================] - 6s 4ms/step - loss: 0.5510 - accuracy: 0.8164 - val_loss: 0.5224 - val_accuracy: 0.8290\n",
      "Epoch 7/10\n",
      "1719/1719 [==============================] - 6s 3ms/step - loss: 0.5301 - accuracy: 0.8226 - val_loss: 0.5041 - val_accuracy: 0.8376\n",
      "Epoch 8/10\n",
      "1719/1719 [==============================] - 6s 3ms/step - loss: 0.5140 - accuracy: 0.8273 - val_loss: 0.4970 - val_accuracy: 0.8382\n",
      "Epoch 9/10\n",
      "1719/1719 [==============================] - 6s 3ms/step - loss: 0.5011 - accuracy: 0.8306 - val_loss: 0.4792 - val_accuracy: 0.8438\n",
      "Epoch 10/10\n",
      "1719/1719 [==============================] - 6s 4ms/step - loss: 0.4899 - accuracy: 0.8333 - val_loss: 0.4719 - val_accuracy: 0.8456\n"
     ]
    }
   ],
   "source": [
    "tf.random.set_seed(42)\n",
    "np.random.seed(42)\n",
    "alpha = 0.02\n",
    "model = keras.models.Sequential([\n",
    "    keras.layers.Flatten(input_shape=[28, 28]),\n",
    "    keras.layers.Dense(300, kernel_initializer=\"he_normal\"),\n",
    "    keras.layers.LeakyReLU(alpha = alpha),\n",
    "    keras.layers.Dense(100, kernel_initializer=\"he_normal\"),\n",
    "    keras.layers.LeakyReLU(alpha = alpha),\n",
    "    keras.layers.Dense(10, activation=\"softmax\")\n",
    "])\n",
    "model.compile(loss=\"sparse_categorical_crossentropy\",\n",
    "              optimizer=keras.optimizers.SGD(learning_rate=1e-3),\n",
    "              metrics=[\"accuracy\"])\n",
    "history = model.fit(X_train, y_train, epochs=10,\n",
    "                    validation_data=(X_valid, y_valid))\n",
    "\n",
    "# ядро he_normal  добавила 0,012 точности"
   ]
  },
  {
   "cell_type": "code",
   "execution_count": null,
   "metadata": {},
   "outputs": [
    {
     "name": "stdout",
     "output_type": "stream",
     "text": [
      "Epoch 1/10\n"
     ]
    },
    {
     "name": "stderr",
     "output_type": "stream",
     "text": [
      "2023-09-11 15:28:00.830690: W tensorflow/tsl/framework/cpu_allocator_impl.cc:83] Allocation of 172480000 exceeds 10% of free system memory.\n"
     ]
    },
    {
     "name": "stdout",
     "output_type": "stream",
     "text": [
      "1719/1719 [==============================] - 34s 17ms/step - loss: 1.3191 - accuracy: 0.4915 - val_loss: 0.8119 - val_accuracy: 0.6914\n",
      "Epoch 2/10\n",
      "1719/1719 [==============================] - 29s 17ms/step - loss: 1.1704 - accuracy: 0.5482 - val_loss: 0.9645 - val_accuracy: 0.6168\n",
      "Epoch 3/10\n",
      "1719/1719 [==============================] - 29s 17ms/step - loss: 0.8540 - accuracy: 0.6754 - val_loss: 0.7644 - val_accuracy: 0.7248\n",
      "Epoch 4/10\n",
      "1719/1719 [==============================] - 29s 17ms/step - loss: 0.7260 - accuracy: 0.7324 - val_loss: 0.7921 - val_accuracy: 0.7146\n",
      "Epoch 5/10\n",
      "1719/1719 [==============================] - 28s 16ms/step - loss: 0.6945 - accuracy: 0.7419 - val_loss: 0.6046 - val_accuracy: 0.7732\n",
      "Epoch 6/10\n",
      "1719/1719 [==============================] - 29s 17ms/step - loss: 0.6920 - accuracy: 0.7455 - val_loss: 0.6305 - val_accuracy: 0.7698\n",
      "Epoch 7/10\n",
      "1719/1719 [==============================] - 28s 16ms/step - loss: 0.6117 - accuracy: 0.7729 - val_loss: 0.5884 - val_accuracy: 0.7886\n",
      "Epoch 8/10\n",
      "1719/1719 [==============================] - 29s 17ms/step - loss: 0.5923 - accuracy: 0.7873 - val_loss: 1.0464 - val_accuracy: 0.6676\n",
      "Epoch 9/10\n",
      "1719/1719 [==============================] - 29s 17ms/step - loss: 0.7204 - accuracy: 0.7269 - val_loss: 0.5944 - val_accuracy: 0.7944\n",
      "Epoch 10/10\n",
      "1719/1719 [==============================] - 29s 17ms/step - loss: 0.5667 - accuracy: 0.8011 - val_loss: 0.5630 - val_accuracy: 0.8180\n"
     ]
    }
   ],
   "source": [
    "model = keras.models.Sequential()\n",
    "model.add(keras.layers.Flatten(input_shape=[28, 28]))\n",
    "model.add(keras.layers.Dense(300, activation=\"selu\", kernel_initializer=\"lecun_normal\"))\n",
    "for layer in range(99):\n",
    "    model.add(keras.layers.Dense(100, activation=\"selu\", kernel_initializer=\"lecun_normal\"))\n",
    "model.add(keras.layers.Dense(10, activation=\"softmax\"))\n",
    "model.compile(loss=\"sparse_categorical_crossentropy\",\n",
    "              optimizer=keras.optimizers.SGD(learning_rate=1e-3),\n",
    "              metrics=[\"accuracy\"])\n",
    "\n",
    "pixel_means = X_train.mean(axis=0, keepdims=True)\n",
    "pixel_stds = X_train.std(axis=0, keepdims=True)\n",
    "X_train_scaled = (X_train - pixel_means) / pixel_stds\n",
    "X_valid_scaled = (X_valid - pixel_means) / pixel_stds\n",
    "X_test_scaled = (X_test - pixel_means) / pixel_stds\n",
    "\n",
    "history = model.fit(X_train_scaled, y_train, epochs=10,\n",
    "                    validation_data=(X_valid_scaled, y_valid))\n",
    "\n",
    "# ядро нормализация убавила 0,014 точности"
   ]
  },
  {
   "cell_type": "code",
   "execution_count": null,
   "metadata": {},
   "outputs": [
    {
     "name": "stdout",
     "output_type": "stream",
     "text": [
      "Epoch 1/10\n"
     ]
    },
    {
     "name": "stderr",
     "output_type": "stream",
     "text": [
      "2023-09-11 15:33:09.357860: W tensorflow/tsl/framework/cpu_allocator_impl.cc:83] Allocation of 172480000 exceeds 10% of free system memory.\n"
     ]
    },
    {
     "name": "stdout",
     "output_type": "stream",
     "text": [
      "1719/1719 [==============================] - 9s 5ms/step - loss: 0.8098 - accuracy: 0.7246 - val_loss: 0.5431 - val_accuracy: 0.8150\n",
      "Epoch 2/10\n",
      "1719/1719 [==============================] - 8s 5ms/step - loss: 0.5689 - accuracy: 0.8017 - val_loss: 0.4714 - val_accuracy: 0.8380\n",
      "Epoch 3/10\n",
      "1719/1719 [==============================] - 8s 5ms/step - loss: 0.5153 - accuracy: 0.8213 - val_loss: 0.4404 - val_accuracy: 0.8524\n",
      "Epoch 4/10\n",
      "1719/1719 [==============================] - 8s 5ms/step - loss: 0.4799 - accuracy: 0.8333 - val_loss: 0.4204 - val_accuracy: 0.8604\n",
      "Epoch 5/10\n",
      "1719/1719 [==============================] - 8s 5ms/step - loss: 0.4555 - accuracy: 0.8408 - val_loss: 0.4052 - val_accuracy: 0.8654\n",
      "Epoch 6/10\n",
      "1719/1719 [==============================] - 8s 5ms/step - loss: 0.4394 - accuracy: 0.8460 - val_loss: 0.3932 - val_accuracy: 0.8682\n",
      "Epoch 7/10\n",
      "1719/1719 [==============================] - 9s 5ms/step - loss: 0.4262 - accuracy: 0.8500 - val_loss: 0.3832 - val_accuracy: 0.8702\n",
      "Epoch 8/10\n",
      "1719/1719 [==============================] - 8s 5ms/step - loss: 0.4142 - accuracy: 0.8536 - val_loss: 0.3784 - val_accuracy: 0.8724\n",
      "Epoch 9/10\n",
      "1719/1719 [==============================] - 8s 5ms/step - loss: 0.4022 - accuracy: 0.8590 - val_loss: 0.3724 - val_accuracy: 0.8728\n",
      "Epoch 10/10\n",
      "1719/1719 [==============================] - 8s 5ms/step - loss: 0.3919 - accuracy: 0.8619 - val_loss: 0.3651 - val_accuracy: 0.8730\n"
     ]
    }
   ],
   "source": [
    "model = keras.models.Sequential([\n",
    "    keras.layers.Flatten(input_shape=[28, 28]),\n",
    "    keras.layers.BatchNormalization(),\n",
    "    keras.layers.Dense(300, activation=\"relu\"),\n",
    "    keras.layers.BatchNormalization(),\n",
    "    keras.layers.Dense(100, activation=\"relu\"),\n",
    "    keras.layers.BatchNormalization(),\n",
    "    keras.layers.Dense(10, activation=\"softmax\")\n",
    "])\n",
    "model.compile(loss=\"sparse_categorical_crossentropy\",\n",
    "              optimizer=keras.optimizers.SGD(learning_rate=1e-3),\n",
    "              metrics=[\"accuracy\"])\n",
    "history = model.fit(X_train, y_train, epochs=10,\n",
    "                    validation_data=(X_valid, y_valid))\n",
    "\n",
    "# ядро relu и batch_normalization  добавила 0,041 точности"
   ]
  },
  {
   "cell_type": "code",
   "execution_count": null,
   "metadata": {},
   "outputs": [
    {
     "name": "stdout",
     "output_type": "stream",
     "text": [
      "Epoch 1/20\n",
      "1375/1375 [==============================] - 6s 4ms/step - loss: 0.6081 - accuracy: 0.8027 - val_loss: 0.3979 - val_accuracy: 0.8592\n",
      "Epoch 2/20\n",
      "1375/1375 [==============================] - 5s 4ms/step - loss: 0.3608 - accuracy: 0.8747 - val_loss: 0.3284 - val_accuracy: 0.8822\n",
      "Epoch 3/20\n",
      "1375/1375 [==============================] - 5s 4ms/step - loss: 0.3226 - accuracy: 0.8878 - val_loss: 0.2995 - val_accuracy: 0.8969\n",
      "Epoch 4/20\n",
      "1375/1375 [==============================] - 5s 4ms/step - loss: 0.3024 - accuracy: 0.8951 - val_loss: 0.2850 - val_accuracy: 0.9018\n",
      "Epoch 5/20\n",
      "1375/1375 [==============================] - 5s 4ms/step - loss: 0.2885 - accuracy: 0.9007 - val_loss: 0.2743 - val_accuracy: 0.9073\n",
      "Epoch 6/20\n",
      "1375/1375 [==============================] - 5s 4ms/step - loss: 0.2783 - accuracy: 0.9047 - val_loss: 0.2686 - val_accuracy: 0.9013\n",
      "Epoch 7/20\n",
      "1375/1375 [==============================] - 5s 4ms/step - loss: 0.2694 - accuracy: 0.9079 - val_loss: 0.2661 - val_accuracy: 0.9073\n",
      "Epoch 8/20\n",
      "1375/1375 [==============================] - 5s 4ms/step - loss: 0.2626 - accuracy: 0.9100 - val_loss: 0.2560 - val_accuracy: 0.9136\n",
      "Epoch 9/20\n",
      "1375/1375 [==============================] - 5s 4ms/step - loss: 0.2569 - accuracy: 0.9123 - val_loss: 0.2505 - val_accuracy: 0.9143\n",
      "Epoch 10/20\n",
      "1375/1375 [==============================] - 5s 4ms/step - loss: 0.2518 - accuracy: 0.9138 - val_loss: 0.2502 - val_accuracy: 0.9158\n",
      "Epoch 11/20\n",
      "1375/1375 [==============================] - 5s 4ms/step - loss: 0.2471 - accuracy: 0.9171 - val_loss: 0.2449 - val_accuracy: 0.9160\n",
      "Epoch 12/20\n",
      "1375/1375 [==============================] - 5s 4ms/step - loss: 0.2428 - accuracy: 0.9174 - val_loss: 0.2464 - val_accuracy: 0.9133\n",
      "Epoch 13/20\n",
      "1375/1375 [==============================] - 5s 4ms/step - loss: 0.2395 - accuracy: 0.9178 - val_loss: 0.2414 - val_accuracy: 0.9160\n",
      "Epoch 14/20\n",
      "1375/1375 [==============================] - 5s 4ms/step - loss: 0.2357 - accuracy: 0.9197 - val_loss: 0.2396 - val_accuracy: 0.9188\n",
      "Epoch 15/20\n",
      "1375/1375 [==============================] - 5s 4ms/step - loss: 0.2327 - accuracy: 0.9207 - val_loss: 0.2415 - val_accuracy: 0.9165\n",
      "Epoch 16/20\n",
      "1375/1375 [==============================] - 5s 4ms/step - loss: 0.2294 - accuracy: 0.9218 - val_loss: 0.2374 - val_accuracy: 0.9200\n",
      "Epoch 17/20\n",
      "1375/1375 [==============================] - 5s 4ms/step - loss: 0.2268 - accuracy: 0.9233 - val_loss: 0.2395 - val_accuracy: 0.9165\n",
      "Epoch 18/20\n",
      "1375/1375 [==============================] - 5s 4ms/step - loss: 0.2237 - accuracy: 0.9225 - val_loss: 0.2433 - val_accuracy: 0.9138\n",
      "Epoch 19/20\n",
      "1375/1375 [==============================] - 5s 4ms/step - loss: 0.2212 - accuracy: 0.9246 - val_loss: 0.2343 - val_accuracy: 0.9165\n",
      "Epoch 20/20\n",
      "1375/1375 [==============================] - 5s 4ms/step - loss: 0.2189 - accuracy: 0.9253 - val_loss: 0.2333 - val_accuracy: 0.9215\n"
     ]
    }
   ],
   "source": [
    "def split_dataset(X, y):\n",
    "    y_5_or_6 = (y == 5) | (y == 6) # sandals or shirts\n",
    "    y_A = y[~y_5_or_6]\n",
    "    y_A[y_A > 6] -= 2 # class indices 7, 8, 9 should be moved to 5, 6, 7\n",
    "    y_B = (y[y_5_or_6] == 6).astype(np.float32) # binary classification task: is it a shirt (class 6)?\n",
    "    return ((X[~y_5_or_6], y_A),\n",
    "            (X[y_5_or_6], y_B))\n",
    "\n",
    "(X_train_A, y_train_A), (X_train_B, y_train_B) = split_dataset(X_train, y_train)\n",
    "(X_valid_A, y_valid_A), (X_valid_B, y_valid_B) = split_dataset(X_valid, y_valid)\n",
    "(X_test_A, y_test_A), (X_test_B, y_test_B) = split_dataset(X_test, y_test)\n",
    "X_train_B = X_train_B[:200]\n",
    "y_train_B = y_train_B[:200]\n",
    "\n",
    "model_A = keras.models.Sequential()\n",
    "model_A.add(keras.layers.Flatten(input_shape=[28, 28]))\n",
    "for n_hidden in (300, 100, 50, 50, 50):\n",
    "    model_A.add(keras.layers.Dense(n_hidden, activation=\"selu\"))\n",
    "model_A.add(keras.layers.Dense(8, activation=\"softmax\"))\n",
    "\n",
    "model_A.compile(loss=\"sparse_categorical_crossentropy\",\n",
    "                optimizer=keras.optimizers.SGD(learning_rate=1e-3),\n",
    "                metrics=[\"accuracy\"])\n",
    "\n",
    "history = model_A.fit(X_train_A, y_train_A, epochs=20,\n",
    "                    validation_data=(X_valid_A, y_valid_A))"
   ]
  },
  {
   "cell_type": "code",
   "execution_count": null,
   "metadata": {},
   "outputs": [
    {
     "name": "stdout",
     "output_type": "stream",
     "text": [
      "Epoch 1/20\n",
      "7/7 [==============================] - 1s 37ms/step - loss: 0.3949 - accuracy: 0.8500 - val_loss: 0.3568 - val_accuracy: 0.8702\n",
      "Epoch 2/20\n",
      "7/7 [==============================] - 0s 19ms/step - loss: 0.3229 - accuracy: 0.9000 - val_loss: 0.2979 - val_accuracy: 0.9016\n",
      "Epoch 3/20\n",
      "7/7 [==============================] - 0s 20ms/step - loss: 0.2683 - accuracy: 0.9350 - val_loss: 0.2582 - val_accuracy: 0.9351\n",
      "Epoch 4/20\n",
      "7/7 [==============================] - 0s 20ms/step - loss: 0.2319 - accuracy: 0.9550 - val_loss: 0.2290 - val_accuracy: 0.9493\n",
      "Epoch 5/20\n",
      "7/7 [==============================] - 0s 19ms/step - loss: 0.2030 - accuracy: 0.9600 - val_loss: 0.2042 - val_accuracy: 0.9574\n",
      "Epoch 6/20\n",
      "7/7 [==============================] - 0s 19ms/step - loss: 0.1781 - accuracy: 0.9750 - val_loss: 0.1861 - val_accuracy: 0.9584\n",
      "Epoch 7/20\n",
      "7/7 [==============================] - 0s 20ms/step - loss: 0.1606 - accuracy: 0.9800 - val_loss: 0.1716 - val_accuracy: 0.9645\n",
      "Epoch 8/20\n",
      "7/7 [==============================] - 0s 20ms/step - loss: 0.1459 - accuracy: 0.9800 - val_loss: 0.1580 - val_accuracy: 0.9696\n",
      "Epoch 9/20\n",
      "7/7 [==============================] - 0s 20ms/step - loss: 0.1321 - accuracy: 0.9800 - val_loss: 0.1470 - val_accuracy: 0.9726\n",
      "Epoch 10/20\n",
      "7/7 [==============================] - 0s 20ms/step - loss: 0.1212 - accuracy: 0.9900 - val_loss: 0.1383 - val_accuracy: 0.9757\n",
      "Epoch 11/20\n",
      "7/7 [==============================] - 0s 20ms/step - loss: 0.1125 - accuracy: 0.9900 - val_loss: 0.1304 - val_accuracy: 0.9767\n",
      "Epoch 12/20\n",
      "7/7 [==============================] - 0s 20ms/step - loss: 0.1048 - accuracy: 0.9900 - val_loss: 0.1240 - val_accuracy: 0.9787\n",
      "Epoch 13/20\n",
      "7/7 [==============================] - 0s 20ms/step - loss: 0.0985 - accuracy: 0.9900 - val_loss: 0.1179 - val_accuracy: 0.9817\n",
      "Epoch 14/20\n",
      "7/7 [==============================] - 0s 21ms/step - loss: 0.0923 - accuracy: 0.9900 - val_loss: 0.1128 - val_accuracy: 0.9797\n",
      "Epoch 15/20\n",
      "7/7 [==============================] - 0s 20ms/step - loss: 0.0866 - accuracy: 0.9900 - val_loss: 0.1075 - val_accuracy: 0.9828\n",
      "Epoch 16/20\n",
      "7/7 [==============================] - 0s 20ms/step - loss: 0.0817 - accuracy: 0.9900 - val_loss: 0.1033 - val_accuracy: 0.9838\n",
      "Epoch 17/20\n",
      "7/7 [==============================] - 0s 20ms/step - loss: 0.0774 - accuracy: 0.9900 - val_loss: 0.0996 - val_accuracy: 0.9848\n",
      "Epoch 18/20\n",
      "7/7 [==============================] - 0s 20ms/step - loss: 0.0737 - accuracy: 0.9900 - val_loss: 0.0962 - val_accuracy: 0.9858\n",
      "Epoch 19/20\n",
      "7/7 [==============================] - 0s 23ms/step - loss: 0.0702 - accuracy: 0.9900 - val_loss: 0.0932 - val_accuracy: 0.9868\n",
      "Epoch 20/20\n",
      "7/7 [==============================] - 0s 21ms/step - loss: 0.0672 - accuracy: 0.9900 - val_loss: 0.0907 - val_accuracy: 0.9868\n"
     ]
    }
   ],
   "source": [
    "model_A.save(\"my_model_A.h5\")\n",
    "\n",
    "model_B = keras.models.Sequential()\n",
    "model_B.add(keras.layers.Flatten(input_shape=[28, 28]))\n",
    "for n_hidden in (300, 100, 50, 50, 50):\n",
    "    model_B.add(keras.layers.Dense(n_hidden, activation=\"selu\"))\n",
    "model_B.add(keras.layers.Dense(1, activation=\"sigmoid\"))\n",
    "\n",
    "model_B.compile(loss=\"binary_crossentropy\",\n",
    "                optimizer=keras.optimizers.SGD(learning_rate=1e-3),\n",
    "                metrics=[\"accuracy\"])\n",
    "\n",
    "history = model_B.fit(X_train_B, y_train_B, epochs=20,\n",
    "                      validation_data=(X_valid_B, y_valid_B))"
   ]
  },
  {
   "cell_type": "code",
   "execution_count": null,
   "metadata": {},
   "outputs": [
    {
     "name": "stdout",
     "output_type": "stream",
     "text": [
      "WARNING:tensorflow:Error in loading the saved optimizer state. As a result, your model is starting with a freshly initialized optimizer.\n"
     ]
    },
    {
     "name": "stderr",
     "output_type": "stream",
     "text": [
      "WARNING:tensorflow:Error in loading the saved optimizer state. As a result, your model is starting with a freshly initialized optimizer.\n"
     ]
    }
   ],
   "source": [
    "model_A = keras.models.load_model(\"my_model_A.h5\")\n",
    "model_B_on_A = keras.models.Sequential(model_A.layers[:-1])\n",
    "model_B_on_A.add(keras.layers.Dense(1, activation=\"sigmoid\"))\n",
    "\n",
    "model_A_clone = keras.models.clone_model(model_A)\n",
    "model_A_clone.set_weights(model_A.get_weights())\n",
    "\n",
    "for layer in model_B_on_A.layers[:-1]:\n",
    "    layer.trainable = False\n",
    "\n",
    "model_B_on_A.compile(loss=\"binary_crossentropy\",\n",
    "                     optimizer=keras.optimizers.SGD(learning_rate=1e-3),\n",
    "                     metrics=[\"accuracy\"])\n"
   ]
  },
  {
   "cell_type": "code",
   "execution_count": null,
   "metadata": {},
   "outputs": [
    {
     "name": "stdout",
     "output_type": "stream",
     "text": [
      "Epoch 1/4\n",
      "7/7 [==============================] - 1s 44ms/step - loss: 1.7621 - accuracy: 0.1000 - val_loss: 1.6282 - val_accuracy: 0.1694\n",
      "Epoch 2/4\n",
      "7/7 [==============================] - 0s 23ms/step - loss: 1.6253 - accuracy: 0.1250 - val_loss: 1.5083 - val_accuracy: 0.1978\n",
      "Epoch 3/4\n",
      "7/7 [==============================] - 0s 24ms/step - loss: 1.5002 - accuracy: 0.1550 - val_loss: 1.3996 - val_accuracy: 0.2231\n",
      "Epoch 4/4\n",
      "7/7 [==============================] - 0s 25ms/step - loss: 1.3870 - accuracy: 0.1800 - val_loss: 1.2958 - val_accuracy: 0.2677\n",
      "Epoch 1/16\n",
      "7/7 [==============================] - 1s 42ms/step - loss: 1.0619 - accuracy: 0.3400 - val_loss: 0.7261 - val_accuracy: 0.5152\n",
      "Epoch 2/16\n",
      "7/7 [==============================] - 0s 24ms/step - loss: 0.6078 - accuracy: 0.6250 - val_loss: 0.4923 - val_accuracy: 0.7505\n",
      "Epoch 3/16\n",
      "7/7 [==============================] - 0s 25ms/step - loss: 0.4174 - accuracy: 0.8450 - val_loss: 0.3701 - val_accuracy: 0.8641\n",
      "Epoch 4/16\n",
      "7/7 [==============================] - 0s 20ms/step - loss: 0.3166 - accuracy: 0.9050 - val_loss: 0.2940 - val_accuracy: 0.9209\n",
      "Epoch 5/16\n",
      "7/7 [==============================] - 0s 19ms/step - loss: 0.2515 - accuracy: 0.9350 - val_loss: 0.2435 - val_accuracy: 0.9473\n",
      "Epoch 6/16\n",
      "7/7 [==============================] - 0s 20ms/step - loss: 0.2078 - accuracy: 0.9550 - val_loss: 0.2091 - val_accuracy: 0.9625\n",
      "Epoch 7/16\n",
      "7/7 [==============================] - 0s 20ms/step - loss: 0.1779 - accuracy: 0.9650 - val_loss: 0.1837 - val_accuracy: 0.9726\n",
      "Epoch 8/16\n",
      "7/7 [==============================] - 0s 20ms/step - loss: 0.1552 - accuracy: 0.9700 - val_loss: 0.1635 - val_accuracy: 0.9777\n",
      "Epoch 9/16\n",
      "7/7 [==============================] - 0s 19ms/step - loss: 0.1371 - accuracy: 0.9750 - val_loss: 0.1475 - val_accuracy: 0.9787\n",
      "Epoch 10/16\n",
      "7/7 [==============================] - 0s 19ms/step - loss: 0.1230 - accuracy: 0.9800 - val_loss: 0.1355 - val_accuracy: 0.9817\n",
      "Epoch 11/16\n",
      "7/7 [==============================] - 0s 20ms/step - loss: 0.1119 - accuracy: 0.9800 - val_loss: 0.1245 - val_accuracy: 0.9828\n",
      "Epoch 12/16\n",
      "7/7 [==============================] - 0s 19ms/step - loss: 0.1020 - accuracy: 0.9800 - val_loss: 0.1158 - val_accuracy: 0.9848\n",
      "Epoch 13/16\n",
      "7/7 [==============================] - 0s 21ms/step - loss: 0.0939 - accuracy: 0.9800 - val_loss: 0.1085 - val_accuracy: 0.9848\n",
      "Epoch 14/16\n",
      "7/7 [==============================] - 0s 19ms/step - loss: 0.0872 - accuracy: 0.9800 - val_loss: 0.1019 - val_accuracy: 0.9848\n",
      "Epoch 15/16\n",
      "7/7 [==============================] - 0s 19ms/step - loss: 0.0808 - accuracy: 0.9900 - val_loss: 0.0964 - val_accuracy: 0.9848\n",
      "Epoch 16/16\n",
      "7/7 [==============================] - 0s 20ms/step - loss: 0.0758 - accuracy: 0.9900 - val_loss: 0.0916 - val_accuracy: 0.9868\n"
     ]
    }
   ],
   "source": [
    "history = model_B_on_A.fit(X_train_B, y_train_B, epochs=4,\n",
    "                           validation_data=(X_valid_B, y_valid_B))\n",
    "\n",
    "for layer in model_B_on_A.layers[:-1]:\n",
    "    layer.trainable = True\n",
    "\n",
    "model_B_on_A.compile(loss=\"binary_crossentropy\",\n",
    "                     optimizer=keras.optimizers.SGD(learning_rate=1e-3),\n",
    "                     metrics=[\"accuracy\"])\n",
    "history = model_B_on_A.fit(X_train_B, y_train_B, epochs=16,\n",
    "                           validation_data=(X_valid_B, y_valid_B))\n",
    "\n",
    "# использование замороженных слоев модели А добавила 0,17 точности и снизила ошибку на 0,43"
   ]
  },
  {
   "cell_type": "code",
   "execution_count": null,
   "metadata": {},
   "outputs": [
    {
     "name": "stdout",
     "output_type": "stream",
     "text": [
      "Epoch 1/10\n",
      "1719/1719 [==============================] - 9s 5ms/step - loss: 0.5196 - accuracy: 0.8183 - val_loss: 0.3943 - val_accuracy: 0.8632\n",
      "Epoch 2/10\n",
      "1719/1719 [==============================] - 8s 4ms/step - loss: 0.3865 - accuracy: 0.8627 - val_loss: 0.3900 - val_accuracy: 0.8608\n",
      "Epoch 3/10\n",
      "1719/1719 [==============================] - 8s 4ms/step - loss: 0.3462 - accuracy: 0.8746 - val_loss: 0.3358 - val_accuracy: 0.8816\n",
      "Epoch 4/10\n",
      "1719/1719 [==============================] - 8s 4ms/step - loss: 0.3180 - accuracy: 0.8844 - val_loss: 0.3188 - val_accuracy: 0.8836\n",
      "Epoch 5/10\n",
      "1719/1719 [==============================] - 8s 5ms/step - loss: 0.2995 - accuracy: 0.8901 - val_loss: 0.3015 - val_accuracy: 0.8882\n",
      "Epoch 6/10\n",
      "1719/1719 [==============================] - 8s 4ms/step - loss: 0.2853 - accuracy: 0.8959 - val_loss: 0.3174 - val_accuracy: 0.8856\n",
      "Epoch 7/10\n",
      "1719/1719 [==============================] - 8s 5ms/step - loss: 0.2733 - accuracy: 0.8994 - val_loss: 0.2977 - val_accuracy: 0.8950\n",
      "Epoch 8/10\n",
      "1719/1719 [==============================] - 8s 5ms/step - loss: 0.2602 - accuracy: 0.9041 - val_loss: 0.2964 - val_accuracy: 0.8908\n",
      "Epoch 9/10\n",
      "1719/1719 [==============================] - 8s 5ms/step - loss: 0.2495 - accuracy: 0.9079 - val_loss: 0.2932 - val_accuracy: 0.8916\n",
      "Epoch 10/10\n",
      "1719/1719 [==============================] - 8s 5ms/step - loss: 0.2387 - accuracy: 0.9112 - val_loss: 0.2859 - val_accuracy: 0.8970\n"
     ]
    }
   ],
   "source": [
    "tf.random.set_seed(42)\n",
    "np.random.seed(42)\n",
    "alpha = 0.02\n",
    "model = keras.models.Sequential([\n",
    "    keras.layers.Flatten(input_shape=[28, 28]),\n",
    "    keras.layers.Dense(300, kernel_initializer=\"lecun_normal\"),\n",
    "    keras.layers.LeakyReLU(alpha = alpha),\n",
    "    keras.layers.Dense(100, kernel_initializer=\"lecun_normal\"),\n",
    "    keras.layers.LeakyReLU(alpha = alpha),\n",
    "    keras.layers.Dense(10, activation=\"softmax\")\n",
    "])\n",
    "\n",
    "model.compile(loss=\"sparse_categorical_crossentropy\",\n",
    "              optimizer=keras.optimizers.Adamax(learning_rate=1e-3, beta_1=0.9, beta_2=0.999),\n",
    "              metrics=[\"accuracy\"])\n",
    "\n",
    "history = model.fit(X_train, y_train, epochs=10,\n",
    "                    validation_data=(X_valid, y_valid))\n",
    "\n",
    "# Adamax добавил 0,0646 точности"
   ]
  },
  {
   "cell_type": "code",
   "execution_count": null,
   "metadata": {},
   "outputs": [
    {
     "name": "stdout",
     "output_type": "stream",
     "text": [
      "Epoch 1/10\n",
      "1719/1719 [==============================] - 9s 5ms/step - loss: 0.4650 - accuracy: 0.8329 - val_loss: 0.3503 - val_accuracy: 0.8714\n",
      "Epoch 2/10\n",
      "1719/1719 [==============================] - 8s 5ms/step - loss: 0.3530 - accuracy: 0.8706 - val_loss: 0.3567 - val_accuracy: 0.8718\n",
      "Epoch 3/10\n",
      "1719/1719 [==============================] - 8s 5ms/step - loss: 0.3225 - accuracy: 0.8800 - val_loss: 0.3241 - val_accuracy: 0.8776\n",
      "Epoch 4/10\n",
      "1719/1719 [==============================] - 8s 5ms/step - loss: 0.2976 - accuracy: 0.8899 - val_loss: 0.3042 - val_accuracy: 0.8852\n",
      "Epoch 5/10\n",
      "1719/1719 [==============================] - 9s 5ms/step - loss: 0.2816 - accuracy: 0.8942 - val_loss: 0.3036 - val_accuracy: 0.8876\n",
      "Epoch 6/10\n",
      "1719/1719 [==============================] - 8s 5ms/step - loss: 0.2674 - accuracy: 0.9009 - val_loss: 0.3246 - val_accuracy: 0.8864\n",
      "Epoch 7/10\n",
      "1719/1719 [==============================] - 8s 5ms/step - loss: 0.2562 - accuracy: 0.9043 - val_loss: 0.3141 - val_accuracy: 0.8902\n",
      "Epoch 8/10\n",
      "1719/1719 [==============================] - 8s 5ms/step - loss: 0.2449 - accuracy: 0.9075 - val_loss: 0.3110 - val_accuracy: 0.8902\n",
      "Epoch 9/10\n",
      "1719/1719 [==============================] - 8s 5ms/step - loss: 0.2338 - accuracy: 0.9113 - val_loss: 0.3050 - val_accuracy: 0.8952\n",
      "Epoch 10/10\n",
      "1719/1719 [==============================] - 8s 5ms/step - loss: 0.2245 - accuracy: 0.9149 - val_loss: 0.2975 - val_accuracy: 0.8982\n"
     ]
    }
   ],
   "source": [
    "tf.random.set_seed(42)\n",
    "np.random.seed(42)\n",
    "alpha = 0.02\n",
    "model = keras.models.Sequential([\n",
    "    keras.layers.Flatten(input_shape=[28, 28]),\n",
    "    keras.layers.Dense(300, kernel_initializer=\"lecun_normal\"),\n",
    "    keras.layers.LeakyReLU(alpha = alpha),\n",
    "    keras.layers.Dense(100, kernel_initializer=\"lecun_normal\"),\n",
    "    keras.layers.LeakyReLU(alpha = alpha),\n",
    "    keras.layers.Dense(10, activation=\"softmax\")\n",
    "])\n",
    "\n",
    "model.compile(loss=\"sparse_categorical_crossentropy\",\n",
    "              optimizer=keras.optimizers.Nadam(learning_rate=1e-3, beta_1=0.9, beta_2=0.999),\n",
    "              metrics=[\"accuracy\"])\n",
    "\n",
    "history = model.fit(X_train, y_train, epochs=10,\n",
    "                    validation_data=(X_valid, y_valid))\n",
    "\n",
    "# Nadam добавил 0,0658 точности"
   ]
  },
  {
   "cell_type": "code",
   "execution_count": null,
   "metadata": {},
   "outputs": [
    {
     "name": "stdout",
     "output_type": "stream",
     "text": [
      "Epoch 1/25\n",
      "1719/1719 [==============================] - 9s 5ms/step - loss: 0.7632 - accuracy: 0.7733 - val_loss: 0.7204 - val_accuracy: 0.7956 - lr: 0.0100\n",
      "Epoch 2/25\n",
      "1719/1719 [==============================] - 8s 5ms/step - loss: 0.6402 - accuracy: 0.8037 - val_loss: 0.5509 - val_accuracy: 0.8304 - lr: 0.0089\n",
      "Epoch 3/25\n",
      "1719/1719 [==============================] - 8s 5ms/step - loss: 0.6089 - accuracy: 0.8181 - val_loss: 0.6292 - val_accuracy: 0.8340 - lr: 0.0079\n",
      "Epoch 4/25\n",
      "1719/1719 [==============================] - 8s 5ms/step - loss: 0.5683 - accuracy: 0.8293 - val_loss: 0.6338 - val_accuracy: 0.8236 - lr: 0.0071\n",
      "Epoch 5/25\n",
      "1719/1719 [==============================] - 8s 5ms/step - loss: 0.5198 - accuracy: 0.8406 - val_loss: 0.5579 - val_accuracy: 0.8498 - lr: 0.0063\n",
      "Epoch 6/25\n",
      "1719/1719 [==============================] - 8s 5ms/step - loss: 0.4573 - accuracy: 0.8582 - val_loss: 0.4695 - val_accuracy: 0.8650 - lr: 0.0056\n",
      "Epoch 7/25\n",
      "1719/1719 [==============================] - 8s 5ms/step - loss: 0.4259 - accuracy: 0.8657 - val_loss: 0.5737 - val_accuracy: 0.8534 - lr: 0.0050\n",
      "Epoch 8/25\n",
      "1719/1719 [==============================] - 8s 5ms/step - loss: 0.3930 - accuracy: 0.8741 - val_loss: 0.5204 - val_accuracy: 0.8358 - lr: 0.0045\n",
      "Epoch 9/25\n",
      "1719/1719 [==============================] - 8s 5ms/step - loss: 0.3673 - accuracy: 0.8814 - val_loss: 0.4863 - val_accuracy: 0.8378 - lr: 0.0040\n",
      "Epoch 10/25\n",
      "1719/1719 [==============================] - 8s 5ms/step - loss: 0.3435 - accuracy: 0.8877 - val_loss: 0.4580 - val_accuracy: 0.8822 - lr: 0.0035\n",
      "Epoch 11/25\n",
      "1719/1719 [==============================] - 8s 5ms/step - loss: 0.3057 - accuracy: 0.8979 - val_loss: 0.4394 - val_accuracy: 0.8686 - lr: 0.0032\n",
      "Epoch 12/25\n",
      "1719/1719 [==============================] - 8s 5ms/step - loss: 0.2868 - accuracy: 0.9038 - val_loss: 0.4857 - val_accuracy: 0.8748 - lr: 0.0028\n",
      "Epoch 13/25\n",
      "1719/1719 [==============================] - 8s 5ms/step - loss: 0.2695 - accuracy: 0.9089 - val_loss: 0.4887 - val_accuracy: 0.8752 - lr: 0.0025\n",
      "Epoch 14/25\n",
      "1719/1719 [==============================] - 8s 5ms/step - loss: 0.2456 - accuracy: 0.9162 - val_loss: 0.4952 - val_accuracy: 0.8710 - lr: 0.0022\n",
      "Epoch 15/25\n",
      "1719/1719 [==============================] - 8s 5ms/step - loss: 0.2280 - accuracy: 0.9219 - val_loss: 0.4584 - val_accuracy: 0.8814 - lr: 0.0020\n",
      "Epoch 16/25\n",
      "1719/1719 [==============================] - 8s 5ms/step - loss: 0.2107 - accuracy: 0.9279 - val_loss: 0.4306 - val_accuracy: 0.8888 - lr: 0.0018\n",
      "Epoch 17/25\n",
      "1719/1719 [==============================] - 8s 5ms/step - loss: 0.1947 - accuracy: 0.9346 - val_loss: 0.5225 - val_accuracy: 0.8818 - lr: 0.0016\n",
      "Epoch 18/25\n",
      "1719/1719 [==============================] - 8s 5ms/step - loss: 0.1833 - accuracy: 0.9378 - val_loss: 0.4531 - val_accuracy: 0.8850 - lr: 0.0014\n",
      "Epoch 19/25\n",
      "1719/1719 [==============================] - 8s 5ms/step - loss: 0.1694 - accuracy: 0.9427 - val_loss: 0.4914 - val_accuracy: 0.8888 - lr: 0.0013\n",
      "Epoch 20/25\n",
      "1719/1719 [==============================] - 8s 5ms/step - loss: 0.1583 - accuracy: 0.9462 - val_loss: 0.4808 - val_accuracy: 0.8868 - lr: 0.0011\n",
      "Epoch 21/25\n",
      "1719/1719 [==============================] - 8s 5ms/step - loss: 0.1468 - accuracy: 0.9517 - val_loss: 0.5100 - val_accuracy: 0.8852 - lr: 0.0010\n",
      "Epoch 22/25\n",
      "1719/1719 [==============================] - 8s 5ms/step - loss: 0.1368 - accuracy: 0.9555 - val_loss: 0.5271 - val_accuracy: 0.8890 - lr: 8.9125e-04\n",
      "Epoch 23/25\n",
      "1719/1719 [==============================] - 8s 5ms/step - loss: 0.1316 - accuracy: 0.9582 - val_loss: 0.5520 - val_accuracy: 0.8896 - lr: 7.9433e-04\n",
      "Epoch 24/25\n",
      "1719/1719 [==============================] - 8s 5ms/step - loss: 0.1201 - accuracy: 0.9614 - val_loss: 0.5769 - val_accuracy: 0.8920 - lr: 7.0795e-04\n",
      "Epoch 25/25\n",
      "1719/1719 [==============================] - 8s 5ms/step - loss: 0.1137 - accuracy: 0.9632 - val_loss: 0.5831 - val_accuracy: 0.8908 - lr: 6.3096e-04\n"
     ]
    }
   ],
   "source": [
    "def exponential_decay(lr0, s):\n",
    "    def exponential_decay_fn(epoch):\n",
    "        return lr0 * 0.1**(epoch / s)\n",
    "    return exponential_decay_fn\n",
    "\n",
    "exponential_decay_fn = exponential_decay(lr0=0.01, s=20)\n",
    "\n",
    "model = keras.models.Sequential([\n",
    "    keras.layers.Flatten(input_shape=[28, 28]),\n",
    "    keras.layers.Dense(300, activation=\"selu\", kernel_initializer=\"lecun_normal\"),\n",
    "    keras.layers.Dense(100, activation=\"selu\", kernel_initializer=\"lecun_normal\"),\n",
    "    keras.layers.Dense(10, activation=\"softmax\")\n",
    "])\n",
    "model.compile(loss=\"sparse_categorical_crossentropy\", optimizer=\"nadam\", metrics=[\"accuracy\"])\n",
    "n_epochs = 25\n",
    "\n",
    "lr_scheduler = keras.callbacks.LearningRateScheduler(exponential_decay_fn)\n",
    "history = model.fit(X_train_scaled, y_train, epochs=n_epochs,\n",
    "                    validation_data=(X_valid_scaled, y_valid),\n",
    "                    callbacks=[lr_scheduler])\n",
    "\n",
    "# экспоненциальное изменение lr добавило 0,1308 точности"
   ]
  },
  {
   "cell_type": "code",
   "execution_count": null,
   "metadata": {},
   "outputs": [
    {
     "data": {
      "image/png": "[encoded data removed]",
      "text/plain": [
       "<Figure size 640x480 with 1 Axes>"
      ]
     },
     "metadata": {},
     "output_type": "display_data"
    }
   ],
   "source": [
    "plt.plot(history.epoch, history.history[\"lr\"], \"o-\")\n",
    "plt.axis([0, n_epochs - 1, 0, 0.011])\n",
    "plt.xlabel(\"Epoch\")\n",
    "plt.ylabel(\"Learning Rate\")\n",
    "plt.title(\"Exponential Scheduling\", fontsize=14)\n",
    "plt.grid(True)\n",
    "plt.show()"
   ]
  },
  {
   "cell_type": "code",
   "execution_count": null,
   "metadata": {},
   "outputs": [
    {
     "name": "stdout",
     "output_type": "stream",
     "text": [
      "Epoch 1/25\n",
      "1719/1719 [==============================] - 10s 5ms/step - loss: 0.7401 - accuracy: 0.7791 - val_loss: 0.7127 - val_accuracy: 0.8182 - lr: 0.0100\n",
      "Epoch 2/25\n",
      "1719/1719 [==============================] - 9s 5ms/step - loss: 0.7044 - accuracy: 0.7865 - val_loss: 0.7375 - val_accuracy: 0.7928 - lr: 0.0100\n",
      "Epoch 3/25\n",
      "1719/1719 [==============================] - 8s 5ms/step - loss: 0.8949 - accuracy: 0.7219 - val_loss: 1.1802 - val_accuracy: 0.6516 - lr: 0.0100\n",
      "Epoch 4/25\n",
      "1719/1719 [==============================] - 8s 5ms/step - loss: 0.8921 - accuracy: 0.7086 - val_loss: 1.0141 - val_accuracy: 0.6454 - lr: 0.0100\n",
      "Epoch 5/25\n",
      "1719/1719 [==============================] - 8s 5ms/step - loss: 0.8041 - accuracy: 0.7559 - val_loss: 0.8290 - val_accuracy: 0.7882 - lr: 0.0100\n",
      "Epoch 6/25\n",
      "1719/1719 [==============================] - 8s 5ms/step - loss: 0.5578 - accuracy: 0.8188 - val_loss: 0.5617 - val_accuracy: 0.8374 - lr: 0.0050\n",
      "Epoch 7/25\n",
      "1719/1719 [==============================] - 8s 5ms/step - loss: 0.5098 - accuracy: 0.8377 - val_loss: 0.5823 - val_accuracy: 0.8536 - lr: 0.0050\n",
      "Epoch 8/25\n",
      "1719/1719 [==============================] - 9s 5ms/step - loss: 0.5049 - accuracy: 0.8432 - val_loss: 0.6582 - val_accuracy: 0.7974 - lr: 0.0050\n",
      "Epoch 9/25\n",
      "1719/1719 [==============================] - 8s 5ms/step - loss: 0.4890 - accuracy: 0.8504 - val_loss: 0.6365 - val_accuracy: 0.7924 - lr: 0.0050\n",
      "Epoch 10/25\n",
      "1719/1719 [==============================] - 8s 5ms/step - loss: 0.4718 - accuracy: 0.8592 - val_loss: 0.6238 - val_accuracy: 0.8562 - lr: 0.0050\n",
      "Epoch 11/25\n",
      "1719/1719 [==============================] - 8s 5ms/step - loss: 0.4548 - accuracy: 0.8654 - val_loss: 0.6761 - val_accuracy: 0.8600 - lr: 0.0050\n",
      "Epoch 12/25\n",
      "1719/1719 [==============================] - 8s 5ms/step - loss: 0.4666 - accuracy: 0.8646 - val_loss: 0.6060 - val_accuracy: 0.8492 - lr: 0.0050\n",
      "Epoch 13/25\n",
      "1719/1719 [==============================] - 8s 5ms/step - loss: 0.4372 - accuracy: 0.8715 - val_loss: 0.6116 - val_accuracy: 0.8600 - lr: 0.0050\n",
      "Epoch 14/25\n",
      "1719/1719 [==============================] - 8s 5ms/step - loss: 0.4254 - accuracy: 0.8717 - val_loss: 0.5671 - val_accuracy: 0.8584 - lr: 0.0050\n",
      "Epoch 15/25\n",
      "1719/1719 [==============================] - 8s 5ms/step - loss: 0.4232 - accuracy: 0.8749 - val_loss: 0.7279 - val_accuracy: 0.8440 - lr: 0.0050\n",
      "Epoch 16/25\n",
      "1719/1719 [==============================] - 8s 5ms/step - loss: 0.2975 - accuracy: 0.9051 - val_loss: 0.4731 - val_accuracy: 0.8790 - lr: 0.0010\n",
      "Epoch 17/25\n",
      "1719/1719 [==============================] - 8s 5ms/step - loss: 0.2682 - accuracy: 0.9139 - val_loss: 0.4989 - val_accuracy: 0.8814 - lr: 0.0010\n",
      "Epoch 18/25\n",
      "1719/1719 [==============================] - 8s 5ms/step - loss: 0.2543 - accuracy: 0.9172 - val_loss: 0.4871 - val_accuracy: 0.8808 - lr: 0.0010\n",
      "Epoch 19/25\n",
      "1719/1719 [==============================] - 9s 5ms/step - loss: 0.2430 - accuracy: 0.9218 - val_loss: 0.5096 - val_accuracy: 0.8838 - lr: 0.0010\n",
      "Epoch 20/25\n",
      "1719/1719 [==============================] - 9s 5ms/step - loss: 0.2336 - accuracy: 0.9248 - val_loss: 0.5301 - val_accuracy: 0.8844 - lr: 0.0010\n",
      "Epoch 21/25\n",
      "1719/1719 [==============================] - 9s 5ms/step - loss: 0.2228 - accuracy: 0.9283 - val_loss: 0.5313 - val_accuracy: 0.8824 - lr: 0.0010\n",
      "Epoch 22/25\n",
      "1719/1719 [==============================] - 8s 5ms/step - loss: 0.2178 - accuracy: 0.9304 - val_loss: 0.4953 - val_accuracy: 0.8896 - lr: 0.0010\n",
      "Epoch 23/25\n",
      "1719/1719 [==============================] - 8s 5ms/step - loss: 0.2094 - accuracy: 0.9322 - val_loss: 0.5591 - val_accuracy: 0.8856 - lr: 0.0010\n",
      "Epoch 24/25\n",
      "1719/1719 [==============================] - 8s 5ms/step - loss: 0.2019 - accuracy: 0.9354 - val_loss: 0.5707 - val_accuracy: 0.8804 - lr: 0.0010\n",
      "Epoch 25/25\n",
      "1719/1719 [==============================] - 8s 5ms/step - loss: 0.1972 - accuracy: 0.9373 - val_loss: 0.6060 - val_accuracy: 0.8812 - lr: 0.0010\n"
     ]
    }
   ],
   "source": [
    "def piecewise_constant(boundaries, values):\n",
    "    boundaries = np.array([0] + boundaries)\n",
    "    values = np.array(values)\n",
    "    def piecewise_constant_fn(epoch):\n",
    "        return values[np.argmax(boundaries > epoch) - 1]\n",
    "    return piecewise_constant_fn\n",
    "\n",
    "piecewise_constant_fn = piecewise_constant([5, 15], [0.01, 0.005, 0.001])\n",
    "\n",
    "\n",
    "lr_scheduler = keras.callbacks.LearningRateScheduler(piecewise_constant_fn)\n",
    "\n",
    "model = keras.models.Sequential([\n",
    "    keras.layers.Flatten(input_shape=[28, 28]),\n",
    "    keras.layers.Dense(300, activation=\"selu\", kernel_initializer=\"lecun_normal\"),\n",
    "    keras.layers.Dense(100, activation=\"selu\", kernel_initializer=\"lecun_normal\"),\n",
    "    keras.layers.Dense(10, activation=\"softmax\")\n",
    "])\n",
    "model.compile(loss=\"sparse_categorical_crossentropy\", optimizer=\"nadam\", metrics=[\"accuracy\"])\n",
    "n_epochs = 25\n",
    "history = model.fit(X_train_scaled, y_train, epochs=n_epochs,\n",
    "                    validation_data=(X_valid_scaled, y_valid),\n",
    "                    callbacks=[lr_scheduler])\n",
    "\n",
    "# шаговое изменение lr добавило 0,1049 точности"
   ]
  },
  {
   "cell_type": "code",
   "execution_count": null,
   "metadata": {},
   "outputs": [
    {
     "name": "stderr",
     "output_type": "stream",
     "text": [
      "WARNING:absl:`lr` is deprecated in Keras optimizer, please use `learning_rate` or use the legacy optimizer, e.g.,tf.keras.optimizers.legacy.SGD.\n"
     ]
    },
    {
     "name": "stdout",
     "output_type": "stream",
     "text": [
      "Epoch 1/25\n",
      "1719/1719 [==============================] - 7s 4ms/step - loss: 0.4828 - accuracy: 0.8287 - val_loss: 0.3826 - val_accuracy: 0.8618 - lr: 0.0100\n",
      "Epoch 2/25\n",
      "1719/1719 [==============================] - 6s 4ms/step - loss: 0.3652 - accuracy: 0.8679 - val_loss: 0.3944 - val_accuracy: 0.8648 - lr: 0.0100\n",
      "Epoch 3/25\n",
      "1719/1719 [==============================] - 7s 4ms/step - loss: 0.3304 - accuracy: 0.8771 - val_loss: 0.3410 - val_accuracy: 0.8786 - lr: 0.0100\n",
      "Epoch 4/25\n",
      "1719/1719 [==============================] - 6s 3ms/step - loss: 0.3075 - accuracy: 0.8874 - val_loss: 0.3585 - val_accuracy: 0.8808 - lr: 0.0100\n",
      "Epoch 5/25\n",
      "1719/1719 [==============================] - 6s 3ms/step - loss: 0.2850 - accuracy: 0.8941 - val_loss: 0.3237 - val_accuracy: 0.8876 - lr: 0.0100\n",
      "Epoch 6/25\n",
      "1719/1719 [==============================] - 6s 4ms/step - loss: 0.2677 - accuracy: 0.9005 - val_loss: 0.3805 - val_accuracy: 0.8768 - lr: 0.0100\n",
      "Epoch 7/25\n",
      "1719/1719 [==============================] - 6s 3ms/step - loss: 0.2552 - accuracy: 0.9059 - val_loss: 0.3938 - val_accuracy: 0.8746 - lr: 0.0100\n",
      "Epoch 8/25\n",
      "1719/1719 [==============================] - 6s 4ms/step - loss: 0.2458 - accuracy: 0.9090 - val_loss: 0.4101 - val_accuracy: 0.8678 - lr: 0.0100\n",
      "Epoch 9/25\n",
      "1719/1719 [==============================] - 6s 4ms/step - loss: 0.2314 - accuracy: 0.9144 - val_loss: 0.3677 - val_accuracy: 0.8872 - lr: 0.0100\n",
      "Epoch 10/25\n",
      "1719/1719 [==============================] - 7s 4ms/step - loss: 0.2259 - accuracy: 0.9173 - val_loss: 0.3845 - val_accuracy: 0.8872 - lr: 0.0100\n",
      "Epoch 11/25\n",
      "1719/1719 [==============================] - 7s 4ms/step - loss: 0.1489 - accuracy: 0.9429 - val_loss: 0.3377 - val_accuracy: 0.8984 - lr: 0.0050\n",
      "Epoch 12/25\n",
      "1719/1719 [==============================] - 6s 4ms/step - loss: 0.1270 - accuracy: 0.9520 - val_loss: 0.3709 - val_accuracy: 0.8916 - lr: 0.0050\n",
      "Epoch 13/25\n",
      "1719/1719 [==============================] - 6s 4ms/step - loss: 0.1177 - accuracy: 0.9557 - val_loss: 0.3590 - val_accuracy: 0.8998 - lr: 0.0050\n",
      "Epoch 14/25\n",
      "1719/1719 [==============================] - 6s 4ms/step - loss: 0.1092 - accuracy: 0.9587 - val_loss: 0.3799 - val_accuracy: 0.8970 - lr: 0.0050\n",
      "Epoch 15/25\n",
      "1719/1719 [==============================] - 6s 4ms/step - loss: 0.1013 - accuracy: 0.9619 - val_loss: 0.4012 - val_accuracy: 0.8904 - lr: 0.0050\n",
      "Epoch 16/25\n",
      "1719/1719 [==============================] - 7s 4ms/step - loss: 0.0710 - accuracy: 0.9747 - val_loss: 0.3952 - val_accuracy: 0.8990 - lr: 0.0025\n",
      "Epoch 17/25\n",
      "1719/1719 [==============================] - 6s 4ms/step - loss: 0.0625 - accuracy: 0.9785 - val_loss: 0.4053 - val_accuracy: 0.8994 - lr: 0.0025\n",
      "Epoch 18/25\n",
      "1719/1719 [==============================] - 6s 4ms/step - loss: 0.0582 - accuracy: 0.9806 - val_loss: 0.4179 - val_accuracy: 0.8972 - lr: 0.0025\n",
      "Epoch 19/25\n",
      "1719/1719 [==============================] - 6s 4ms/step - loss: 0.0536 - accuracy: 0.9815 - val_loss: 0.4348 - val_accuracy: 0.8998 - lr: 0.0025\n",
      "Epoch 20/25\n",
      "1719/1719 [==============================] - 6s 4ms/step - loss: 0.0490 - accuracy: 0.9836 - val_loss: 0.4348 - val_accuracy: 0.8998 - lr: 0.0025\n",
      "Epoch 21/25\n",
      "1719/1719 [==============================] - 6s 4ms/step - loss: 0.0381 - accuracy: 0.9885 - val_loss: 0.4405 - val_accuracy: 0.8982 - lr: 0.0012\n",
      "Epoch 22/25\n",
      "1719/1719 [==============================] - 6s 4ms/step - loss: 0.0351 - accuracy: 0.9905 - val_loss: 0.4466 - val_accuracy: 0.8992 - lr: 0.0012\n",
      "Epoch 23/25\n",
      "1719/1719 [==============================] - 6s 4ms/step - loss: 0.0332 - accuracy: 0.9907 - val_loss: 0.4541 - val_accuracy: 0.8994 - lr: 0.0012\n",
      "Epoch 24/25\n",
      "1719/1719 [==============================] - 6s 4ms/step - loss: 0.0314 - accuracy: 0.9919 - val_loss: 0.4617 - val_accuracy: 0.8988 - lr: 0.0012\n",
      "Epoch 25/25\n",
      "1719/1719 [==============================] - 6s 4ms/step - loss: 0.0299 - accuracy: 0.9923 - val_loss: 0.4694 - val_accuracy: 0.8988 - lr: 0.0012\n"
     ]
    },
    {
     "data": {
      "image/png": "[encoded data removed]",
      "text/plain": [
       "<Figure size 640x480 with 2 Axes>"
      ]
     },
     "metadata": {},
     "output_type": "display_data"
    }
   ],
   "source": [
    "lr_scheduler = keras.callbacks.ReduceLROnPlateau(factor=0.5, patience=5)\n",
    "\n",
    "model = keras.models.Sequential([\n",
    "    keras.layers.Flatten(input_shape=[28, 28]),\n",
    "    keras.layers.Dense(300, activation=\"selu\", kernel_initializer=\"lecun_normal\"),\n",
    "    keras.layers.Dense(100, activation=\"selu\", kernel_initializer=\"lecun_normal\"),\n",
    "    keras.layers.Dense(10, activation=\"softmax\")\n",
    "])\n",
    "optimizer = keras.optimizers.SGD(lr=0.02, momentum=0.9)\n",
    "model.compile(loss=\"sparse_categorical_crossentropy\", optimizer=optimizer, metrics=[\"accuracy\"])\n",
    "n_epochs = 25\n",
    "history = model.fit(X_train_scaled, y_train, epochs=n_epochs,\n",
    "                    validation_data=(X_valid_scaled, y_valid),\n",
    "                    callbacks=[lr_scheduler])\n",
    "\n",
    "plt.plot(history.epoch, history.history[\"lr\"], \"bo-\")\n",
    "plt.xlabel(\"Epoch\")\n",
    "plt.ylabel(\"Learning Rate\", color='b')\n",
    "plt.tick_params('y', colors='b')\n",
    "plt.gca().set_xlim(0, n_epochs - 1)\n",
    "plt.grid(True)\n",
    "\n",
    "ax2 = plt.gca().twinx()\n",
    "ax2.plot(history.epoch, history.history[\"val_loss\"], \"r^-\")\n",
    "ax2.set_ylabel('Validation Loss', color='r')\n",
    "ax2.tick_params('y', colors='r')\n",
    "\n",
    "plt.title(\"Reduce LR on Plateau\", fontsize=14)\n",
    "plt.show()\n",
    "\n",
    "# уменьшение скорости обучения с коэффициентом λ добавило 0,1599 точности но увеличило разрыв с валидацией на 0,1. Оптимально 13 эпох"
   ]
  },
  {
   "cell_type": "code",
   "execution_count": null,
   "metadata": {},
   "outputs": [
    {
     "name": "stdout",
     "output_type": "stream",
     "text": [
      "Epoch 1/10\n",
      "1719/1719 [==============================] - 10s 5ms/step - loss: 1.6478 - accuracy: 0.8143 - val_loss: 0.7093 - val_accuracy: 0.8408\n",
      "Epoch 2/10\n",
      "1719/1719 [==============================] - 8s 5ms/step - loss: 0.7227 - accuracy: 0.8270 - val_loss: 0.6953 - val_accuracy: 0.8316\n",
      "Epoch 3/10\n",
      "1719/1719 [==============================] - 8s 5ms/step - loss: 0.7059 - accuracy: 0.8313 - val_loss: 0.6915 - val_accuracy: 0.8370\n",
      "Epoch 4/10\n",
      "1719/1719 [==============================] - 9s 5ms/step - loss: 0.6992 - accuracy: 0.8346 - val_loss: 0.6772 - val_accuracy: 0.8452\n",
      "Epoch 5/10\n",
      "1719/1719 [==============================] - 8s 5ms/step - loss: 0.6936 - accuracy: 0.8376 - val_loss: 0.6663 - val_accuracy: 0.8446\n",
      "Epoch 6/10\n",
      "1719/1719 [==============================] - 9s 5ms/step - loss: 0.6903 - accuracy: 0.8363 - val_loss: 0.6674 - val_accuracy: 0.8480\n",
      "Epoch 7/10\n",
      "1719/1719 [==============================] - 9s 5ms/step - loss: 0.6879 - accuracy: 0.8377 - val_loss: 0.6626 - val_accuracy: 0.8484\n",
      "Epoch 8/10\n",
      "1719/1719 [==============================] - 9s 5ms/step - loss: 0.6847 - accuracy: 0.8400 - val_loss: 0.7486 - val_accuracy: 0.8186\n",
      "Epoch 9/10\n",
      "1719/1719 [==============================] - 8s 5ms/step - loss: 0.6873 - accuracy: 0.8381 - val_loss: 0.6594 - val_accuracy: 0.8482\n",
      "Epoch 10/10\n",
      "1719/1719 [==============================] - 8s 5ms/step - loss: 0.6823 - accuracy: 0.8398 - val_loss: 0.6580 - val_accuracy: 0.8488\n"
     ]
    }
   ],
   "source": [
    "from functools import partial\n",
    "\n",
    "RegularizedDense = partial(keras.layers.Dense,\n",
    "                           activation=\"elu\",\n",
    "                           kernel_initializer=\"he_normal\",\n",
    "                           kernel_regularizer=keras.regularizers.l2(0.01))\n",
    "\n",
    "model = keras.models.Sequential([\n",
    "    keras.layers.Flatten(input_shape=[28, 28]),\n",
    "    RegularizedDense(300),\n",
    "    RegularizedDense(100),\n",
    "    RegularizedDense(10, activation=\"softmax\")\n",
    "])\n",
    "model.compile(loss=\"sparse_categorical_crossentropy\", optimizer=\"nadam\", metrics=[\"accuracy\"])\n",
    "n_epochs = 10\n",
    "history = model.fit(X_train_scaled, y_train, epochs=n_epochs,\n",
    "                    validation_data=(X_valid_scaled, y_valid))\n",
    "\n",
    "# слои с регуляризацией добавили 0,007 точности но при этом стабильно больший результат на валидации"
   ]
  },
  {
   "cell_type": "code",
   "execution_count": 35,
   "metadata": {},
   "outputs": [
    {
     "name": "stdout",
     "output_type": "stream",
     "text": [
      "Epoch 1/10\n",
      "1719/1719 [==============================] - 11s 6ms/step - loss: 0.5791 - accuracy: 0.8019 - val_loss: 0.3654 - val_accuracy: 0.8662\n",
      "Epoch 2/10\n",
      "1719/1719 [==============================] - 10s 6ms/step - loss: 0.4256 - accuracy: 0.8444 - val_loss: 0.3429 - val_accuracy: 0.8682\n",
      "Epoch 3/10\n",
      "1719/1719 [==============================] - 9s 5ms/step - loss: 0.3933 - accuracy: 0.8522 - val_loss: 0.3520 - val_accuracy: 0.8724\n",
      "Epoch 4/10\n",
      "1719/1719 [==============================] - 9s 5ms/step - loss: 0.3752 - accuracy: 0.8605 - val_loss: 0.3211 - val_accuracy: 0.8816\n",
      "Epoch 5/10\n",
      "1719/1719 [==============================] - 9s 5ms/step - loss: 0.3594 - accuracy: 0.8675 - val_loss: 0.3104 - val_accuracy: 0.8846\n",
      "Epoch 6/10\n",
      "1719/1719 [==============================] - 9s 5ms/step - loss: 0.3490 - accuracy: 0.8713 - val_loss: 0.3183 - val_accuracy: 0.8826\n",
      "Epoch 7/10\n",
      "1719/1719 [==============================] - 9s 5ms/step - loss: 0.3419 - accuracy: 0.8732 - val_loss: 0.3182 - val_accuracy: 0.8828\n",
      "Epoch 8/10\n",
      "1719/1719 [==============================] - 9s 5ms/step - loss: 0.3336 - accuracy: 0.8755 - val_loss: 0.3050 - val_accuracy: 0.8870\n",
      "Epoch 9/10\n",
      "1719/1719 [==============================] - 9s 5ms/step - loss: 0.3281 - accuracy: 0.8772 - val_loss: 0.3108 - val_accuracy: 0.8844\n",
      "Epoch 10/10\n",
      "1719/1719 [==============================] - 9s 5ms/step - loss: 0.3210 - accuracy: 0.8799 - val_loss: 0.3165 - val_accuracy: 0.8882\n"
     ]
    }
   ],
   "source": [
    "model = keras.models.Sequential([\n",
    "    keras.layers.Flatten(input_shape=[28, 28]),\n",
    "    keras.layers.Dropout(rate=0.2),\n",
    "    keras.layers.Dense(300, activation=\"elu\", kernel_initializer=\"he_normal\"),\n",
    "    keras.layers.Dropout(rate=0.2),\n",
    "    keras.layers.Dense(100, activation=\"elu\", kernel_initializer=\"he_normal\"),\n",
    "    keras.layers.Dropout(rate=0.2),\n",
    "    keras.layers.Dense(10, activation=\"softmax\")\n",
    "])\n",
    "model.compile(loss=\"sparse_categorical_crossentropy\", optimizer=\"nadam\", metrics=[\"accuracy\"])\n",
    "n_epochs = 10\n",
    "history = model.fit(X_train_scaled, y_train, epochs=n_epochs,\n",
    "                    validation_data=(X_valid_scaled, y_valid))\n",
    "\n",
    "# слои с dropout добавили 0,475 точности но при этом стабильно больший результат на валидации"
   ]
  },
  {
   "cell_type": "code",
   "execution_count": 37,
   "metadata": {},
   "outputs": [
    {
     "name": "stderr",
     "output_type": "stream",
     "text": [
      "WARNING:absl:`lr` is deprecated in Keras optimizer, please use `learning_rate` or use the legacy optimizer, e.g.,tf.keras.optimizers.legacy.SGD.\n"
     ]
    },
    {
     "name": "stdout",
     "output_type": "stream",
     "text": [
      "Epoch 1/20\n",
      "1719/1719 [==============================] - 9s 5ms/step - loss: 0.6670 - accuracy: 0.7594 - val_loss: 0.6164 - val_accuracy: 0.8354\n",
      "Epoch 2/20\n",
      "1719/1719 [==============================] - 9s 5ms/step - loss: 0.5591 - accuracy: 0.7939 - val_loss: 0.5637 - val_accuracy: 0.8482\n",
      "Epoch 3/20\n",
      "1719/1719 [==============================] - 9s 5ms/step - loss: 0.5276 - accuracy: 0.8059 - val_loss: 0.5340 - val_accuracy: 0.8504\n",
      "Epoch 4/20\n",
      "1719/1719 [==============================] - 8s 5ms/step - loss: 0.5087 - accuracy: 0.8114 - val_loss: 0.4608 - val_accuracy: 0.8646\n",
      "Epoch 5/20\n",
      "1719/1719 [==============================] - 9s 5ms/step - loss: 0.4910 - accuracy: 0.8179 - val_loss: 0.4708 - val_accuracy: 0.8604\n",
      "Epoch 6/20\n",
      "1719/1719 [==============================] - 9s 5ms/step - loss: 0.4797 - accuracy: 0.8213 - val_loss: 0.4730 - val_accuracy: 0.8598\n",
      "Epoch 7/20\n",
      "1719/1719 [==============================] - 9s 5ms/step - loss: 0.4725 - accuracy: 0.8242 - val_loss: 0.4672 - val_accuracy: 0.8610\n",
      "Epoch 8/20\n",
      "1719/1719 [==============================] - 8s 5ms/step - loss: 0.4655 - accuracy: 0.8269 - val_loss: 0.4397 - val_accuracy: 0.8644\n",
      "Epoch 9/20\n",
      "1719/1719 [==============================] - 8s 5ms/step - loss: 0.4580 - accuracy: 0.8296 - val_loss: 0.4253 - val_accuracy: 0.8676\n",
      "Epoch 10/20\n",
      "1719/1719 [==============================] - 8s 5ms/step - loss: 0.4510 - accuracy: 0.8341 - val_loss: 0.4743 - val_accuracy: 0.8620\n",
      "Epoch 11/20\n",
      "1719/1719 [==============================] - 9s 5ms/step - loss: 0.4495 - accuracy: 0.8309 - val_loss: 0.4183 - val_accuracy: 0.8678\n",
      "Epoch 12/20\n",
      "1719/1719 [==============================] - 9s 5ms/step - loss: 0.4423 - accuracy: 0.8339 - val_loss: 0.4953 - val_accuracy: 0.8602\n",
      "Epoch 13/20\n",
      "1719/1719 [==============================] - 8s 5ms/step - loss: 0.4401 - accuracy: 0.8362 - val_loss: 0.4172 - val_accuracy: 0.8748\n",
      "Epoch 14/20\n",
      "1719/1719 [==============================] - 8s 5ms/step - loss: 0.4359 - accuracy: 0.8365 - val_loss: 0.4304 - val_accuracy: 0.8646\n",
      "Epoch 15/20\n",
      "1719/1719 [==============================] - 9s 5ms/step - loss: 0.4352 - accuracy: 0.8373 - val_loss: 0.4313 - val_accuracy: 0.8688\n",
      "Epoch 16/20\n",
      "1719/1719 [==============================] - 9s 5ms/step - loss: 0.4297 - accuracy: 0.8407 - val_loss: 0.4320 - val_accuracy: 0.8780\n",
      "Epoch 17/20\n",
      "1719/1719 [==============================] - 9s 5ms/step - loss: 0.4282 - accuracy: 0.8420 - val_loss: 0.5593 - val_accuracy: 0.8596\n",
      "Epoch 18/20\n",
      "1719/1719 [==============================] - 8s 5ms/step - loss: 0.4272 - accuracy: 0.8387 - val_loss: 0.4769 - val_accuracy: 0.8738\n",
      "Epoch 19/20\n",
      "1719/1719 [==============================] - 8s 5ms/step - loss: 0.4231 - accuracy: 0.8421 - val_loss: 0.4612 - val_accuracy: 0.8768\n",
      "Epoch 20/20\n",
      "1719/1719 [==============================] - 8s 5ms/step - loss: 0.4190 - accuracy: 0.8437 - val_loss: 0.4435 - val_accuracy: 0.8714\n"
     ]
    }
   ],
   "source": [
    "model = keras.models.Sequential([\n",
    "    keras.layers.Flatten(input_shape=[28, 28]),\n",
    "    keras.layers.AlphaDropout(rate=0.2),\n",
    "    keras.layers.Dense(300, activation=\"selu\", kernel_initializer=\"lecun_normal\"),\n",
    "    keras.layers.AlphaDropout(rate=0.2),\n",
    "    keras.layers.Dense(100, activation=\"selu\", kernel_initializer=\"lecun_normal\"),\n",
    "    keras.layers.AlphaDropout(rate=0.2),\n",
    "    keras.layers.Dense(10, activation=\"softmax\")\n",
    "])\n",
    "optimizer = keras.optimizers.SGD(lr=0.01, momentum=0.9, nesterov=True)\n",
    "model.compile(loss=\"sparse_categorical_crossentropy\", optimizer=optimizer, metrics=[\"accuracy\"])\n",
    "n_epochs = 20\n",
    "history = model.fit(X_train_scaled, y_train, epochs=n_epochs,\n",
    "                    validation_data=(X_valid_scaled, y_valid))\n",
    "\n",
    "# слои с alphadropout на 10 эпохе снизили точность "
   ]
  },
  {
   "cell_type": "code",
   "execution_count": 39,
   "metadata": {},
   "outputs": [
    {
     "name": "stdout",
     "output_type": "stream",
     "text": [
      "Epoch 1/10\n",
      "1719/1719 [==============================] - 10s 6ms/step - loss: 0.4735 - accuracy: 0.8345 - val_loss: 0.3701 - val_accuracy: 0.8646\n",
      "Epoch 2/10\n",
      "1719/1719 [==============================] - 10s 6ms/step - loss: 0.3600 - accuracy: 0.8690 - val_loss: 0.3971 - val_accuracy: 0.8606\n",
      "Epoch 3/10\n",
      "1719/1719 [==============================] - 10s 6ms/step - loss: 0.3359 - accuracy: 0.8756 - val_loss: 0.3574 - val_accuracy: 0.8744\n",
      "Epoch 4/10\n",
      "1719/1719 [==============================] - 10s 6ms/step - loss: 0.3222 - accuracy: 0.8799 - val_loss: 0.3498 - val_accuracy: 0.8710\n",
      "Epoch 5/10\n",
      "1719/1719 [==============================] - 9s 5ms/step - loss: 0.3179 - accuracy: 0.8825 - val_loss: 0.3371 - val_accuracy: 0.8784\n",
      "Epoch 6/10\n",
      "1719/1719 [==============================] - 9s 5ms/step - loss: 0.3126 - accuracy: 0.8850 - val_loss: 0.3430 - val_accuracy: 0.8792\n",
      "Epoch 7/10\n",
      "1719/1719 [==============================] - 9s 5ms/step - loss: 0.3102 - accuracy: 0.8837 - val_loss: 0.3375 - val_accuracy: 0.8784\n",
      "Epoch 8/10\n",
      "1719/1719 [==============================] - 9s 5ms/step - loss: 0.3061 - accuracy: 0.8848 - val_loss: 0.3754 - val_accuracy: 0.8676\n",
      "Epoch 9/10\n",
      "1719/1719 [==============================] - 9s 5ms/step - loss: 0.3039 - accuracy: 0.8859 - val_loss: 0.3282 - val_accuracy: 0.8818\n",
      "Epoch 10/10\n",
      "1719/1719 [==============================] - 9s 5ms/step - loss: 0.3027 - accuracy: 0.8867 - val_loss: 0.3292 - val_accuracy: 0.8822\n"
     ]
    }
   ],
   "source": [
    "MaxNormDense = partial(keras.layers.Dense,\n",
    "                       activation=\"selu\", kernel_initializer=\"lecun_normal\",\n",
    "                       kernel_constraint=keras.constraints.max_norm(1.))\n",
    "\n",
    "model = keras.models.Sequential([\n",
    "    keras.layers.Flatten(input_shape=[28, 28]),\n",
    "    MaxNormDense(300),\n",
    "    MaxNormDense(100),\n",
    "    keras.layers.Dense(10, activation=\"softmax\")\n",
    "])\n",
    "model.compile(loss=\"sparse_categorical_crossentropy\", optimizer=\"nadam\", metrics=[\"accuracy\"])\n",
    "n_epochs = 10\n",
    "history = model.fit(X_train_scaled, y_train, epochs=n_epochs,\n",
    "                    validation_data=(X_valid_scaled, y_valid))\n",
    "\n",
    "# слои с MaxNormDense повысили  точность на 0,543. но снизились валидация"
   ]
  },
  {
   "cell_type": "code",
   "execution_count": null,
   "metadata": {},
   "outputs": [],
   "source": []
  }
 ],
 "metadata": {
  "kernelspec": {
   "display_name": "Python 3",
   "language": "python",
   "name": "python3"
  },
  "language_info": {
   "codemirror_mode": {
    "name": "ipython",
    "version": 3
   },
   "file_extension": ".py",
   "mimetype": "text/x-python",
   "name": "python",
   "nbconvert_exporter": "python",
   "pygments_lexer": "ipython3",
   "version": "3.8.10"
  },
  "orig_nbformat": 4
 },
 "nbformat": 4,
 "nbformat_minor": 2
}
