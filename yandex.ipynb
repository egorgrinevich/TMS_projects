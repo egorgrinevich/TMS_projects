{
 "cells": [
  {
   "cell_type": "code",
   "execution_count": 239,
   "metadata": {},
   "outputs": [],
   "source": [
    "import numpy as np\n",
    "\"\"\"\n",
    "Credits: the original code belongs to Stanford CS231n course assignment1. Source link: http://cs231n.github.io/assignments2019/assignment1/\n",
    "\"\"\"\n",
    "\n",
    "class KNearestNeighbor:\n",
    "    \"\"\" a kNN classifier with L2 distance \"\"\"\n",
    "\n",
    "    def __init__(self):\n",
    "        pass\n",
    "\n",
    "    def fit(self, X, y):\n",
    "        \"\"\"\n",
    "        Train the classifier. For k-nearest neighbors this is just\n",
    "        memorizing the training data.\n",
    "\n",
    "        Inputs:\n",
    "        - X: A numpy array of shape (num_train, D) containing the training data\n",
    "          consisting of num_train samples each of dimension D.\n",
    "        - y: A numpy array of shape (N,) containing the training labels, where\n",
    "             y[i] is the label for X[i].\n",
    "        \"\"\"\n",
    "        self.X_train = X\n",
    "        self.y_train = y\n",
    "\n",
    "    def predict(self, X, k=1, num_loops=0):\n",
    "        \"\"\"\n",
    "        Predict labels for test data using this classifier.\n",
    "\n",
    "        Inputs:\n",
    "        - X: A numpy array of shape (num_test, D) containing test data consisting\n",
    "             of num_test samples each of dimension D.\n",
    "        - k: The number of nearest neighbors that vote for the predicted labels.\n",
    "        - num_loops: Determines which implementation to use to compute distances\n",
    "          between training points and testing points.\n",
    "\n",
    "        Returns:\n",
    "        - y: A numpy array of shape (num_test,) containing predicted labels for the\n",
    "          test data, where y[i] is the predicted label for the test point X[i].\n",
    "        \"\"\"\n",
    "        if num_loops == 0:\n",
    "            dists = self.compute_distances_no_loops(X)\n",
    "        elif num_loops == 1:\n",
    "            dists = self.compute_distances_one_loop(X)\n",
    "        elif num_loops == 2:\n",
    "            dists = self.compute_distances_two_loops(X)\n",
    "        else:\n",
    "            raise ValueError('Invalid value %d for num_loops' % num_loops)\n",
    "\n",
    "        return self.predict_labels(dists, k=k)\n",
    "\n",
    "    def compute_distances_two_loops(self, X):\n",
    "        \"\"\"\n",
    "        Compute the distance between each test point in X and each training point\n",
    "        in self.X_train using a nested loop over both the training data and the\n",
    "        test data.\n",
    "\n",
    "        Inputs:\n",
    "        - X: A numpy array of shape (num_test, D) containing test data.\n",
    "\n",
    "        Returns:\n",
    "        - dists: A numpy array of shape (num_test, num_train) where dists[i, j]\n",
    "          is the Euclidean distance between the ith test point and the jth training\n",
    "          point.\n",
    "        \"\"\"\n",
    "        num_test = X.shape[0]\n",
    "        num_train = self.X_train.shape[0]\n",
    "        dists = np.zeros((num_test, num_train))\n",
    "        for i in range(num_test):\n",
    "            for j in range(num_train):\n",
    "                #####################################################################\n",
    "                # TODO:                                                             #\n",
    "                # Compute the l2 distance between the ith test point and the jth    #\n",
    "                # training point, and store the result in dists[i, j]. You should   #\n",
    "                # not use a loop over dimension, nor use np.linalg.norm().          #\n",
    "                #####################################################################\n",
    "                # *****START OF YOUR CODE (DO NOT DELETE/MODIFY THIS LINE)*****\n",
    "                dists[i,j] = np.sqrt(np.sum(np.square(X[i] - self.X_train[j])))\n",
    "                # *****END OF YOUR CODE (DO NOT DELETE/MODIFY THIS LINE)*****\n",
    "        return dists\n",
    "\n",
    "    def compute_distances_one_loop(self, X):\n",
    "        \"\"\"\n",
    "        Compute the distance between each test point in X and each training point\n",
    "        in self.X_train using a single loop over the test data.\n",
    "\n",
    "        Input / Output: Same as compute_distances_two_loops\n",
    "        \"\"\"\n",
    "        num_test = X.shape[0]\n",
    "        num_train = self.X_train.shape[0]\n",
    "        dists = np.zeros((num_test, num_train))\n",
    "        for i in range(num_test):\n",
    "            #######################################################################\n",
    "            # TODO:                                                               #\n",
    "            # Compute the l2 distance between the ith test point and all training #\n",
    "            # points, and store the result in dists[i, :].                        #\n",
    "            # Do not use np.linalg.norm().                                        #\n",
    "            #######################################################################\n",
    "            # *****START OF YOUR CODE (DO NOT DELETE/MODIFY THIS LINE)*****\n",
    "            dist_temp = np.zeros((1, num_train))\n",
    "            dist_temp = np.sqrt(np.sum(np.square(-self.X_train[np.arange(0,num_train),:]+X[i,:]), axis=1))\n",
    "            dists[i] = dist_temp\n",
    "            # *****END OF YOUR CODE (DO NOT DELETE/MODIFY THIS LINE)*****\n",
    "        return dists\n",
    "\n",
    "    def compute_distances_no_loops(self, X):\n",
    "        \"\"\"\n",
    "        Compute the distance between each test point in X and each training point\n",
    "        in self.X_train using no explicit loops.\n",
    "\n",
    "        Input / Output: Same as compute_distances_two_loops\n",
    "        \"\"\"\n",
    "        num_test = X.shape[0]\n",
    "        num_train = self.X_train.shape[0]\n",
    "        dists = np.zeros((num_test, num_train))\n",
    "        #########################################################################\n",
    "        # TODO:                                                                 #\n",
    "        # Compute the l2 distance between all test points and all training      #\n",
    "        # points without using any explicit loops, and store the result in      #\n",
    "        # dists.                                                                #\n",
    "        #                                                                       #\n",
    "        # You should implement this function using only basic array operations; #\n",
    "        # in particular you should not use functions from scipy,                #\n",
    "        # nor use np.linalg.norm().                                             #\n",
    "        #                                                                       #\n",
    "        # HINT: Try to formulate the l2 distance using matrix multiplication    #\n",
    "        #       and two broadcast sums.                                         #\n",
    "        #########################################################################\n",
    "        # *****START OF YOUR CODE (DO NOT DELETE/MODIFY THIS LINE)*****\n",
    "        matrix_split = np.vsplit(X,num_test)\n",
    "        diff = np.vstack(-self.X_train+matrix_split)\n",
    "        sum_square = (diff**2).sum(axis=1)\n",
    "        dists = np.sqrt(sum_square).reshape(num_test,num_train)\n",
    "        # *****END OF YOUR CODE (DO NOT DELETE/MODIFY THIS LINE)*****\n",
    "        return dists\n",
    "\n",
    "    def predict_labels(self, dists, k=1):\n",
    "        \"\"\"\n",
    "        Given a matrix of distances between test points and training points,\n",
    "        predict a label for each test point.\n",
    "\n",
    "        Inputs:\n",
    "        - dists: A numpy array of shape (num_test, num_train) where dists[i, j]\n",
    "          gives the distance betwen the ith test point and the jth training point.\n",
    "\n",
    "        Returns:\n",
    "        - y: A numpy array of shape (num_test,) containing predicted labels for the\n",
    "          test data, where y[i] is the predicted label for the test point X[i].\n",
    "        \"\"\"\n",
    "        num_test = dists.shape[0]\n",
    "        y_pred = np.zeros(num_test)\n",
    "        for i in range(num_test):\n",
    "            # A list of length k storing the labels of the k nearest neighbors to\n",
    "            # the ith test point.\n",
    "            #########################################################################\n",
    "            # TODO:                                                                 #\n",
    "            # Use the distance matrix to find the k nearest neighbors of the ith    #\n",
    "            # testing point, and use self.y_train to find the labels of these       #\n",
    "            # neighbors. Store these labels in closest_y.                           #\n",
    "            # Hint: Look up the function numpy.argsort.                             #\n",
    "            #########################################################################\n",
    "            # *****START OF YOUR CODE (DO NOT DELETE/MODIFY THIS LINE)*****\n",
    "            score = np.zeros(num_test)\n",
    "            score = np.argsort(dists[i]).reshape(dists.shape[1],1)\n",
    "            closest_y = np.zeros(k)\n",
    "            closest_y = (self.y_train[score])[:k]\n",
    "            print(score.shape)\n",
    "            # print(dists[i][score])\n",
    "            # print(self.y_train[score])\n",
    "            # *****END OF YOUR CODE (DO NOT DELETE/MODIFY THIS LINE)*****\n",
    "            #########################################################################\n",
    "            # TODO:                                                                 #\n",
    "            # Now that you have found the labels of the k nearest neighbors, you    #\n",
    "            # need to find the most common label in the list closest_y of labels.   #\n",
    "            # Store this label in y_pred[i]. Break ties by choosing the smaller     #\n",
    "            # label.                                                                #\n",
    "            #########################################################################\n",
    "            # *****START OF YOUR CODE (DO NOT DELETE/MODIFY THIS LINE)*****\n",
    "            unique = np.asarray(np.unique (closest_y, return_counts= True ))\n",
    "            y_pred[i] = unique[0, np.argmax(unique[1])]\n",
    "\n",
    "            # *****END OF YOUR CODE (DO NOT DELETE/MODIFY THIS LINE)*****\n",
    "\n",
    "        return y_pred"
   ]
  },
  {
   "cell_type": "code",
   "execution_count": 2,
   "metadata": {},
   "outputs": [
    {
     "data": {
      "image/png": "[encoded data removed]",
      "text/plain": [
       "<Figure size 640x480 with 1 Axes>"
      ]
     },
     "metadata": {},
     "output_type": "display_data"
    }
   ],
   "source": [
    "import random\n",
    "import math\n",
    "import pylab as pl\n",
    "import numpy as np\n",
    "from matplotlib.colors import ListedColormap\n",
    "\n",
    "def generateData (numberOfClassEl, numberOfClasses):\n",
    "    data = []\n",
    "    data_x = []\n",
    "    data_y = []\n",
    "    for classNum in range(numberOfClasses):\n",
    "        #Choose random center of 2-dimensional gaussian\n",
    "        centerX, centerY = random.random()*5.0, random.random()*5.0\n",
    "        #Choose numberOfClassEl random nodes with RMS=0.5\n",
    "        for rowNum in range(numberOfClassEl):\n",
    "            data.append([ [random.gauss(centerX,0.5), random.gauss(centerY,0.5)], classNum])\n",
    "            data_x.append([random.gauss(centerX,0.5), random.gauss(centerY,0.5)])\n",
    "            data_y.append([classNum])\n",
    "    return data,data_x,data_y\n",
    "\n",
    "def showData (nClasses, nItemsInClass):\n",
    "    trainData, data_x, data_y = generateData (nItemsInClass, nClasses)\n",
    "    classColormap  = ListedColormap(['#FF0000', '#00FF00', '#000000'])\n",
    "    pl.scatter([trainData[i][0][0] for i in range(len(trainData))],\n",
    "               [trainData[i][0][1] for i in range(len(trainData))],\n",
    "               c=[trainData[i][1] for i in range(len(trainData))],\n",
    "               cmap=classColormap)\n",
    "    pl.show()   \n",
    "    return trainData, data_x, data_y\n",
    "\n",
    "data, x, y = showData (3, 40)"
   ]
  },
  {
   "cell_type": "code",
   "execution_count": 5,
   "metadata": {},
   "outputs": [],
   "source": [
    "x = np.asarray(x)\n",
    "y = np.asarray(y)"
   ]
  },
  {
   "cell_type": "code",
   "execution_count": 7,
   "metadata": {},
   "outputs": [
    {
     "data": {
      "text/plain": [
       "(120, 1)"
      ]
     },
     "execution_count": 7,
     "metadata": {},
     "output_type": "execute_result"
    }
   ],
   "source": [
    "y.shape"
   ]
  },
  {
   "cell_type": "code",
   "execution_count": 254,
   "metadata": {},
   "outputs": [
    {
     "data": {
      "text/plain": [
       "array([[0.72872427, 2.17594319],\n",
       "       [1.46183763, 3.61115527]])"
      ]
     },
     "execution_count": 254,
     "metadata": {},
     "output_type": "execute_result"
    }
   ],
   "source": [
    "x_test = np.asarray([[random.gauss(random.random()*5.0,0.5),random.gauss(random.random()*5.0,0.5)],\n",
    "    [random.gauss(random.random()*5.0,0.5),random.gauss(random.random()*5.0,0.5)]])\n",
    "x_test"
   ]
  },
  {
   "cell_type": "code",
   "execution_count": 255,
   "metadata": {},
   "outputs": [
    {
     "name": "stdout",
     "output_type": "stream",
     "text": [
      "(120, 1)\n",
      "(120, 1)\n"
     ]
    },
    {
     "data": {
      "text/plain": [
       "array([1., 1.])"
      ]
     },
     "execution_count": 255,
     "metadata": {},
     "output_type": "execute_result"
    }
   ],
   "source": [
    "knn = KNearestNeighbor()\n",
    "knn.fit(x,y)\n",
    "y_p_p = knn.predict(X=x_test, k=5, num_loops=2)\n",
    "y_p_p"
   ]
  },
  {
   "cell_type": "code",
   "execution_count": 231,
   "metadata": {},
   "outputs": [
    {
     "data": {
      "text/plain": [
       "array([2., 1.])"
      ]
     },
     "execution_count": 231,
     "metadata": {},
     "output_type": "execute_result"
    }
   ],
   "source": [
    "y_p"
   ]
  },
  {
   "cell_type": "code",
   "execution_count": 235,
   "metadata": {},
   "outputs": [
    {
     "name": "stdout",
     "output_type": "stream",
     "text": [
      "[[1]\n",
      " [1]]\n"
     ]
    },
    {
     "data": {
      "text/plain": [
       "1"
      ]
     },
     "execution_count": 235,
     "metadata": {},
     "output_type": "execute_result"
    }
   ],
   "source": [
    "l = np.asarray(np.unique (c_p, return_counts= True ))\n",
    "print(l)\n",
    "np.argmax(l[1])\n",
    "max_y = l[0,np.argmax(l[1])]\n",
    "max_y"
   ]
  },
  {
   "cell_type": "code",
   "execution_count": null,
   "metadata": {},
   "outputs": [],
   "source": []
  }
 ],
 "metadata": {
  "kernelspec": {
   "display_name": "base",
   "language": "python",
   "name": "python3"
  },
  "language_info": {
   "codemirror_mode": {
    "name": "ipython",
    "version": 3
   },
   "file_extension": ".py",
   "mimetype": "text/x-python",
   "name": "python",
   "nbconvert_exporter": "python",
   "pygments_lexer": "ipython3",
   "version": "3.11.5"
  }
 },
 "nbformat": 4,
 "nbformat_minor": 2
}
