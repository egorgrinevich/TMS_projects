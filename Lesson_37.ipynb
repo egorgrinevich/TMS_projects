{
 "cells": [
  {
   "cell_type": "code",
   "execution_count": 7,
   "id": "caed4dfd",
   "metadata": {},
   "outputs": [
    {
     "name": "stdout",
     "output_type": "stream",
     "text": [
      "Epoch 1/10\n",
      "1875/1875 [==============================] - 50s 26ms/step - loss: 0.1128\n",
      "Epoch 2/10\n",
      "1875/1875 [==============================] - 45s 24ms/step - loss: 0.1120\n",
      "Epoch 3/10\n",
      "1875/1875 [==============================] - 45s 24ms/step - loss: 0.1120\n",
      "Epoch 4/10\n",
      "1875/1875 [==============================] - 45s 24ms/step - loss: 0.1120\n",
      "Epoch 5/10\n",
      "1875/1875 [==============================] - 45s 24ms/step - loss: 0.1120\n",
      "Epoch 6/10\n",
      "1875/1875 [==============================] - 44s 24ms/step - loss: 0.1120\n",
      "Epoch 7/10\n",
      "1875/1875 [==============================] - 44s 23ms/step - loss: 0.1120\n",
      "Epoch 8/10\n",
      "1875/1875 [==============================] - 47s 25ms/step - loss: 0.1043\n",
      "Epoch 9/10\n",
      "1875/1875 [==============================] - 49s 26ms/step - loss: 0.0456\n",
      "Epoch 10/10\n",
      "1875/1875 [==============================] - 49s 26ms/step - loss: 0.0427\n"
     ]
    }
   ],
   "source": [
    "import numpy as np\n",
    "import tensorflow as tf\n",
    "from tensorflow import keras\n",
    "from tensorflow.keras import layers\n",
    "from tensorflow.keras.preprocessing import image\n",
    "from tensorflow.keras.models import Model\n",
    "import cv2\n",
    "\n",
    "# 1. Загрузка данных\n",
    "# Допустим, у нас есть датасет в формате numpy: x_train (набор изображений)\n",
    "\n",
    "# Загрузим датасет для примера (здесь мы используем MNIST для упрощения)\n",
    "(x_train, _), (_, _) = keras.datasets.mnist.load_data()\n",
    "x_train = x_train.astype('float32') / 255.\n",
    "x_train = x_train.reshape((len(x_train), 28, 28, 1))\n",
    "\n",
    "# 2. Создание модели VAE\n",
    "\n",
    "latent_dim = 2  # Размерность латентного пространства\n",
    "\n",
    "encoder_inputs = keras.Input(shape=(28, 28, 1))\n",
    "x = layers.Conv2D(32, 3, activation=\"relu\", strides=2, padding=\"same\")(encoder_inputs)\n",
    "x = layers.Conv2D(64, 3, activation=\"relu\", strides=2, padding=\"same\")(x)\n",
    "x = layers.Flatten()(x)\n",
    "x = layers.Dense(16, activation=\"relu\")(x)\n",
    "z_mean = layers.Dense(latent_dim, name=\"z_mean\")(x)\n",
    "z_log_var = layers.Dense(latent_dim, name=\"z_log_var\")(x)\n",
    "encoder = Model(encoder_inputs, [z_mean, z_log_var], name=\"encoder\")\n",
    "\n",
    "decoder_inputs = keras.Input(shape=(latent_dim,))\n",
    "x = layers.Dense(7 * 7 * 64, activation=\"relu\")(decoder_inputs)\n",
    "x = layers.Reshape((7, 7, 64))(x)\n",
    "x = layers.Conv2DTranspose(64, 3, activation=\"relu\", strides=2, padding=\"same\")(x)\n",
    "x = layers.Conv2DTranspose(32, 3, activation=\"relu\", strides=2, padding=\"same\")(x)\n",
    "decoder_outputs = layers.Conv2DTranspose(1, 3, activation=\"sigmoid\", padding=\"same\")(x)\n",
    "decoder = Model(decoder_inputs, decoder_outputs, name=\"decoder\")\n",
    "\n",
    "class VAE(keras.Model):\n",
    "    def __init__(self, encoder, decoder, **kwargs):\n",
    "        super(VAE, self).__init__(**kwargs)\n",
    "        self.encoder = encoder\n",
    "        self.decoder = decoder\n",
    "\n",
    "    def call(self, inputs):\n",
    "        z_mean, z_log_var = self.encoder(inputs)\n",
    "        z = self.sampling((z_mean, z_log_var))\n",
    "        return self.decoder(z)\n",
    "\n",
    "    def sampling(self, args):\n",
    "        z_mean, z_log_var = args\n",
    "        batch = tf.shape(z_mean)[0]\n",
    "        dim = tf.shape(z_mean)[1]\n",
    "        epsilon = tf.keras.backend.random_normal(shape=(batch, dim))\n",
    "        return z_mean + tf.exp(0.5 * z_log_var) * epsilon\n",
    "\n",
    "vae = VAE(encoder, decoder)\n",
    "vae.compile(optimizer='adam', loss='mse')\n",
    "\n",
    "# 3. Обучение VAE\n",
    "vae.fit(x_train, x_train, epochs=10, batch_size=32)\n",
    "\n",
    "# 4. Применение VAE для переноса стиля\n",
    "\n",
    "def transfer_style(content_image_path, style_image_path):\n",
    "    content_image = image.load_img(content_image_path, target_size=(28, 28))\n",
    "    content_image = image.img_to_array(content_image)\n",
    "    content_image = content_image.astype('float32') / 255.\n",
    "    content_image = np.expand_dims(content_image, axis=0)\n",
    "\n",
    "    style_image = image.load_img(style_image_path, target_size=(28, 28))\n",
    "    style_image = image.img_to_array(style_image)\n",
    "    style_image = style_image.astype('float32') / 255.\n",
    "    style_image = np.expand_dims(style_image, axis=0)\n",
    "\n",
    "    content_encoded = encoder.predict(content_image)[0]\n",
    "    style_encoded = encoder.predict(style_image)[0]\n",
    "\n",
    "    # Здесь можно выполнить комбинирование латентных переменных для переноса стиля\n",
    "    # Например, используя простое усреднение (для демонстрации)\n",
    "    combined_encoded = (content_encoded + style_encoded) / 2.0\n",
    "\n",
    "    transferred_image = decoder.predict(combined_encoded)\n",
    "\n",
    "    return transferred_image\n",
    "\n",
    "# # Применяем функцию для демонстрации переноса стиля\n",
    "# result_image = transfer_style('path_to_content_image.jpg', 'path_to_style_image.jpg')\n"
   ]
  },
  {
   "cell_type": "code",
   "execution_count": 9,
   "id": "c815673e",
   "metadata": {},
   "outputs": [],
   "source": [
    "from tensorflow.keras.preprocessing import image\n",
    "import cv2\n",
    "def transfer_style(content_image_path, style_image_path):\n",
    "    content_image = image.load_img(content_image_path, target_size=(28, 28))\n",
    "    content_image = image.img_to_array(content_image)\n",
    "    content_image = cv2.cvtColor(content_image, cv2.COLOR_BGR2GRAY)\n",
    "    content_image = content_image.astype('float32') / 255.\n",
    "    content_image = np.expand_dims(content_image, axis=0)\n",
    "\n",
    "    style_image = image.load_img(style_image_path, target_size=(28, 28))\n",
    "    style_image = image.img_to_array(style_image)\n",
    "    style_image = cv2.cvtColor(style_image, cv2.COLOR_BGR2GRAY)\n",
    "    style_image = style_image.astype('float32') / 255.\n",
    "    style_image = np.expand_dims(style_image, axis=0)\n",
    "\n",
    "    content_encoded = encoder.predict(content_image)[0]\n",
    "    style_encoded = encoder.predict(style_image)[0]\n",
    "\n",
    "    # Здесь можно выполнить комбинирование латентных переменных для переноса стиля\n",
    "    # Например, используя простое усреднение (для демонстрации)\n",
    "    combined_encoded = 0.95*content_encoded + 0.05*style_encoded\n",
    "\n",
    "    transferred_image = decoder.predict(combined_encoded)\n",
    "\n",
    "    return transferred_image"
   ]
  },
  {
   "cell_type": "code",
   "execution_count": 22,
   "id": "fac54eac",
   "metadata": {},
   "outputs": [
    {
     "data": {
      "text/plain": [
       "(28, 28, 1)"
      ]
     },
     "execution_count": 22,
     "metadata": {},
     "output_type": "execute_result"
    }
   ],
   "source": [
    "import cv2\n",
    "img_1 = cv2.imread('path_to_content_image.jpg')\n",
    "img_1 = cv2.cvtColor(img_1, cv2.COLOR_BGR2GRAY)\n",
    "ret, img_1 = cv2.threshold(img_1, 127, 255, 0)\n",
    "img_1 = img_1.reshape(28,28,1)\n",
    "cv2.imwrite('path_to_content_image.jpg', img_1)\n",
    "img_2 = cv2.imread('path_to_style_image.jpg')\n",
    "img_2 = cv2.cvtColor(img_2, cv2.COLOR_BGR2GRAY)\n",
    "ret, img_2 = cv2.threshold(img_2, 127, 255, 0)\n",
    "img_2 = img_2.reshape(28,28,1)\n",
    "cv2.imwrite('path_to_style_image.jpg', img_2)\n",
    "img_2.shape"
   ]
  },
  {
   "cell_type": "code",
   "execution_count": 35,
   "id": "9f25ad7e",
   "metadata": {},
   "outputs": [
    {
     "data": {
      "text/plain": [
       "True"
      ]
     },
     "execution_count": 35,
     "metadata": {},
     "output_type": "execute_result"
    }
   ],
   "source": [
    "(X_train_full, y_train_full), (X_test, y_test) = keras.datasets.mnist.load_data()\n",
    "\n",
    "img_1 = X_train_full[0]\n",
    "cv2.imwrite('path_to_content_image.jpg', img_1)\n",
    "img_1 = X_train_full[1]\n",
    "cv2.imwrite('path_to_style_image.jpg', img_1)\n",
    "\n"
   ]
  },
  {
   "cell_type": "code",
   "execution_count": 10,
   "id": "065cac4b",
   "metadata": {},
   "outputs": [
    {
     "name": "stdout",
     "output_type": "stream",
     "text": [
      "1/1 [==============================] - 0s 92ms/step\n",
      "1/1 [==============================] - 0s 20ms/step\n",
      "1/1 [==============================] - 0s 106ms/step\n"
     ]
    }
   ],
   "source": [
    "# Применяем функцию для демонстрации переноса стиля\n",
    "result_image = transfer_style('path_to_content_image_.jpg', 'path_to_style_image_.jpg')"
   ]
  },
  {
   "cell_type": "code",
   "execution_count": null,
   "id": "65c0bd4c",
   "metadata": {},
   "outputs": [],
   "source": []
  }
 ],
 "metadata": {
  "kernelspec": {
   "display_name": "Python 3 (ipykernel)",
   "language": "python",
   "name": "python3"
  },
  "language_info": {
   "codemirror_mode": {
    "name": "ipython",
    "version": 3
   },
   "file_extension": ".py",
   "mimetype": "text/x-python",
   "name": "python",
   "nbconvert_exporter": "python",
   "pygments_lexer": "ipython3",
   "version": "3.8.10"
  },
  "toc": {
   "base_numbering": 1,
   "nav_menu": {},
   "number_sections": true,
   "sideBar": true,
   "skip_h1_title": false,
   "title_cell": "Table of Contents",
   "title_sidebar": "Contents",
   "toc_cell": false,
   "toc_position": {},
   "toc_section_display": true,
   "toc_window_display": false
  },
  "varInspector": {
   "cols": {
    "lenName": 16,
    "lenType": 16,
    "lenVar": 40
   },
   "kernels_config": {
    "python": {
     "delete_cmd_postfix": "",
     "delete_cmd_prefix": "del ",
     "library": "var_list.py",
     "varRefreshCmd": "print(var_dic_list())"
    },
    "r": {
     "delete_cmd_postfix": ") ",
     "delete_cmd_prefix": "rm(",
     "library": "var_list.r",
     "varRefreshCmd": "cat(var_dic_list()) "
    }
   },
   "types_to_exclude": [
    "module",
    "function",
    "builtin_function_or_method",
    "instance",
    "_Feature"
   ],
   "window_display": false
  }
 },
 "nbformat": 4,
 "nbformat_minor": 5
}
