{
 "cells": [
  {
   "cell_type": "code",
   "execution_count": 1,
   "id": "b21c5952-b41e-4270-8c18-79c5402fb2ec",
   "metadata": {},
   "outputs": [
    {
     "name": "stdout",
     "output_type": "stream",
     "text": [
      "df\n"
     ]
    }
   ],
   "source": [
    "print(\"df\")"
   ]
  },
  {
   "cell_type": "code",
   "execution_count": 2,
   "id": "847e3f91-ce95-44f5-9cbc-fd4df0abbd5c",
   "metadata": {},
   "outputs": [],
   "source": [
    "import pandas as pd"
   ]
  },
  {
   "cell_type": "code",
   "execution_count": 3,
   "id": "3f4d0aa4-4272-485d-8ed2-bf5cd08ed6c4",
   "metadata": {},
   "outputs": [
    {
     "name": "stdout",
     "output_type": "stream",
     "text": [
      "f\n"
     ]
    }
   ],
   "source": [
    "print(\"f\")"
   ]
  },
  {
   "cell_type": "code",
   "execution_count": 4,
   "id": "d89584d1-5b61-4538-be73-62b2d9d85651",
   "metadata": {},
   "outputs": [
    {
     "name": "stdout",
     "output_type": "stream",
     "text": [
      "Requirement already satisfied: jupyterlab-kite>=2.0.2 in /home/gea/anaconda3/lib/python3.10/site-packages (2.0.2)\n",
      "Requirement already satisfied: jupyterlab<4.0.0a0,>=3.0.0 in /home/gea/anaconda3/lib/python3.10/site-packages (from jupyterlab-kite>=2.0.2) (3.5.3)\n",
      "Requirement already satisfied: jupyter-kite>=2.0.0 in /home/gea/anaconda3/lib/python3.10/site-packages (from jupyterlab-kite>=2.0.2) (2.0.2)\n",
      "Requirement already satisfied: entrypoints in /home/gea/anaconda3/lib/python3.10/site-packages (from jupyter-kite>=2.0.0->jupyterlab-kite>=2.0.2) (0.4)\n",
      "Requirement already satisfied: tornado>=5.1.0 in /home/gea/anaconda3/lib/python3.10/site-packages (from jupyter-kite>=2.0.0->jupyterlab-kite>=2.0.2) (6.1)\n",
      "Requirement already satisfied: jupyter-server>=1.1.2 in /home/gea/anaconda3/lib/python3.10/site-packages (from jupyter-kite>=2.0.0->jupyterlab-kite>=2.0.2) (1.23.4)\n",
      "Requirement already satisfied: ipython in /home/gea/anaconda3/lib/python3.10/site-packages (from jupyterlab<4.0.0a0,>=3.0.0->jupyterlab-kite>=2.0.2) (8.10.0)\n",
      "Requirement already satisfied: jupyter-core in /home/gea/anaconda3/lib/python3.10/site-packages (from jupyterlab<4.0.0a0,>=3.0.0->jupyterlab-kite>=2.0.2) (5.2.0)\n",
      "Requirement already satisfied: nbclassic in /home/gea/anaconda3/lib/python3.10/site-packages (from jupyterlab<4.0.0a0,>=3.0.0->jupyterlab-kite>=2.0.2) (0.5.2)\n",
      "Requirement already satisfied: jupyterlab-server~=2.10 in /home/gea/anaconda3/lib/python3.10/site-packages (from jupyterlab<4.0.0a0,>=3.0.0->jupyterlab-kite>=2.0.2) (2.19.0)\n",
      "Requirement already satisfied: notebook<7 in /home/gea/anaconda3/lib/python3.10/site-packages (from jupyterlab<4.0.0a0,>=3.0.0->jupyterlab-kite>=2.0.2) (6.5.2)\n",
      "Requirement already satisfied: jinja2>=2.1 in /home/gea/anaconda3/lib/python3.10/site-packages (from jupyterlab<4.0.0a0,>=3.0.0->jupyterlab-kite>=2.0.2) (3.1.2)\n",
      "Requirement already satisfied: tomli in /home/gea/anaconda3/lib/python3.10/site-packages (from jupyterlab<4.0.0a0,>=3.0.0->jupyterlab-kite>=2.0.2) (2.0.1)\n",
      "Requirement already satisfied: packaging in /home/gea/anaconda3/lib/python3.10/site-packages (from jupyterlab<4.0.0a0,>=3.0.0->jupyterlab-kite>=2.0.2) (22.0)\n",
      "Requirement already satisfied: MarkupSafe>=2.0 in /home/gea/anaconda3/lib/python3.10/site-packages (from jinja2>=2.1->jupyterlab<4.0.0a0,>=3.0.0->jupyterlab-kite>=2.0.2) (2.1.1)\n",
      "Requirement already satisfied: nbformat>=5.2.0 in /home/gea/anaconda3/lib/python3.10/site-packages (from jupyter-server>=1.1.2->jupyter-kite>=2.0.0->jupyterlab-kite>=2.0.2) (5.7.0)\n",
      "Requirement already satisfied: pyzmq>=17 in /home/gea/anaconda3/lib/python3.10/site-packages (from jupyter-server>=1.1.2->jupyter-kite>=2.0.0->jupyterlab-kite>=2.0.2) (23.2.0)\n",
      "Requirement already satisfied: terminado>=0.8.3 in /home/gea/anaconda3/lib/python3.10/site-packages (from jupyter-server>=1.1.2->jupyter-kite>=2.0.0->jupyterlab-kite>=2.0.2) (0.17.1)\n",
      "Requirement already satisfied: argon2-cffi in /home/gea/anaconda3/lib/python3.10/site-packages (from jupyter-server>=1.1.2->jupyter-kite>=2.0.0->jupyterlab-kite>=2.0.2) (21.3.0)\n",
      "Requirement already satisfied: nbconvert>=6.4.4 in /home/gea/anaconda3/lib/python3.10/site-packages (from jupyter-server>=1.1.2->jupyter-kite>=2.0.0->jupyterlab-kite>=2.0.2) (6.5.4)\n",
      "Requirement already satisfied: traitlets>=5.1 in /home/gea/anaconda3/lib/python3.10/site-packages (from jupyter-server>=1.1.2->jupyter-kite>=2.0.0->jupyterlab-kite>=2.0.2) (5.7.1)\n",
      "Requirement already satisfied: websocket-client in /home/gea/anaconda3/lib/python3.10/site-packages (from jupyter-server>=1.1.2->jupyter-kite>=2.0.0->jupyterlab-kite>=2.0.2) (0.58.0)\n",
      "Requirement already satisfied: anyio<4,>=3.1.0 in /home/gea/anaconda3/lib/python3.10/site-packages (from jupyter-server>=1.1.2->jupyter-kite>=2.0.0->jupyterlab-kite>=2.0.2) (3.5.0)\n",
      "Requirement already satisfied: prometheus-client in /home/gea/anaconda3/lib/python3.10/site-packages (from jupyter-server>=1.1.2->jupyter-kite>=2.0.0->jupyterlab-kite>=2.0.2) (0.14.1)\n",
      "Requirement already satisfied: Send2Trash in /home/gea/anaconda3/lib/python3.10/site-packages (from jupyter-server>=1.1.2->jupyter-kite>=2.0.0->jupyterlab-kite>=2.0.2) (1.8.0)\n",
      "Requirement already satisfied: jupyter-client>=6.1.12 in /home/gea/anaconda3/lib/python3.10/site-packages (from jupyter-server>=1.1.2->jupyter-kite>=2.0.0->jupyterlab-kite>=2.0.2) (7.3.4)\n",
      "Requirement already satisfied: platformdirs>=2.5 in /home/gea/anaconda3/lib/python3.10/site-packages (from jupyter-core->jupyterlab<4.0.0a0,>=3.0.0->jupyterlab-kite>=2.0.2) (2.5.2)\n",
      "Requirement already satisfied: json5>=0.9.0 in /home/gea/anaconda3/lib/python3.10/site-packages (from jupyterlab-server~=2.10->jupyterlab<4.0.0a0,>=3.0.0->jupyterlab-kite>=2.0.2) (0.9.6)\n",
      "Requirement already satisfied: babel>=2.10 in /home/gea/anaconda3/lib/python3.10/site-packages (from jupyterlab-server~=2.10->jupyterlab<4.0.0a0,>=3.0.0->jupyterlab-kite>=2.0.2) (2.11.0)\n",
      "Requirement already satisfied: requests>=2.28 in /home/gea/anaconda3/lib/python3.10/site-packages (from jupyterlab-server~=2.10->jupyterlab<4.0.0a0,>=3.0.0->jupyterlab-kite>=2.0.2) (2.28.1)\n",
      "Requirement already satisfied: jsonschema>=4.17.3 in /home/gea/anaconda3/lib/python3.10/site-packages (from jupyterlab-server~=2.10->jupyterlab<4.0.0a0,>=3.0.0->jupyterlab-kite>=2.0.2) (4.17.3)\n",
      "Requirement already satisfied: ipython-genutils in /home/gea/anaconda3/lib/python3.10/site-packages (from notebook<7->jupyterlab<4.0.0a0,>=3.0.0->jupyterlab-kite>=2.0.2) (0.2.0)\n",
      "Requirement already satisfied: ipykernel in /home/gea/anaconda3/lib/python3.10/site-packages (from notebook<7->jupyterlab<4.0.0a0,>=3.0.0->jupyterlab-kite>=2.0.2) (6.19.2)\n",
      "Requirement already satisfied: nest-asyncio>=1.5 in /home/gea/anaconda3/lib/python3.10/site-packages (from notebook<7->jupyterlab<4.0.0a0,>=3.0.0->jupyterlab-kite>=2.0.2) (1.5.6)\n",
      "Requirement already satisfied: notebook-shim>=0.1.0 in /home/gea/anaconda3/lib/python3.10/site-packages (from nbclassic->jupyterlab<4.0.0a0,>=3.0.0->jupyterlab-kite>=2.0.2) (0.2.2)\n",
      "Requirement already satisfied: pygments>=2.4.0 in /home/gea/anaconda3/lib/python3.10/site-packages (from ipython->jupyterlab<4.0.0a0,>=3.0.0->jupyterlab-kite>=2.0.2) (2.11.2)\n",
      "Requirement already satisfied: decorator in /home/gea/anaconda3/lib/python3.10/site-packages (from ipython->jupyterlab<4.0.0a0,>=3.0.0->jupyterlab-kite>=2.0.2) (5.1.1)\n",
      "Requirement already satisfied: stack-data in /home/gea/anaconda3/lib/python3.10/site-packages (from ipython->jupyterlab<4.0.0a0,>=3.0.0->jupyterlab-kite>=2.0.2) (0.2.0)\n",
      "Requirement already satisfied: pickleshare in /home/gea/anaconda3/lib/python3.10/site-packages (from ipython->jupyterlab<4.0.0a0,>=3.0.0->jupyterlab-kite>=2.0.2) (0.7.5)\n",
      "Requirement already satisfied: pexpect>4.3 in /home/gea/anaconda3/lib/python3.10/site-packages (from ipython->jupyterlab<4.0.0a0,>=3.0.0->jupyterlab-kite>=2.0.2) (4.8.0)\n",
      "Requirement already satisfied: backcall in /home/gea/anaconda3/lib/python3.10/site-packages (from ipython->jupyterlab<4.0.0a0,>=3.0.0->jupyterlab-kite>=2.0.2) (0.2.0)\n",
      "Requirement already satisfied: matplotlib-inline in /home/gea/anaconda3/lib/python3.10/site-packages (from ipython->jupyterlab<4.0.0a0,>=3.0.0->jupyterlab-kite>=2.0.2) (0.1.6)\n",
      "Requirement already satisfied: jedi>=0.16 in /home/gea/anaconda3/lib/python3.10/site-packages (from ipython->jupyterlab<4.0.0a0,>=3.0.0->jupyterlab-kite>=2.0.2) (0.18.1)\n",
      "Requirement already satisfied: prompt-toolkit<3.1.0,>=3.0.30 in /home/gea/anaconda3/lib/python3.10/site-packages (from ipython->jupyterlab<4.0.0a0,>=3.0.0->jupyterlab-kite>=2.0.2) (3.0.36)\n",
      "Requirement already satisfied: sniffio>=1.1 in /home/gea/anaconda3/lib/python3.10/site-packages (from anyio<4,>=3.1.0->jupyter-server>=1.1.2->jupyter-kite>=2.0.0->jupyterlab-kite>=2.0.2) (1.2.0)\n",
      "Requirement already satisfied: idna>=2.8 in /home/gea/anaconda3/lib/python3.10/site-packages (from anyio<4,>=3.1.0->jupyter-server>=1.1.2->jupyter-kite>=2.0.0->jupyterlab-kite>=2.0.2) (3.4)\n",
      "Requirement already satisfied: pytz>=2015.7 in /home/gea/anaconda3/lib/python3.10/site-packages (from babel>=2.10->jupyterlab-server~=2.10->jupyterlab<4.0.0a0,>=3.0.0->jupyterlab-kite>=2.0.2) (2022.7)\n",
      "Requirement already satisfied: parso<0.9.0,>=0.8.0 in /home/gea/anaconda3/lib/python3.10/site-packages (from jedi>=0.16->ipython->jupyterlab<4.0.0a0,>=3.0.0->jupyterlab-kite>=2.0.2) (0.8.3)\n",
      "Requirement already satisfied: pyrsistent!=0.17.0,!=0.17.1,!=0.17.2,>=0.14.0 in /home/gea/anaconda3/lib/python3.10/site-packages (from jsonschema>=4.17.3->jupyterlab-server~=2.10->jupyterlab<4.0.0a0,>=3.0.0->jupyterlab-kite>=2.0.2) (0.18.0)\n",
      "Requirement already satisfied: attrs>=17.4.0 in /home/gea/anaconda3/lib/python3.10/site-packages (from jsonschema>=4.17.3->jupyterlab-server~=2.10->jupyterlab<4.0.0a0,>=3.0.0->jupyterlab-kite>=2.0.2) (22.1.0)\n",
      "Requirement already satisfied: python-dateutil>=2.8.2 in /home/gea/anaconda3/lib/python3.10/site-packages (from jupyter-client>=6.1.12->jupyter-server>=1.1.2->jupyter-kite>=2.0.0->jupyterlab-kite>=2.0.2) (2.8.2)\n",
      "Requirement already satisfied: beautifulsoup4 in /home/gea/anaconda3/lib/python3.10/site-packages (from nbconvert>=6.4.4->jupyter-server>=1.1.2->jupyter-kite>=2.0.0->jupyterlab-kite>=2.0.2) (4.11.1)\n",
      "Requirement already satisfied: bleach in /home/gea/anaconda3/lib/python3.10/site-packages (from nbconvert>=6.4.4->jupyter-server>=1.1.2->jupyter-kite>=2.0.0->jupyterlab-kite>=2.0.2) (4.1.0)\n",
      "Requirement already satisfied: jupyterlab-pygments in /home/gea/anaconda3/lib/python3.10/site-packages (from nbconvert>=6.4.4->jupyter-server>=1.1.2->jupyter-kite>=2.0.0->jupyterlab-kite>=2.0.2) (0.1.2)\n",
      "Requirement already satisfied: lxml in /home/gea/anaconda3/lib/python3.10/site-packages (from nbconvert>=6.4.4->jupyter-server>=1.1.2->jupyter-kite>=2.0.0->jupyterlab-kite>=2.0.2) (4.9.1)\n",
      "Requirement already satisfied: tinycss2 in /home/gea/anaconda3/lib/python3.10/site-packages (from nbconvert>=6.4.4->jupyter-server>=1.1.2->jupyter-kite>=2.0.0->jupyterlab-kite>=2.0.2) (1.2.1)\n",
      "Requirement already satisfied: mistune<2,>=0.8.1 in /home/gea/anaconda3/lib/python3.10/site-packages (from nbconvert>=6.4.4->jupyter-server>=1.1.2->jupyter-kite>=2.0.0->jupyterlab-kite>=2.0.2) (0.8.4)\n",
      "Requirement already satisfied: nbclient>=0.5.0 in /home/gea/anaconda3/lib/python3.10/site-packages (from nbconvert>=6.4.4->jupyter-server>=1.1.2->jupyter-kite>=2.0.0->jupyterlab-kite>=2.0.2) (0.5.13)\n",
      "Requirement already satisfied: defusedxml in /home/gea/anaconda3/lib/python3.10/site-packages (from nbconvert>=6.4.4->jupyter-server>=1.1.2->jupyter-kite>=2.0.0->jupyterlab-kite>=2.0.2) (0.7.1)\n",
      "Requirement already satisfied: pandocfilters>=1.4.1 in /home/gea/anaconda3/lib/python3.10/site-packages (from nbconvert>=6.4.4->jupyter-server>=1.1.2->jupyter-kite>=2.0.0->jupyterlab-kite>=2.0.2) (1.5.0)\n",
      "Requirement already satisfied: fastjsonschema in /home/gea/anaconda3/lib/python3.10/site-packages (from nbformat>=5.2.0->jupyter-server>=1.1.2->jupyter-kite>=2.0.0->jupyterlab-kite>=2.0.2) (2.16.2)\n",
      "Requirement already satisfied: ptyprocess>=0.5 in /home/gea/anaconda3/lib/python3.10/site-packages (from pexpect>4.3->ipython->jupyterlab<4.0.0a0,>=3.0.0->jupyterlab-kite>=2.0.2) (0.7.0)\n",
      "Requirement already satisfied: wcwidth in /home/gea/anaconda3/lib/python3.10/site-packages (from prompt-toolkit<3.1.0,>=3.0.30->ipython->jupyterlab<4.0.0a0,>=3.0.0->jupyterlab-kite>=2.0.2) (0.2.5)\n",
      "Requirement already satisfied: certifi>=2017.4.17 in /home/gea/anaconda3/lib/python3.10/site-packages (from requests>=2.28->jupyterlab-server~=2.10->jupyterlab<4.0.0a0,>=3.0.0->jupyterlab-kite>=2.0.2) (2022.12.7)\n",
      "Requirement already satisfied: urllib3<1.27,>=1.21.1 in /home/gea/anaconda3/lib/python3.10/site-packages (from requests>=2.28->jupyterlab-server~=2.10->jupyterlab<4.0.0a0,>=3.0.0->jupyterlab-kite>=2.0.2) (1.26.14)\n",
      "Requirement already satisfied: charset-normalizer<3,>=2 in /home/gea/anaconda3/lib/python3.10/site-packages (from requests>=2.28->jupyterlab-server~=2.10->jupyterlab<4.0.0a0,>=3.0.0->jupyterlab-kite>=2.0.2) (2.0.4)\n",
      "Requirement already satisfied: argon2-cffi-bindings in /home/gea/anaconda3/lib/python3.10/site-packages (from argon2-cffi->jupyter-server>=1.1.2->jupyter-kite>=2.0.0->jupyterlab-kite>=2.0.2) (21.2.0)\n",
      "Requirement already satisfied: psutil in /home/gea/anaconda3/lib/python3.10/site-packages (from ipykernel->notebook<7->jupyterlab<4.0.0a0,>=3.0.0->jupyterlab-kite>=2.0.2) (5.9.0)\n",
      "Requirement already satisfied: debugpy>=1.0 in /home/gea/anaconda3/lib/python3.10/site-packages (from ipykernel->notebook<7->jupyterlab<4.0.0a0,>=3.0.0->jupyterlab-kite>=2.0.2) (1.5.1)\n",
      "Requirement already satisfied: comm>=0.1.1 in /home/gea/anaconda3/lib/python3.10/site-packages (from ipykernel->notebook<7->jupyterlab<4.0.0a0,>=3.0.0->jupyterlab-kite>=2.0.2) (0.1.2)\n",
      "Requirement already satisfied: pure-eval in /home/gea/anaconda3/lib/python3.10/site-packages (from stack-data->ipython->jupyterlab<4.0.0a0,>=3.0.0->jupyterlab-kite>=2.0.2) (0.2.2)\n",
      "Requirement already satisfied: asttokens in /home/gea/anaconda3/lib/python3.10/site-packages (from stack-data->ipython->jupyterlab<4.0.0a0,>=3.0.0->jupyterlab-kite>=2.0.2) (2.0.5)\n",
      "Requirement already satisfied: executing in /home/gea/anaconda3/lib/python3.10/site-packages (from stack-data->ipython->jupyterlab<4.0.0a0,>=3.0.0->jupyterlab-kite>=2.0.2) (0.8.3)\n",
      "Requirement already satisfied: six in /home/gea/anaconda3/lib/python3.10/site-packages (from websocket-client->jupyter-server>=1.1.2->jupyter-kite>=2.0.0->jupyterlab-kite>=2.0.2) (1.16.0)\n",
      "Requirement already satisfied: cffi>=1.0.1 in /home/gea/anaconda3/lib/python3.10/site-packages (from argon2-cffi-bindings->argon2-cffi->jupyter-server>=1.1.2->jupyter-kite>=2.0.0->jupyterlab-kite>=2.0.2) (1.15.1)\n",
      "Requirement already satisfied: soupsieve>1.2 in /home/gea/anaconda3/lib/python3.10/site-packages (from beautifulsoup4->nbconvert>=6.4.4->jupyter-server>=1.1.2->jupyter-kite>=2.0.0->jupyterlab-kite>=2.0.2) (2.3.2.post1)\n",
      "Requirement already satisfied: webencodings in /home/gea/anaconda3/lib/python3.10/site-packages (from bleach->nbconvert>=6.4.4->jupyter-server>=1.1.2->jupyter-kite>=2.0.0->jupyterlab-kite>=2.0.2) (0.5.1)\n",
      "Requirement already satisfied: pycparser in /home/gea/anaconda3/lib/python3.10/site-packages (from cffi>=1.0.1->argon2-cffi-bindings->argon2-cffi->jupyter-server>=1.1.2->jupyter-kite>=2.0.0->jupyterlab-kite>=2.0.2) (2.21)\n",
      "Note: you may need to restart the kernel to use updated packages.\n"
     ]
    }
   ],
   "source": [
    "pip install \"jupyterlab-kite>=2.0.2\""
   ]
  },
  {
   "cell_type": "code",
   "execution_count": 5,
   "id": "7bfd1ebd-48e8-4125-b558-2bc9de95b244",
   "metadata": {},
   "outputs": [
    {
     "ename": "SyntaxError",
     "evalue": "invalid syntax (3133375982.py, line 1)",
     "output_type": "error",
     "traceback": [
      "\u001b[0;36m  Cell \u001b[0;32mIn[5], line 1\u001b[0;36m\u001b[0m\n\u001b[0;31m    pd.\u001b[0m\n\u001b[0m       ^\u001b[0m\n\u001b[0;31mSyntaxError\u001b[0m\u001b[0;31m:\u001b[0m invalid syntax\n"
     ]
    }
   ],
   "source": [
    "pd."
   ]
  }
 ],
 "metadata": {
  "kernelspec": {
   "display_name": "Python 3 (ipykernel)",
   "language": "python",
   "name": "python3"
  },
  "language_info": {
   "codemirror_mode": {
    "name": "ipython",
    "version": 3
   },
   "file_extension": ".py",
   "mimetype": "text/x-python",
   "name": "python",
   "nbconvert_exporter": "python",
   "pygments_lexer": "ipython3",
   "version": "3.10.9"
  }
 },
 "nbformat": 4,
 "nbformat_minor": 5
}
