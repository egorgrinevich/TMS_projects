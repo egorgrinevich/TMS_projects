{
 "cells": [
  {
   "cell_type": "code",
   "execution_count": 1,
   "id": "b21c5952-b41e-4270-8c18-79c5402fb2ec",
   "metadata": {},
   "outputs": [
    {
     "name": "stdout",
     "output_type": "stream",
     "text": [
      "df\n"
     ]
    }
   ],
   "source": [
    "print(\"df\")"
   ]
  },
  {
   "cell_type": "code",
   "execution_count": 3,
   "id": "847e3f91-ce95-44f5-9cbc-fd4df0abbd5c",
   "metadata": {},
   "outputs": [],
   "source": [
    "import pandas as pd"
   ]
  },
  {
   "cell_type": "code",
   "execution_count": 2,
   "id": "3f4d0aa4-4272-485d-8ed2-bf5cd08ed6c4",
   "metadata": {},
   "outputs": [
    {
     "name": "stdout",
     "output_type": "stream",
     "text": [
      "f\n"
     ]
    }
   ],
   "source": [
    "print(\"f\")"
   ]
  },
  {
   "cell_type": "code",
   "execution_count": null,
   "id": "d89584d1-5b61-4538-be73-62b2d9d85651",
   "metadata": {},
   "outputs": [],
   "source": [
    "a= pd."
   ]
  }
 ],
 "metadata": {
  "kernelspec": {
   "display_name": "Python 3 (ipykernel)",
   "language": "python",
   "name": "python3"
  },
  "language_info": {
   "codemirror_mode": {
    "name": "ipython",
    "version": 3
   },
   "file_extension": ".py",
   "mimetype": "text/x-python",
   "name": "python",
   "nbconvert_exporter": "python",
   "pygments_lexer": "ipython3",
   "version": "3.10.9"
  }
 },
 "nbformat": 4,
 "nbformat_minor": 5
}
