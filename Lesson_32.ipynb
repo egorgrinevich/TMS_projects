{
 "cells": [
  {
   "cell_type": "code",
   "execution_count": 1,
   "id": "3c40c4da",
   "metadata": {},
   "outputs": [
    {
     "name": "stderr",
     "output_type": "stream",
     "text": [
      "2023-09-18 19:35:29.791325: I tensorflow/core/platform/cpu_feature_guard.cc:182] This TensorFlow binary is optimized to use available CPU instructions in performance-critical operations.\n",
      "To enable the following instructions: AVX2 FMA, in other operations, rebuild TensorFlow with the appropriate compiler flags.\n",
      "2023-09-18 19:35:30.972888: W tensorflow/compiler/tf2tensorrt/utils/py_utils.cc:38] TF-TRT Warning: Could not find TensorRT\n"
     ]
    }
   ],
   "source": [
    "import tensorflow as tf\n",
    "from tensorflow.keras.layers import Input, Dense, Flatten, Reshape\n",
    "from tensorflow.keras.models import Model\n",
    "import deeplake\n",
    "import numpy as np\n",
    "from sklearn.model_selection import train_test_split\n"
   ]
  },
  {
   "cell_type": "code",
   "execution_count": 2,
   "id": "2a290060",
   "metadata": {},
   "outputs": [
    {
     "name": "stderr",
     "output_type": "stream",
     "text": [
      "-"
     ]
    },
    {
     "name": "stdout",
     "output_type": "stream",
     "text": [
      "Opening dataset in read-only mode as you don't have write permissions.\n"
     ]
    },
    {
     "name": "stderr",
     "output_type": "stream",
     "text": [
      "|"
     ]
    },
    {
     "name": "stdout",
     "output_type": "stream",
     "text": [
      "This dataset can be visualized in Jupyter Notebook by ds.visualize() or at https://app.activeloop.ai/activeloop/not-mnist-small\n",
      "\n"
     ]
    },
    {
     "name": "stderr",
     "output_type": "stream",
     "text": [
      "-"
     ]
    },
    {
     "name": "stdout",
     "output_type": "stream",
     "text": [
      "hub://activeloop/not-mnist-small loaded successfully.\n",
      "\n"
     ]
    },
    {
     "name": "stderr",
     "output_type": "stream",
     "text": [
      "\r",
      " \r",
      "\r",
      "\r"
     ]
    }
   ],
   "source": [
    "# Загрузка данных\n",
    "ds = deeplake.load('hub://activeloop/not-mnist-small')"
   ]
  },
  {
   "cell_type": "code",
   "execution_count": 3,
   "id": "a6f3504b",
   "metadata": {},
   "outputs": [
    {
     "data": {
      "text/plain": [
       "Dataset(path='hub://activeloop/not-mnist-small', read_only=True, tensors=['images', 'labels'])"
      ]
     },
     "execution_count": 3,
     "metadata": {},
     "output_type": "execute_result"
    }
   ],
   "source": [
    "ds"
   ]
  },
  {
   "cell_type": "code",
   "execution_count": 4,
   "id": "c91d6b17",
   "metadata": {},
   "outputs": [],
   "source": [
    "# Преобразование данных в numpy массивы\n",
    "images = np.array(ds['images'])\n",
    "labels = np.array(ds['labels'])\n",
    "\n",
    "# Разбиение данных на тренировочный и тестовый наборы\n",
    "notmnist_train, notmnist_test, _, _ = train_test_split(images, labels, test_size=0.2, random_state=42)"
   ]
  },
  {
   "cell_type": "code",
   "execution_count": 5,
   "id": "ac842b42",
   "metadata": {},
   "outputs": [
    {
     "name": "stderr",
     "output_type": "stream",
     "text": [
      "2023-09-18 19:35:43.549837: I tensorflow/compiler/xla/stream_executor/cuda/cuda_gpu_executor.cc:981] could not open file to read NUMA node: /sys/bus/pci/devices/0000:01:00.0/numa_node\n",
      "Your kernel may have been built without NUMA support.\n",
      "2023-09-18 19:35:43.669421: I tensorflow/compiler/xla/stream_executor/cuda/cuda_gpu_executor.cc:981] could not open file to read NUMA node: /sys/bus/pci/devices/0000:01:00.0/numa_node\n",
      "Your kernel may have been built without NUMA support.\n",
      "2023-09-18 19:35:43.669830: I tensorflow/compiler/xla/stream_executor/cuda/cuda_gpu_executor.cc:981] could not open file to read NUMA node: /sys/bus/pci/devices/0000:01:00.0/numa_node\n",
      "Your kernel may have been built without NUMA support.\n",
      "2023-09-18 19:35:43.672594: I tensorflow/compiler/xla/stream_executor/cuda/cuda_gpu_executor.cc:981] could not open file to read NUMA node: /sys/bus/pci/devices/0000:01:00.0/numa_node\n",
      "Your kernel may have been built without NUMA support.\n",
      "2023-09-18 19:35:43.673163: I tensorflow/compiler/xla/stream_executor/cuda/cuda_gpu_executor.cc:981] could not open file to read NUMA node: /sys/bus/pci/devices/0000:01:00.0/numa_node\n",
      "Your kernel may have been built without NUMA support.\n",
      "2023-09-18 19:35:43.673678: I tensorflow/compiler/xla/stream_executor/cuda/cuda_gpu_executor.cc:981] could not open file to read NUMA node: /sys/bus/pci/devices/0000:01:00.0/numa_node\n",
      "Your kernel may have been built without NUMA support.\n",
      "2023-09-18 19:35:44.772524: I tensorflow/compiler/xla/stream_executor/cuda/cuda_gpu_executor.cc:981] could not open file to read NUMA node: /sys/bus/pci/devices/0000:01:00.0/numa_node\n",
      "Your kernel may have been built without NUMA support.\n",
      "2023-09-18 19:35:44.773029: I tensorflow/compiler/xla/stream_executor/cuda/cuda_gpu_executor.cc:981] could not open file to read NUMA node: /sys/bus/pci/devices/0000:01:00.0/numa_node\n",
      "Your kernel may have been built without NUMA support.\n",
      "2023-09-18 19:35:44.773043: I tensorflow/core/common_runtime/gpu/gpu_device.cc:1726] Could not identify NUMA node of platform GPU id 0, defaulting to 0.  Your kernel may not have been built with NUMA support.\n",
      "2023-09-18 19:35:44.773417: I tensorflow/compiler/xla/stream_executor/cuda/cuda_gpu_executor.cc:981] could not open file to read NUMA node: /sys/bus/pci/devices/0000:01:00.0/numa_node\n",
      "Your kernel may have been built without NUMA support.\n",
      "2023-09-18 19:35:44.773472: I tensorflow/core/common_runtime/gpu/gpu_device.cc:1639] Created device /job:localhost/replica:0/task:0/device:GPU:0 with 5385 MB memory:  -> device: 0, name: NVIDIA GeForce RTX 3080 Laptop GPU, pci bus id: 0000:01:00.0, compute capability: 8.6\n"
     ]
    },
    {
     "name": "stdout",
     "output_type": "stream",
     "text": [
      "Epoch 1/50\n"
     ]
    },
    {
     "name": "stderr",
     "output_type": "stream",
     "text": [
      "2023-09-18 19:35:47.605114: I tensorflow/compiler/xla/stream_executor/cuda/cuda_blas.cc:606] TensorFloat-32 will be used for the matrix multiplication. This will only be logged once.\n",
      "2023-09-18 19:35:47.635470: I tensorflow/compiler/xla/service/service.cc:168] XLA service 0x7f87fc04d580 initialized for platform CUDA (this does not guarantee that XLA will be used). Devices:\n",
      "2023-09-18 19:35:47.635541: I tensorflow/compiler/xla/service/service.cc:176]   StreamExecutor device (0): NVIDIA GeForce RTX 3080 Laptop GPU, Compute Capability 8.6\n",
      "2023-09-18 19:35:47.668544: I tensorflow/compiler/mlir/tensorflow/utils/dump_mlir_util.cc:255] disabling MLIR crash reproducer, set env var `MLIR_CRASH_REPRODUCER_DIRECTORY` to enable.\n",
      "2023-09-18 19:35:47.906966: I tensorflow/compiler/xla/stream_executor/cuda/cuda_dnn.cc:432] Loaded cuDNN version 8600\n",
      "2023-09-18 19:35:48.062216: I tensorflow/tsl/platform/default/subprocess.cc:304] Start cannot spawn child process: No such file or directory\n",
      "2023-09-18 19:35:48.159257: I ./tensorflow/compiler/jit/device_compiler.h:186] Compiled cluster using XLA!  This line is logged at most once for the lifetime of the process.\n"
     ]
    },
    {
     "name": "stdout",
     "output_type": "stream",
     "text": [
      "59/59 [==============================] - 4s 8ms/step - loss: -1375.5360 - val_loss: -1539.6726\n",
      "Epoch 2/50\n",
      "59/59 [==============================] - 0s 5ms/step - loss: -1544.6702 - val_loss: -1550.4723\n",
      "Epoch 3/50\n",
      "59/59 [==============================] - 0s 6ms/step - loss: -1552.4774 - val_loss: -1556.3253\n",
      "Epoch 4/50\n",
      "59/59 [==============================] - 0s 6ms/step - loss: -1554.0099 - val_loss: -1556.3252\n",
      "Epoch 5/50\n",
      "59/59 [==============================] - 0s 5ms/step - loss: -1554.0100 - val_loss: -1556.3253\n",
      "Epoch 6/50\n",
      "59/59 [==============================] - 0s 5ms/step - loss: -1554.0100 - val_loss: -1556.3253\n",
      "Epoch 7/50\n",
      "59/59 [==============================] - 0s 5ms/step - loss: -1554.0101 - val_loss: -1556.3253\n",
      "Epoch 8/50\n",
      "59/59 [==============================] - 0s 5ms/step - loss: -1554.0104 - val_loss: -1556.3253\n",
      "Epoch 9/50\n",
      "59/59 [==============================] - 0s 5ms/step - loss: -1554.0099 - val_loss: -1556.3256\n",
      "Epoch 10/50\n",
      "59/59 [==============================] - 0s 5ms/step - loss: -1554.0096 - val_loss: -1556.3252\n",
      "Epoch 11/50\n",
      "59/59 [==============================] - 0s 5ms/step - loss: -1554.0099 - val_loss: -1556.3253\n",
      "Epoch 12/50\n",
      "59/59 [==============================] - 0s 6ms/step - loss: -1554.0104 - val_loss: -1556.3253\n",
      "Epoch 13/50\n",
      "59/59 [==============================] - 0s 5ms/step - loss: -1554.0100 - val_loss: -1556.3253\n",
      "Epoch 14/50\n",
      "59/59 [==============================] - 0s 6ms/step - loss: -1554.0104 - val_loss: -1556.3256\n",
      "Epoch 15/50\n",
      "59/59 [==============================] - 0s 5ms/step - loss: -1554.0103 - val_loss: -1556.3256\n",
      "Epoch 16/50\n",
      "59/59 [==============================] - 0s 5ms/step - loss: -1554.0096 - val_loss: -1556.3253\n",
      "Epoch 17/50\n",
      "59/59 [==============================] - 0s 5ms/step - loss: -1554.0101 - val_loss: -1556.3253\n",
      "Epoch 18/50\n",
      "59/59 [==============================] - 0s 5ms/step - loss: -1554.0101 - val_loss: -1556.3253\n",
      "Epoch 19/50\n",
      "59/59 [==============================] - 0s 6ms/step - loss: -1554.0100 - val_loss: -1556.3253\n",
      "Epoch 20/50\n",
      "59/59 [==============================] - 0s 6ms/step - loss: -1554.0100 - val_loss: -1556.3256\n",
      "Epoch 21/50\n",
      "59/59 [==============================] - 0s 6ms/step - loss: -1554.0103 - val_loss: -1556.3253\n",
      "Epoch 22/50\n",
      "59/59 [==============================] - 0s 5ms/step - loss: -1554.0100 - val_loss: -1556.3253\n",
      "Epoch 23/50\n",
      "59/59 [==============================] - 0s 5ms/step - loss: -1554.0101 - val_loss: -1556.3253\n",
      "Epoch 24/50\n",
      "59/59 [==============================] - 0s 5ms/step - loss: -1554.0101 - val_loss: -1556.3253\n",
      "Epoch 25/50\n",
      "59/59 [==============================] - 0s 6ms/step - loss: -1554.0099 - val_loss: -1556.3253\n",
      "Epoch 26/50\n",
      "59/59 [==============================] - 0s 6ms/step - loss: -1554.0104 - val_loss: -1556.3253\n",
      "Epoch 27/50\n",
      "59/59 [==============================] - 0s 5ms/step - loss: -1554.0101 - val_loss: -1556.3250\n",
      "Epoch 28/50\n",
      "59/59 [==============================] - 0s 5ms/step - loss: -1554.0100 - val_loss: -1556.3256\n",
      "Epoch 29/50\n",
      "59/59 [==============================] - 0s 5ms/step - loss: -1554.0101 - val_loss: -1556.3256\n",
      "Epoch 30/50\n",
      "59/59 [==============================] - 0s 5ms/step - loss: -1554.0100 - val_loss: -1556.3256\n",
      "Epoch 31/50\n",
      "59/59 [==============================] - 0s 5ms/step - loss: -1554.0101 - val_loss: -1556.3253\n",
      "Epoch 32/50\n",
      "59/59 [==============================] - 0s 5ms/step - loss: -1554.0101 - val_loss: -1556.3252\n",
      "Epoch 33/50\n",
      "59/59 [==============================] - 0s 6ms/step - loss: -1554.0101 - val_loss: -1556.3252\n",
      "Epoch 34/50\n",
      "59/59 [==============================] - 0s 5ms/step - loss: -1554.0099 - val_loss: -1556.3253\n",
      "Epoch 35/50\n",
      "59/59 [==============================] - 0s 5ms/step - loss: -1554.0100 - val_loss: -1556.3252\n",
      "Epoch 36/50\n",
      "59/59 [==============================] - 0s 5ms/step - loss: -1554.0104 - val_loss: -1556.3253\n",
      "Epoch 37/50\n",
      "59/59 [==============================] - 0s 5ms/step - loss: -1554.0104 - val_loss: -1556.3256\n",
      "Epoch 38/50\n",
      "59/59 [==============================] - 0s 5ms/step - loss: -1554.0103 - val_loss: -1556.3256\n",
      "Epoch 39/50\n",
      "59/59 [==============================] - 0s 5ms/step - loss: -1554.0101 - val_loss: -1556.3256\n",
      "Epoch 40/50\n",
      "59/59 [==============================] - 0s 5ms/step - loss: -1554.0104 - val_loss: -1556.3256\n",
      "Epoch 41/50\n",
      "59/59 [==============================] - 0s 5ms/step - loss: -1554.0101 - val_loss: -1556.3256\n",
      "Epoch 42/50\n",
      "59/59 [==============================] - 0s 5ms/step - loss: -1554.0101 - val_loss: -1556.3253\n",
      "Epoch 43/50\n",
      "59/59 [==============================] - 0s 5ms/step - loss: -1554.0100 - val_loss: -1556.3253\n",
      "Epoch 44/50\n",
      "59/59 [==============================] - 0s 5ms/step - loss: -1554.0101 - val_loss: -1556.3256\n",
      "Epoch 45/50\n",
      "59/59 [==============================] - 0s 5ms/step - loss: -1554.0099 - val_loss: -1556.3256\n",
      "Epoch 46/50\n",
      "59/59 [==============================] - 0s 5ms/step - loss: -1554.0104 - val_loss: -1556.3256\n",
      "Epoch 47/50\n",
      "59/59 [==============================] - 0s 5ms/step - loss: -1554.0103 - val_loss: -1556.3256\n",
      "Epoch 48/50\n",
      "59/59 [==============================] - 0s 5ms/step - loss: -1554.0100 - val_loss: -1556.3256\n",
      "Epoch 49/50\n",
      "59/59 [==============================] - 0s 5ms/step - loss: -1554.0101 - val_loss: -1556.3256\n",
      "Epoch 50/50\n",
      "59/59 [==============================] - 0s 5ms/step - loss: -1554.0099 - val_loss: -1556.3256\n",
      "Epoch 1/50\n",
      "235/235 [==============================] - 2s 5ms/step - loss: 1.8304 - accuracy: 0.4193 - val_loss: 1.4077 - val_accuracy: 0.5465\n",
      "Epoch 2/50\n",
      "235/235 [==============================] - 1s 4ms/step - loss: 1.2316 - accuracy: 0.6037 - val_loss: 1.1275 - val_accuracy: 0.6225\n",
      "Epoch 3/50\n",
      "235/235 [==============================] - 1s 5ms/step - loss: 1.0599 - accuracy: 0.6377 - val_loss: 1.0139 - val_accuracy: 0.6571\n",
      "Epoch 4/50\n",
      "235/235 [==============================] - 1s 5ms/step - loss: 0.9815 - accuracy: 0.6520 - val_loss: 0.9632 - val_accuracy: 0.6520\n",
      "Epoch 5/50\n",
      "235/235 [==============================] - 1s 5ms/step - loss: 0.9317 - accuracy: 0.6665 - val_loss: 0.9269 - val_accuracy: 0.6573\n",
      "Epoch 6/50\n",
      "235/235 [==============================] - 1s 5ms/step - loss: 0.8992 - accuracy: 0.6750 - val_loss: 0.8895 - val_accuracy: 0.6828\n",
      "Epoch 7/50\n",
      "235/235 [==============================] - 1s 4ms/step - loss: 0.8786 - accuracy: 0.6793 - val_loss: 0.8719 - val_accuracy: 0.6822\n",
      "Epoch 8/50\n",
      "235/235 [==============================] - 1s 4ms/step - loss: 0.8604 - accuracy: 0.6848 - val_loss: 0.8553 - val_accuracy: 0.6905\n",
      "Epoch 9/50\n",
      "235/235 [==============================] - 1s 4ms/step - loss: 0.8470 - accuracy: 0.6910 - val_loss: 0.8530 - val_accuracy: 0.6871\n",
      "Epoch 10/50\n",
      "235/235 [==============================] - 1s 4ms/step - loss: 0.8351 - accuracy: 0.6937 - val_loss: 0.8349 - val_accuracy: 0.7016\n",
      "Epoch 11/50\n",
      "235/235 [==============================] - 1s 4ms/step - loss: 0.8264 - accuracy: 0.6958 - val_loss: 0.8413 - val_accuracy: 0.6888\n",
      "Epoch 12/50\n",
      "235/235 [==============================] - 1s 4ms/step - loss: 0.8178 - accuracy: 0.6999 - val_loss: 0.8241 - val_accuracy: 0.7002\n",
      "Epoch 13/50\n",
      "235/235 [==============================] - 1s 5ms/step - loss: 0.8117 - accuracy: 0.7027 - val_loss: 0.8169 - val_accuracy: 0.7031\n",
      "Epoch 14/50\n",
      "235/235 [==============================] - 1s 5ms/step - loss: 0.8011 - accuracy: 0.7062 - val_loss: 0.8068 - val_accuracy: 0.7042\n",
      "Epoch 15/50\n",
      "235/235 [==============================] - 1s 4ms/step - loss: 0.7962 - accuracy: 0.7086 - val_loss: 0.7958 - val_accuracy: 0.7114\n",
      "Epoch 16/50\n",
      "235/235 [==============================] - 1s 4ms/step - loss: 0.7857 - accuracy: 0.7128 - val_loss: 0.8039 - val_accuracy: 0.7073\n",
      "Epoch 17/50\n",
      "235/235 [==============================] - 1s 4ms/step - loss: 0.7815 - accuracy: 0.7135 - val_loss: 0.7935 - val_accuracy: 0.7085\n",
      "Epoch 18/50\n",
      "235/235 [==============================] - 1s 4ms/step - loss: 0.7761 - accuracy: 0.7163 - val_loss: 0.7892 - val_accuracy: 0.7125\n",
      "Epoch 19/50\n",
      "235/235 [==============================] - 1s 4ms/step - loss: 0.7695 - accuracy: 0.7176 - val_loss: 0.7745 - val_accuracy: 0.7132\n",
      "Epoch 20/50\n",
      "235/235 [==============================] - 1s 4ms/step - loss: 0.7640 - accuracy: 0.7193 - val_loss: 0.7779 - val_accuracy: 0.7076\n",
      "Epoch 21/50\n"
     ]
    },
    {
     "name": "stdout",
     "output_type": "stream",
     "text": [
      "235/235 [==============================] - 1s 4ms/step - loss: 0.7619 - accuracy: 0.7192 - val_loss: 0.7685 - val_accuracy: 0.7220\n",
      "Epoch 22/50\n",
      "235/235 [==============================] - 1s 4ms/step - loss: 0.7555 - accuracy: 0.7205 - val_loss: 0.7645 - val_accuracy: 0.7201\n",
      "Epoch 23/50\n",
      "235/235 [==============================] - 1s 5ms/step - loss: 0.7522 - accuracy: 0.7216 - val_loss: 0.7598 - val_accuracy: 0.7270\n",
      "Epoch 24/50\n",
      "235/235 [==============================] - 1s 5ms/step - loss: 0.7457 - accuracy: 0.7258 - val_loss: 0.7640 - val_accuracy: 0.7202\n",
      "Epoch 25/50\n",
      "235/235 [==============================] - 1s 4ms/step - loss: 0.7447 - accuracy: 0.7263 - val_loss: 0.7596 - val_accuracy: 0.7235\n",
      "Epoch 26/50\n",
      "235/235 [==============================] - 1s 4ms/step - loss: 0.7405 - accuracy: 0.7263 - val_loss: 0.7820 - val_accuracy: 0.7014\n",
      "Epoch 27/50\n",
      "235/235 [==============================] - 1s 4ms/step - loss: 0.7379 - accuracy: 0.7265 - val_loss: 0.7569 - val_accuracy: 0.7262\n",
      "Epoch 28/50\n",
      "235/235 [==============================] - 1s 4ms/step - loss: 0.7335 - accuracy: 0.7278 - val_loss: 0.7472 - val_accuracy: 0.7263\n",
      "Epoch 29/50\n",
      "235/235 [==============================] - 1s 4ms/step - loss: 0.7306 - accuracy: 0.7287 - val_loss: 0.7627 - val_accuracy: 0.7142\n",
      "Epoch 30/50\n",
      "235/235 [==============================] - 1s 4ms/step - loss: 0.7279 - accuracy: 0.7297 - val_loss: 0.7501 - val_accuracy: 0.7194\n",
      "Epoch 31/50\n",
      "235/235 [==============================] - 1s 4ms/step - loss: 0.7269 - accuracy: 0.7306 - val_loss: 0.7495 - val_accuracy: 0.7284\n",
      "Epoch 32/50\n",
      "235/235 [==============================] - 1s 4ms/step - loss: 0.7227 - accuracy: 0.7319 - val_loss: 0.7452 - val_accuracy: 0.7324\n",
      "Epoch 33/50\n",
      "235/235 [==============================] - 1s 4ms/step - loss: 0.7206 - accuracy: 0.7337 - val_loss: 0.7305 - val_accuracy: 0.7311\n",
      "Epoch 34/50\n",
      "235/235 [==============================] - 1s 4ms/step - loss: 0.7190 - accuracy: 0.7326 - val_loss: 0.7317 - val_accuracy: 0.7338\n",
      "Epoch 35/50\n",
      "235/235 [==============================] - 1s 4ms/step - loss: 0.7150 - accuracy: 0.7357 - val_loss: 0.7300 - val_accuracy: 0.7302\n",
      "Epoch 36/50\n",
      "235/235 [==============================] - 1s 4ms/step - loss: 0.7139 - accuracy: 0.7359 - val_loss: 0.7286 - val_accuracy: 0.7348\n",
      "Epoch 37/50\n",
      "235/235 [==============================] - 1s 5ms/step - loss: 0.7101 - accuracy: 0.7364 - val_loss: 0.7418 - val_accuracy: 0.7288\n",
      "Epoch 38/50\n",
      "235/235 [==============================] - 1s 4ms/step - loss: 0.7106 - accuracy: 0.7359 - val_loss: 0.7238 - val_accuracy: 0.7304\n",
      "Epoch 39/50\n",
      "235/235 [==============================] - 1s 4ms/step - loss: 0.7079 - accuracy: 0.7378 - val_loss: 0.7230 - val_accuracy: 0.7338\n",
      "Epoch 40/50\n",
      "235/235 [==============================] - 1s 4ms/step - loss: 0.7091 - accuracy: 0.7369 - val_loss: 0.7209 - val_accuracy: 0.7347\n",
      "Epoch 41/50\n",
      "235/235 [==============================] - 1s 4ms/step - loss: 0.7058 - accuracy: 0.7385 - val_loss: 0.7288 - val_accuracy: 0.7244\n",
      "Epoch 42/50\n",
      "235/235 [==============================] - 1s 4ms/step - loss: 0.7024 - accuracy: 0.7388 - val_loss: 0.7242 - val_accuracy: 0.7388\n",
      "Epoch 43/50\n",
      "235/235 [==============================] - 1s 4ms/step - loss: 0.7027 - accuracy: 0.7389 - val_loss: 0.7126 - val_accuracy: 0.7392\n",
      "Epoch 44/50\n",
      "235/235 [==============================] - 1s 4ms/step - loss: 0.6973 - accuracy: 0.7405 - val_loss: 0.7080 - val_accuracy: 0.7419\n",
      "Epoch 45/50\n",
      "235/235 [==============================] - 1s 4ms/step - loss: 0.6965 - accuracy: 0.7412 - val_loss: 0.7131 - val_accuracy: 0.7410\n",
      "Epoch 46/50\n",
      "235/235 [==============================] - 1s 4ms/step - loss: 0.6936 - accuracy: 0.7436 - val_loss: 0.7167 - val_accuracy: 0.7401\n",
      "Epoch 47/50\n",
      "235/235 [==============================] - 1s 4ms/step - loss: 0.6962 - accuracy: 0.7424 - val_loss: 0.7122 - val_accuracy: 0.7372\n",
      "Epoch 48/50\n",
      "235/235 [==============================] - 1s 4ms/step - loss: 0.6940 - accuracy: 0.7443 - val_loss: 0.7067 - val_accuracy: 0.7428\n",
      "Epoch 49/50\n",
      "235/235 [==============================] - 1s 4ms/step - loss: 0.6891 - accuracy: 0.7446 - val_loss: 0.7138 - val_accuracy: 0.7392\n",
      "Epoch 50/50\n",
      "235/235 [==============================] - 1s 4ms/step - loss: 0.6910 - accuracy: 0.7439 - val_loss: 0.7069 - val_accuracy: 0.7438\n",
      "313/313 [==============================] - 0s 1ms/step\n"
     ]
    }
   ],
   "source": [
    "# Загрузка и предобработка данных\n",
    "(fashion_train, fashion_train_labels), (fashion_test, fashion_test_labels) = tf.keras.datasets.fashion_mnist.load_data()\n",
    "\n",
    "# Нормализация данных\n",
    "fashion_train = fashion_train.astype('float32') / 255.\n",
    "fashion_test = fashion_test.astype('float32') / 255.\n",
    "\n",
    "# Архитектура автоэнкодера\n",
    "input_img = Input(shape=(28, 28))\n",
    "x = Flatten()(input_img)\n",
    "x = Dense(128, activation='relu')(x)\n",
    "encoded = Dense(64, activation='relu')(x)\n",
    "\n",
    "x = Dense(128, activation='relu')(encoded)\n",
    "x = Dense(28*28, activation='sigmoid')(x)\n",
    "decoded = Reshape((28, 28))(x)\n",
    "\n",
    "autoencoder = Model(input_img, decoded)\n",
    "\n",
    "# Обучение автоэнкодера на notMNIST\n",
    "autoencoder.compile(optimizer='adam', loss='binary_crossentropy')\n",
    "autoencoder.fit(notmnist_train, notmnist_train, epochs=50, batch_size=256, validation_data=(notmnist_test, notmnist_test))\n",
    "\n",
    "# Создание модели для Fashion MNIST на основе весов кодировщика\n",
    "encoder = Model(input_img, encoded)\n",
    "for layer in encoder.layers:\n",
    "    layer.trainable = False\n",
    "\n",
    "x = Dense(128, activation='relu')(encoded)\n",
    "predictions = Dense(10, activation='softmax')(x)\n",
    "\n",
    "fashion_model = Model(input_img, predictions)\n",
    "fashion_model.compile(optimizer='adam', loss='sparse_categorical_crossentropy', metrics=['accuracy'])\n",
    "fashion_model.fit(fashion_train, fashion_train_labels, epochs=50, batch_size=256, validation_data=(fashion_test, fashion_test_labels))\n",
    "\n",
    "# Предсказание\n",
    "predictions = fashion_model.predict(fashion_test)\n"
   ]
  },
  {
   "cell_type": "code",
   "execution_count": null,
   "id": "c94e8941",
   "metadata": {},
   "outputs": [],
   "source": [
    "import numpy as np\n",
    "import tensorflow as tf\n",
    "from tensorflow.keras.datasets import fashion_mnist\n",
    "from tensorflow.keras.applications import VGG16\n",
    "from tensorflow.keras.models import Model\n",
    "from tensorflow.keras.layers import Dense, GlobalAveragePooling2D\n",
    "\n",
    "\n",
    "(train_images, train_labels), (test_images, test_labels) = fashion_mnist.load_data()\n",
    "\n",
    "# Измените размер изображений и преобразуйте в трехканальный формат\n",
    "train_images = np.repeat(np.resize(train_images, (train_images.shape[0], 224, 224)), 3, axis=-1).reshape(train_images.shape[0], 224, 224, 3)\n",
    "test_images = np.repeat(np.resize(test_images, (test_images.shape[0], 224, 224)), 3, axis=-1).reshape(test_images.shape[0], 224, 224, 3)\n",
    "\n",
    "# Нормализуйте изображения\n",
    "train_images = train_images.astype('float32') / 255.\n",
    "test_images = test_images.astype('float32') / 255.\n"
   ]
  },
  {
   "cell_type": "code",
   "execution_count": null,
   "id": "46c57dcb",
   "metadata": {},
   "outputs": [],
   "source": [
    "\n",
    "base_model = VGG16(weights='imagenet', include_top=False, input_shape=(224, 224, 3))\n",
    "\n",
    "# Добавьте новые верхние слои\n",
    "x = base_model.output\n",
    "x = GlobalAveragePooling2D()(x)\n",
    "x = Dense(1024, activation='relu')(x)\n",
    "predictions = Dense(10, activation='softmax')(x)\n",
    "\n",
    "model = Model(inputs=base_model.input, outputs=predictions)\n",
    "\n",
    "# Заморозьте слои базовой модели VGG16\n",
    "for layer in base_model.layers:\n",
    "    layer.trainable = False\n"
   ]
  },
  {
   "cell_type": "code",
   "execution_count": null,
   "id": "23b91423",
   "metadata": {},
   "outputs": [],
   "source": [
    "model.compile(optimizer='adam', loss='sparse_categorical_crossentropy', metrics=['accuracy'])\n",
    "model.fit(train_images, train_labels, batch_size=32, epochs=5, validation_data=(test_images, test_labels))\n"
   ]
  },
  {
   "cell_type": "code",
   "execution_count": null,
   "id": "c8690152",
   "metadata": {},
   "outputs": [],
   "source": [
    "# Разморозка верхних слоев\n",
    "for layer in model.layers[:15]:\n",
    "    layer.trainable = False\n",
    "for layer in model.layers[15:]:\n",
    "    layer.trainable = True\n",
    "\n",
    "model.compile(optimizer=tf.keras.optimizers.Adam(1e-5), loss='sparse_categorical_crossentropy', metrics=['accuracy'])\n",
    "model.fit(train_images, train_labels, batch_size=32, epochs=5, validation_data=(test_images, test_labels))\n"
   ]
  },
  {
   "cell_type": "code",
   "execution_count": null,
   "id": "594c93b4",
   "metadata": {},
   "outputs": [],
   "source": []
  }
 ],
 "metadata": {
  "kernelspec": {
   "display_name": "Python 3 (ipykernel)",
   "language": "python",
   "name": "python3"
  },
  "language_info": {
   "codemirror_mode": {
    "name": "ipython",
    "version": 3
   },
   "file_extension": ".py",
   "mimetype": "text/x-python",
   "name": "python",
   "nbconvert_exporter": "python",
   "pygments_lexer": "ipython3",
   "version": "3.9.17"
  }
 },
 "nbformat": 4,
 "nbformat_minor": 5
}
