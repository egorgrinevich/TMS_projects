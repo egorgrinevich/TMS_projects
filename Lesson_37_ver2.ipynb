{
 "cells": [
  {
   "cell_type": "code",
   "execution_count": 7,
   "id": "c070e2ce",
   "metadata": {},
   "outputs": [],
   "source": [
    "import cv2\n",
    "import numpy as np\n",
    "import tensorflow as tf\n",
    "from tensorflow import keras\n",
    "from tensorflow.keras import layers\n",
    "from tensorflow.keras.preprocessing import image\n",
    "from tensorflow.keras.models import Model"
   ]
  },
  {
   "cell_type": "code",
   "execution_count": 8,
   "id": "32b4c47c",
   "metadata": {},
   "outputs": [
    {
     "name": "stdout",
     "output_type": "stream",
     "text": [
      "Epoch 1/10\n",
      "1875/1875 [==============================] - 35s 18ms/step - loss: 0.0525\n",
      "Epoch 2/10\n",
      "1875/1875 [==============================] - 35s 19ms/step - loss: 0.0435\n",
      "Epoch 3/10\n",
      "1875/1875 [==============================] - 36s 19ms/step - loss: 0.0418\n",
      "Epoch 4/10\n",
      "1875/1875 [==============================] - 35s 19ms/step - loss: 0.0408\n",
      "Epoch 5/10\n",
      "1875/1875 [==============================] - 34s 18ms/step - loss: 0.0401\n",
      "Epoch 6/10\n",
      "1875/1875 [==============================] - 34s 18ms/step - loss: 0.0396\n",
      "Epoch 7/10\n",
      "1875/1875 [==============================] - 34s 18ms/step - loss: 0.0392\n",
      "Epoch 8/10\n",
      "1875/1875 [==============================] - 34s 18ms/step - loss: 0.0389\n",
      "Epoch 9/10\n",
      "1875/1875 [==============================] - 34s 18ms/step - loss: 0.0387\n",
      "Epoch 10/10\n",
      "1875/1875 [==============================] - 35s 18ms/step - loss: 0.0385\n"
     ]
    },
    {
     "data": {
      "text/plain": [
       "<keras.src.callbacks.History at 0x1fef04b2a10>"
      ]
     },
     "execution_count": 8,
     "metadata": {},
     "output_type": "execute_result"
    }
   ],
   "source": [
    "# 1. Загрузка данных\n",
    "# Допустим, у нас есть датасет в формате numpy: x_train (набор изображений)\n",
    "\n",
    "# Загрузим датасет для примера (здесь мы используем MNIST для упрощения)\n",
    "(x_train, _), (_, _) = keras.datasets.mnist.load_data()\n",
    "x_train = x_train.astype('float32') / 255.\n",
    "x_train = x_train.reshape((len(x_train), 28, 28, 1))\n",
    "\n",
    "# 2. Создание модели VAE\n",
    "\n",
    "latent_dim = 2  # Размерность латентного пространства\n",
    "\n",
    "encoder_inputs = keras.Input(shape=(28, 28, 1))\n",
    "x = layers.Conv2D(32, 3, activation=\"relu\", strides=2, padding=\"same\")(encoder_inputs)\n",
    "x = layers.Conv2D(64, 3, activation=\"relu\", strides=2, padding=\"same\")(x)\n",
    "x = layers.Flatten()(x)\n",
    "x = layers.Dense(16, activation=\"relu\")(x)\n",
    "z_mean = layers.Dense(latent_dim, name=\"z_mean\")(x)\n",
    "z_log_var = layers.Dense(latent_dim, name=\"z_log_var\")(x)\n",
    "encoder = Model(encoder_inputs, [z_mean, z_log_var], name=\"encoder\")\n",
    "\n",
    "decoder_inputs = keras.Input(shape=(latent_dim,))\n",
    "x = layers.Dense(7 * 7 * 64, activation=\"relu\")(decoder_inputs)\n",
    "x = layers.Reshape((7, 7, 64))(x)\n",
    "x = layers.Conv2DTranspose(64, 3, activation=\"relu\", strides=2, padding=\"same\")(x)\n",
    "x = layers.Conv2DTranspose(32, 3, activation=\"relu\", strides=2, padding=\"same\")(x)\n",
    "decoder_outputs = layers.Conv2DTranspose(1, 3, activation=\"sigmoid\", padding=\"same\")(x)\n",
    "decoder = Model(decoder_inputs, decoder_outputs, name=\"decoder\")\n",
    "\n",
    "class VAE(keras.Model):\n",
    "    def __init__(self, encoder, decoder, **kwargs):\n",
    "        super(VAE, self).__init__(**kwargs)\n",
    "        self.encoder = encoder\n",
    "        self.decoder = decoder\n",
    "\n",
    "    def call(self, inputs):\n",
    "        z_mean, z_log_var = self.encoder(inputs)\n",
    "        z = self.sampling((z_mean, z_log_var))\n",
    "        return self.decoder(z)\n",
    "\n",
    "    def sampling(self, args):\n",
    "        z_mean, z_log_var = args\n",
    "        batch = tf.shape(z_mean)[0]\n",
    "        dim = tf.shape(z_mean)[1]\n",
    "        epsilon = tf.keras.backend.random_normal(shape=(batch, dim))\n",
    "        return z_mean + tf.exp(0.5 * z_log_var) * epsilon\n",
    "\n",
    "vae = VAE(encoder, decoder)\n",
    "vae.compile(optimizer='adam', loss='mse')\n",
    "\n",
    "# 3. Обучение VAE\n",
    "vae.fit(x_train, x_train, epochs=10, batch_size=32)\n",
    "\n",
    "# 4. Применение VAE для переноса стиля"
   ]
  },
  {
   "cell_type": "code",
   "execution_count": 36,
   "id": "4da5d3bc",
   "metadata": {},
   "outputs": [],
   "source": [
    "def transfer_style(content_image_path, style_image_path):\n",
    "    content_image = image.load_img(content_image_path, target_size=(28, 28))\n",
    "    content_image = image.img_to_array(content_image)\n",
    "    content_image = cv2.cvtColor(content_image, cv2.COLOR_BGR2GRAY)\n",
    "    content_image = content_image.astype('float32') / 255.\n",
    "    content_image = np.expand_dims(content_image, axis=0)\n",
    "\n",
    "    style_image = image.load_img(style_image_path, target_size=(28, 28))\n",
    "    style_image = image.img_to_array(style_image)\n",
    "    style_image = cv2.cvtColor(style_image, cv2.COLOR_BGR2GRAY)\n",
    "    style_image = style_image.astype('float32') / 255.\n",
    "    style_image = np.expand_dims(style_image, axis=0)\n",
    "\n",
    "    content_encoded = encoder.predict(content_image)[0]\n",
    "    style_encoded = encoder.predict(style_image)[0]\n",
    "\n",
    "    # Здесь можно выполнить комбинирование латентных переменных для переноса стиля\n",
    "    # Например, используя простое усреднение (для демонстрации)\n",
    "    combined_encoded = 0.01*content_encoded + 0.99*style_encoded\n",
    "\n",
    "    transferred_image = decoder.predict(combined_encoded)\n",
    "\n",
    "    return transferred_image\n",
    "\n",
    "# # Применяем функцию для демонстрации переноса стиля\n",
    "# result_image = transfer_style('path_to_content_image.jpg', 'path_to_style_image.jpg')"
   ]
  },
  {
   "cell_type": "code",
   "execution_count": 37,
   "id": "065cac4b",
   "metadata": {},
   "outputs": [
    {
     "name": "stdout",
     "output_type": "stream",
     "text": [
      "1/1 [==============================] - 0s 17ms/step\n",
      "1/1 [==============================] - 0s 19ms/step\n",
      "1/1 [==============================] - 0s 17ms/step\n"
     ]
    }
   ],
   "source": [
    "# Применяем функцию для демонстрации переноса стиля\n",
    "result_image = transfer_style('letter.jpg', 'letter1.jpg')"
   ]
  },
  {
   "cell_type": "code",
   "execution_count": 38,
   "id": "ff3e5b0f",
   "metadata": {},
   "outputs": [
    {
     "data": {
      "image/png": "[encoded data removed]",
      "text/plain": [
       "<Figure size 1000x500 with 2 Axes>"
      ]
     },
     "metadata": {},
     "output_type": "display_data"
    }
   ],
   "source": [
    "import matplotlib.pyplot as plt\n",
    "\n",
    "def display_images(original, stylized):\n",
    "    plt.figure(figsize=(10, 5))\n",
    "\n",
    "    # Отображение исходного изображения\n",
    "    plt.subplot(1, 2, 1)\n",
    "    plt.imshow(original)\n",
    "    plt.title(\"Original Image\")\n",
    "    plt.axis('off')\n",
    "\n",
    "    # Отображение стилизованного изображения\n",
    "    plt.subplot(1, 2, 2)\n",
    "    plt.imshow(stylized)\n",
    "    plt.title(\"Stylized Image\")\n",
    "    plt.axis('off')\n",
    "\n",
    "    plt.tight_layout()\n",
    "    plt.show()\n",
    "\n",
    "# Пример использования\n",
    "original_image = plt.imread('letter.jpg')\n",
    "stylized_image = plt.imread('letter1.jpg')\n",
    "display_images(original_image, stylized_image)\n"
   ]
  },
  {
   "cell_type": "code",
   "execution_count": 39,
   "id": "c815e7d4",
   "metadata": {},
   "outputs": [
    {
     "data": {
      "image/png": "[encoded data removed]",
      "text/plain": [
       "<Figure size 640x480 with 1 Axes>"
      ]
     },
     "metadata": {},
     "output_type": "display_data"
    }
   ],
   "source": [
    "plt.imshow(1-result_image[0,...], cmap='gray')\n",
    "plt.show()"
   ]
  },
  {
   "cell_type": "code",
   "execution_count": 17,
   "id": "6f21abcb",
   "metadata": {},
   "outputs": [
    {
     "data": {
      "text/plain": [
       "(1, 28, 28, 1)"
      ]
     },
     "execution_count": 17,
     "metadata": {},
     "output_type": "execute_result"
    }
   ],
   "source": [
    "result_image.shape"
   ]
  },
  {
   "cell_type": "code",
   "execution_count": null,
   "id": "ae102fc4",
   "metadata": {},
   "outputs": [],
   "source": []
  }
 ],
 "metadata": {
  "kernelspec": {
   "display_name": "Python 3 (ipykernel)",
   "language": "python",
   "name": "python3"
  },
  "language_info": {
   "codemirror_mode": {
    "name": "ipython",
    "version": 3
   },
   "file_extension": ".py",
   "mimetype": "text/x-python",
   "name": "python",
   "nbconvert_exporter": "python",
   "pygments_lexer": "ipython3",
   "version": "3.11.5"
  },
  "toc": {
   "base_numbering": 1,
   "nav_menu": {},
   "number_sections": true,
   "sideBar": true,
   "skip_h1_title": false,
   "title_cell": "Table of Contents",
   "title_sidebar": "Contents",
   "toc_cell": false,
   "toc_position": {},
   "toc_section_display": true,
   "toc_window_display": false
  },
  "varInspector": {
   "cols": {
    "lenName": 16,
    "lenType": 16,
    "lenVar": 40
   },
   "kernels_config": {
    "python": {
     "delete_cmd_postfix": "",
     "delete_cmd_prefix": "del ",
     "library": "var_list.py",
     "varRefreshCmd": "print(var_dic_list())"
    },
    "r": {
     "delete_cmd_postfix": ") ",
     "delete_cmd_prefix": "rm(",
     "library": "var_list.r",
     "varRefreshCmd": "cat(var_dic_list()) "
    }
   },
   "types_to_exclude": [
    "module",
    "function",
    "builtin_function_or_method",
    "instance",
    "_Feature"
   ],
   "window_display": false
  }
 },
 "nbformat": 4,
 "nbformat_minor": 5
}
