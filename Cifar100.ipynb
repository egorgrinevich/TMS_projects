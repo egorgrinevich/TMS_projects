{
 "cells": [
  {
   "cell_type": "code",
   "execution_count": 1,
   "id": "fa1c956a",
   "metadata": {},
   "outputs": [
    {
     "name": "stderr",
     "output_type": "stream",
     "text": [
      "2023-09-29 19:21:29.574313: I tensorflow/tsl/cuda/cudart_stub.cc:28] Could not find cuda drivers on your machine, GPU will not be used.\n",
      "2023-09-29 19:21:29.786674: I tensorflow/tsl/cuda/cudart_stub.cc:28] Could not find cuda drivers on your machine, GPU will not be used.\n",
      "2023-09-29 19:21:29.788650: I tensorflow/core/platform/cpu_feature_guard.cc:182] This TensorFlow binary is optimized to use available CPU instructions in performance-critical operations.\n",
      "To enable the following instructions: AVX2 FMA, in other operations, rebuild TensorFlow with the appropriate compiler flags.\n",
      "2023-09-29 19:21:30.845176: W tensorflow/compiler/tf2tensorrt/utils/py_utils.cc:38] TF-TRT Warning: Could not find TensorRT\n"
     ]
    }
   ],
   "source": [
    "# Импорт необходимых библиотек\n",
    "import numpy as np\n",
    "from keras.datasets import cifar100\n",
    "from keras.preprocessing.image import ImageDataGenerator\n",
    "from keras.utils import to_categorical\n",
    "import matplotlib.pyplot as plt\n",
    "from keras.models import Model\n",
    "import numpy as np\n",
    "import matplotlib.pyplot as plt\n",
    "import tensorflow as tf"
   ]
  },
  {
   "cell_type": "code",
   "execution_count": 2,
   "id": "52cf9401",
   "metadata": {},
   "outputs": [
    {
     "name": "stdout",
     "output_type": "stream",
     "text": [
      "[PhysicalDevice(name='/physical_device:GPU:0', device_type='GPU')]\n"
     ]
    }
   ],
   "source": [
    "if tf.config.list_physical_devices('GPU'):\n",
    "    print(tf.config.list_physical_devices('GPU'))\n",
    "else:\n",
    "    print(\"TensorFlow GPU not found!\")"
   ]
  },
  {
   "cell_type": "code",
   "execution_count": 3,
   "id": "9ca162fa",
   "metadata": {},
   "outputs": [],
   "source": [
    "# import os\n",
    "# os.environ[\"CUDA_VISIBLE_DEVICES\"] = \"-1\""
   ]
  },
  {
   "cell_type": "code",
   "execution_count": 4,
   "id": "d87cefc8",
   "metadata": {},
   "outputs": [
    {
     "name": "stdout",
     "output_type": "stream",
     "text": [
      "tf.Tensor([2. 4. 6.], shape=(3,), dtype=float32)\n",
      "CPU times: user 362 ms, sys: 191 ms, total: 553 ms\n",
      "Wall time: 901 ms\n"
     ]
    }
   ],
   "source": [
    "%%time\n",
    "with tf.device('/GPU:0'):\n",
    "    a = tf.constant([1.0, 2.0, 3.0], shape=[3], name='a')\n",
    "    b = tf.constant([1.0, 2.0, 3.0], shape=[3], name='b')\n",
    "    c = tf.add(a, b)\n",
    "\n",
    "print(c)"
   ]
  },
  {
   "cell_type": "code",
   "execution_count": 5,
   "id": "64cc9cce",
   "metadata": {},
   "outputs": [
    {
     "name": "stdout",
     "output_type": "stream",
     "text": [
      "tf.Tensor([2. 4. 6.], shape=(3,), dtype=float32)\n",
      "CPU times: user 0 ns, sys: 1.96 ms, total: 1.96 ms\n",
      "Wall time: 1.33 ms\n"
     ]
    }
   ],
   "source": [
    "%%time\n",
    "with tf.device('/CPU:0'):\n",
    "    a = tf.constant([1.0, 2.0, 3.0], shape=[3], name='a')\n",
    "    b = tf.constant([1.0, 2.0, 3.0], shape=[3], name='b')\n",
    "    c = tf.add(a, b)\n",
    "\n",
    "print(c)"
   ]
  },
  {
   "cell_type": "code",
   "execution_count": 2,
   "id": "6a8e1f05",
   "metadata": {},
   "outputs": [],
   "source": [
    "# Загрузка CIFAR-10 датасета\n",
    "(train_images, train_labels), (test_images, test_labels) = cifar100.load_data()"
   ]
  },
  {
   "cell_type": "code",
   "execution_count": 3,
   "id": "f8aca209",
   "metadata": {},
   "outputs": [],
   "source": [
    "# Нормализация изображений\n",
    "train_images = train_images.astype('float32') / 255.0\n",
    "test_images = test_images.astype('float32') / 255.0\n",
    "\n",
    "# Преобразование меток в one-hot encoding\n",
    "train_labels = to_categorical(train_labels)\n",
    "test_labels = to_categorical(test_labels)"
   ]
  },
  {
   "cell_type": "code",
   "execution_count": 4,
   "id": "f4760ee8",
   "metadata": {},
   "outputs": [
    {
     "data": {
      "text/plain": [
       "((50000, 32, 32, 3), (10000, 32, 32, 3))"
      ]
     },
     "execution_count": 4,
     "metadata": {},
     "output_type": "execute_result"
    }
   ],
   "source": [
    "train_images.shape, test_images.shape,"
   ]
  },
  {
   "cell_type": "code",
   "execution_count": 5,
   "id": "82e31511",
   "metadata": {},
   "outputs": [],
   "source": [
    "# Создание объекта ImageDataGenerator\n",
    "datagen = ImageDataGenerator(\n",
    "    rotation_range=15,\n",
    "    width_shift_range=0.1,\n",
    "    height_shift_range=0.1,\n",
    "    horizontal_flip=True,\n",
    "    fill_mode='nearest'\n",
    ")\n"
   ]
  },
  {
   "cell_type": "code",
   "execution_count": 6,
   "id": "77026515",
   "metadata": {},
   "outputs": [],
   "source": [
    "# Выполнение аугментации данных с использованием datagen\n",
    "datagen.fit(train_images)\n",
    "\n",
    "# Пример использования .flow() для обучения модели\n",
    "# model.fit(datagen.flow(train_images, train_labels, batch_size=32), steps_per_epoch=len(train_images) / 32, epochs=10)"
   ]
  },
  {
   "cell_type": "code",
   "execution_count": 7,
   "id": "62ba98ab",
   "metadata": {},
   "outputs": [
    {
     "data": {
      "image/png": "[encoded data removed]",
      "text/plain": [
       "<Figure size 2000x500 with 5 Axes>"
      ]
     },
     "metadata": {},
     "output_type": "display_data"
    }
   ],
   "source": [
    "# Генерация аугментированных изображений\n",
    "augmented_images = [train_images[1] for i in range(5)]\n",
    "augmented_images = np.array(augmented_images)\n",
    "augmented_images = datagen.flow(augmented_images, batch_size=5, shuffle=False).next()\n",
    "\n",
    "# Визуализация изображений\n",
    "fig, axarr = plt.subplots(1, 5, figsize=(20, 5))\n",
    "\n",
    "for i in range(5):\n",
    "    axarr[i].imshow(augmented_images[i])\n",
    "    axarr[i].axis('off')\n",
    "\n",
    "plt.show()\n"
   ]
  },
  {
   "cell_type": "code",
   "execution_count": 8,
   "id": "876bbacf",
   "metadata": {},
   "outputs": [
    {
     "data": {
      "text/plain": [
       "(10000, 32, 32, 3)"
      ]
     },
     "execution_count": 8,
     "metadata": {},
     "output_type": "execute_result"
    }
   ],
   "source": [
    "test_images.shape"
   ]
  },
  {
   "cell_type": "code",
   "execution_count": 32,
   "id": "f07d139b",
   "metadata": {},
   "outputs": [
    {
     "name": "stdout",
     "output_type": "stream",
     "text": [
      "Model: \"sequential_12\"\n",
      "_________________________________________________________________\n",
      " Layer (type)                Output Shape              Param #   \n",
      "=================================================================\n",
      " conv2d_40 (Conv2D)          (None, 32, 32, 32)        896       \n",
      "                                                                 \n",
      " max_pooling2d_40 (MaxPooli  (None, 16, 16, 32)        0         \n",
      " ng2D)                                                           \n",
      "                                                                 \n",
      " dropout_12 (Dropout)        (None, 16, 16, 32)        0         \n",
      "                                                                 \n",
      " conv2d_41 (Conv2D)          (None, 15, 15, 512)       66048     \n",
      "                                                                 \n",
      " max_pooling2d_41 (MaxPooli  (None, 7, 7, 512)         0         \n",
      " ng2D)                                                           \n",
      "                                                                 \n",
      " conv2d_42 (Conv2D)          (None, 5, 5, 512)         2359808   \n",
      "                                                                 \n",
      " max_pooling2d_42 (MaxPooli  (None, 1, 1, 512)         0         \n",
      " ng2D)                                                           \n",
      "                                                                 \n",
      " flatten_12 (Flatten)        (None, 512)               0         \n",
      "                                                                 \n",
      " dense_25 (Dense)            (None, 256)               131328    \n",
      "                                                                 \n",
      " dense_26 (Dense)            (None, 100)               25700     \n",
      "                                                                 \n",
      "=================================================================\n",
      "Total params: 2583780 (9.86 MB)\n",
      "Trainable params: 2583780 (9.86 MB)\n",
      "Non-trainable params: 0 (0.00 Byte)\n",
      "_________________________________________________________________\n"
     ]
    }
   ],
   "source": [
    "from keras.models import Sequential\n",
    "from keras.layers import Conv2D, MaxPooling2D, Flatten, Dense, Dropout\n",
    "\n",
    "# Определение структуры модели\n",
    "model = Sequential([\n",
    "    Conv2D(32, (3, 3), padding = \"same\", activation='relu', strides = 1, input_shape=(32, 32, 3)), # Сверточный слой с 32 фильтрами\n",
    "    MaxPooling2D((2, 2)), # Слой пулинга\n",
    "    Dropout(0.1),\n",
    "    \n",
    "    Conv2D(512, (2, 2), activation='relu'), # Следующий сверточный слой с 64 фильтрами\n",
    "    MaxPooling2D((2, 2)), # Слой пулинга\n",
    "    \n",
    "    Conv2D(512, (3, 3), activation='relu'), # Следующий сверточный слой с 64 фильтрами\n",
    "    MaxPooling2D((3, 3)), # Слой пулинга\n",
    "    # Conv2D(256, (3, 3), activation='relu'), # Еще один сверточный слой с 64 фильтрами\n",
    "    Flatten(), # Преобразование матрицы признаков в вектор\n",
    "    Dense(256, activation='relu'), # Полносвязный слой\n",
    "    \n",
    "    # MaxPooling2D((2, 2), strides=2),\n",
    "    # Conv2D(32, (3,3), padding='same', activation='relu'),\n",
    "    # MaxPooling2D((2, 2), strides=2),\n",
    "    # Dropout(0.1),\n",
    "    # Conv2D(64, (3,3), padding='same', activation='relu'),\n",
    "    # MaxPooling2D((2, 2), strides=2),\n",
    "    # Dropout(0.15),\n",
    "    # Conv2D(128, (3,3), padding='same', activation='relu'),\n",
    "    # MaxPooling2D((2, 2), strides=2),\n",
    "    # Dropout(0.2),\n",
    "    # Conv2D(512, (3,3), padding='same', activation='relu'),\n",
    "    # MaxPooling2D((2, 2), strides=2),\n",
    "    # Dropout(0.25), \n",
    "    # Flatten(),\n",
    "    # Dense(64, activation='relu'),\n",
    "    # Dropout(0.2),\n",
    "    # Dense(32, activation='relu'),\n",
    "    # Dropout(0.1),\n",
    "    \n",
    "    Dense(100, activation='softmax') # Выходной слой с 10 нейронами (по количеству классов в CIFAR-10)\n",
    "])\n",
    "\n",
    "# Компиляция модели\n",
    "model.compile(optimizer='adam', loss='categorical_crossentropy', metrics=['accuracy'])\n",
    "\n",
    "model.summary()"
   ]
  },
  {
   "cell_type": "code",
   "execution_count": 33,
   "id": "c4d58f97",
   "metadata": {},
   "outputs": [
    {
     "name": "stdout",
     "output_type": "stream",
     "text": [
      "Epoch 1/10\n"
     ]
    },
    {
     "name": "stdout",
     "output_type": "stream",
     "text": [
      " 151/1562 [=>............................] - ETA: 7:29 - loss: 4.4464 - accuracy: 0.0268"
     ]
    },
    {
     "ename": "KeyboardInterrupt",
     "evalue": "",
     "output_type": "error",
     "traceback": [
      "\u001b[0;31m---------------------------------------------------------------------------\u001b[0m",
      "\u001b[0;31mKeyboardInterrupt\u001b[0m                         Traceback (most recent call last)",
      "\u001b[1;32m/home/gea/TMS_projects/Cifar100.ipynb Ячейка 14\u001b[0m line \u001b[0;36m2\n\u001b[1;32m      <a href='vscode-notebook-cell:/home/gea/TMS_projects/Cifar100.ipynb#X16sZmlsZQ%3D%3D?line=0'>1</a>\u001b[0m \u001b[39m# Обучение модели\u001b[39;00m\n\u001b[0;32m----> <a href='vscode-notebook-cell:/home/gea/TMS_projects/Cifar100.ipynb#X16sZmlsZQ%3D%3D?line=1'>2</a>\u001b[0m model\u001b[39m.\u001b[39;49mfit(datagen\u001b[39m.\u001b[39;49mflow(train_images, train_labels, batch_size\u001b[39m=\u001b[39;49m\u001b[39m64\u001b[39;49m),\n\u001b[1;32m      <a href='vscode-notebook-cell:/home/gea/TMS_projects/Cifar100.ipynb#X16sZmlsZQ%3D%3D?line=2'>3</a>\u001b[0m           steps_per_epoch\u001b[39m=\u001b[39;49m\u001b[39mlen\u001b[39;49m(train_images) \u001b[39m/\u001b[39;49m \u001b[39m32\u001b[39;49m,\n\u001b[1;32m      <a href='vscode-notebook-cell:/home/gea/TMS_projects/Cifar100.ipynb#X16sZmlsZQ%3D%3D?line=3'>4</a>\u001b[0m           epochs\u001b[39m=\u001b[39;49m\u001b[39m10\u001b[39;49m,\n\u001b[1;32m      <a href='vscode-notebook-cell:/home/gea/TMS_projects/Cifar100.ipynb#X16sZmlsZQ%3D%3D?line=4'>5</a>\u001b[0m           validation_data\u001b[39m=\u001b[39;49m(test_images, test_labels))\n",
      "File \u001b[0;32m~/.local/lib/python3.8/site-packages/keras/src/utils/traceback_utils.py:65\u001b[0m, in \u001b[0;36mfilter_traceback.<locals>.error_handler\u001b[0;34m(*args, **kwargs)\u001b[0m\n\u001b[1;32m     63\u001b[0m filtered_tb \u001b[39m=\u001b[39m \u001b[39mNone\u001b[39;00m\n\u001b[1;32m     64\u001b[0m \u001b[39mtry\u001b[39;00m:\n\u001b[0;32m---> 65\u001b[0m     \u001b[39mreturn\u001b[39;00m fn(\u001b[39m*\u001b[39;49margs, \u001b[39m*\u001b[39;49m\u001b[39m*\u001b[39;49mkwargs)\n\u001b[1;32m     66\u001b[0m \u001b[39mexcept\u001b[39;00m \u001b[39mException\u001b[39;00m \u001b[39mas\u001b[39;00m e:\n\u001b[1;32m     67\u001b[0m     filtered_tb \u001b[39m=\u001b[39m _process_traceback_frames(e\u001b[39m.\u001b[39m__traceback__)\n",
      "File \u001b[0;32m~/.local/lib/python3.8/site-packages/keras/src/engine/training.py:1742\u001b[0m, in \u001b[0;36mModel.fit\u001b[0;34m(self, x, y, batch_size, epochs, verbose, callbacks, validation_split, validation_data, shuffle, class_weight, sample_weight, initial_epoch, steps_per_epoch, validation_steps, validation_batch_size, validation_freq, max_queue_size, workers, use_multiprocessing)\u001b[0m\n\u001b[1;32m   1734\u001b[0m \u001b[39mwith\u001b[39;00m tf\u001b[39m.\u001b[39mprofiler\u001b[39m.\u001b[39mexperimental\u001b[39m.\u001b[39mTrace(\n\u001b[1;32m   1735\u001b[0m     \u001b[39m\"\u001b[39m\u001b[39mtrain\u001b[39m\u001b[39m\"\u001b[39m,\n\u001b[1;32m   1736\u001b[0m     epoch_num\u001b[39m=\u001b[39mepoch,\n\u001b[0;32m   (...)\u001b[0m\n\u001b[1;32m   1739\u001b[0m     _r\u001b[39m=\u001b[39m\u001b[39m1\u001b[39m,\n\u001b[1;32m   1740\u001b[0m ):\n\u001b[1;32m   1741\u001b[0m     callbacks\u001b[39m.\u001b[39mon_train_batch_begin(step)\n\u001b[0;32m-> 1742\u001b[0m     tmp_logs \u001b[39m=\u001b[39m \u001b[39mself\u001b[39;49m\u001b[39m.\u001b[39;49mtrain_function(iterator)\n\u001b[1;32m   1743\u001b[0m     \u001b[39mif\u001b[39;00m data_handler\u001b[39m.\u001b[39mshould_sync:\n\u001b[1;32m   1744\u001b[0m         context\u001b[39m.\u001b[39masync_wait()\n",
      "File \u001b[0;32m~/.local/lib/python3.8/site-packages/tensorflow/python/util/traceback_utils.py:150\u001b[0m, in \u001b[0;36mfilter_traceback.<locals>.error_handler\u001b[0;34m(*args, **kwargs)\u001b[0m\n\u001b[1;32m    148\u001b[0m filtered_tb \u001b[39m=\u001b[39m \u001b[39mNone\u001b[39;00m\n\u001b[1;32m    149\u001b[0m \u001b[39mtry\u001b[39;00m:\n\u001b[0;32m--> 150\u001b[0m   \u001b[39mreturn\u001b[39;00m fn(\u001b[39m*\u001b[39;49margs, \u001b[39m*\u001b[39;49m\u001b[39m*\u001b[39;49mkwargs)\n\u001b[1;32m    151\u001b[0m \u001b[39mexcept\u001b[39;00m \u001b[39mException\u001b[39;00m \u001b[39mas\u001b[39;00m e:\n\u001b[1;32m    152\u001b[0m   filtered_tb \u001b[39m=\u001b[39m _process_traceback_frames(e\u001b[39m.\u001b[39m__traceback__)\n",
      "File \u001b[0;32m~/.local/lib/python3.8/site-packages/tensorflow/python/eager/polymorphic_function/polymorphic_function.py:825\u001b[0m, in \u001b[0;36mFunction.__call__\u001b[0;34m(self, *args, **kwds)\u001b[0m\n\u001b[1;32m    822\u001b[0m compiler \u001b[39m=\u001b[39m \u001b[39m\"\u001b[39m\u001b[39mxla\u001b[39m\u001b[39m\"\u001b[39m \u001b[39mif\u001b[39;00m \u001b[39mself\u001b[39m\u001b[39m.\u001b[39m_jit_compile \u001b[39melse\u001b[39;00m \u001b[39m\"\u001b[39m\u001b[39mnonXla\u001b[39m\u001b[39m\"\u001b[39m\n\u001b[1;32m    824\u001b[0m \u001b[39mwith\u001b[39;00m OptionalXlaContext(\u001b[39mself\u001b[39m\u001b[39m.\u001b[39m_jit_compile):\n\u001b[0;32m--> 825\u001b[0m   result \u001b[39m=\u001b[39m \u001b[39mself\u001b[39;49m\u001b[39m.\u001b[39;49m_call(\u001b[39m*\u001b[39;49margs, \u001b[39m*\u001b[39;49m\u001b[39m*\u001b[39;49mkwds)\n\u001b[1;32m    827\u001b[0m new_tracing_count \u001b[39m=\u001b[39m \u001b[39mself\u001b[39m\u001b[39m.\u001b[39mexperimental_get_tracing_count()\n\u001b[1;32m    828\u001b[0m without_tracing \u001b[39m=\u001b[39m (tracing_count \u001b[39m==\u001b[39m new_tracing_count)\n",
      "File \u001b[0;32m~/.local/lib/python3.8/site-packages/tensorflow/python/eager/polymorphic_function/polymorphic_function.py:857\u001b[0m, in \u001b[0;36mFunction._call\u001b[0;34m(self, *args, **kwds)\u001b[0m\n\u001b[1;32m    854\u001b[0m   \u001b[39mself\u001b[39m\u001b[39m.\u001b[39m_lock\u001b[39m.\u001b[39mrelease()\n\u001b[1;32m    855\u001b[0m   \u001b[39m# In this case we have created variables on the first call, so we run the\u001b[39;00m\n\u001b[1;32m    856\u001b[0m   \u001b[39m# defunned version which is guaranteed to never create variables.\u001b[39;00m\n\u001b[0;32m--> 857\u001b[0m   \u001b[39mreturn\u001b[39;00m \u001b[39mself\u001b[39;49m\u001b[39m.\u001b[39;49m_no_variable_creation_fn(\u001b[39m*\u001b[39;49margs, \u001b[39m*\u001b[39;49m\u001b[39m*\u001b[39;49mkwds)  \u001b[39m# pylint: disable=not-callable\u001b[39;00m\n\u001b[1;32m    858\u001b[0m \u001b[39melif\u001b[39;00m \u001b[39mself\u001b[39m\u001b[39m.\u001b[39m_variable_creation_fn \u001b[39mis\u001b[39;00m \u001b[39mnot\u001b[39;00m \u001b[39mNone\u001b[39;00m:\n\u001b[1;32m    859\u001b[0m   \u001b[39m# Release the lock early so that multiple threads can perform the call\u001b[39;00m\n\u001b[1;32m    860\u001b[0m   \u001b[39m# in parallel.\u001b[39;00m\n\u001b[1;32m    861\u001b[0m   \u001b[39mself\u001b[39m\u001b[39m.\u001b[39m_lock\u001b[39m.\u001b[39mrelease()\n",
      "File \u001b[0;32m~/.local/lib/python3.8/site-packages/tensorflow/python/eager/polymorphic_function/tracing_compiler.py:148\u001b[0m, in \u001b[0;36mTracingCompiler.__call__\u001b[0;34m(self, *args, **kwargs)\u001b[0m\n\u001b[1;32m    145\u001b[0m \u001b[39mwith\u001b[39;00m \u001b[39mself\u001b[39m\u001b[39m.\u001b[39m_lock:\n\u001b[1;32m    146\u001b[0m   (concrete_function,\n\u001b[1;32m    147\u001b[0m    filtered_flat_args) \u001b[39m=\u001b[39m \u001b[39mself\u001b[39m\u001b[39m.\u001b[39m_maybe_define_function(args, kwargs)\n\u001b[0;32m--> 148\u001b[0m \u001b[39mreturn\u001b[39;00m concrete_function\u001b[39m.\u001b[39;49m_call_flat(\n\u001b[1;32m    149\u001b[0m     filtered_flat_args, captured_inputs\u001b[39m=\u001b[39;49mconcrete_function\u001b[39m.\u001b[39;49mcaptured_inputs)\n",
      "File \u001b[0;32m~/.local/lib/python3.8/site-packages/tensorflow/python/eager/polymorphic_function/monomorphic_function.py:1349\u001b[0m, in \u001b[0;36mConcreteFunction._call_flat\u001b[0;34m(self, args, captured_inputs)\u001b[0m\n\u001b[1;32m   1345\u001b[0m possible_gradient_type \u001b[39m=\u001b[39m gradients_util\u001b[39m.\u001b[39mPossibleTapeGradientTypes(args)\n\u001b[1;32m   1346\u001b[0m \u001b[39mif\u001b[39;00m (possible_gradient_type \u001b[39m==\u001b[39m gradients_util\u001b[39m.\u001b[39mPOSSIBLE_GRADIENT_TYPES_NONE\n\u001b[1;32m   1347\u001b[0m     \u001b[39mand\u001b[39;00m executing_eagerly):\n\u001b[1;32m   1348\u001b[0m   \u001b[39m# No tape is watching; skip to running the function.\u001b[39;00m\n\u001b[0;32m-> 1349\u001b[0m   \u001b[39mreturn\u001b[39;00m \u001b[39mself\u001b[39m\u001b[39m.\u001b[39m_build_call_outputs(\u001b[39mself\u001b[39;49m\u001b[39m.\u001b[39;49m_inference_function(\u001b[39m*\u001b[39;49margs))\n\u001b[1;32m   1350\u001b[0m forward_backward \u001b[39m=\u001b[39m \u001b[39mself\u001b[39m\u001b[39m.\u001b[39m_select_forward_and_backward_functions(\n\u001b[1;32m   1351\u001b[0m     args,\n\u001b[1;32m   1352\u001b[0m     possible_gradient_type,\n\u001b[1;32m   1353\u001b[0m     executing_eagerly)\n\u001b[1;32m   1354\u001b[0m forward_function, args_with_tangents \u001b[39m=\u001b[39m forward_backward\u001b[39m.\u001b[39mforward()\n",
      "File \u001b[0;32m~/.local/lib/python3.8/site-packages/tensorflow/python/eager/polymorphic_function/atomic_function.py:196\u001b[0m, in \u001b[0;36mAtomicFunction.__call__\u001b[0;34m(self, *args)\u001b[0m\n\u001b[1;32m    194\u001b[0m \u001b[39mwith\u001b[39;00m record\u001b[39m.\u001b[39mstop_recording():\n\u001b[1;32m    195\u001b[0m   \u001b[39mif\u001b[39;00m \u001b[39mself\u001b[39m\u001b[39m.\u001b[39m_bound_context\u001b[39m.\u001b[39mexecuting_eagerly():\n\u001b[0;32m--> 196\u001b[0m     outputs \u001b[39m=\u001b[39m \u001b[39mself\u001b[39;49m\u001b[39m.\u001b[39;49m_bound_context\u001b[39m.\u001b[39;49mcall_function(\n\u001b[1;32m    197\u001b[0m         \u001b[39mself\u001b[39;49m\u001b[39m.\u001b[39;49mname,\n\u001b[1;32m    198\u001b[0m         \u001b[39mlist\u001b[39;49m(args),\n\u001b[1;32m    199\u001b[0m         \u001b[39mlen\u001b[39;49m(\u001b[39mself\u001b[39;49m\u001b[39m.\u001b[39;49mfunction_type\u001b[39m.\u001b[39;49mflat_outputs),\n\u001b[1;32m    200\u001b[0m     )\n\u001b[1;32m    201\u001b[0m   \u001b[39melse\u001b[39;00m:\n\u001b[1;32m    202\u001b[0m     outputs \u001b[39m=\u001b[39m make_call_op_in_graph(\u001b[39mself\u001b[39m, \u001b[39mlist\u001b[39m(args))\n",
      "File \u001b[0;32m~/.local/lib/python3.8/site-packages/tensorflow/python/eager/context.py:1457\u001b[0m, in \u001b[0;36mContext.call_function\u001b[0;34m(self, name, tensor_inputs, num_outputs)\u001b[0m\n\u001b[1;32m   1455\u001b[0m cancellation_context \u001b[39m=\u001b[39m cancellation\u001b[39m.\u001b[39mcontext()\n\u001b[1;32m   1456\u001b[0m \u001b[39mif\u001b[39;00m cancellation_context \u001b[39mis\u001b[39;00m \u001b[39mNone\u001b[39;00m:\n\u001b[0;32m-> 1457\u001b[0m   outputs \u001b[39m=\u001b[39m execute\u001b[39m.\u001b[39;49mexecute(\n\u001b[1;32m   1458\u001b[0m       name\u001b[39m.\u001b[39;49mdecode(\u001b[39m\"\u001b[39;49m\u001b[39mutf-8\u001b[39;49m\u001b[39m\"\u001b[39;49m),\n\u001b[1;32m   1459\u001b[0m       num_outputs\u001b[39m=\u001b[39;49mnum_outputs,\n\u001b[1;32m   1460\u001b[0m       inputs\u001b[39m=\u001b[39;49mtensor_inputs,\n\u001b[1;32m   1461\u001b[0m       attrs\u001b[39m=\u001b[39;49mattrs,\n\u001b[1;32m   1462\u001b[0m       ctx\u001b[39m=\u001b[39;49m\u001b[39mself\u001b[39;49m,\n\u001b[1;32m   1463\u001b[0m   )\n\u001b[1;32m   1464\u001b[0m \u001b[39melse\u001b[39;00m:\n\u001b[1;32m   1465\u001b[0m   outputs \u001b[39m=\u001b[39m execute\u001b[39m.\u001b[39mexecute_with_cancellation(\n\u001b[1;32m   1466\u001b[0m       name\u001b[39m.\u001b[39mdecode(\u001b[39m\"\u001b[39m\u001b[39mutf-8\u001b[39m\u001b[39m\"\u001b[39m),\n\u001b[1;32m   1467\u001b[0m       num_outputs\u001b[39m=\u001b[39mnum_outputs,\n\u001b[0;32m   (...)\u001b[0m\n\u001b[1;32m   1471\u001b[0m       cancellation_manager\u001b[39m=\u001b[39mcancellation_context,\n\u001b[1;32m   1472\u001b[0m   )\n",
      "File \u001b[0;32m~/.local/lib/python3.8/site-packages/tensorflow/python/eager/execute.py:53\u001b[0m, in \u001b[0;36mquick_execute\u001b[0;34m(op_name, num_outputs, inputs, attrs, ctx, name)\u001b[0m\n\u001b[1;32m     51\u001b[0m \u001b[39mtry\u001b[39;00m:\n\u001b[1;32m     52\u001b[0m   ctx\u001b[39m.\u001b[39mensure_initialized()\n\u001b[0;32m---> 53\u001b[0m   tensors \u001b[39m=\u001b[39m pywrap_tfe\u001b[39m.\u001b[39;49mTFE_Py_Execute(ctx\u001b[39m.\u001b[39;49m_handle, device_name, op_name,\n\u001b[1;32m     54\u001b[0m                                       inputs, attrs, num_outputs)\n\u001b[1;32m     55\u001b[0m \u001b[39mexcept\u001b[39;00m core\u001b[39m.\u001b[39m_NotOkStatusException \u001b[39mas\u001b[39;00m e:\n\u001b[1;32m     56\u001b[0m   \u001b[39mif\u001b[39;00m name \u001b[39mis\u001b[39;00m \u001b[39mnot\u001b[39;00m \u001b[39mNone\u001b[39;00m:\n",
      "\u001b[0;31mKeyboardInterrupt\u001b[0m: "
     ]
    }
   ],
   "source": [
    "\n",
    "# Обучение модели\n",
    "model.fit(datagen.flow(train_images, train_labels, batch_size=64),\n",
    "          steps_per_epoch=len(train_images) / 32,\n",
    "          epochs=10,\n",
    "          validation_data=(test_images, test_labels))\n"
   ]
  },
  {
   "cell_type": "code",
   "execution_count": null,
   "id": "8dcedddf",
   "metadata": {
    "scrolled": false
   },
   "outputs": [],
   "source": [
    "# Выберем одно изображение для визуализации признаков\n",
    "img = train_images[0]\n",
    "img = np.expand_dims(img, axis=0)  # расширим измерения для соответствия входному формату модели\n",
    "\n",
    "# Получим выходные данные каждого слоя для выбранного изображения\n",
    "layer_outputs = [layer.output for layer in model.layers]\n",
    "activation_model = Model(inputs=model.input, outputs=layer_outputs)\n",
    "activations = activation_model.predict(img)\n",
    "\n",
    "# Функция для интерполяции изображений до размера 128x128\n",
    "def upscale_to_128x128(img):\n",
    "    return np.resize(img, (128, 128))\n",
    "\n",
    "# Визуализация признаков\n",
    "for layer_name, layer_activation in zip([layer.name for layer in model.layers], activations):\n",
    "    # Если активация имеет 4 измерения (как в случае с Conv2D и MaxPooling2D)\n",
    "    if len(layer_activation.shape) == 4:\n",
    "        # Выберем первые 6 признаковых карт для визуализации\n",
    "        for i in range(6):\n",
    "            plt.figure(figsize=(16, 4))\n",
    "            \n",
    "            # Некоторые слои могут иметь менее 6 каналов, в таком случае мы визуализируем только имеющиеся\n",
    "            if layer_activation.shape[-1] >= i+1:\n",
    "                channel_image = layer_activation[0, :, :, i]\n",
    "                channel_image = upscale_to_128x128(channel_image)  # Интерполяция до размера 128x128\n",
    "                plt.imshow(channel_image, cmap='viridis')\n",
    "                plt.title(f\"Features from layer: {layer_name}\")\n",
    "                plt.axis('off')\n",
    "        plt.show()\n"
   ]
  },
  {
   "cell_type": "code",
   "execution_count": 15,
   "id": "71634ded",
   "metadata": {},
   "outputs": [
    {
     "name": "stdout",
     "output_type": "stream",
     "text": [
      "Epoch 1/10\n",
      "1562/1562 [==============================] - 20s 12ms/step - loss: 1.6416 - accuracy: 0.3975 - val_loss: 1.3410 - val_accuracy: 0.5207\n",
      "Epoch 2/10\n",
      "1562/1562 [==============================] - 19s 12ms/step - loss: 1.3038 - accuracy: 0.5337 - val_loss: 1.1359 - val_accuracy: 0.5960\n",
      "Epoch 3/10\n",
      "1562/1562 [==============================] - 21s 13ms/step - loss: 1.1926 - accuracy: 0.5743 - val_loss: 1.0617 - val_accuracy: 0.6317\n",
      "Epoch 4/10\n",
      "1562/1562 [==============================] - 20s 13ms/step - loss: 1.1299 - accuracy: 0.5998 - val_loss: 1.0259 - val_accuracy: 0.6410\n",
      "Epoch 5/10\n",
      "1562/1562 [==============================] - 19s 12ms/step - loss: 1.0769 - accuracy: 0.6181 - val_loss: 1.0082 - val_accuracy: 0.6480\n",
      "Epoch 6/10\n",
      "1562/1562 [==============================] - 20s 13ms/step - loss: 1.0332 - accuracy: 0.6364 - val_loss: 0.9479 - val_accuracy: 0.6680\n",
      "Epoch 7/10\n",
      "1562/1562 [==============================] - 19s 12ms/step - loss: 0.9866 - accuracy: 0.6513 - val_loss: 0.9128 - val_accuracy: 0.6870\n",
      "Epoch 8/10\n",
      "1562/1562 [==============================] - 19s 12ms/step - loss: 0.9676 - accuracy: 0.6593 - val_loss: 0.8866 - val_accuracy: 0.6936\n",
      "Epoch 9/10\n",
      "1562/1562 [==============================] - 20s 13ms/step - loss: 0.9451 - accuracy: 0.6663 - val_loss: 0.8755 - val_accuracy: 0.6971\n",
      "Epoch 10/10\n",
      "1562/1562 [==============================] - 21s 13ms/step - loss: 0.9261 - accuracy: 0.6742 - val_loss: 0.8571 - val_accuracy: 0.7017\n"
     ]
    },
    {
     "data": {
      "text/plain": [
       "<keras.callbacks.History at 0x7f207c2571c0>"
      ]
     },
     "execution_count": 15,
     "metadata": {},
     "output_type": "execute_result"
    }
   ],
   "source": [
    "from keras.models import Sequential\n",
    "from keras.layers import Conv2D, MaxPooling2D, Flatten, Dense\n",
    "from keras.callbacks import EarlyStopping\n",
    "\n",
    "# Определение структуры модели\n",
    "model = Sequential([\n",
    "    Conv2D(32, (3, 3), activation='relu', input_shape=(32, 32, 3)), # Сверточный слой с 32 фильтрами\n",
    "    MaxPooling2D((2, 2)), # Слой пулинга\n",
    "    Conv2D(64, (3, 3), activation='relu'), # Следующий сверточный слой с 64 фильтрами\n",
    "    MaxPooling2D((2, 2)), # Слой пулинга\n",
    "    Conv2D(64, (3, 3), activation='relu'), # Еще один сверточный слой с 64 фильтрами\n",
    "    Flatten(), # Преобразование матрицы признаков в вектор\n",
    "    Dense(64, activation='relu'), # Полносвязный слой\n",
    "    Dense(10, activation='softmax') # Выходной слой с 10 нейронами (по количеству классов в CIFAR-10)\n",
    "])\n",
    "\n",
    "# Компиляция модели\n",
    "model.compile(optimizer='adam', loss='categorical_crossentropy', metrics=['accuracy'])\n",
    "\n",
    "# Определение каллбека\n",
    "early_stopping = EarlyStopping(monitor='val_accuracy', patience=5, verbose=1, restore_best_weights=True)\n",
    "\n",
    "# Обучение модели\n",
    "model.fit(datagen.flow(train_images, train_labels, batch_size=32),\n",
    "          steps_per_epoch=len(train_images) / 32,\n",
    "          epochs=10,\n",
    "          validation_data=(test_images, test_labels),\n",
    "          callbacks=[early_stopping])"
   ]
  },
  {
   "cell_type": "code",
   "execution_count": 16,
   "id": "e2c0bc13",
   "metadata": {},
   "outputs": [
    {
     "name": "stdout",
     "output_type": "stream",
     "text": [
      "Epoch 1/10\n",
      "1562/1562 [==============================] - 21s 13ms/step - loss: 1.6333 - accuracy: 0.4014 - val_loss: 1.3017 - val_accuracy: 0.5280 - lr: 0.0010\n",
      "Epoch 2/10\n",
      "1562/1562 [==============================] - 19s 12ms/step - loss: 1.3047 - accuracy: 0.5328 - val_loss: 1.1562 - val_accuracy: 0.5879 - lr: 0.0010\n",
      "Epoch 3/10\n",
      "1562/1562 [==============================] - 19s 12ms/step - loss: 1.1825 - accuracy: 0.5795 - val_loss: 1.0093 - val_accuracy: 0.6397 - lr: 0.0010\n",
      "Epoch 4/10\n",
      "1562/1562 [==============================] - 20s 13ms/step - loss: 1.1079 - accuracy: 0.6035 - val_loss: 0.9927 - val_accuracy: 0.6503 - lr: 0.0010\n",
      "Epoch 5/10\n",
      "1562/1562 [==============================] - 21s 14ms/step - loss: 1.0552 - accuracy: 0.6260 - val_loss: 0.9771 - val_accuracy: 0.6649 - lr: 0.0010\n",
      "Epoch 6/10\n",
      "1562/1562 [==============================] - 20s 13ms/step - loss: 1.0075 - accuracy: 0.6452 - val_loss: 0.8838 - val_accuracy: 0.6937 - lr: 0.0010\n",
      "Epoch 7/10\n",
      "1562/1562 [==============================] - 20s 13ms/step - loss: 0.9674 - accuracy: 0.6617 - val_loss: 0.9503 - val_accuracy: 0.6689 - lr: 0.0010\n",
      "Epoch 8/10\n",
      "1562/1562 [==============================] - 19s 12ms/step - loss: 0.9400 - accuracy: 0.6697 - val_loss: 0.8800 - val_accuracy: 0.6991 - lr: 0.0010\n",
      "Epoch 9/10\n",
      "1562/1562 [==============================] - 20s 13ms/step - loss: 0.9163 - accuracy: 0.6772 - val_loss: 0.8740 - val_accuracy: 0.6902 - lr: 0.0010\n",
      "Epoch 10/10\n",
      "1562/1562 [==============================] - 22s 14ms/step - loss: 0.9019 - accuracy: 0.6845 - val_loss: 0.8369 - val_accuracy: 0.7115 - lr: 0.0010\n"
     ]
    },
    {
     "data": {
      "text/plain": [
       "<keras.callbacks.History at 0x7f207c087d30>"
      ]
     },
     "execution_count": 16,
     "metadata": {},
     "output_type": "execute_result"
    }
   ],
   "source": [
    "from keras.models import Sequential\n",
    "from keras.layers import Conv2D, MaxPooling2D, Flatten, Dense\n",
    "from keras.callbacks import EarlyStopping, ReduceLROnPlateau\n",
    "\n",
    "# Определение структуры модели\n",
    "model = Sequential([\n",
    "    Conv2D(32, (3, 3), activation='relu', input_shape=(32, 32, 3)), # Сверточный слой с 32 фильтрами\n",
    "    MaxPooling2D((2, 2)), # Слой пулинга\n",
    "    Conv2D(64, (3, 3), activation='relu'), # Следующий сверточный слой с 64 фильтрами\n",
    "    MaxPooling2D((2, 2)), # Слой пулинга\n",
    "    Conv2D(64, (3, 3), activation='relu'), # Еще один сверточный слой с 64 фильтрами\n",
    "    Flatten(), # Преобразование матрицы признаков в вектор\n",
    "    Dense(64, activation='relu'), # Полносвязный слой\n",
    "    Dense(10, activation='softmax') # Выходной слой с 10 нейронами (по количеству классов в CIFAR-10)\n",
    "])\n",
    "\n",
    "# Компиляция модели\n",
    "model.compile(optimizer='adam', loss='categorical_crossentropy', metrics=['accuracy'])\n",
    "\n",
    "# Определение каллбеков\n",
    "early_stopping = EarlyStopping(monitor='val_accuracy', patience=5, verbose=1, restore_best_weights=True)\n",
    "\n",
    "reduce_lr = ReduceLROnPlateau(monitor='val_loss', factor=0.1, patience=3, verbose=1, min_lr=1e-6)\n",
    "\n",
    "# Обучение модели\n",
    "model.fit(datagen.flow(train_images, train_labels, batch_size=32),\n",
    "          steps_per_epoch=len(train_images) / 32,\n",
    "          epochs=10,\n",
    "          validation_data=(test_images, test_labels),\n",
    "          callbacks=[early_stopping, reduce_lr])\n"
   ]
  },
  {
   "cell_type": "code",
   "execution_count": 17,
   "id": "09154870",
   "metadata": {},
   "outputs": [
    {
     "name": "stdout",
     "output_type": "stream",
     "text": [
      "Epoch 1/10\n",
      "1562/1562 [==============================] - 21s 13ms/step - loss: 1.6107 - accuracy: 0.4075 - val_loss: 1.3518 - val_accuracy: 0.5006 - lr: 0.0010\n",
      "Epoch 2/10\n",
      "1562/1562 [==============================] - 20s 13ms/step - loss: 1.3233 - accuracy: 0.5257 - val_loss: 1.1354 - val_accuracy: 0.5988 - lr: 0.0010\n",
      "Epoch 3/10\n",
      "1562/1562 [==============================] - 20s 13ms/step - loss: 1.1981 - accuracy: 0.5732 - val_loss: 1.0972 - val_accuracy: 0.6115 - lr: 0.0010\n",
      "Epoch 4/10\n",
      "1562/1562 [==============================] - 20s 13ms/step - loss: 1.1250 - accuracy: 0.6005 - val_loss: 1.0187 - val_accuracy: 0.6416 - lr: 0.0010\n",
      "Epoch 5/10\n",
      "1562/1562 [==============================] - 20s 13ms/step - loss: 1.0732 - accuracy: 0.6192 - val_loss: 0.9965 - val_accuracy: 0.6542 - lr: 0.0010\n",
      "Epoch 6/10\n",
      "1562/1562 [==============================] - 20s 13ms/step - loss: 1.0368 - accuracy: 0.6347 - val_loss: 0.9064 - val_accuracy: 0.6849 - lr: 0.0010\n",
      "Epoch 7/10\n",
      "1562/1562 [==============================] - 20s 13ms/step - loss: 1.0022 - accuracy: 0.6437 - val_loss: 0.9316 - val_accuracy: 0.6759 - lr: 0.0010\n",
      "Epoch 8/10\n",
      "1562/1562 [==============================] - 20s 13ms/step - loss: 0.9755 - accuracy: 0.6568 - val_loss: 0.9030 - val_accuracy: 0.6907 - lr: 0.0010\n",
      "Epoch 9/10\n",
      "1562/1562 [==============================] - 20s 13ms/step - loss: 0.9545 - accuracy: 0.6641 - val_loss: 0.8771 - val_accuracy: 0.6918 - lr: 0.0010\n",
      "Epoch 10/10\n",
      "1562/1562 [==============================] - 20s 13ms/step - loss: 0.9335 - accuracy: 0.6715 - val_loss: 0.9028 - val_accuracy: 0.6871 - lr: 0.0010\n"
     ]
    },
    {
     "data": {
      "text/plain": [
       "<keras.callbacks.History at 0x7f2075f421c0>"
      ]
     },
     "execution_count": 17,
     "metadata": {},
     "output_type": "execute_result"
    }
   ],
   "source": [
    "from keras.models import Sequential\n",
    "from keras.layers import Conv2D, MaxPooling2D, Flatten, Dense\n",
    "from keras.callbacks import EarlyStopping, ReduceLROnPlateau, TensorBoard\n",
    "import datetime\n",
    "\n",
    "# Определение структуры модели\n",
    "model = Sequential([\n",
    "    Conv2D(32, (3, 3), activation='relu', input_shape=(32, 32, 3)), # Сверточный слой с 32 фильтрами\n",
    "    MaxPooling2D((2, 2)), # Слой пулинга\n",
    "    Conv2D(64, (3, 3), activation='relu'), # Следующий сверточный слой с 64 фильтрами\n",
    "    MaxPooling2D((2, 2)), # Слой пулинга\n",
    "    Conv2D(64, (3, 3), activation='relu'), # Еще один сверточный слой с 64 фильтрами\n",
    "    Flatten(), # Преобразование матрицы признаков в вектор\n",
    "    Dense(64, activation='relu'), # Полносвязный слой\n",
    "    Dense(10, activation='softmax') # Выходной слой с 10 нейронами (по количеству классов в CIFAR-10)\n",
    "])\n",
    "\n",
    "# Компиляция модели\n",
    "model.compile(optimizer='adam', loss='categorical_crossentropy', metrics=['accuracy'])\n",
    "\n",
    "# Определение каллбеков\n",
    "early_stopping = EarlyStopping(monitor='val_accuracy', patience=5, verbose=1, restore_best_weights=True)\n",
    "reduce_lr = ReduceLROnPlateau(monitor='val_loss', factor=0.1, patience=3, verbose=1, min_lr=1e-6)\n",
    "\n",
    "# Добавление TensorBoard callback\n",
    "log_dir = \"logs/fit/\" + datetime.datetime.now().strftime(\"%Y%m%d-%H%M%S\")\n",
    "tensorboard_callback = TensorBoard(log_dir=log_dir, histogram_freq=1)\n",
    "\n",
    "# Обучение модели\n",
    "model.fit(datagen.flow(train_images, train_labels, batch_size=32),\n",
    "          steps_per_epoch=len(train_images) / 32,\n",
    "          epochs=10,\n",
    "          validation_data=(test_images, test_labels),\n",
    "          callbacks=[early_stopping, reduce_lr, tensorboard_callback])"
   ]
  },
  {
   "cell_type": "code",
   "execution_count": 20,
   "id": "e553b72e",
   "metadata": {},
   "outputs": [
    {
     "name": "stdout",
     "output_type": "stream",
     "text": [
      "The tensorboard extension is already loaded. To reload it, use:\n",
      "  %reload_ext tensorboard\n"
     ]
    },
    {
     "data": {
      "text/plain": [
       "Reusing TensorBoard on port 6006 (pid 4002), started 3:01:50 ago. (Use '!kill 4002' to kill it.)"
      ]
     },
     "metadata": {},
     "output_type": "display_data"
    },
    {
     "data": {
      "text/html": [
       "\n",
       "      <iframe id=\"tensorboard-frame-d8a8b5b50cf4df3b\" width=\"100%\" height=\"800\" frameborder=\"0\">\n",
       "      </iframe>\n",
       "      <script>\n",
       "        (function() {\n",
       "          const frame = document.getElementById(\"tensorboard-frame-d8a8b5b50cf4df3b\");\n",
       "          const url = new URL(\"/\", window.location);\n",
       "          const port = 6006;\n",
       "          if (port) {\n",
       "            url.port = port;\n",
       "          }\n",
       "          frame.src = url;\n",
       "        })();\n",
       "      </script>\n",
       "    "
      ],
      "text/plain": [
       "<IPython.core.display.HTML object>"
      ]
     },
     "metadata": {},
     "output_type": "display_data"
    }
   ],
   "source": [
    "%load_ext tensorboard\n",
    "%tensorboard --logdir logs/fit"
   ]
  },
  {
   "cell_type": "code",
   "execution_count": 19,
   "id": "c34c3b3f",
   "metadata": {},
   "outputs": [],
   "source": [
    "from keras.models import Sequential\n",
    "from keras.layers import Conv2D, MaxPooling2D, Flatten, Dense\n",
    "from keras.callbacks import EarlyStopping, ReduceLROnPlateau, TensorBoard, ModelCheckpoint\n",
    "import datetime\n",
    "\n",
    "# Определение структуры модели\n",
    "model = Sequential([\n",
    "    Conv2D(32, (3, 3), activation='relu', input_shape=(32, 32, 3)), # Сверточный слой с 32 фильтрами\n",
    "    MaxPooling2D((2, 2)), # Слой пулинга\n",
    "    Conv2D(64, (3, 3), activation='relu'), # Следующий сверточный слой с 64 фильтрами\n",
    "    MaxPooling2D((2, 2)), # Слой пулинга\n",
    "    Conv2D(64, (3, 3), activation='relu'), # Еще один сверточный слой с 64 фильтрами\n",
    "    Flatten(), # Преобразование матрицы признаков в вектор\n",
    "    Dense(64, activation='relu'), # Полносвязный слой\n",
    "    Dense(10, activation='softmax') # Выходной слой с 10 нейронами (по количеству классов в CIFAR-10)\n",
    "])\n",
    "\n",
    "# Компиляция модели\n",
    "model.compile(optimizer='adam', loss='categorical_crossentropy', metrics=['accuracy'])\n",
    "\n",
    "# Определение каллбеков\n",
    "early_stopping = EarlyStopping(monitor='val_accuracy', patience=5, verbose=1, restore_best_weights=True)\n",
    "reduce_lr = ReduceLROnPlateau(monitor='val_loss', factor=0.1, patience=3, verbose=1, min_lr=1e-6)\n",
    "\n",
    "# Добавление TensorBoard callback\n",
    "log_dir = \"logs/fit/\" + datetime.datetime.now().strftime(\"%Y%m%d-%H%M%S\")\n",
    "tensorboard_callback = TensorBoard(log_dir=log_dir, histogram_freq=1)\n",
    "\n",
    "# Добавление ModelCheckpoint callback\n",
    "best_model_path = \"best_model.h5\"\n",
    "checkpoint_callback = ModelCheckpoint(best_model_path, monitor='val_accuracy', verbose=1, save_best_only=True, mode='max')\n",
    "\n",
    "# Обучение модели\n",
    "model.fit(datagen.flow(train_images, train_labels, batch_size=32),\n",
    "          steps_per_epoch=len(train_images) / 32,\n",
    "          epochs=10,\n",
    "          validation_data=(test_images, test_labels),\n",
    "          callbacks=[early_stopping, reduce_lr, tensorboard_callback,checkpoint_callback])"
   ]
  },
  {
   "cell_type": "code",
   "execution_count": null,
   "id": "2036023f",
   "metadata": {},
   "outputs": [],
   "source": []
  },
  {
   "cell_type": "code",
   "execution_count": null,
   "id": "970e1111",
   "metadata": {},
   "outputs": [],
   "source": []
  },
  {
   "cell_type": "code",
   "execution_count": null,
   "id": "a2c42fe1",
   "metadata": {},
   "outputs": [],
   "source": []
  },
  {
   "cell_type": "code",
   "execution_count": null,
   "id": "976be8ad",
   "metadata": {},
   "outputs": [],
   "source": []
  },
  {
   "cell_type": "code",
   "execution_count": null,
   "id": "7981306e",
   "metadata": {},
   "outputs": [],
   "source": []
  },
  {
   "cell_type": "code",
   "execution_count": null,
   "id": "b08ad514",
   "metadata": {},
   "outputs": [],
   "source": []
  },
  {
   "cell_type": "code",
   "execution_count": null,
   "id": "f387cf40",
   "metadata": {},
   "outputs": [],
   "source": []
  },
  {
   "cell_type": "code",
   "execution_count": null,
   "id": "2248790e",
   "metadata": {},
   "outputs": [],
   "source": []
  }
 ],
 "metadata": {
  "kernelspec": {
   "display_name": "Python 3 (ipykernel)",
   "language": "python",
   "name": "python3"
  },
  "language_info": {
   "codemirror_mode": {
    "name": "ipython",
    "version": 3
   },
   "file_extension": ".py",
   "mimetype": "text/x-python",
   "name": "python",
   "nbconvert_exporter": "python",
   "pygments_lexer": "ipython3",
   "version": "3.8.10"
  }
 },
 "nbformat": 4,
 "nbformat_minor": 5
}
