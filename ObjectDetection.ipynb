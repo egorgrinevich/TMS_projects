{
 "cells": [
  {
   "cell_type": "code",
   "execution_count": null,
   "metadata": {},
   "outputs": [],
   "source": [
    "# Инициализация видеопотока с веб-камеры (обычно веб-камера имеет индекс 0)\n",
    "cap = cv2.VideoCapture(0)\n",
    "\n",
    "# Проверка, инициализирован ли видеопоток корректно\n",
    "if not cap.isOpened():\n",
    "    print(\"Ошибка: не удалось открыть камеру!\")\n",
    "    exit()\n",
    "\n",
    "# Загрузка предварительно обученного каскада Хаара для детектирования лиц\n",
    "face_cascade = cv2.CascadeClassifier(cv2.data.haarcascades + 'haarcascade_frontalface_default.xml')\n",
    "\n",
    "while True:\n",
    "    # Захват кадра из видеопотока\n",
    "    ret, frame = cap.read()\n",
    "    if not ret:\n",
    "        break\n",
    "\n",
    "    # Конвертация кадра в оттенки серого\n",
    "    gray = cv2.cvtColor(frame, cv2.COLOR_BGR2GRAY)\n",
    "    \n",
    "    # Детектирование лиц на кадре\n",
    "    faces = face_cascade.detectMultiScale(gray, scaleFactor=1.1, minNeighbors=5, minSize=(30, 30))\n",
    "    \n",
    "    # Рисуем прямоугольники вокруг обнаруженных лиц\n",
    "    for (x, y, w, h) in faces:\n",
    "        cv2.rectangle(frame, (x, y), (x+w, y+h), (255, 0, 0), 2)\n",
    "\n",
    "    # Отображение обработанного кадра\n",
    "    cv2.imshow('Face Detection', frame)\n",
    "\n",
    "    # Для выхода из цикла нажмите клавишу 'q'\n",
    "    if cv2.waitKey(1) & 0xFF == ord('q'):\n",
    "        break\n",
    "\n",
    "# Освобождение ресурсов и закрытие окон\n",
    "cap.release()\n",
    "cv2.destroyAllWindows()"
   ]
  }
 ],
 "metadata": {
  "language_info": {
   "name": "python"
  },
  "orig_nbformat": 4
 },
 "nbformat": 4,
 "nbformat_minor": 2
}
